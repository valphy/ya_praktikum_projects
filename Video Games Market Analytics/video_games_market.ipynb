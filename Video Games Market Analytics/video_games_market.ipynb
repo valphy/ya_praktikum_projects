{
 "cells": [
  {
   "cell_type": "markdown",
   "id": "f3a70d83",
   "metadata": {
    "toc": true
   },
   "source": [
    "<h1>Содержание<span class=\"tocSkip\"></span></h1>\n",
    "<div class=\"toc\"><ul class=\"toc-item\"><li><span><a href=\"#Изучение-данных-из-файла\" data-toc-modified-id=\"Изучение-данных-из-файла-1\">Изучение данных из файла</a></span><ul class=\"toc-item\"><li><span><a href=\"#Вывод\" data-toc-modified-id=\"Вывод-1.1\">Вывод</a></span></li></ul></li><li><span><a href=\"#Предобработка-данных\" data-toc-modified-id=\"Предобработка-данных-2\">Предобработка данных</a></span><ul class=\"toc-item\"><li><span><a href=\"#Пропуски\" data-toc-modified-id=\"Пропуски-2.1\">Пропуски</a></span></li><li><span><a href=\"#Типы\" data-toc-modified-id=\"Типы-2.2\">Типы</a></span></li><li><span><a href=\"#Продажи\" data-toc-modified-id=\"Продажи-2.3\">Продажи</a></span></li><li><span><a href=\"#Вывод\" data-toc-modified-id=\"Вывод-2.4\">Вывод</a></span></li></ul></li><li><span><a href=\"#Исследовательский-анализ-данных\" data-toc-modified-id=\"Исследовательский-анализ-данных-3\">Исследовательский анализ данных</a></span><ul class=\"toc-item\"><li><span><a href=\"#Общее-количество-релизов-в-год\" data-toc-modified-id=\"Общее-количество-релизов-в-год-3.1\">Общее количество релизов в год</a></span></li><li><span><a href=\"#Продажи-по-платформам\" data-toc-modified-id=\"Продажи-по-платформам-3.2\">Продажи по платформам</a></span></li><li><span><a href=\"#Влияние-отзывов-критиков-на-продажи\" data-toc-modified-id=\"Влияние-отзывов-критиков-на-продажи-3.3\">Влияние отзывов критиков на продажи</a></span></li><li><span><a href=\"#Исследование-жанров\" data-toc-modified-id=\"Исследование-жанров-3.4\">Исследование жанров</a></span></li><li><span><a href=\"#Итоги\" data-toc-modified-id=\"Итоги-3.5\">Итоги</a></span></li></ul></li><li><span><a href=\"#Портрет-пользователя-каждого-региона\" data-toc-modified-id=\"Портрет-пользователя-каждого-региона-4\">Портрет пользователя каждого региона</a></span><ul class=\"toc-item\"><li><span><a href=\"#Северная-Америка\" data-toc-modified-id=\"Северная-Америка-4.1\">Северная Америка</a></span></li><li><span><a href=\"#Европа\" data-toc-modified-id=\"Европа-4.2\">Европа</a></span></li><li><span><a href=\"#Япония\" data-toc-modified-id=\"Япония-4.3\">Япония</a></span></li><li><span><a href=\"#Итоги\" data-toc-modified-id=\"Итоги-4.4\">Итоги</a></span></li></ul></li><li><span><a href=\"#Проверка-гипотез\" data-toc-modified-id=\"Проверка-гипотез-5\">Проверка гипотез</a></span><ul class=\"toc-item\"><li><span><a href=\"#Первая-гипотеза\" data-toc-modified-id=\"Первая-гипотеза-5.1\">Первая гипотеза</a></span></li><li><span><a href=\"#Вторая-гипотеза\" data-toc-modified-id=\"Вторая-гипотеза-5.2\">Вторая гипотеза</a></span></li></ul></li><li><span><a href=\"#Выводы\" data-toc-modified-id=\"Выводы-6\">Выводы</a></span></li></ul></div>"
   ]
  },
  {
   "cell_type": "markdown",
   "id": "8084ed1f",
   "metadata": {},
   "source": [
    "# Определение закономерностей, определяющих успешность игры."
   ]
  },
  {
   "cell_type": "markdown",
   "id": "178511e3",
   "metadata": {},
   "source": [
    "Из открытых источников доступны исторические данные о продажах игр, оценки пользователей и экспертов, жанры и платформы. Нужно выявить определяющие успешность игры закономерности. Это позволит сделать ставку на потенциально популярный продукт и спланировать рекламные кампании."
   ]
  },
  {
   "cell_type": "markdown",
   "id": "e02dce25",
   "metadata": {},
   "source": [
    "## Изучение данных из файла"
   ]
  },
  {
   "cell_type": "code",
   "execution_count": 1,
   "id": "74c29534",
   "metadata": {},
   "outputs": [],
   "source": [
    "import warnings\n",
    "warnings.filterwarnings('ignore')\n",
    "import pandas as pd\n",
    "import numpy as np\n",
    "from scipy import stats as st\n",
    "import matplotlib.pyplot as plt\n",
    "%matplotlib inline\n",
    "from pylab import rcParams\n",
    "rcParams['figure.figsize'] = 10, 7\n",
    "from matplotlib import cycler\n",
    "colors = cycler('color',\n",
    "                ['#EAC435', '#345995', '#8C2D7E',\n",
    "                 '#E40066', '#03CEA4', '#FB4D3D',\n",
    "                 '#806045', '#04724D', '#FFFFFF',\n",
    "                 '#00A8E8', '#88BB44', '#FFBBBB','#00FF00','#000000'])\n",
    "plt.rc('axes',facecolor='#E6E6E6',  edgecolor='none',\n",
    "       axisbelow=True, grid=True, prop_cycle=colors)\n",
    "plt.rc('grid', color='w', linestyle='solid')\n",
    "plt.rc('xtick', direction='out', color='gray')\n",
    "plt.rc('ytick', direction='out', color='gray')\n",
    "plt.rc('patch', edgecolor='#E6E6E6')\n",
    "plt.rc('lines', linewidth=2)\n",
    "plt.rcParams.update({\n",
    "    \"figure.facecolor\":  (1.0, 1.0, 1.0, 0.999)})\n",
    "\n",
    "df = pd.read_csv('/datasets/games.csv')"
   ]
  },
  {
   "cell_type": "code",
   "execution_count": 2,
   "id": "d1f05207",
   "metadata": {},
   "outputs": [
    {
     "data": {
      "text/html": [
       "<div>\n",
       "<style scoped>\n",
       "    .dataframe tbody tr th:only-of-type {\n",
       "        vertical-align: middle;\n",
       "    }\n",
       "\n",
       "    .dataframe tbody tr th {\n",
       "        vertical-align: top;\n",
       "    }\n",
       "\n",
       "    .dataframe thead th {\n",
       "        text-align: right;\n",
       "    }\n",
       "</style>\n",
       "<table border=\"1\" class=\"dataframe\">\n",
       "  <thead>\n",
       "    <tr style=\"text-align: right;\">\n",
       "      <th></th>\n",
       "      <th>Name</th>\n",
       "      <th>Platform</th>\n",
       "      <th>Year_of_Release</th>\n",
       "      <th>Genre</th>\n",
       "      <th>NA_sales</th>\n",
       "      <th>EU_sales</th>\n",
       "      <th>JP_sales</th>\n",
       "      <th>Other_sales</th>\n",
       "      <th>Critic_Score</th>\n",
       "      <th>User_Score</th>\n",
       "      <th>Rating</th>\n",
       "    </tr>\n",
       "  </thead>\n",
       "  <tbody>\n",
       "    <tr>\n",
       "      <td>0</td>\n",
       "      <td>Wii Sports</td>\n",
       "      <td>Wii</td>\n",
       "      <td>2006.0</td>\n",
       "      <td>Sports</td>\n",
       "      <td>41.36</td>\n",
       "      <td>28.96</td>\n",
       "      <td>3.77</td>\n",
       "      <td>8.45</td>\n",
       "      <td>76.0</td>\n",
       "      <td>8</td>\n",
       "      <td>E</td>\n",
       "    </tr>\n",
       "    <tr>\n",
       "      <td>1</td>\n",
       "      <td>Super Mario Bros.</td>\n",
       "      <td>NES</td>\n",
       "      <td>1985.0</td>\n",
       "      <td>Platform</td>\n",
       "      <td>29.08</td>\n",
       "      <td>3.58</td>\n",
       "      <td>6.81</td>\n",
       "      <td>0.77</td>\n",
       "      <td>NaN</td>\n",
       "      <td>NaN</td>\n",
       "      <td>NaN</td>\n",
       "    </tr>\n",
       "    <tr>\n",
       "      <td>2</td>\n",
       "      <td>Mario Kart Wii</td>\n",
       "      <td>Wii</td>\n",
       "      <td>2008.0</td>\n",
       "      <td>Racing</td>\n",
       "      <td>15.68</td>\n",
       "      <td>12.76</td>\n",
       "      <td>3.79</td>\n",
       "      <td>3.29</td>\n",
       "      <td>82.0</td>\n",
       "      <td>8.3</td>\n",
       "      <td>E</td>\n",
       "    </tr>\n",
       "    <tr>\n",
       "      <td>3</td>\n",
       "      <td>Wii Sports Resort</td>\n",
       "      <td>Wii</td>\n",
       "      <td>2009.0</td>\n",
       "      <td>Sports</td>\n",
       "      <td>15.61</td>\n",
       "      <td>10.93</td>\n",
       "      <td>3.28</td>\n",
       "      <td>2.95</td>\n",
       "      <td>80.0</td>\n",
       "      <td>8</td>\n",
       "      <td>E</td>\n",
       "    </tr>\n",
       "    <tr>\n",
       "      <td>4</td>\n",
       "      <td>Pokemon Red/Pokemon Blue</td>\n",
       "      <td>GB</td>\n",
       "      <td>1996.0</td>\n",
       "      <td>Role-Playing</td>\n",
       "      <td>11.27</td>\n",
       "      <td>8.89</td>\n",
       "      <td>10.22</td>\n",
       "      <td>1.00</td>\n",
       "      <td>NaN</td>\n",
       "      <td>NaN</td>\n",
       "      <td>NaN</td>\n",
       "    </tr>\n",
       "  </tbody>\n",
       "</table>\n",
       "</div>"
      ],
      "text/plain": [
       "                       Name Platform  Year_of_Release         Genre  NA_sales  \\\n",
       "0                Wii Sports      Wii           2006.0        Sports     41.36   \n",
       "1         Super Mario Bros.      NES           1985.0      Platform     29.08   \n",
       "2            Mario Kart Wii      Wii           2008.0        Racing     15.68   \n",
       "3         Wii Sports Resort      Wii           2009.0        Sports     15.61   \n",
       "4  Pokemon Red/Pokemon Blue       GB           1996.0  Role-Playing     11.27   \n",
       "\n",
       "   EU_sales  JP_sales  Other_sales  Critic_Score User_Score Rating  \n",
       "0     28.96      3.77         8.45          76.0          8      E  \n",
       "1      3.58      6.81         0.77           NaN        NaN    NaN  \n",
       "2     12.76      3.79         3.29          82.0        8.3      E  \n",
       "3     10.93      3.28         2.95          80.0          8      E  \n",
       "4      8.89     10.22         1.00           NaN        NaN    NaN  "
      ]
     },
     "execution_count": 2,
     "metadata": {},
     "output_type": "execute_result"
    }
   ],
   "source": [
    "df.head()"
   ]
  },
  {
   "cell_type": "code",
   "execution_count": 3,
   "id": "cd32841e",
   "metadata": {},
   "outputs": [
    {
     "name": "stdout",
     "output_type": "stream",
     "text": [
      "<class 'pandas.core.frame.DataFrame'>\n",
      "RangeIndex: 16715 entries, 0 to 16714\n",
      "Data columns (total 11 columns):\n",
      "Name               16713 non-null object\n",
      "Platform           16715 non-null object\n",
      "Year_of_Release    16446 non-null float64\n",
      "Genre              16713 non-null object\n",
      "NA_sales           16715 non-null float64\n",
      "EU_sales           16715 non-null float64\n",
      "JP_sales           16715 non-null float64\n",
      "Other_sales        16715 non-null float64\n",
      "Critic_Score       8137 non-null float64\n",
      "User_Score         10014 non-null object\n",
      "Rating             9949 non-null object\n",
      "dtypes: float64(6), object(5)\n",
      "memory usage: 1.4+ MB\n"
     ]
    }
   ],
   "source": [
    "df.info()"
   ]
  },
  {
   "cell_type": "markdown",
   "id": "9fe64363",
   "metadata": {},
   "source": [
    "Обнаружены пропуски в значениях:\n",
    "- Name\n",
    "- Year_of_Release\n",
    "- Genre\n",
    "- Critic_Score\n",
    "- User_Score\n",
    "- Rating\n",
    "\n",
    "Неверный тип данных:\n",
    "\n",
    "- Year_of_release\n",
    "- Critic_score\n",
    "- User_score"
   ]
  },
  {
   "cell_type": "markdown",
   "id": "f8259a65",
   "metadata": {},
   "source": [
    "### Вывод"
   ]
  },
  {
   "cell_type": "markdown",
   "id": "db58ea9d",
   "metadata": {},
   "source": [
    "Предоставленные данные это таблица, где каждая строка содержит исторические данные о продажах игр, оценки пользователей и экспертов, жанры и платформы.\n",
    "\n",
    "При первом взгляде на таблицу и изучении общей информации о ней были обнаружены проблемы, которые могут негативно повлиять на выводы иссследования:\n",
    " - Пропуски значений\n",
    " - Неверный тип данных\n",
    " - Разный регистр названий столбцов"
   ]
  },
  {
   "cell_type": "markdown",
   "id": "ad8d7b83",
   "metadata": {},
   "source": [
    "## Предобработка данных"
   ]
  },
  {
   "cell_type": "markdown",
   "id": "5183e98f",
   "metadata": {},
   "source": [
    "### Пропуски"
   ]
  },
  {
   "cell_type": "markdown",
   "id": "58e4822e",
   "metadata": {},
   "source": [
    "Приведем названия столбцов к нижнему регистру и изучим пропуски."
   ]
  },
  {
   "cell_type": "code",
   "execution_count": 4,
   "id": "78d0e000",
   "metadata": {},
   "outputs": [],
   "source": [
    "df.columns = df.columns.str.lower()"
   ]
  },
  {
   "cell_type": "code",
   "execution_count": 5,
   "id": "3428b583",
   "metadata": {},
   "outputs": [
    {
     "name": "stdout",
     "output_type": "stream",
     "text": [
      "Пропуски name: 2\n"
     ]
    }
   ],
   "source": [
    "print('Пропуски name:',df['name'].isnull().sum())"
   ]
  },
  {
   "cell_type": "markdown",
   "id": "94e6c9a3",
   "metadata": {},
   "source": [
    "Пропусков значений столбца name обнаружено мало - можем удалить строки с пропущенными значениями."
   ]
  },
  {
   "cell_type": "code",
   "execution_count": 6,
   "id": "7f0348ad",
   "metadata": {},
   "outputs": [],
   "source": [
    "df.dropna(subset=['name'], inplace = True)  "
   ]
  },
  {
   "cell_type": "code",
   "execution_count": 7,
   "id": "5413c033",
   "metadata": {},
   "outputs": [
    {
     "name": "stdout",
     "output_type": "stream",
     "text": [
      "Пропуски year_of_release: 269\n"
     ]
    }
   ],
   "source": [
    "print('Пропуски year_of_release:',df['year_of_release'].isnull().sum())"
   ]
  },
  {
   "cell_type": "markdown",
   "id": "3d1d3f70",
   "metadata": {},
   "source": [
    "Пропусков значений столбца year_of_release обнаружено мало - можем удалить строки с пропущенными значениями."
   ]
  },
  {
   "cell_type": "code",
   "execution_count": 8,
   "id": "cbeabba8",
   "metadata": {},
   "outputs": [],
   "source": [
    "df.dropna(subset=['year_of_release'], inplace = True) "
   ]
  },
  {
   "cell_type": "markdown",
   "id": "3742a15b",
   "metadata": {},
   "source": [
    "Пропуски значений critic_score скорее всего обозначают отсутвие оценки критиков в источнике на момент сбора данных. Пропуски не случайны - можем заполним их отметкой."
   ]
  },
  {
   "cell_type": "code",
   "execution_count": 9,
   "id": "f7e18a5f",
   "metadata": {},
   "outputs": [],
   "source": [
    "df['critic_score'] = df['critic_score'].fillna(-999)"
   ]
  },
  {
   "cell_type": "markdown",
   "id": "da696c57",
   "metadata": {},
   "source": [
    "Изучим значения столбца user_score - тип столбца object может обозначать что в стоблце присутвуют не только численные данные."
   ]
  },
  {
   "cell_type": "code",
   "execution_count": 10,
   "id": "4c501519",
   "metadata": {},
   "outputs": [
    {
     "data": {
      "text/plain": [
       "array(['8', nan, '8.3', '8.5', '6.6', '8.4', '8.6', '7.7', '6.3', '7.4',\n",
       "       '8.2', '9', '7.9', '8.1', '8.7', '7.1', '3.4', '5.3', '4.8', '3.2',\n",
       "       '8.9', '6.4', '7.8', '7.5', '2.6', '7.2', '9.2', '7', '7.3', '4.3',\n",
       "       '7.6', '5.7', '5', '9.1', '6.5', 'tbd', '8.8', '6.9', '9.4', '6.8',\n",
       "       '6.1', '6.7', '5.4', '4', '4.9', '4.5', '9.3', '6.2', '4.2', '6',\n",
       "       '3.7', '4.1', '5.8', '5.6', '5.5', '4.4', '4.6', '5.9', '3.9',\n",
       "       '3.1', '2.9', '5.2', '3.3', '4.7', '5.1', '3.5', '2.5', '1.9', '3',\n",
       "       '2.7', '2.2', '2', '9.5', '2.1', '3.6', '2.8', '1.8', '3.8', '0',\n",
       "       '1.6', '9.6', '2.4', '1.7', '1.1', '0.3', '1.5', '0.7', '1.2',\n",
       "       '2.3', '0.5', '1.3', '0.2', '0.6', '1.4', '0.9', '1', '9.7'],\n",
       "      dtype=object)"
      ]
     },
     "execution_count": 10,
     "metadata": {},
     "output_type": "execute_result"
    }
   ],
   "source": [
    "df['user_score'].unique()"
   ]
  },
  {
   "cell_type": "markdown",
   "id": "6dc684a0",
   "metadata": {},
   "source": [
    "Кроме числовых значений рейтинга были обнаружены значения 'tbd' - To Be Determined. Эти значения обозначают, что общее количесвто ревью меньше 4 и их недостаточно для публикации общей оценки.\n",
    "Для данного исследования это то же самое что и отсутвие оценки - заменим эти значения, а так же все пропущенные отметкой."
   ]
  },
  {
   "cell_type": "code",
   "execution_count": 11,
   "id": "f6febaa2",
   "metadata": {},
   "outputs": [],
   "source": [
    "df['user_score'] = df['user_score'].fillna(-999)"
   ]
  },
  {
   "cell_type": "code",
   "execution_count": 12,
   "id": "2694579a",
   "metadata": {},
   "outputs": [],
   "source": [
    "df.loc[df['user_score'] == 'tbd','user_score'] = -9999"
   ]
  },
  {
   "cell_type": "markdown",
   "id": "d36a5d97",
   "metadata": {},
   "source": [
    "Прпущенные значения ESRB рейтинга обозначают отсутвие оценки этой организации у данных игр - пропуски случайны и мы можем заполнить их отметкой \"NONE\""
   ]
  },
  {
   "cell_type": "code",
   "execution_count": 13,
   "id": "2055c8b6",
   "metadata": {},
   "outputs": [],
   "source": [
    "df['rating'] = df['rating'].fillna('NONE')"
   ]
  },
  {
   "cell_type": "code",
   "execution_count": 14,
   "id": "582358c4",
   "metadata": {},
   "outputs": [
    {
     "name": "stdout",
     "output_type": "stream",
     "text": [
      "Количество пропусков 0\n"
     ]
    }
   ],
   "source": [
    "print('Количество пропусков',df.isna().sum().sum())"
   ]
  },
  {
   "cell_type": "markdown",
   "id": "beb0ecdf",
   "metadata": {},
   "source": [
    "### Типы"
   ]
  },
  {
   "cell_type": "markdown",
   "id": "ae480ed9",
   "metadata": {},
   "source": [
    "Приведем столбцы к логичным типам:\n",
    " - year_of_release - для представления года выпуска подойдет int.\n",
    " - critic_score - оценка критиков выставляется целыми значениями от 1 до 100 - в этом случае подойдет int.\n",
    " - user_score - оценка пользователей выствялется от 1 до 10 с шагом в 0.1 - в этом случае подойдет float."
   ]
  },
  {
   "cell_type": "code",
   "execution_count": 15,
   "id": "338244d9",
   "metadata": {},
   "outputs": [],
   "source": [
    "df['year_of_release'] = df['year_of_release'].astype('int')\n",
    "df['critic_score'] = df['critic_score'].astype('int')\n",
    "df['user_score'] = df['user_score'].astype('float')"
   ]
  },
  {
   "cell_type": "markdown",
   "id": "7b325262",
   "metadata": {},
   "source": [
    "Выведем инфо и проверим типы."
   ]
  },
  {
   "cell_type": "code",
   "execution_count": 16,
   "id": "2a68598f",
   "metadata": {},
   "outputs": [
    {
     "name": "stdout",
     "output_type": "stream",
     "text": [
      "<class 'pandas.core.frame.DataFrame'>\n",
      "Int64Index: 16444 entries, 0 to 16714\n",
      "Data columns (total 11 columns):\n",
      "name               16444 non-null object\n",
      "platform           16444 non-null object\n",
      "year_of_release    16444 non-null int64\n",
      "genre              16444 non-null object\n",
      "na_sales           16444 non-null float64\n",
      "eu_sales           16444 non-null float64\n",
      "jp_sales           16444 non-null float64\n",
      "other_sales        16444 non-null float64\n",
      "critic_score       16444 non-null int64\n",
      "user_score         16444 non-null float64\n",
      "rating             16444 non-null object\n",
      "dtypes: float64(5), int64(2), object(4)\n",
      "memory usage: 1.5+ MB\n"
     ]
    }
   ],
   "source": [
    "df.info()"
   ]
  },
  {
   "cell_type": "markdown",
   "id": "7a64ef9c",
   "metadata": {},
   "source": [
    "### Продажи"
   ]
  },
  {
   "cell_type": "markdown",
   "id": "2bc01d07",
   "metadata": {},
   "source": [
    "Добавим в исходную талицу столбец с общими продажами."
   ]
  },
  {
   "cell_type": "code",
   "execution_count": 17,
   "id": "bca22549",
   "metadata": {},
   "outputs": [],
   "source": [
    "df['total_sales'] = df[['na_sales','eu_sales','jp_sales','other_sales']].sum(axis=1)"
   ]
  },
  {
   "cell_type": "markdown",
   "id": "4f894ac1",
   "metadata": {},
   "source": [
    "### Вывод"
   ]
  },
  {
   "cell_type": "markdown",
   "id": "4b99905f",
   "metadata": {},
   "source": [
    "Итоги предобработки:\n",
    "\n",
    "Пропуски:\n",
    "- Пропусков значений стобцов name, genre, и year_of_release мало - они составляют примерно 1.5% от выборки и вызваны предположительно отсутвием этих значений в источнике. Строки с пропщенными значениями были удалены.\n",
    "- Пропуски значений оценок критиков, пользователей и ESRB рейтинга предположительно вызваны отсутвием этих данных в источнике. Пропущенные значения были заполнены отметкой.\n",
    "\n",
    "Значения стоблцов были приведены к логичным типам, а так же был добавлен столбец с общим количеством продаж."
   ]
  },
  {
   "cell_type": "markdown",
   "id": "cbc81f85",
   "metadata": {},
   "source": [
    "## Исследовательский анализ данных"
   ]
  },
  {
   "cell_type": "markdown",
   "id": "dd831e3d",
   "metadata": {},
   "source": [
    "### Общее количество релизов в год"
   ]
  },
  {
   "cell_type": "markdown",
   "id": "65f01eda",
   "metadata": {},
   "source": [
    "Изучим общее количество релизов по годам."
   ]
  },
  {
   "cell_type": "code",
   "execution_count": 18,
   "id": "bc99dcf5",
   "metadata": {},
   "outputs": [],
   "source": [
    "release_by_year = df.groupby('year_of_release')['name'].count()"
   ]
  },
  {
   "cell_type": "code",
   "execution_count": 19,
   "id": "6ef19bed",
   "metadata": {},
   "outputs": [
    {
     "data": {
      "image/png": "[encoded data removed]",
      "text/plain": [
       "<Figure size 1440x504 with 1 Axes>"
      ]
     },
     "metadata": {},
     "output_type": "display_data"
    }
   ],
   "source": [
    "release_by_year.plot(kind='bar', rot=45, figsize = (20,7), grid = True)\n",
    "ax = plt.axes()\n",
    "plt.title('Общее количество релизов в год')\n",
    "plt.ylabel('Количество выпущенных игр')\n",
    "plt.xlabel('Год выпуска')\n",
    "\n",
    "plt.show()"
   ]
  },
  {
   "cell_type": "markdown",
   "id": "08de16d1",
   "metadata": {},
   "source": [
    "Общее количество релизов для представленных платформ увеличивается на протяжении всего периода, вплоть до 2009 года. Падение после этого периода может быть обусловлено развитем смартфонов как игровых платформ. Предположительно, падение больше сказалось на спецализированных мобильных игровых платформах, таких как PlayStation Vita.\n",
    "\n",
    "Для изучения продаж обзначим период с 2002 года по наше время - в этом периоде количество выпускаемых игр сильно увеличилось."
   ]
  },
  {
   "cell_type": "markdown",
   "id": "70c2bcbf",
   "metadata": {},
   "source": [
    "### Продажи по платформам"
   ]
  },
  {
   "cell_type": "markdown",
   "id": "c27f05dc",
   "metadata": {},
   "source": [
    "Изучим топ-14 платформ с наибольшими количеством проданных игр в периоде с 2002 года по наше время и оценим распределние продаж по годам."
   ]
  },
  {
   "cell_type": "code",
   "execution_count": 20,
   "id": "39b89f1a",
   "metadata": {},
   "outputs": [],
   "source": [
    "sales_platform_chart = df.query('year_of_release > 2001').groupby('platform')['total_sales'].sum().sort_values(ascending = False).to_frame().reset_index()"
   ]
  },
  {
   "cell_type": "code",
   "execution_count": 21,
   "id": "0fafe000",
   "metadata": {},
   "outputs": [],
   "source": [
    "top14_sales_platform = sales_platform_chart.head(14).set_index('platform')"
   ]
  },
  {
   "cell_type": "code",
   "execution_count": 22,
   "id": "29f4fee7",
   "metadata": {},
   "outputs": [
    {
     "data": {
      "text/html": [
       "<div>\n",
       "<style scoped>\n",
       "    .dataframe tbody tr th:only-of-type {\n",
       "        vertical-align: middle;\n",
       "    }\n",
       "\n",
       "    .dataframe tbody tr th {\n",
       "        vertical-align: top;\n",
       "    }\n",
       "\n",
       "    .dataframe thead th {\n",
       "        text-align: right;\n",
       "    }\n",
       "</style>\n",
       "<table border=\"1\" class=\"dataframe\">\n",
       "  <thead>\n",
       "    <tr style=\"text-align: right;\">\n",
       "      <th></th>\n",
       "      <th>total_sales</th>\n",
       "    </tr>\n",
       "    <tr>\n",
       "      <th>platform</th>\n",
       "      <th></th>\n",
       "    </tr>\n",
       "  </thead>\n",
       "  <tbody>\n",
       "    <tr>\n",
       "      <td>PS2</td>\n",
       "      <td>1027.96</td>\n",
       "    </tr>\n",
       "    <tr>\n",
       "      <td>X360</td>\n",
       "      <td>961.24</td>\n",
       "    </tr>\n",
       "    <tr>\n",
       "      <td>PS3</td>\n",
       "      <td>931.34</td>\n",
       "    </tr>\n",
       "    <tr>\n",
       "      <td>Wii</td>\n",
       "      <td>891.18</td>\n",
       "    </tr>\n",
       "    <tr>\n",
       "      <td>DS</td>\n",
       "      <td>802.76</td>\n",
       "    </tr>\n",
       "    <tr>\n",
       "      <td>PS4</td>\n",
       "      <td>314.14</td>\n",
       "    </tr>\n",
       "    <tr>\n",
       "      <td>PSP</td>\n",
       "      <td>289.53</td>\n",
       "    </tr>\n",
       "    <tr>\n",
       "      <td>3DS</td>\n",
       "      <td>257.81</td>\n",
       "    </tr>\n",
       "    <tr>\n",
       "      <td>GBA</td>\n",
       "      <td>251.28</td>\n",
       "    </tr>\n",
       "    <tr>\n",
       "      <td>XB</td>\n",
       "      <td>228.32</td>\n",
       "    </tr>\n",
       "    <tr>\n",
       "      <td>PC</td>\n",
       "      <td>195.59</td>\n",
       "    </tr>\n",
       "    <tr>\n",
       "      <td>GC</td>\n",
       "      <td>170.39</td>\n",
       "    </tr>\n",
       "    <tr>\n",
       "      <td>XOne</td>\n",
       "      <td>159.32</td>\n",
       "    </tr>\n",
       "    <tr>\n",
       "      <td>WiiU</td>\n",
       "      <td>82.19</td>\n",
       "    </tr>\n",
       "  </tbody>\n",
       "</table>\n",
       "</div>"
      ],
      "text/plain": [
       "          total_sales\n",
       "platform             \n",
       "PS2           1027.96\n",
       "X360           961.24\n",
       "PS3            931.34\n",
       "Wii            891.18\n",
       "DS             802.76\n",
       "PS4            314.14\n",
       "PSP            289.53\n",
       "3DS            257.81\n",
       "GBA            251.28\n",
       "XB             228.32\n",
       "PC             195.59\n",
       "GC             170.39\n",
       "XOne           159.32\n",
       "WiiU            82.19"
      ]
     },
     "execution_count": 22,
     "metadata": {},
     "output_type": "execute_result"
    }
   ],
   "source": [
    "top14_sales_platform"
   ]
  },
  {
   "cell_type": "code",
   "execution_count": 23,
   "id": "0e700e33",
   "metadata": {},
   "outputs": [],
   "source": [
    "platform_sales = df[(df.platform.isin(top14_sales_platform.index)) & (df['year_of_release'] > 2001)]\\\n",
    ".pivot_table(values = 'total_sales', index = 'year_of_release',columns = 'platform', aggfunc = ('sum'))"
   ]
  },
  {
   "cell_type": "code",
   "execution_count": 24,
   "id": "23a286b0",
   "metadata": {},
   "outputs": [
    {
     "data": {
      "image/png": "[encoded data removed]",
      "text/plain": [
       "<Figure size 1080x576 with 1 Axes>"
      ]
     },
     "metadata": {},
     "output_type": "display_data"
    }
   ],
   "source": [
    "platform_sales.plot( kind='bar', rot=45, figsize = (15,8), stacked=True,grid = True)\n",
    "ax = plt.axes()\n",
    "plt.title('Продажи игр, топ-14 платформ, 2002 - 2016 год')\n",
    "plt.ylabel('Количество проданных копий, млн')\n",
    "plt.xlabel('Год релиза')\n",
    "\n",
    "plt.show()"
   ]
  },
  {
   "cell_type": "markdown",
   "id": "d2603e17",
   "metadata": {},
   "source": [
    "Изучив предсвленный график прихоим к следующим выводам:\n",
    "\n",
    "Сроки появления и полного исчезновения основных немобильных платформ предыдущего поколения:\n",
    " - PlayStation 3 - 10 лет.\n",
    " - Xbox 360 - 11 лет.\n",
    " - Nintendo Wii - 8 лет.\n",
    " \n",
    "Актуальные платформы:\n",
    "- Актуальными на данный момент добашними платформами являются PS4, XOne, WiiU\n",
    "- Актуальными мобильными платформами на данный период являются 3DS и PlaysationVita, не попавшая в топ-14 и не представленная на графике по причине малых продаж.\n",
    "\n",
    "Мобильные платформы постепенно вытесняются сматртфонами, по этой причине началом актуального периода будем считать 2012 - год начала выпуска актуальной домашней игровой консоли от Nintendo - WiiU. \n",
    "\n",
    "В итоге, ожидаемым актуальным перидом будем считать 2013 - 2023 год. Изучаемые платформы - XOne, PS4, WiiU, 3DS, PSV, а  так же персональные компьютеры.\n",
    "\n",
    "Продажи для платформ предыдущего поколения, таких как PS3, анализировать не будем - игры для них постепенно перестают выпускаться."
   ]
  },
  {
   "cell_type": "markdown",
   "id": "9d4c5073",
   "metadata": {},
   "source": [
    "Посмотрим на данные по продажам за текущий актуальный период, не включая 2016, так как данные за этот год могут быть неполными."
   ]
  },
  {
   "cell_type": "code",
   "execution_count": 25,
   "id": "c7e7a543",
   "metadata": {},
   "outputs": [],
   "source": [
    "games = df.query('2011 < year_of_release < 2016')\n",
    "filter_list=['XOne','PS4','WiiU','3DS','PSV','PC']\n",
    "timely_sales = games.query('platform in @filter_list')\\\n",
    ".pivot_table(values = 'total_sales', index = 'year_of_release',columns = 'platform', aggfunc = ('sum'))\n"
   ]
  },
  {
   "cell_type": "code",
   "execution_count": 26,
   "id": "7dcc0296",
   "metadata": {},
   "outputs": [
    {
     "data": {
      "text/html": [
       "<div>\n",
       "<style scoped>\n",
       "    .dataframe tbody tr th:only-of-type {\n",
       "        vertical-align: middle;\n",
       "    }\n",
       "\n",
       "    .dataframe tbody tr th {\n",
       "        vertical-align: top;\n",
       "    }\n",
       "\n",
       "    .dataframe thead th {\n",
       "        text-align: right;\n",
       "    }\n",
       "</style>\n",
       "<table border=\"1\" class=\"dataframe\">\n",
       "  <thead>\n",
       "    <tr style=\"text-align: right;\">\n",
       "      <th>platform</th>\n",
       "      <th>3DS</th>\n",
       "      <th>PC</th>\n",
       "      <th>PS4</th>\n",
       "      <th>PSV</th>\n",
       "      <th>WiiU</th>\n",
       "      <th>XOne</th>\n",
       "    </tr>\n",
       "    <tr>\n",
       "      <th>year_of_release</th>\n",
       "      <th></th>\n",
       "      <th></th>\n",
       "      <th></th>\n",
       "      <th></th>\n",
       "      <th></th>\n",
       "      <th></th>\n",
       "    </tr>\n",
       "  </thead>\n",
       "  <tbody>\n",
       "    <tr>\n",
       "      <td>2012</td>\n",
       "      <td>51.36</td>\n",
       "      <td>23.22</td>\n",
       "      <td>NaN</td>\n",
       "      <td>16.19</td>\n",
       "      <td>17.56</td>\n",
       "      <td>NaN</td>\n",
       "    </tr>\n",
       "    <tr>\n",
       "      <td>2013</td>\n",
       "      <td>56.57</td>\n",
       "      <td>12.38</td>\n",
       "      <td>25.99</td>\n",
       "      <td>10.59</td>\n",
       "      <td>21.65</td>\n",
       "      <td>18.96</td>\n",
       "    </tr>\n",
       "    <tr>\n",
       "      <td>2014</td>\n",
       "      <td>43.76</td>\n",
       "      <td>13.28</td>\n",
       "      <td>100.00</td>\n",
       "      <td>11.90</td>\n",
       "      <td>22.03</td>\n",
       "      <td>54.07</td>\n",
       "    </tr>\n",
       "    <tr>\n",
       "      <td>2015</td>\n",
       "      <td>27.78</td>\n",
       "      <td>8.52</td>\n",
       "      <td>118.90</td>\n",
       "      <td>6.25</td>\n",
       "      <td>16.35</td>\n",
       "      <td>60.14</td>\n",
       "    </tr>\n",
       "  </tbody>\n",
       "</table>\n",
       "</div>"
      ],
      "text/plain": [
       "platform           3DS     PC     PS4    PSV   WiiU   XOne\n",
       "year_of_release                                           \n",
       "2012             51.36  23.22     NaN  16.19  17.56    NaN\n",
       "2013             56.57  12.38   25.99  10.59  21.65  18.96\n",
       "2014             43.76  13.28  100.00  11.90  22.03  54.07\n",
       "2015             27.78   8.52  118.90   6.25  16.35  60.14"
      ]
     },
     "execution_count": 26,
     "metadata": {},
     "output_type": "execute_result"
    }
   ],
   "source": [
    "timely_sales"
   ]
  },
  {
   "cell_type": "code",
   "execution_count": 27,
   "id": "d246c2ee",
   "metadata": {},
   "outputs": [
    {
     "data": {
      "image/png": "[encoded data removed]",
      "text/plain": [
       "<Figure size 1080x576 with 1 Axes>"
      ]
     },
     "metadata": {},
     "output_type": "display_data"
    }
   ],
   "source": [
    "timely_sales.plot( kind='bar', rot=0, figsize = (15,8),grid = True)\n",
    "ax = plt.axes()\n",
    "plt.title('Продажи игр, Актуальные платфомы, 2012 - 2015 год')\n",
    "plt.ylabel('Количество проданных копий, млн')\n",
    "plt.xlabel('Год релиза')\n",
    "\n",
    "plt.show()"
   ]
  },
  {
   "cell_type": "markdown",
   "id": "371aee33",
   "metadata": {},
   "source": [
    "Среди домашних консолей потенциально прибильные платформы - PS4 и XBoxOne, у которых наблюдается рост. Продажи игр для WiiU показывают отсутвие роста в течении рассматриваемого периода, с самыми малыми показателями в 2015 году.\n",
    "\n",
    "Для портативных консолей 3DS и PSV ,как и и у персоналных компьютеров, наблюдается падение продаж.\n",
    "\n",
    "По данным на на 2015 год, топ по общему количеству продаж для актуальных платформ выглядит так:\n",
    " 1. PS4\n",
    " 2. XOne\n",
    " 3. 3DS\n",
    " 4. WiiU\n",
    " 5. PC\n",
    " 6. PSV\n",
    "\n"
   ]
  },
  {
   "cell_type": "markdown",
   "id": "87d60a90",
   "metadata": {},
   "source": [
    "Изучим график разброса среднего количества продаж каждой игры для актуальных консолей.\n",
    "Выведем полный график, а так же ограниченный значениями в 4 миллиона продаж для более детального рассмотрения показателей."
   ]
  },
  {
   "cell_type": "code",
   "execution_count": 28,
   "id": "abf1b8b3",
   "metadata": {},
   "outputs": [
    {
     "data": {
      "image/png": "[encoded data removed]",
      "text/plain": [
       "<Figure size 1440x576 with 1 Axes>"
      ]
     },
     "metadata": {},
     "output_type": "display_data"
    }
   ],
   "source": [
    "\n",
    "games.query('platform in @filter_list').boxplot('total_sales', figsize = (20,8),  by = 'platform', vert = False, patch_artist=True)\n",
    "ax = plt.axes()\n",
    "plt.xlim(-0.2,)\n",
    "plt.xlabel('Количество проданных копий игр, млн.')\n",
    "ax.set_title('График разброса, актуальные платформы, 2012-2015')\n",
    "plt.show()"
   ]
  },
  {
   "cell_type": "code",
   "execution_count": 29,
   "id": "ec432420",
   "metadata": {},
   "outputs": [
    {
     "data": {
      "image/png": "[encoded data removed]",
      "text/plain": [
       "<Figure size 1440x576 with 1 Axes>"
      ]
     },
     "metadata": {},
     "output_type": "display_data"
    }
   ],
   "source": [
    "\n",
    "games.query('platform in @filter_list').boxplot('total_sales', figsize = (20,8),  by = 'platform', vert = False, patch_artist=True)\n",
    "ax = plt.axes()\n",
    "plt.xlim(-0.2,4.2)\n",
    "plt.xlabel('Количество проданных копий игр, млн.')\n",
    "ax.set_title('График разброса, актуальные платформы, знаечения до 4 млн. продаж, 2012-2015')\n",
    "plt.show()"
   ]
  },
  {
   "cell_type": "markdown",
   "id": "a43f67de",
   "metadata": {},
   "source": [
    "В процессе анализа графика разброса мы видим, что, неcмотря на меньшее количество общих продаж, средние показатели для каждой игры на Xbox больше, чем у PlayStation. WiiU замыкает тройку, среднее количество продаж на игру немногим меньше, чем у PS4. WiiU  так же имеет более чем в 2 раза меньший разброс основных значений, чем у Xbox и PlayStation.\n",
    "\n",
    "Большее количество общих продаж для PS4 может объяснить довольно длинный хвост из тайтлов со значениями, превышающих отметку в 12 миллионов проданных копий. \n",
    "\n",
    "3DS, несмотря на на общее отставание показателей мобильных платформ от консолей, имеет длинный хвост из тайтлов с запредельно большим количеством продаж. Похожую форму разброса имеют и персональные компьютеры как платформа, за исключением отсутствия тайтлов с показателями продаж больше 3.5 миллионов проданных копий.\n",
    "\n",
    "PSV имеет самые малые показатели среднего и ширины разброса среди всех платформ.\n",
    "\n",
    "\n"
   ]
  },
  {
   "cell_type": "markdown",
   "id": "dea02533",
   "metadata": {},
   "source": [
    "### Влияние отзывов критиков на продажи"
   ]
  },
  {
   "cell_type": "markdown",
   "id": "14d821bc",
   "metadata": {},
   "source": [
    "Изучим зависимость между продажами и отзывами критиков на примере одной из самых популярных платформ - PS4"
   ]
  },
  {
   "cell_type": "code",
   "execution_count": 30,
   "id": "a08a119c",
   "metadata": {},
   "outputs": [],
   "source": [
    "ps4_critic_score = games.query('platform == \"PS4\" and critic_score > -1')[['total_sales','critic_score']]\n",
    "ps4_user_score = games.query('platform == \"PS4\" and user_score > -1')[['total_sales','user_score']]"
   ]
  },
  {
   "cell_type": "code",
   "execution_count": 31,
   "id": "69505163",
   "metadata": {},
   "outputs": [
    {
     "data": {
      "image/png": "[encoded data removed]",
      "text/plain": [
       "<Figure size 720x504 with 1 Axes>"
      ]
     },
     "metadata": {},
     "output_type": "display_data"
    },
    {
     "name": "stdout",
     "output_type": "stream",
     "text": [
      "Коэффициент корреляции : 0.432\n"
     ]
    }
   ],
   "source": [
    "ps4_critic_score.plot(\n",
    "    y = 'total_sales', x = 'critic_score', kind = 'scatter',\n",
    "    alpha = 0.9)\n",
    "ax = plt.axes()\n",
    "plt.ylabel('Общее количество продаж, млн')\n",
    "plt.xlabel('Оценка критиков')\n",
    "plt.title('Диаграмма рассеяния, оценки критиков и общие продажи, PS4')\n",
    "plt.show()\n",
    "print('Коэффициент корреляции : {:.3f}'.format(ps4_critic_score['total_sales'].corr(ps4_critic_score['critic_score'])))"
   ]
  },
  {
   "cell_type": "markdown",
   "id": "ccc0c545",
   "metadata": {},
   "source": [
    "На графике видна зависмость между оценкой критиков и общими продажами - игры с оценкой меньше 70 не превышают отметку в 2 миллиона продаж, а одна из игр с максимальной оценкой критиков имеет и максимальные продажи.\n",
    "\n",
    "Тем не менее, многие игры с хорошими оценками имеют малые продажи - это отражает довольно небольшой коэффициент кореляции - 0.4\n",
    "\n",
    "Изучим зависимость между продажами и оценками пользователей."
   ]
  },
  {
   "cell_type": "code",
   "execution_count": 32,
   "id": "af674671",
   "metadata": {},
   "outputs": [
    {
     "data": {
      "image/png": "[encoded data removed]",
      "text/plain": [
       "<Figure size 720x504 with 1 Axes>"
      ]
     },
     "metadata": {},
     "output_type": "display_data"
    },
    {
     "name": "stdout",
     "output_type": "stream",
     "text": [
      "Коэффициент корреляции : 0.024\n"
     ]
    }
   ],
   "source": [
    "ps4_user_score.plot(\n",
    "    y = 'total_sales', x = 'user_score', kind = 'scatter',\n",
    "    alpha = 0.9)\n",
    "ax = plt.axes()\n",
    "plt.ylabel('Общее количество продаж')\n",
    "plt.xlabel('Оценка пользователей')\n",
    "plt.title('Диаграмма рассеяния, оценки пользователей и общие продажи, PS4')\n",
    "plt.show()\n",
    "print('Коэффициент корреляции : {:.3f}'.format(ps4_user_score['total_sales'].corr(ps4_user_score['user_score'])))"
   ]
  },
  {
   "cell_type": "markdown",
   "id": "cb1d6667",
   "metadata": {},
   "source": [
    "Зависимости между оценками пользователей и продажами для PS4 обнаружено не было - коэффициент корреляции близок к 0\n",
    "\n",
    "Изучим зависимость между оценками и продажами для Xbox One"
   ]
  },
  {
   "cell_type": "code",
   "execution_count": 33,
   "id": "a9b796ca",
   "metadata": {},
   "outputs": [],
   "source": [
    "xone_critic_score = games.query('platform == \"XOne\" and critic_score > -1')[['total_sales','critic_score']]\n",
    "xone_user_score = games.query('platform == \"XOne\" and user_score > -1')[['total_sales','user_score']]"
   ]
  },
  {
   "cell_type": "code",
   "execution_count": 34,
   "id": "97626844",
   "metadata": {},
   "outputs": [
    {
     "data": {
      "image/png": "[encoded data removed]",
      "text/plain": [
       "<Figure size 720x504 with 1 Axes>"
      ]
     },
     "metadata": {},
     "output_type": "display_data"
    },
    {
     "name": "stdout",
     "output_type": "stream",
     "text": [
      "Коэффициент корреляции : 0.459\n"
     ]
    }
   ],
   "source": [
    "xone_critic_score.plot(\n",
    "    y = 'total_sales', x = 'critic_score', kind = 'scatter',\n",
    "    alpha = 0.9)\n",
    "ax = plt.axes()\n",
    "plt.ylabel('Общее количество продаж')\n",
    "plt.xlabel('Оценка критиков')\n",
    "plt.title('Диаграмма рассеяния, оценки критиков и общие продажи, XOne')\n",
    "plt.show()\n",
    "print('Коэффициент корреляции : {:.3f}'.format(xone_critic_score['total_sales'].corr(xone_critic_score['critic_score'])))"
   ]
  },
  {
   "cell_type": "code",
   "execution_count": 35,
   "id": "e1554c36",
   "metadata": {},
   "outputs": [
    {
     "data": {
      "image/png": "[encoded data removed]",
      "text/plain": [
       "<Figure size 720x504 with 1 Axes>"
      ]
     },
     "metadata": {},
     "output_type": "display_data"
    },
    {
     "name": "stdout",
     "output_type": "stream",
     "text": [
      "Коэффициент корреляции : -0.039\n"
     ]
    }
   ],
   "source": [
    "xone_user_score.plot(\n",
    "    y = 'total_sales', x = 'user_score', kind = 'scatter',\n",
    "    alpha = 0.9)\n",
    "ax = plt.axes()\n",
    "plt.ylabel('Общее количество продаж')\n",
    "plt.xlabel('Оценка пользователей')\n",
    "plt.title('Диаграмма рассеяния, оценки пользователей и общие продажи, XOne')\n",
    "plt.show()\n",
    "print('Коэффициент корреляции : {:.3f}'.format(xone_user_score['total_sales'].corr(xone_user_score['user_score'])))"
   ]
  },
  {
   "cell_type": "markdown",
   "id": "2098f3b9",
   "metadata": {},
   "source": [
    "Для Xone зависимости между оценками и продажами практически такие же, как и у PS4.\n",
    "\n",
    "Изучим зависимость между оценками и продажами для WiiU"
   ]
  },
  {
   "cell_type": "code",
   "execution_count": 36,
   "id": "3fc2082f",
   "metadata": {},
   "outputs": [],
   "source": [
    "wiiu_critic_score = games.query('platform == \"WiiU\" and critic_score > -1')[['total_sales','critic_score']]\n",
    "wiiu_user_score = games.query('platform == \"WiiU\" and user_score > -1')[['total_sales','user_score']]"
   ]
  },
  {
   "cell_type": "code",
   "execution_count": 37,
   "id": "7c46d971",
   "metadata": {},
   "outputs": [
    {
     "data": {
      "image/png": "[encoded data removed]",
      "text/plain": [
       "<Figure size 720x504 with 1 Axes>"
      ]
     },
     "metadata": {},
     "output_type": "display_data"
    },
    {
     "name": "stdout",
     "output_type": "stream",
     "text": [
      "Коэффициент корреляции : 0.355\n"
     ]
    }
   ],
   "source": [
    "wiiu_critic_score.plot(\n",
    "    y = 'total_sales', x = 'critic_score', kind = 'scatter',\n",
    "    alpha = 0.9)\n",
    "ax = plt.axes()\n",
    "plt.ylabel('Общее количество продаж')\n",
    "plt.xlabel('Оценка критиков')\n",
    "plt.title('Диаграмма рассеяния, оценки критиков и общие продажи, WiiU')\n",
    "plt.show()\n",
    "print('Коэффициент корреляции : {:.3f}'.format(wiiu_critic_score['total_sales'].corr(wiiu_critic_score['critic_score'])))"
   ]
  },
  {
   "cell_type": "code",
   "execution_count": 38,
   "id": "4c43a19f",
   "metadata": {},
   "outputs": [
    {
     "data": {
      "image/png": "[encoded data removed]",
      "text/plain": [
       "<Figure size 720x504 with 1 Axes>"
      ]
     },
     "metadata": {},
     "output_type": "display_data"
    },
    {
     "name": "stdout",
     "output_type": "stream",
     "text": [
      "Коэффициент корреляции : 0.413\n"
     ]
    }
   ],
   "source": [
    "wiiu_user_score.plot(\n",
    "    y = 'total_sales', x = 'user_score', kind = 'scatter',\n",
    "    alpha = 0.9)\n",
    "ax = plt.axes()\n",
    "plt.ylabel('Общее количество продаж')\n",
    "plt.xlabel('Оценка пользователей')\n",
    "plt.title('Диаграмма рассеяния, оценки пользователей и общие продажи, WiiU')\n",
    "plt.show()\n",
    "print('Коэффициент корреляции : {:.3f}'.format(wiiu_user_score['total_sales'].corr(wiiu_user_score['user_score'])))"
   ]
  },
  {
   "cell_type": "markdown",
   "id": "03568418",
   "metadata": {},
   "source": [
    "Для WiiU наблюдаем зависимость продаж как от оценок критиков, так и пользователей. Тем не менее зависимость небольшая - коэффициент корреляции около 0.4 в обоих случаях."
   ]
  },
  {
   "cell_type": "markdown",
   "id": "961a811e",
   "metadata": {},
   "source": [
    "Изучим зависимость между оценками и продажами для PC"
   ]
  },
  {
   "cell_type": "code",
   "execution_count": 39,
   "id": "046b610e",
   "metadata": {},
   "outputs": [],
   "source": [
    "pc_critic_score = games.query('platform == \"PC\" and critic_score > -1')[['total_sales','critic_score']]\n",
    "pc_user_score = games.query('platform == \"PC\" and user_score > -1')[['total_sales','user_score']]"
   ]
  },
  {
   "cell_type": "code",
   "execution_count": 40,
   "id": "3b8cb6ac",
   "metadata": {
    "jupyter": {
     "source_hidden": true
    }
   },
   "outputs": [
    {
     "data": {
      "image/png": "[encoded data removed]",
      "text/plain": [
       "<Figure size 720x504 with 1 Axes>"
      ]
     },
     "metadata": {},
     "output_type": "display_data"
    },
    {
     "name": "stdout",
     "output_type": "stream",
     "text": [
      "Коэффициент корреляции : 0.263\n"
     ]
    }
   ],
   "source": [
    "pc_critic_score.plot(\n",
    "    y = 'total_sales', x = 'critic_score', kind = 'scatter',\n",
    "    alpha = 0.9)\n",
    "ax = plt.axes()\n",
    "plt.ylabel('Общее количество продаж, млн')\n",
    "plt.xlabel('Оценка критиков')\n",
    "plt.title('Диаграмма рассеяния, оценки критиков и общие продажи, PC')\n",
    "plt.show()\n",
    "print('Коэффициент корреляции : {:.3f}'.format(pc_critic_score['total_sales'].corr(pc_critic_score['critic_score'])))"
   ]
  },
  {
   "cell_type": "code",
   "execution_count": 41,
   "id": "52e9e675",
   "metadata": {},
   "outputs": [
    {
     "data": {
      "image/png": "[encoded data removed]",
      "text/plain": [
       "<Figure size 720x504 with 1 Axes>"
      ]
     },
     "metadata": {},
     "output_type": "display_data"
    },
    {
     "name": "stdout",
     "output_type": "stream",
     "text": [
      "Коэффициент корреляции : -0.159\n"
     ]
    }
   ],
   "source": [
    "pc_user_score.plot(\n",
    "    y = 'total_sales', x = 'user_score', kind = 'scatter',\n",
    "    alpha = 0.9)\n",
    "ax = plt.axes()\n",
    "plt.ylabel('Общее количество продаж')\n",
    "plt.xlabel('Оценка пользователей')\n",
    "plt.title('Диаграмма рассеяния, оценки пользователей и общие продажи, PC')\n",
    "plt.show()\n",
    "print('Коэффициент корреляции : {:.3f}'.format(pc_user_score['total_sales'].corr(pc_user_score['user_score'])))"
   ]
  },
  {
   "cell_type": "markdown",
   "id": "d1a06950",
   "metadata": {},
   "source": [
    "Для персональных компьютеров зависмость между оценками критиков и продажами еще меньше чем у консолей - коэффициент корреляции 0.2.\n",
    "\n",
    "Между оценками пользователей и продажами была обнаружена слабая обратная зависимость - тайтлам с большими продажами иногда ставят низкие оценки. Возможно это свзяано с низким качеством хорошо разрекламированных релизов. Коэффицициент корреляции в данном случае: -1.6.\n",
    "\n",
    "Изучим зависимость между оценками и продажами для 3DS"
   ]
  },
  {
   "cell_type": "code",
   "execution_count": 42,
   "id": "d1dacc99",
   "metadata": {},
   "outputs": [],
   "source": [
    "ds_critic_score = games.query('platform == \"3DS\" and critic_score > -1')[['total_sales','critic_score']]\n",
    "ds_user_score = games.query('platform == \"3DS\" and user_score > -1')[['total_sales','user_score']]"
   ]
  },
  {
   "cell_type": "code",
   "execution_count": 43,
   "id": "2c5d407e",
   "metadata": {},
   "outputs": [
    {
     "data": {
      "image/png": "[encoded data removed]",
      "text/plain": [
       "<Figure size 720x504 with 1 Axes>"
      ]
     },
     "metadata": {},
     "output_type": "display_data"
    },
    {
     "name": "stdout",
     "output_type": "stream",
     "text": [
      "Коэффициент корреляции : 0.333\n"
     ]
    }
   ],
   "source": [
    "ds_critic_score.plot(\n",
    "    y = 'total_sales', x = 'critic_score', kind = 'scatter',\n",
    "    alpha = 0.9)\n",
    "ax = plt.axes()\n",
    "plt.ylabel('Общее количество продаж, млн')\n",
    "plt.xlabel('Оценка критиков')\n",
    "plt.title('Диаграмма рассеяния, оценки критиков и общие продажи, 3DS')\n",
    "plt.show()\n",
    "print('Коэффициент корреляции : {:.3f}'.format(ds_critic_score['total_sales'].corr(ds_critic_score['critic_score'])))"
   ]
  },
  {
   "cell_type": "code",
   "execution_count": 44,
   "id": "06352c6d",
   "metadata": {},
   "outputs": [
    {
     "data": {
      "image/png": "[encoded data removed]",
      "text/plain": [
       "<Figure size 720x504 with 1 Axes>"
      ]
     },
     "metadata": {},
     "output_type": "display_data"
    },
    {
     "name": "stdout",
     "output_type": "stream",
     "text": [
      "Коэффициент корреляции : 0.211\n"
     ]
    }
   ],
   "source": [
    "ds_user_score.plot(\n",
    "    y = 'total_sales', x = 'user_score', kind = 'scatter',\n",
    "    alpha = 0.9)\n",
    "ax = plt.axes()\n",
    "plt.ylabel('Общее количество продаж')\n",
    "plt.xlabel('Оценка пользователей')\n",
    "plt.title('Диаграмма рассеяния, оценки пользователей и общие продажи, 3DS')\n",
    "plt.show()\n",
    "print('Коэффициент корреляции : {:.3f}'.format(ds_user_score['total_sales'].corr(ds_user_score['user_score'])))"
   ]
  },
  {
   "cell_type": "markdown",
   "id": "b078e804",
   "metadata": {},
   "source": [
    "Для 3DS зависимость между оценками критиков и продажами слабая - коэффициент корреляции: 0.3.\n",
    "У оценки пользователей зависимость еще меньше - коэффициент корреляции: 0.2\n",
    "Тем не менее, релизы с хорошими оценками критиков и пользователей часто имеют большие продажи.\n",
    "\n",
    "Изучим зависимость между оценками и продажами для PSV"
   ]
  },
  {
   "cell_type": "code",
   "execution_count": 45,
   "id": "c617cbc0",
   "metadata": {},
   "outputs": [],
   "source": [
    "psv_critic_score = games.query('platform == \"PSV\" and critic_score > -1')[['total_sales','critic_score']]\n",
    "psv_user_score = games.query('platform == \"PSV\" and user_score > -1')[['total_sales','user_score']]"
   ]
  },
  {
   "cell_type": "code",
   "execution_count": 46,
   "id": "01d34e6f",
   "metadata": {},
   "outputs": [
    {
     "data": {
      "image/png": "[encoded data removed]",
      "text/plain": [
       "<Figure size 720x504 with 1 Axes>"
      ]
     },
     "metadata": {},
     "output_type": "display_data"
    },
    {
     "name": "stdout",
     "output_type": "stream",
     "text": [
      "Коэффициент корреляции : 0.116\n"
     ]
    }
   ],
   "source": [
    "psv_critic_score.plot(\n",
    "    y = 'total_sales', x = 'critic_score', kind = 'scatter',\n",
    "    alpha = 0.9)\n",
    "ax = plt.axes()\n",
    "plt.ylabel('Общее количество продаж, млн')\n",
    "plt.xlabel('Оценка критиков')\n",
    "plt.title('Диаграмма рассеяния, оценки критиков и общие продажи, PSV')\n",
    "plt.show()\n",
    "print('Коэффициент корреляции : {:.3f}'.format(psv_critic_score['total_sales'].corr(psv_critic_score['critic_score'])))"
   ]
  },
  {
   "cell_type": "code",
   "execution_count": 47,
   "id": "559b66af",
   "metadata": {},
   "outputs": [
    {
     "data": {
      "image/png": "[encoded data removed]",
      "text/plain": [
       "<Figure size 720x504 with 1 Axes>"
      ]
     },
     "metadata": {},
     "output_type": "display_data"
    },
    {
     "name": "stdout",
     "output_type": "stream",
     "text": [
      "Коэффициент корреляции : 0.014\n"
     ]
    }
   ],
   "source": [
    "psv_user_score.plot(\n",
    "    y = 'total_sales', x = 'user_score', kind = 'scatter',\n",
    "    alpha = 0.9)\n",
    "ax = plt.axes()\n",
    "plt.ylabel('Общее количество продаж')\n",
    "plt.xlabel('Оценка пользователей')\n",
    "plt.title('Диаграмма рассеяния, оценки пользователей и общие продажи, PSV')\n",
    "plt.show()\n",
    "print('Коэффициент корреляции : {:.3f}'.format(psv_user_score['total_sales'].corr(psv_user_score['user_score'])))"
   ]
  },
  {
   "cell_type": "markdown",
   "id": "d5269f0b",
   "metadata": {},
   "source": [
    "Для PSV зависимость практически отсутвует в обоих случаях. Возможная причины: минимальный оценка критиков у самой продаваемой игры и общие малые продажи для этой консоли."
   ]
  },
  {
   "cell_type": "markdown",
   "id": "3b0e9297",
   "metadata": {},
   "source": [
    "### Исследование жанров"
   ]
  },
  {
   "cell_type": "markdown",
   "id": "5c9beb66",
   "metadata": {},
   "source": [
    "Изучим показатели успешности для каждого жанра. Показателем будем считать соотношение количества продаж к количеству релизов."
   ]
  },
  {
   "cell_type": "code",
   "execution_count": 48,
   "id": "57536f48",
   "metadata": {},
   "outputs": [],
   "source": [
    "genre = games.query('platform in @filter_list').groupby('genre').agg({'name' : 'count', 'total_sales': 'sum'})\n",
    "genre['ratio'] = genre['total_sales'] / genre['name']\n",
    "genre.sort_values('ratio' , ascending = False, inplace = True)"
   ]
  },
  {
   "cell_type": "code",
   "execution_count": 49,
   "id": "c46a13f5",
   "metadata": {},
   "outputs": [
    {
     "data": {
      "image/png": "[encoded data removed]",
      "text/plain": [
       "<Figure size 1440x504 with 1 Axes>"
      ]
     },
     "metadata": {},
     "output_type": "display_data"
    }
   ],
   "source": [
    "genre['ratio'].plot(kind='bar', rot=45, figsize = (20,7), grid = True)\n",
    "ax = plt.axes()\n",
    "plt.title('Соотношение количества продаж к количеству релизов по жанрам, актуальные платформы, 2012 - 2015 год ')\n",
    "plt.ylabel('Соотношение продаж к количеству релизов')\n",
    "plt.xlabel('Жанры')\n",
    "plt.show()"
   ]
  },
  {
   "cell_type": "markdown",
   "id": "2feb4ef7",
   "metadata": {},
   "source": [
    "Самыми прибыльными оказались игры жанров Shooter, Platform и Simulation, причем успешность \"стрелялок\" примерно в полтора раза больше, чем у остальных. \n",
    "В самом низу рейтинга оказлись игры жанров Strategy, Puzzle и Adventure"
   ]
  },
  {
   "cell_type": "markdown",
   "id": "605c8135",
   "metadata": {},
   "source": [
    "### Итоги"
   ]
  },
  {
   "cell_type": "markdown",
   "id": "49818f45",
   "metadata": {},
   "source": [
    "- В процессе исследования было изучены общие продажи игр для рассматриваемых платформ и обнаружено падение продаж начиная с периода 2009 года, вызванное развитием смартфонов как игровых платформ.\n",
    "- Был опреден ожидаемый актуальный период и список актуальных платформ:\n",
    " - Актуальный период с 2013 по 2023 год.\n",
    " - Актуальные платформы - XOne, PS4, WiiU, 3DS, PSV и  PC\n",
    "- Определены самые перспективные платформы -  PS4 и XOne\n",
    "- Изучено влияние отзывов критиков и пользователей на продажи:\n",
    "  - Практически для всех актуальных платформ обнаружена слабая прямая зависимость между оценками критиков и продажами - довольно часто игры с хорошими оценками критиков имеют и большие продажи.\n",
    "  - Слабая прямая зависимость между оценками пользователей  и продажами была обнаружена только у консолей Nindendo. Для остальных консолей мнение пользователей с уровнем продаж практически не коррелирует. Исключение составили персональные компьютеры, для них эта зависимость небольшая, но отрицательная - играм с большими продажами для этой платформы пользователи иногда ставят плохие оценки.\n",
    "- Изучены показатели успешности для всех жанров:\n",
    "  - Самыми прибыльными оказались игры жанров Shooter, Platform и Simulation.\n",
    "  - У игр жанров Strategy, Puzzle и Adventure отношение продаж к количеству релизов оказалось самым малым."
   ]
  },
  {
   "cell_type": "markdown",
   "id": "62595cd4",
   "metadata": {},
   "source": [
    "## Портрет пользователя каждого региона"
   ]
  },
  {
   "cell_type": "markdown",
   "id": "a9f8374e",
   "metadata": {},
   "source": [
    "Составим портрет пользователя каждого региона (NA, EU, JP). Исследуем самые популярные платформы, жанры и влияние рейтинга на продажи."
   ]
  },
  {
   "cell_type": "markdown",
   "id": "47b82a2f",
   "metadata": {},
   "source": [
    "### Северная Америка"
   ]
  },
  {
   "cell_type": "code",
   "execution_count": 50,
   "id": "4d27fec6",
   "metadata": {},
   "outputs": [],
   "source": [
    "top5platform_na = games.query('platform in @filter_list').groupby('platform')['na_sales'].sum().sort_values(ascending = False).to_frame().head()"
   ]
  },
  {
   "cell_type": "code",
   "execution_count": 51,
   "id": "4f2c9fa8",
   "metadata": {},
   "outputs": [
    {
     "data": {
      "image/png": "[encoded data removed]",
      "text/plain": [
       "<Figure size 720x504 with 1 Axes>"
      ]
     },
     "metadata": {},
     "output_type": "display_data"
    }
   ],
   "source": [
    "top5platform_na.plot( kind='bar', rot=0,grid = True)\n",
    "ax = plt.axes()\n",
    "plt.title('Продажи игр, Актуальные платфомы, Северная америка, 2012 - 2015 год')\n",
    "plt.ylabel('Количество проданных копий, млн')\n",
    "plt.xlabel('Год релиза')\n",
    "\n",
    "plt.show()"
   ]
  },
  {
   "cell_type": "markdown",
   "id": "c19c6290",
   "metadata": {},
   "source": [
    "Как и в общем по миру, PS4 занимает первое по продажам в Америке. Тем не менее Xbox на своей на родине совсем немного отстает по продажам от Sony.\n",
    "3DS, несмотря на общее отставание мобильных платформ, занимает третье место, имея показатели продаж болшие, чем у WiiU и PC."
   ]
  },
  {
   "cell_type": "code",
   "execution_count": 52,
   "id": "2be55791",
   "metadata": {},
   "outputs": [],
   "source": [
    "top5genre_na = games.query('platform in @filter_list').groupby('genre')['na_sales'].sum().sort_values(ascending = False).to_frame().head()"
   ]
  },
  {
   "cell_type": "code",
   "execution_count": 53,
   "id": "b9fcc401",
   "metadata": {},
   "outputs": [
    {
     "data": {
      "image/png": "[encoded data removed]",
      "text/plain": [
       "<Figure size 720x504 with 1 Axes>"
      ]
     },
     "metadata": {},
     "output_type": "display_data"
    }
   ],
   "source": [
    "top5genre_na.plot( kind='bar', rot=0,grid = True)\n",
    "ax = plt.axes()\n",
    "plt.title('Топ-5 жанров по продажам, Актуальные платфомы, Северная америка, 2012 - 2015 год')\n",
    "plt.ylabel('Количество проданных копий, млн')\n",
    "plt.xlabel('Жанры')\n",
    "\n",
    "plt.show()"
   ]
  },
  {
   "cell_type": "markdown",
   "id": "3114b04d",
   "metadata": {},
   "source": [
    "Динамичные игры жанров Action и Shooter, часто представленные на PS и Xbox, являются самыми популярными в штатах."
   ]
  },
  {
   "cell_type": "code",
   "execution_count": 54,
   "id": "0ab4550f",
   "metadata": {},
   "outputs": [],
   "source": [
    "rating_chart_na = games.query('platform in @filter_list').groupby('rating')['na_sales'].sum().sort_values(ascending = False).to_frame().head()"
   ]
  },
  {
   "cell_type": "code",
   "execution_count": 55,
   "id": "94e40a39",
   "metadata": {},
   "outputs": [
    {
     "data": {
      "image/png": "[encoded data removed]",
      "text/plain": [
       "<Figure size 720x504 with 1 Axes>"
      ]
     },
     "metadata": {},
     "output_type": "display_data"
    }
   ],
   "source": [
    "rating_chart_na.plot( kind='bar', rot=0,grid = True)\n",
    "ax = plt.axes()\n",
    "plt.title('Распределение продаж по ворастному рейтингу, Актуальные платфомы, Северная америка, 2012 - 2015 год')\n",
    "plt.ylabel('Количество проданных копий, млн')\n",
    "plt.xlabel('Ворастной рейтинг')\n",
    "\n",
    "plt.show()"
   ]
  },
  {
   "cell_type": "markdown",
   "id": "5abbb248",
   "metadata": {},
   "source": [
    "Игры для взрослых, которые часто представлены жанрами shooter и action, занимают первое место по продажам в американском регионе. У большого количества игр рейтинг не опредлелен - это может значить обозначать ошибку при выгрузке данных, либо играм еще не успели выставить возрастной рейтинг."
   ]
  },
  {
   "cell_type": "markdown",
   "id": "9b144267",
   "metadata": {},
   "source": [
    "### Европа"
   ]
  },
  {
   "cell_type": "code",
   "execution_count": 56,
   "id": "7eab1ecb",
   "metadata": {},
   "outputs": [],
   "source": [
    "top5platform_eu = games.query('platform in @filter_list').groupby('platform')['eu_sales'].sum().sort_values(ascending = False).to_frame().head()"
   ]
  },
  {
   "cell_type": "code",
   "execution_count": 57,
   "id": "7be919d4",
   "metadata": {},
   "outputs": [
    {
     "data": {
      "image/png": "[encoded data removed]",
      "text/plain": [
       "<Figure size 720x504 with 1 Axes>"
      ]
     },
     "metadata": {},
     "output_type": "display_data"
    }
   ],
   "source": [
    "top5platform_eu.plot( kind='bar', rot=0,grid = True)\n",
    "ax = plt.axes()\n",
    "plt.title('Продажи игр, Актуальные платфомы, Европа, 2012 - 2015 год')\n",
    "plt.ylabel('Количество проданных копий, млн')\n",
    "plt.xlabel('Год релиза')\n",
    "\n",
    "plt.show()"
   ]
  },
  {
   "cell_type": "markdown",
   "id": "01aeeef7",
   "metadata": {},
   "source": [
    "В европе продажи для xbox намного хуже, чем в штатах, и находятся на одном уровне 3DS и PC. WiiU так же не пользуется большой популярностью."
   ]
  },
  {
   "cell_type": "code",
   "execution_count": 58,
   "id": "8114d868",
   "metadata": {},
   "outputs": [],
   "source": [
    "top5genre_eu = games.query('platform in @filter_list').groupby('genre')['eu_sales'].sum().sort_values(ascending = False).to_frame().head()"
   ]
  },
  {
   "cell_type": "code",
   "execution_count": 59,
   "id": "b1811832",
   "metadata": {},
   "outputs": [
    {
     "data": {
      "image/png": "[encoded data removed]",
      "text/plain": [
       "<Figure size 720x504 with 1 Axes>"
      ]
     },
     "metadata": {},
     "output_type": "display_data"
    }
   ],
   "source": [
    "top5genre_eu.plot( kind='bar', rot=0,grid = True)\n",
    "ax = plt.axes()\n",
    "plt.title('Топ-5 жанров по продажам, Актуальные платфомы, Европа, 2012 - 2015 год')\n",
    "plt.ylabel('Количество проданных копий, млн')\n",
    "plt.xlabel('Жанры')\n",
    "\n",
    "plt.show()"
   ]
  },
  {
   "cell_type": "code",
   "execution_count": 60,
   "id": "964a555c",
   "metadata": {},
   "outputs": [],
   "source": [
    "rating_chart_eu = games.query('platform in @filter_list').groupby('rating')['eu_sales'].sum().sort_values(ascending = False).to_frame().head()"
   ]
  },
  {
   "cell_type": "code",
   "execution_count": 61,
   "id": "21c1152d",
   "metadata": {},
   "outputs": [
    {
     "data": {
      "image/png": "[encoded data removed]",
      "text/plain": [
       "<Figure size 720x504 with 1 Axes>"
      ]
     },
     "metadata": {},
     "output_type": "display_data"
    }
   ],
   "source": [
    "rating_chart_eu.plot( kind='bar', rot=0,grid = True)\n",
    "ax = plt.axes()\n",
    "plt.title('Распределение продаж по возрастному рейтингу, Актуальные платфомы, Европа, 2012 - 2015 год')\n",
    "plt.ylabel('Количество проданных копий, млн')\n",
    "plt.xlabel('Возрастной рейтинг')\n",
    "\n",
    "plt.show()"
   ]
  },
  {
   "cell_type": "markdown",
   "id": "6a4e844f",
   "metadata": {},
   "source": [
    "Предпочтения по жанрам и возрастному рейтингу в европейском регионе абсолютно такие же, как и в штатах."
   ]
  },
  {
   "cell_type": "markdown",
   "id": "0374999b",
   "metadata": {},
   "source": [
    "### Япония"
   ]
  },
  {
   "cell_type": "code",
   "execution_count": 62,
   "id": "fa3f8ab0",
   "metadata": {},
   "outputs": [],
   "source": [
    "top5platform_jp = games.query('platform in @filter_list').groupby('platform')['jp_sales'].sum().sort_values(ascending = False).to_frame().head()"
   ]
  },
  {
   "cell_type": "code",
   "execution_count": 63,
   "id": "2d0c7b11",
   "metadata": {},
   "outputs": [
    {
     "data": {
      "image/png": "[encoded data removed]",
      "text/plain": [
       "<Figure size 720x504 with 1 Axes>"
      ]
     },
     "metadata": {},
     "output_type": "display_data"
    }
   ],
   "source": [
    "top5platform_jp.plot( kind='bar', rot=0,grid = True)\n",
    "ax = plt.axes()\n",
    "plt.title('Продажи игр, Актуальные платфомы, Япония, 2012 - 2015 год')\n",
    "plt.ylabel('Количество проданных копий, млн')\n",
    "plt.xlabel('Платформы')\n",
    "\n",
    "plt.show()"
   ]
  },
  {
   "cell_type": "markdown",
   "id": "5e0ff48b",
   "metadata": {},
   "source": [
    "На японском рынке ситуация с продажами сильно отличается от стального мира. Для мобильных консолей продажи здесь больше, чем для домашних. Самой популярной консолью, с большим отрывом от остальных, в японском регионе является 3DS. "
   ]
  },
  {
   "cell_type": "code",
   "execution_count": 64,
   "id": "f9c36bc5",
   "metadata": {},
   "outputs": [],
   "source": [
    "top5genre_jp = games.query('platform in @filter_list').groupby('genre')['jp_sales'].sum().sort_values(ascending = False).to_frame().head()"
   ]
  },
  {
   "cell_type": "code",
   "execution_count": 65,
   "id": "1dd815ae",
   "metadata": {},
   "outputs": [
    {
     "data": {
      "image/png": "[encoded data removed]",
      "text/plain": [
       "<Figure size 720x504 with 1 Axes>"
      ]
     },
     "metadata": {},
     "output_type": "display_data"
    }
   ],
   "source": [
    "top5genre_jp.plot( kind='bar', rot=0,grid = True)\n",
    "ax = plt.axes()\n",
    "plt.title('Топ-5 жанров по продажам, Актуальные платфомы, Япония, 2012 - 2015 год')\n",
    "plt.ylabel('Количество проданных копий, млн')\n",
    "plt.xlabel('Жанры')\n",
    "\n",
    "plt.show()"
   ]
  },
  {
   "cell_type": "markdown",
   "id": "36b8c13b",
   "metadata": {},
   "source": [
    "Игры жанра RPG и JRPG, широко представленные на консоли 3DS, занимают первое место по продажам в Японком регионе."
   ]
  },
  {
   "cell_type": "code",
   "execution_count": 66,
   "id": "cc562001",
   "metadata": {},
   "outputs": [],
   "source": [
    "rating_chart_jp = games.query('platform in @filter_list').groupby('rating')['jp_sales'].sum().sort_values(ascending = False).to_frame().head()"
   ]
  },
  {
   "cell_type": "code",
   "execution_count": 67,
   "id": "d05eae23",
   "metadata": {},
   "outputs": [
    {
     "data": {
      "image/png": "[encoded data removed]",
      "text/plain": [
       "<Figure size 720x504 with 1 Axes>"
      ]
     },
     "metadata": {},
     "output_type": "display_data"
    }
   ],
   "source": [
    "rating_chart_jp.plot( kind='bar', rot=0,grid = True)\n",
    "ax = plt.axes()\n",
    "plt.title('Распределение продаж по возрастному рейтингу, Актуальные платформы, Япония, 2012 - 2015 год')\n",
    "plt.ylabel('Количество проданных копий, млн')\n",
    "plt.xlabel('Возрастной рейтинг')\n",
    "\n",
    "plt.show()"
   ]
  },
  {
   "cell_type": "markdown",
   "id": "d2ccfd5b",
   "metadata": {},
   "source": [
    "Количество игр с неопределенным рейтингом намного больше, чем в американском и европейском регионах.  \n",
    "Это может говорить о том, что довольно большому количеству игр, выпускаемых в японии, возрастной рейтинг не присваевается, либо существует отдельная система рейтинга для игр, выпускаемых только для японского рынка.\n",
    "\n",
    "Среди игр, для которых рейтинг определен, самыми популярными в Японии являются игры без возрастных ограничений. Большинство игр для Nintendo такими и являются."
   ]
  },
  {
   "cell_type": "markdown",
   "id": "5ad767a4",
   "metadata": {},
   "source": [
    "### Итоги\n"
   ]
  },
  {
   "cell_type": "markdown",
   "id": "ec883712",
   "metadata": {},
   "source": [
    "После анализа продаж для Северной Америки, Европы и Японии были сделаны следующие выводы:\n",
    " - Предпочтения Американцев и Европейцев практически идентичны: самыми популярными платформами являются PS4 и Xbox, и игры жанра Action и Shooter c рейтингами \"Для взрослых\". Главным отличием является намного меньшая популярность американской консоли Xbox в европейском регионе. \n",
    " - В Японском регионе, несмотря на общемировое падение продаж игр для мобильных консолей, самой популярной консолью остается 3DS и соответсвующие ей игры жанра RPG с отсутствием возрастных ограничений. Так же было обнаружено, что для многих игр, выпускаемых в японии, возрастной рейтинг ESRB не присваевается."
   ]
  },
  {
   "cell_type": "markdown",
   "id": "80743b82",
   "metadata": {},
   "source": [
    "## Проверка гипотез"
   ]
  },
  {
   "cell_type": "markdown",
   "id": "c9e42f6e",
   "metadata": {},
   "source": [
    " Проверим следующие гипотезы:\n",
    " - Средние пользовательские рейтинги платформ Xbox One и PC одинаковые\n",
    " - Средние пользовательские рейтинги жанров Action (англ. «действие», экшен-игры) и Sports (англ. «спортивные соревнования») разные."
   ]
  },
  {
   "cell_type": "markdown",
   "id": "16a233da",
   "metadata": {},
   "source": [
    "### Первая гипотеза"
   ]
  },
  {
   "cell_type": "markdown",
   "id": "8f750cbb",
   "metadata": {},
   "source": [
    "Сравим средние пользовательские рейтинги платформ Xbox One и PC"
   ]
  },
  {
   "cell_type": "code",
   "execution_count": 68,
   "id": "4b00d41c",
   "metadata": {},
   "outputs": [
    {
     "data": {
      "text/html": [
       "<div>\n",
       "<style scoped>\n",
       "    .dataframe tbody tr th:only-of-type {\n",
       "        vertical-align: middle;\n",
       "    }\n",
       "\n",
       "    .dataframe tbody tr th {\n",
       "        vertical-align: top;\n",
       "    }\n",
       "\n",
       "    .dataframe thead th {\n",
       "        text-align: right;\n",
       "    }\n",
       "</style>\n",
       "<table border=\"1\" class=\"dataframe\">\n",
       "  <thead>\n",
       "    <tr style=\"text-align: right;\">\n",
       "      <th></th>\n",
       "      <th>user_score</th>\n",
       "    </tr>\n",
       "    <tr>\n",
       "      <th>platform</th>\n",
       "      <th></th>\n",
       "    </tr>\n",
       "  </thead>\n",
       "  <tbody>\n",
       "    <tr>\n",
       "      <td>PC</td>\n",
       "      <td>6.465217</td>\n",
       "    </tr>\n",
       "    <tr>\n",
       "      <td>XOne</td>\n",
       "      <td>6.477586</td>\n",
       "    </tr>\n",
       "  </tbody>\n",
       "</table>\n",
       "</div>"
      ],
      "text/plain": [
       "          user_score\n",
       "platform            \n",
       "PC          6.465217\n",
       "XOne        6.477586"
      ]
     },
     "execution_count": 68,
     "metadata": {},
     "output_type": "execute_result"
    }
   ],
   "source": [
    "xbox_pc_score = games.query('user_score > -1 and platform in ([\"XOne\",\"PC\"])').groupby('platform')['user_score'].mean().to_frame()\n",
    "xbox_pc_score"
   ]
  },
  {
   "cell_type": "markdown",
   "id": "32da23de",
   "metadata": {},
   "source": [
    "Сформируем нулевую и альтернативную гипотезу:\n",
    "\n",
    "Нулевая гипотеза - cредние пользовательские рейтинги платформ Xbox One и PC одинаковые\n",
    "Альтернативная гипотеза - cредние пользовательские рейтинги платформ Xbox One и PC отличаются"
   ]
  },
  {
   "cell_type": "markdown",
   "id": "50df2f08",
   "metadata": {},
   "source": [
    "Попробуем отвергнуть нулевую гипотезу:\n",
    " - Создадим два массива с данными о выручке рейтинге двух платформ\n",
    " - С помощью  метода st.ttest_ind сравним уровень значимости стастистики разности средних этих массивов.  \n",
    " - Сравним полученный уровень значимости с допустимым - 0.05."
   ]
  },
  {
   "cell_type": "code",
   "execution_count": 69,
   "id": "084ab451",
   "metadata": {},
   "outputs": [
    {
     "name": "stdout",
     "output_type": "stream",
     "text": [
      "p-значение: 0.9463196313131612\n",
      "Не получилось отвергнуть нулевую гипотезу\n"
     ]
    }
   ],
   "source": [
    "array_xbox = games.query('user_score > -1 and platform == \"XOne\"')['user_score'].tolist()\n",
    "array_pc = games.query('user_score > -1 and platform == \"PC\"')['user_score'].tolist()\n",
    "\n",
    "alpha = 0.05\n",
    "\n",
    "results = st.ttest_ind(array_xbox, array_pc)\n",
    "\n",
    "print('p-значение:', results.pvalue)\n",
    "\n",
    "if results.pvalue < alpha:\n",
    "    print('Отвергаем нулевую гипотезу')\n",
    "else:\n",
    "    print('Не получилось отвергнуть нулевую гипотезу') "
   ]
  },
  {
   "cell_type": "markdown",
   "id": "03dde5c4",
   "metadata": {},
   "source": [
    "Нулевую гипотезу отвергнуть не получилось - следовательно рейтинги для Xbox и PC скорее всего одинаковы."
   ]
  },
  {
   "cell_type": "markdown",
   "id": "2c8cf2ce",
   "metadata": {},
   "source": [
    "### Вторая гипотеза"
   ]
  },
  {
   "cell_type": "markdown",
   "id": "41c5c2bf",
   "metadata": {},
   "source": [
    "Сравним средние пользовательские рейтинги жанров Action и Sports"
   ]
  },
  {
   "cell_type": "code",
   "execution_count": 70,
   "id": "992ef878",
   "metadata": {},
   "outputs": [
    {
     "data": {
      "text/html": [
       "<div>\n",
       "<style scoped>\n",
       "    .dataframe tbody tr th:only-of-type {\n",
       "        vertical-align: middle;\n",
       "    }\n",
       "\n",
       "    .dataframe tbody tr th {\n",
       "        vertical-align: top;\n",
       "    }\n",
       "\n",
       "    .dataframe thead th {\n",
       "        text-align: right;\n",
       "    }\n",
       "</style>\n",
       "<table border=\"1\" class=\"dataframe\">\n",
       "  <thead>\n",
       "    <tr style=\"text-align: right;\">\n",
       "      <th></th>\n",
       "      <th>user_score</th>\n",
       "    </tr>\n",
       "    <tr>\n",
       "      <th>genre</th>\n",
       "      <th></th>\n",
       "    </tr>\n",
       "  </thead>\n",
       "  <tbody>\n",
       "    <tr>\n",
       "      <td>Action</td>\n",
       "      <td>6.861187</td>\n",
       "    </tr>\n",
       "    <tr>\n",
       "      <td>Sports</td>\n",
       "      <td>5.461392</td>\n",
       "    </tr>\n",
       "  </tbody>\n",
       "</table>\n",
       "</div>"
      ],
      "text/plain": [
       "        user_score\n",
       "genre             \n",
       "Action    6.861187\n",
       "Sports    5.461392"
      ]
     },
     "execution_count": 70,
     "metadata": {},
     "output_type": "execute_result"
    }
   ],
   "source": [
    "action_sports_score = games.query('user_score > -1 and genre in ([\"Action\",\"Sports\"])').groupby('genre')['user_score'].mean().to_frame()\n",
    "action_sports_score"
   ]
  },
  {
   "cell_type": "markdown",
   "id": "c055b711",
   "metadata": {},
   "source": [
    "Сформируем нулевую и альтернативную гипотезу:\n",
    "\n",
    "Нулевая гипотеза - cредние пользовательские рейтинги жанров Action и Sports одинаковые  \n",
    "Альтернативная гипотеза - cредние пользовательские рейтинги жанров Action и Sports отличаются"
   ]
  },
  {
   "cell_type": "markdown",
   "id": "ee793683",
   "metadata": {},
   "source": [
    "Попробуем отвергнуть нулевую гипотезу:\n",
    " - Создадим два массива с данными о  рейтинге двух жанров\n",
    " - С помощью  метода st.ttest_ind сравним уровень значимости стастистики разности средних этих массивов.  \n",
    " - Сравним полученный уровень значимости с допустимым - 0.05."
   ]
  },
  {
   "cell_type": "code",
   "execution_count": 71,
   "id": "f4e49e7c",
   "metadata": {},
   "outputs": [
    {
     "name": "stdout",
     "output_type": "stream",
     "text": [
      "p-значение: 1.3744684534520844e-23\n",
      "Отвергаем нулевую гипотезу\n"
     ]
    }
   ],
   "source": [
    "array_action = games.query('user_score > -1 and genre == \"Action\"')['user_score'].tolist()\n",
    "array_sports = games.query('user_score > -1 and genre == \"Sports\"')['user_score'].tolist()\n",
    "\n",
    "alpha = 0.01\n",
    "\n",
    "results = st.ttest_ind(array_action, array_sports)\n",
    "\n",
    "print('p-значение:', results.pvalue)\n",
    "\n",
    "if results.pvalue < alpha:\n",
    "    print('Отвергаем нулевую гипотезу')\n",
    "else:\n",
    "    print('Не получилось отвергнуть нулевую гипотезу') "
   ]
  },
  {
   "cell_type": "markdown",
   "id": "e3126088",
   "metadata": {},
   "source": [
    "Нулевую гипотезу получилось отвергнуть - следовательно рейтинги для Action и Sports скорее всего разные. Средние рейтинги для жанра Action в выборке выше - то же самое можем утверждать и для всей совокупности."
   ]
  },
  {
   "cell_type": "markdown",
   "id": "2ea3fea2",
   "metadata": {},
   "source": [
    "## Выводы "
   ]
  },
  {
   "cell_type": "markdown",
   "id": "49885cac",
   "metadata": {},
   "source": [
    "В ходе исследования были сделаны следующие выводы:\n",
    "\n",
    "Были изучены показатели продаж игр:\n",
    "- Начиная с 2009 года глобальные продажи игр для представленных платформ упали из-за развития смартфонов как игровых платформ. Большие это сказалось на мобильных платформах, таких как 3DS  и PSV.\n",
    "- Определен средний жизненный цикл платформы - 10 лет \n",
    "- Определен предпологаемый текущий актуальный период - с 2013 по 2023\n",
    "- Определены актуальные платформы  - XOne, PS4, WiiU, 3DS, PSV, а так же персональные компьютеры.\n",
    "- PS4 и XOne являются самыми перспективными платформами, а 3DS, несмотря на общий кризис мобильных платформ, все еще остается популярной, имея  в своей библиотеке игры с более чем 12 миллионами продаж.\n",
    "- WiiU и PSV не смогли повторить успехи предыдущего поколения этих консолей и имеют самые малые продажи среди актуальных платформ.\n",
    "- Для персональных компьютеров как игровой платформы показатели традиционно остаются низкими по сравнению с игровыми консолями.\n",
    "\n",
    "Изучено влияние отзывов критиков и пользователей на продажи:\n",
    "- Практически для всех актуальных платформ обнаружена слабая прямая зависимость между оценками критиков и продажами - довольно часто игры с хорошими оценками критиков имеют и большие продажи.\n",
    "- Слабая прямая зависимость между оценками пользователей и продажами была обнаружена только у консолей Nindendo. Для остальных консолей мнение пользователей с уровнем продаж практически не коррелирует. Исключение составили персональные компьютеры, для них эта зависимость небольшая, но отрицательная - играм с большими продажами для этой платформы пользователи иногда ставят плохие оценки.\n",
    "\n",
    "Изучены показатели успешности для всех жанров:\n",
    "  - Самыми прибыльными оказались игры жанров Shooter, Platform и Simulation.\n",
    "  - У игр жанров Strategy, Puzzle и Adventure отношение продаж к количеству релизов оказалось самым малым.\n",
    "\n",
    "Были составлены портреты пользователей из Северной Америки, Европы и Японии:\n",
    "* Предпочтения Американцев и Европейцев практически идентичны: самыми популярными платформами являются PS4 и Xbox, и игры жанра Action и Shooter c рейтингами \"Для взрослых\". \n",
    "* Главным отличием европейского региона от американского является намного меньшая популярность американской консоли Xbox.\n",
    "* В Японском регионе, несмотря на общемировое падение продаж игр для мобильных консолей, самой популярной консолью остается 3DS и соответсвующие ей игры жанра RPG с отсутствием возрастных ограничений. Так же было обнаружено, что многим играм, выпускаемым для японского рынка, рейтинг ESRB не присваевается.\n",
    "\n",
    "Были проверены гипотезы и сделаны следующие выводы:\n",
    "\n",
    "- Средние пользовательские рейтинги платформ Xbox One и PC  оказались одинаковыми.\n",
    "- Средние рейтинги игр жанра Action оказались выше, чем у игр жанра Sports.\n",
    "\n",
    "Рекомендации для бизнеса:\n",
    " - В 2017 году следует учитывать PS4, как самой перспективную платформу на данный момент. Так-же, при работе с американским рынком следует выделить XOne, а с японским - 3DS.\n",
    " - На Американском и Европейском рынках следует ожидать лучших продаж для игр жанров Action и Shooter, рассчитанных на взрослую аудиторию, а на японском для игр жанра RPG.\n",
    " - Следует учитывать мнение критиков - игры с хорошими оценками часто показывают хорошие продажи. Мнение пользователей можно учитывать только при работе с играми для консолей Nintendo.\n",
    "\n",
    "    "
   ]
  },
  {
   "cell_type": "code",
   "execution_count": null,
   "id": "076d5104",
   "metadata": {},
   "outputs": [],
   "source": []
  }
 ],
 "metadata": {
  "ExecuteTimeLog": [
   {
    "duration": 3143,
    "start_time": "2021-07-13T16:02:57.727Z"
   },
   {
    "duration": -138,
    "start_time": "2021-07-13T16:03:01.012Z"
   },
   {
    "duration": -143,
    "start_time": "2021-07-13T16:03:01.018Z"
   },
   {
    "duration": -148,
    "start_time": "2021-07-13T16:03:01.024Z"
   },
   {
    "duration": -154,
    "start_time": "2021-07-13T16:03:01.030Z"
   },
   {
    "duration": -159,
    "start_time": "2021-07-13T16:03:01.036Z"
   },
   {
    "duration": -163,
    "start_time": "2021-07-13T16:03:01.041Z"
   },
   {
    "duration": -230,
    "start_time": "2021-07-13T16:03:01.109Z"
   },
   {
    "duration": -237,
    "start_time": "2021-07-13T16:03:01.117Z"
   },
   {
    "duration": -243,
    "start_time": "2021-07-13T16:03:01.124Z"
   },
   {
    "duration": -250,
    "start_time": "2021-07-13T16:03:01.132Z"
   },
   {
    "duration": -266,
    "start_time": "2021-07-13T16:03:01.149Z"
   },
   {
    "duration": -271,
    "start_time": "2021-07-13T16:03:01.155Z"
   },
   {
    "duration": -275,
    "start_time": "2021-07-13T16:03:01.161Z"
   },
   {
    "duration": -280,
    "start_time": "2021-07-13T16:03:01.167Z"
   },
   {
    "duration": -285,
    "start_time": "2021-07-13T16:03:01.173Z"
   },
   {
    "duration": -289,
    "start_time": "2021-07-13T16:03:01.179Z"
   },
   {
    "duration": -294,
    "start_time": "2021-07-13T16:03:01.184Z"
   },
   {
    "duration": -297,
    "start_time": "2021-07-13T16:03:01.189Z"
   },
   {
    "duration": -302,
    "start_time": "2021-07-13T16:03:01.195Z"
   },
   {
    "duration": -360,
    "start_time": "2021-07-13T16:03:01.254Z"
   },
   {
    "duration": -364,
    "start_time": "2021-07-13T16:03:01.260Z"
   },
   {
    "duration": -368,
    "start_time": "2021-07-13T16:03:01.265Z"
   },
   {
    "duration": -372,
    "start_time": "2021-07-13T16:03:01.271Z"
   },
   {
    "duration": -380,
    "start_time": "2021-07-13T16:03:01.280Z"
   },
   {
    "duration": -385,
    "start_time": "2021-07-13T16:03:01.286Z"
   },
   {
    "duration": -389,
    "start_time": "2021-07-13T16:03:01.291Z"
   },
   {
    "duration": -395,
    "start_time": "2021-07-13T16:03:01.298Z"
   },
   {
    "duration": -400,
    "start_time": "2021-07-13T16:03:01.304Z"
   },
   {
    "duration": -404,
    "start_time": "2021-07-13T16:03:01.309Z"
   },
   {
    "duration": -408,
    "start_time": "2021-07-13T16:03:01.314Z"
   },
   {
    "duration": -413,
    "start_time": "2021-07-13T16:03:01.320Z"
   },
   {
    "duration": -417,
    "start_time": "2021-07-13T16:03:01.325Z"
   },
   {
    "duration": -422,
    "start_time": "2021-07-13T16:03:01.331Z"
   },
   {
    "duration": -427,
    "start_time": "2021-07-13T16:03:01.337Z"
   },
   {
    "duration": -432,
    "start_time": "2021-07-13T16:03:01.343Z"
   },
   {
    "duration": -436,
    "start_time": "2021-07-13T16:03:01.348Z"
   },
   {
    "duration": -440,
    "start_time": "2021-07-13T16:03:01.353Z"
   },
   {
    "duration": -444,
    "start_time": "2021-07-13T16:03:01.358Z"
   },
   {
    "duration": -448,
    "start_time": "2021-07-13T16:03:01.363Z"
   },
   {
    "duration": -452,
    "start_time": "2021-07-13T16:03:01.368Z"
   },
   {
    "duration": -457,
    "start_time": "2021-07-13T16:03:01.374Z"
   },
   {
    "duration": -462,
    "start_time": "2021-07-13T16:03:01.380Z"
   },
   {
    "duration": -466,
    "start_time": "2021-07-13T16:03:01.385Z"
   },
   {
    "duration": -471,
    "start_time": "2021-07-13T16:03:01.391Z"
   },
   {
    "duration": -475,
    "start_time": "2021-07-13T16:03:01.396Z"
   },
   {
    "duration": -479,
    "start_time": "2021-07-13T16:03:01.401Z"
   },
   {
    "duration": -483,
    "start_time": "2021-07-13T16:03:01.406Z"
   },
   {
    "duration": -444,
    "start_time": "2021-07-13T16:03:01.428Z"
   },
   {
    "duration": -450,
    "start_time": "2021-07-13T16:03:01.435Z"
   },
   {
    "duration": -453,
    "start_time": "2021-07-13T16:03:01.440Z"
   },
   {
    "duration": -459,
    "start_time": "2021-07-13T16:03:01.447Z"
   },
   {
    "duration": -463,
    "start_time": "2021-07-13T16:03:01.452Z"
   },
   {
    "duration": -469,
    "start_time": "2021-07-13T16:03:01.458Z"
   },
   {
    "duration": -473,
    "start_time": "2021-07-13T16:03:01.463Z"
   },
   {
    "duration": -476,
    "start_time": "2021-07-13T16:03:01.468Z"
   },
   {
    "duration": -480,
    "start_time": "2021-07-13T16:03:01.473Z"
   },
   {
    "duration": -484,
    "start_time": "2021-07-13T16:03:01.478Z"
   },
   {
    "duration": -488,
    "start_time": "2021-07-13T16:03:01.483Z"
   },
   {
    "duration": -493,
    "start_time": "2021-07-13T16:03:01.489Z"
   },
   {
    "duration": -496,
    "start_time": "2021-07-13T16:03:01.493Z"
   },
   {
    "duration": -501,
    "start_time": "2021-07-13T16:03:01.499Z"
   },
   {
    "duration": -505,
    "start_time": "2021-07-13T16:03:01.504Z"
   },
   {
    "duration": -510,
    "start_time": "2021-07-13T16:03:01.510Z"
   },
   {
    "duration": -514,
    "start_time": "2021-07-13T16:03:01.515Z"
   },
   {
    "duration": -518,
    "start_time": "2021-07-13T16:03:01.521Z"
   },
   {
    "duration": -522,
    "start_time": "2021-07-13T16:03:01.526Z"
   },
   {
    "duration": -528,
    "start_time": "2021-07-13T16:03:01.532Z"
   },
   {
    "duration": -532,
    "start_time": "2021-07-13T16:03:01.537Z"
   },
   {
    "duration": 51,
    "start_time": "2021-07-13T16:03:30.943Z"
   },
   {
    "duration": 48,
    "start_time": "2021-07-13T16:03:34.495Z"
   },
   {
    "duration": 14,
    "start_time": "2021-07-13T16:03:34.545Z"
   },
   {
    "duration": 10,
    "start_time": "2021-07-13T16:03:34.561Z"
   },
   {
    "duration": 4,
    "start_time": "2021-07-13T16:03:34.589Z"
   },
   {
    "duration": 10,
    "start_time": "2021-07-13T16:03:34.596Z"
   },
   {
    "duration": 8,
    "start_time": "2021-07-13T16:03:34.608Z"
   },
   {
    "duration": 9,
    "start_time": "2021-07-13T16:03:34.617Z"
   },
   {
    "duration": 11,
    "start_time": "2021-07-13T16:03:34.628Z"
   },
   {
    "duration": 3,
    "start_time": "2021-07-13T16:03:34.642Z"
   },
   {
    "duration": 9,
    "start_time": "2021-07-13T16:03:34.646Z"
   },
   {
    "duration": 8,
    "start_time": "2021-07-13T16:03:34.690Z"
   },
   {
    "duration": 9,
    "start_time": "2021-07-13T16:03:34.701Z"
   },
   {
    "duration": 12,
    "start_time": "2021-07-13T16:03:34.711Z"
   },
   {
    "duration": 13,
    "start_time": "2021-07-13T16:03:34.725Z"
   },
   {
    "duration": 10,
    "start_time": "2021-07-13T16:03:34.740Z"
   },
   {
    "duration": 10,
    "start_time": "2021-07-13T16:03:34.752Z"
   },
   {
    "duration": 32,
    "start_time": "2021-07-13T16:03:34.764Z"
   },
   {
    "duration": 9,
    "start_time": "2021-07-13T16:03:34.798Z"
   },
   {
    "duration": 504,
    "start_time": "2021-07-13T16:03:34.808Z"
   },
   {
    "duration": 10,
    "start_time": "2021-07-13T16:03:35.314Z"
   },
   {
    "duration": 3,
    "start_time": "2021-07-13T16:03:35.326Z"
   },
   {
    "duration": 8,
    "start_time": "2021-07-13T16:03:35.330Z"
   },
   {
    "duration": 21,
    "start_time": "2021-07-13T16:03:35.340Z"
   },
   {
    "duration": 862,
    "start_time": "2021-07-13T16:03:35.363Z"
   },
   {
    "duration": 17,
    "start_time": "2021-07-13T16:03:36.227Z"
   },
   {
    "duration": 9,
    "start_time": "2021-07-13T16:03:36.246Z"
   },
   {
    "duration": 440,
    "start_time": "2021-07-13T16:03:36.258Z"
   },
   {
    "duration": 401,
    "start_time": "2021-07-13T16:03:36.701Z"
   },
   {
    "duration": 404,
    "start_time": "2021-07-13T16:03:37.103Z"
   },
   {
    "duration": 10,
    "start_time": "2021-07-13T16:03:37.509Z"
   },
   {
    "duration": 376,
    "start_time": "2021-07-13T16:03:37.520Z"
   },
   {
    "duration": 403,
    "start_time": "2021-07-13T16:03:37.898Z"
   },
   {
    "duration": 10,
    "start_time": "2021-07-13T16:03:38.303Z"
   },
   {
    "duration": 355,
    "start_time": "2021-07-13T16:03:38.315Z"
   },
   {
    "duration": 376,
    "start_time": "2021-07-13T16:03:38.672Z"
   },
   {
    "duration": 10,
    "start_time": "2021-07-13T16:03:39.050Z"
   },
   {
    "duration": 389,
    "start_time": "2021-07-13T16:03:39.062Z"
   },
   {
    "duration": 412,
    "start_time": "2021-07-13T16:03:39.452Z"
   },
   {
    "duration": 10,
    "start_time": "2021-07-13T16:03:39.867Z"
   },
   {
    "duration": 373,
    "start_time": "2021-07-13T16:03:39.884Z"
   },
   {
    "duration": 382,
    "start_time": "2021-07-13T16:03:40.259Z"
   },
   {
    "duration": 10,
    "start_time": "2021-07-13T16:03:40.643Z"
   },
   {
    "duration": 465,
    "start_time": "2021-07-13T16:03:40.654Z"
   },
   {
    "duration": 338,
    "start_time": "2021-07-13T16:03:41.121Z"
   },
   {
    "duration": 9,
    "start_time": "2021-07-13T16:03:41.460Z"
   },
   {
    "duration": 404,
    "start_time": "2021-07-13T16:03:41.471Z"
   },
   {
    "duration": 383,
    "start_time": "2021-07-13T16:03:41.877Z"
   },
   {
    "duration": 8,
    "start_time": "2021-07-13T16:03:42.262Z"
   },
   {
    "duration": 248,
    "start_time": "2021-07-13T16:03:42.271Z"
   },
   {
    "duration": 8,
    "start_time": "2021-07-13T16:03:42.520Z"
   },
   {
    "duration": 264,
    "start_time": "2021-07-13T16:03:42.530Z"
   },
   {
    "duration": 10,
    "start_time": "2021-07-13T16:03:42.796Z"
   },
   {
    "duration": 236,
    "start_time": "2021-07-13T16:03:42.808Z"
   },
   {
    "duration": 8,
    "start_time": "2021-07-13T16:03:43.045Z"
   },
   {
    "duration": 245,
    "start_time": "2021-07-13T16:03:43.055Z"
   },
   {
    "duration": 9,
    "start_time": "2021-07-13T16:03:43.302Z"
   },
   {
    "duration": 241,
    "start_time": "2021-07-13T16:03:43.312Z"
   },
   {
    "duration": 8,
    "start_time": "2021-07-13T16:03:43.554Z"
   },
   {
    "duration": 241,
    "start_time": "2021-07-13T16:03:43.564Z"
   },
   {
    "duration": 8,
    "start_time": "2021-07-13T16:03:43.806Z"
   },
   {
    "duration": 229,
    "start_time": "2021-07-13T16:03:43.815Z"
   },
   {
    "duration": 7,
    "start_time": "2021-07-13T16:03:44.046Z"
   },
   {
    "duration": 318,
    "start_time": "2021-07-13T16:03:44.055Z"
   },
   {
    "duration": 21,
    "start_time": "2021-07-13T16:03:44.375Z"
   },
   {
    "duration": 239,
    "start_time": "2021-07-13T16:03:44.399Z"
   },
   {
    "duration": 12,
    "start_time": "2021-07-13T16:03:44.640Z"
   },
   {
    "duration": 11,
    "start_time": "2021-07-13T16:03:44.654Z"
   },
   {
    "duration": 30,
    "start_time": "2021-07-13T16:03:44.667Z"
   },
   {
    "duration": 15,
    "start_time": "2021-07-13T16:03:44.700Z"
   },
   {
    "duration": 1557,
    "start_time": "2021-07-13T22:24:59.652Z"
   },
   {
    "duration": 26,
    "start_time": "2021-07-13T22:25:01.212Z"
   },
   {
    "duration": 51,
    "start_time": "2021-07-13T22:25:01.242Z"
   },
   {
    "duration": 33,
    "start_time": "2021-07-13T22:25:01.297Z"
   },
   {
    "duration": 53,
    "start_time": "2021-07-13T22:25:01.333Z"
   },
   {
    "duration": 39,
    "start_time": "2021-07-13T22:25:01.389Z"
   },
   {
    "duration": 33,
    "start_time": "2021-07-13T22:25:01.430Z"
   },
   {
    "duration": 29,
    "start_time": "2021-07-13T22:25:01.469Z"
   },
   {
    "duration": 17,
    "start_time": "2021-07-13T22:25:01.501Z"
   },
   {
    "duration": 36,
    "start_time": "2021-07-13T22:25:01.520Z"
   },
   {
    "duration": 22,
    "start_time": "2021-07-13T22:25:01.559Z"
   },
   {
    "duration": 19,
    "start_time": "2021-07-13T22:25:01.583Z"
   },
   {
    "duration": 33,
    "start_time": "2021-07-13T22:25:01.604Z"
   },
   {
    "duration": 39,
    "start_time": "2021-07-13T22:25:01.640Z"
   },
   {
    "duration": 33,
    "start_time": "2021-07-13T22:25:01.681Z"
   },
   {
    "duration": 31,
    "start_time": "2021-07-13T22:25:01.716Z"
   },
   {
    "duration": 15,
    "start_time": "2021-07-13T22:25:01.750Z"
   },
   {
    "duration": 29,
    "start_time": "2021-07-13T22:25:01.768Z"
   },
   {
    "duration": 820,
    "start_time": "2021-07-13T22:25:01.800Z"
   },
   {
    "duration": 14,
    "start_time": "2021-07-13T22:25:02.623Z"
   },
   {
    "duration": 22,
    "start_time": "2021-07-13T22:25:02.639Z"
   },
   {
    "duration": 19,
    "start_time": "2021-07-13T22:25:02.665Z"
   },
   {
    "duration": 28,
    "start_time": "2021-07-13T22:25:02.690Z"
   },
   {
    "duration": 1376,
    "start_time": "2021-07-13T22:25:02.722Z"
   },
   {
    "duration": 30,
    "start_time": "2021-07-13T22:25:04.101Z"
   },
   {
    "duration": 34,
    "start_time": "2021-07-13T22:25:04.133Z"
   },
   {
    "duration": 645,
    "start_time": "2021-07-13T22:25:04.170Z"
   },
   {
    "duration": 653,
    "start_time": "2021-07-13T22:25:04.818Z"
   },
   {
    "duration": 758,
    "start_time": "2021-07-13T22:25:05.474Z"
   },
   {
    "duration": 24,
    "start_time": "2021-07-13T22:25:06.234Z"
   },
   {
    "duration": 534,
    "start_time": "2021-07-13T22:25:06.261Z"
   },
   {
    "duration": 524,
    "start_time": "2021-07-13T22:25:06.797Z"
   },
   {
    "duration": 15,
    "start_time": "2021-07-13T22:25:07.324Z"
   },
   {
    "duration": 509,
    "start_time": "2021-07-13T22:25:07.357Z"
   },
   {
    "duration": 485,
    "start_time": "2021-07-13T22:25:07.869Z"
   },
   {
    "duration": 17,
    "start_time": "2021-07-13T22:25:08.357Z"
   },
   {
    "duration": 515,
    "start_time": "2021-07-13T22:25:08.377Z"
   },
   {
    "duration": 514,
    "start_time": "2021-07-13T22:25:08.894Z"
   },
   {
    "duration": 15,
    "start_time": "2021-07-13T22:25:09.410Z"
   },
   {
    "duration": 540,
    "start_time": "2021-07-13T22:25:09.427Z"
   },
   {
    "duration": 508,
    "start_time": "2021-07-13T22:25:09.971Z"
   },
   {
    "duration": 14,
    "start_time": "2021-07-13T22:25:10.482Z"
   },
   {
    "duration": 500,
    "start_time": "2021-07-13T22:25:10.499Z"
   },
   {
    "duration": 586,
    "start_time": "2021-07-13T22:25:11.002Z"
   },
   {
    "duration": 15,
    "start_time": "2021-07-13T22:25:11.591Z"
   },
   {
    "duration": 619,
    "start_time": "2021-07-13T22:25:11.608Z"
   },
   {
    "duration": 554,
    "start_time": "2021-07-13T22:25:12.230Z"
   },
   {
    "duration": 12,
    "start_time": "2021-07-13T22:25:12.786Z"
   },
   {
    "duration": 390,
    "start_time": "2021-07-13T22:25:12.801Z"
   },
   {
    "duration": 11,
    "start_time": "2021-07-13T22:25:13.194Z"
   },
   {
    "duration": 398,
    "start_time": "2021-07-13T22:25:13.207Z"
   },
   {
    "duration": 13,
    "start_time": "2021-07-13T22:25:13.608Z"
   },
   {
    "duration": 485,
    "start_time": "2021-07-13T22:25:13.623Z"
   },
   {
    "duration": 12,
    "start_time": "2021-07-13T22:25:14.112Z"
   },
   {
    "duration": 389,
    "start_time": "2021-07-13T22:25:14.126Z"
   },
   {
    "duration": 11,
    "start_time": "2021-07-13T22:25:14.518Z"
   },
   {
    "duration": 385,
    "start_time": "2021-07-13T22:25:14.531Z"
   },
   {
    "duration": 12,
    "start_time": "2021-07-13T22:25:14.919Z"
   },
   {
    "duration": 385,
    "start_time": "2021-07-13T22:25:14.934Z"
   },
   {
    "duration": 12,
    "start_time": "2021-07-13T22:25:15.322Z"
   },
   {
    "duration": 396,
    "start_time": "2021-07-13T22:25:15.336Z"
   },
   {
    "duration": 21,
    "start_time": "2021-07-13T22:25:15.734Z"
   },
   {
    "duration": 376,
    "start_time": "2021-07-13T22:25:15.759Z"
   },
   {
    "duration": 23,
    "start_time": "2021-07-13T22:25:16.137Z"
   },
   {
    "duration": 372,
    "start_time": "2021-07-13T22:25:16.164Z"
   },
   {
    "duration": 28,
    "start_time": "2021-07-13T22:25:16.538Z"
   },
   {
    "duration": 16,
    "start_time": "2021-07-13T22:25:16.569Z"
   },
   {
    "duration": 17,
    "start_time": "2021-07-13T22:25:16.592Z"
   },
   {
    "duration": 57,
    "start_time": "2021-07-13T22:25:16.611Z"
   },
   {
    "duration": 109,
    "start_time": "2021-07-14T11:26:17.141Z"
   },
   {
    "duration": 1429,
    "start_time": "2021-07-14T14:32:12.572Z"
   },
   {
    "duration": 23,
    "start_time": "2021-07-14T14:32:14.004Z"
   },
   {
    "duration": 14,
    "start_time": "2021-07-14T14:32:14.029Z"
   },
   {
    "duration": 10,
    "start_time": "2021-07-14T14:32:14.046Z"
   },
   {
    "duration": 19,
    "start_time": "2021-07-14T14:32:14.059Z"
   },
   {
    "duration": 11,
    "start_time": "2021-07-14T14:32:14.080Z"
   },
   {
    "duration": 6,
    "start_time": "2021-07-14T14:32:14.094Z"
   },
   {
    "duration": 10,
    "start_time": "2021-07-14T14:32:14.104Z"
   },
   {
    "duration": 40,
    "start_time": "2021-07-14T14:32:14.118Z"
   },
   {
    "duration": 17,
    "start_time": "2021-07-14T14:32:14.161Z"
   },
   {
    "duration": 6,
    "start_time": "2021-07-14T14:32:14.180Z"
   },
   {
    "duration": 12,
    "start_time": "2021-07-14T14:32:14.189Z"
   },
   {
    "duration": 8,
    "start_time": "2021-07-14T14:32:14.203Z"
   },
   {
    "duration": 16,
    "start_time": "2021-07-14T14:32:14.213Z"
   },
   {
    "duration": 15,
    "start_time": "2021-07-14T14:32:14.257Z"
   },
   {
    "duration": 18,
    "start_time": "2021-07-14T14:32:14.275Z"
   },
   {
    "duration": 6,
    "start_time": "2021-07-14T14:32:14.295Z"
   },
   {
    "duration": 7,
    "start_time": "2021-07-14T14:32:14.304Z"
   },
   {
    "duration": 798,
    "start_time": "2021-07-14T14:32:14.314Z"
   },
   {
    "duration": 14,
    "start_time": "2021-07-14T14:32:15.115Z"
   },
   {
    "duration": 5,
    "start_time": "2021-07-14T14:32:15.131Z"
   },
   {
    "duration": 14,
    "start_time": "2021-07-14T14:32:15.157Z"
   },
   {
    "duration": 27,
    "start_time": "2021-07-14T14:32:15.177Z"
   },
   {
    "duration": 1349,
    "start_time": "2021-07-14T14:32:15.208Z"
   },
   {
    "duration": 30,
    "start_time": "2021-07-14T14:32:16.560Z"
   },
   {
    "duration": 12,
    "start_time": "2021-07-14T14:32:16.593Z"
   },
   {
    "duration": 584,
    "start_time": "2021-07-14T14:32:16.608Z"
   },
   {
    "duration": 705,
    "start_time": "2021-07-14T14:32:17.194Z"
   },
   {
    "duration": 754,
    "start_time": "2021-07-14T14:32:17.902Z"
   },
   {
    "duration": 20,
    "start_time": "2021-07-14T14:32:18.660Z"
   },
   {
    "duration": 819,
    "start_time": "2021-07-14T14:32:18.683Z"
   },
   {
    "duration": 478,
    "start_time": "2021-07-14T14:32:19.504Z"
   },
   {
    "duration": 14,
    "start_time": "2021-07-14T14:32:19.985Z"
   },
   {
    "duration": 477,
    "start_time": "2021-07-14T14:32:20.002Z"
   },
   {
    "duration": 475,
    "start_time": "2021-07-14T14:32:20.481Z"
   },
   {
    "duration": 17,
    "start_time": "2021-07-14T14:32:20.959Z"
   },
   {
    "duration": 464,
    "start_time": "2021-07-14T14:32:20.979Z"
   },
   {
    "duration": 481,
    "start_time": "2021-07-14T14:32:21.445Z"
   },
   {
    "duration": 14,
    "start_time": "2021-07-14T14:32:21.929Z"
   },
   {
    "duration": 475,
    "start_time": "2021-07-14T14:32:21.956Z"
   },
   {
    "duration": 505,
    "start_time": "2021-07-14T14:32:22.434Z"
   },
   {
    "duration": 24,
    "start_time": "2021-07-14T14:32:22.941Z"
   },
   {
    "duration": 463,
    "start_time": "2021-07-14T14:32:22.967Z"
   },
   {
    "duration": 496,
    "start_time": "2021-07-14T14:32:23.432Z"
   },
   {
    "duration": 28,
    "start_time": "2021-07-14T14:32:23.930Z"
   },
   {
    "duration": 568,
    "start_time": "2021-07-14T14:32:23.960Z"
   },
   {
    "duration": 507,
    "start_time": "2021-07-14T14:32:24.531Z"
   },
   {
    "duration": 19,
    "start_time": "2021-07-14T14:32:25.040Z"
   },
   {
    "duration": 343,
    "start_time": "2021-07-14T14:32:25.061Z"
   },
   {
    "duration": 14,
    "start_time": "2021-07-14T14:32:25.408Z"
   },
   {
    "duration": 436,
    "start_time": "2021-07-14T14:32:25.424Z"
   },
   {
    "duration": 18,
    "start_time": "2021-07-14T14:32:25.863Z"
   },
   {
    "duration": 380,
    "start_time": "2021-07-14T14:32:25.885Z"
   },
   {
    "duration": 11,
    "start_time": "2021-07-14T14:32:26.267Z"
   },
   {
    "duration": 362,
    "start_time": "2021-07-14T14:32:26.281Z"
   },
   {
    "duration": 17,
    "start_time": "2021-07-14T14:32:26.645Z"
   },
   {
    "duration": 349,
    "start_time": "2021-07-14T14:32:26.664Z"
   },
   {
    "duration": 16,
    "start_time": "2021-07-14T14:32:27.016Z"
   },
   {
    "duration": 347,
    "start_time": "2021-07-14T14:32:27.035Z"
   },
   {
    "duration": 14,
    "start_time": "2021-07-14T14:32:27.385Z"
   },
   {
    "duration": 367,
    "start_time": "2021-07-14T14:32:27.402Z"
   },
   {
    "duration": 12,
    "start_time": "2021-07-14T14:32:27.773Z"
   },
   {
    "duration": 344,
    "start_time": "2021-07-14T14:32:27.788Z"
   },
   {
    "duration": 24,
    "start_time": "2021-07-14T14:32:28.135Z"
   },
   {
    "duration": 341,
    "start_time": "2021-07-14T14:32:28.161Z"
   },
   {
    "duration": 16,
    "start_time": "2021-07-14T14:32:28.504Z"
   },
   {
    "duration": 35,
    "start_time": "2021-07-14T14:32:28.522Z"
   },
   {
    "duration": 16,
    "start_time": "2021-07-14T14:32:28.564Z"
   },
   {
    "duration": 15,
    "start_time": "2021-07-14T14:32:28.582Z"
   },
   {
    "duration": 103,
    "start_time": "2021-07-14T14:33:07.146Z"
   },
   {
    "duration": 182,
    "start_time": "2021-07-14T14:35:49.943Z"
   },
   {
    "duration": 329,
    "start_time": "2021-07-14T14:36:03.884Z"
   },
   {
    "duration": 89,
    "start_time": "2021-07-14T14:43:59.287Z"
   },
   {
    "duration": 89,
    "start_time": "2021-07-14T14:46:11.122Z"
   },
   {
    "duration": 94,
    "start_time": "2021-07-14T14:47:10.047Z"
   },
   {
    "duration": 93,
    "start_time": "2021-07-14T15:13:04.703Z"
   },
   {
    "duration": 1467,
    "start_time": "2021-07-14T15:13:25.597Z"
   },
   {
    "duration": 24,
    "start_time": "2021-07-14T15:13:27.067Z"
   },
   {
    "duration": 71,
    "start_time": "2021-07-14T15:13:27.094Z"
   },
   {
    "duration": 4,
    "start_time": "2021-07-14T15:13:27.168Z"
   },
   {
    "duration": 13,
    "start_time": "2021-07-14T15:13:27.176Z"
   },
   {
    "duration": 15,
    "start_time": "2021-07-14T15:13:27.192Z"
   },
   {
    "duration": 8,
    "start_time": "2021-07-14T15:13:27.262Z"
   },
   {
    "duration": 9,
    "start_time": "2021-07-14T15:13:27.274Z"
   },
   {
    "duration": 6,
    "start_time": "2021-07-14T15:13:27.286Z"
   },
   {
    "duration": 10,
    "start_time": "2021-07-14T15:13:27.295Z"
   },
   {
    "duration": 59,
    "start_time": "2021-07-14T15:13:27.308Z"
   },
   {
    "duration": 8,
    "start_time": "2021-07-14T15:13:27.371Z"
   },
   {
    "duration": 12,
    "start_time": "2021-07-14T15:13:27.381Z"
   },
   {
    "duration": 66,
    "start_time": "2021-07-14T15:13:27.396Z"
   },
   {
    "duration": 12,
    "start_time": "2021-07-14T15:13:27.465Z"
   },
   {
    "duration": 13,
    "start_time": "2021-07-14T15:13:27.479Z"
   },
   {
    "duration": 7,
    "start_time": "2021-07-14T15:13:27.494Z"
   },
   {
    "duration": 68,
    "start_time": "2021-07-14T15:13:27.503Z"
   },
   {
    "duration": 916,
    "start_time": "2021-07-14T15:13:27.574Z"
   },
   {
    "duration": 15,
    "start_time": "2021-07-14T15:13:28.492Z"
   },
   {
    "duration": 5,
    "start_time": "2021-07-14T15:13:28.510Z"
   },
   {
    "duration": 44,
    "start_time": "2021-07-14T15:13:28.519Z"
   },
   {
    "duration": 26,
    "start_time": "2021-07-14T15:13:28.570Z"
   },
   {
    "duration": 1305,
    "start_time": "2021-07-14T15:13:28.600Z"
   },
   {
    "duration": 27,
    "start_time": "2021-07-14T15:13:29.907Z"
   },
   {
    "duration": 35,
    "start_time": "2021-07-14T15:13:29.936Z"
   },
   {
    "duration": 557,
    "start_time": "2021-07-14T15:13:29.975Z"
   },
   {
    "duration": 627,
    "start_time": "2021-07-14T15:13:30.535Z"
   },
   {
    "duration": 702,
    "start_time": "2021-07-14T15:13:31.165Z"
   },
   {
    "duration": 16,
    "start_time": "2021-07-14T15:13:31.870Z"
   },
   {
    "duration": 496,
    "start_time": "2021-07-14T15:13:31.888Z"
   },
   {
    "duration": 490,
    "start_time": "2021-07-14T15:13:32.387Z"
   },
   {
    "duration": 20,
    "start_time": "2021-07-14T15:13:32.884Z"
   },
   {
    "duration": 509,
    "start_time": "2021-07-14T15:13:32.907Z"
   },
   {
    "duration": 520,
    "start_time": "2021-07-14T15:13:33.419Z"
   },
   {
    "duration": 29,
    "start_time": "2021-07-14T15:13:33.941Z"
   },
   {
    "duration": 493,
    "start_time": "2021-07-14T15:13:33.972Z"
   },
   {
    "duration": 609,
    "start_time": "2021-07-14T15:13:34.468Z"
   },
   {
    "duration": 14,
    "start_time": "2021-07-14T15:13:35.079Z"
   },
   {
    "duration": 465,
    "start_time": "2021-07-14T15:13:35.096Z"
   },
   {
    "duration": 487,
    "start_time": "2021-07-14T15:13:35.568Z"
   },
   {
    "duration": 18,
    "start_time": "2021-07-14T15:13:36.060Z"
   },
   {
    "duration": 466,
    "start_time": "2021-07-14T15:13:36.081Z"
   },
   {
    "duration": 486,
    "start_time": "2021-07-14T15:13:36.558Z"
   },
   {
    "duration": 24,
    "start_time": "2021-07-14T15:13:37.046Z"
   },
   {
    "duration": 587,
    "start_time": "2021-07-14T15:13:37.073Z"
   },
   {
    "duration": 530,
    "start_time": "2021-07-14T15:13:37.662Z"
   },
   {
    "duration": 13,
    "start_time": "2021-07-14T15:13:38.195Z"
   },
   {
    "duration": 371,
    "start_time": "2021-07-14T15:13:38.211Z"
   },
   {
    "duration": 12,
    "start_time": "2021-07-14T15:13:38.585Z"
   },
   {
    "duration": 400,
    "start_time": "2021-07-14T15:13:38.600Z"
   },
   {
    "duration": 12,
    "start_time": "2021-07-14T15:13:39.003Z"
   },
   {
    "duration": 369,
    "start_time": "2021-07-14T15:13:39.017Z"
   },
   {
    "duration": 11,
    "start_time": "2021-07-14T15:13:39.389Z"
   },
   {
    "duration": 356,
    "start_time": "2021-07-14T15:13:39.402Z"
   },
   {
    "duration": 13,
    "start_time": "2021-07-14T15:13:39.764Z"
   },
   {
    "duration": 392,
    "start_time": "2021-07-14T15:13:39.779Z"
   },
   {
    "duration": 13,
    "start_time": "2021-07-14T15:13:40.173Z"
   },
   {
    "duration": 357,
    "start_time": "2021-07-14T15:13:40.188Z"
   },
   {
    "duration": 15,
    "start_time": "2021-07-14T15:13:40.547Z"
   },
   {
    "duration": 402,
    "start_time": "2021-07-14T15:13:40.568Z"
   },
   {
    "duration": 12,
    "start_time": "2021-07-14T15:13:40.974Z"
   },
   {
    "duration": 358,
    "start_time": "2021-07-14T15:13:40.989Z"
   },
   {
    "duration": 16,
    "start_time": "2021-07-14T15:13:41.355Z"
   },
   {
    "duration": 351,
    "start_time": "2021-07-14T15:13:41.377Z"
   },
   {
    "duration": 15,
    "start_time": "2021-07-14T15:13:41.731Z"
   },
   {
    "duration": 17,
    "start_time": "2021-07-14T15:13:41.756Z"
   },
   {
    "duration": 15,
    "start_time": "2021-07-14T15:13:41.780Z"
   },
   {
    "duration": 16,
    "start_time": "2021-07-14T15:13:41.798Z"
   },
   {
    "duration": 1493,
    "start_time": "2021-07-14T15:23:02.078Z"
   },
   {
    "duration": 22,
    "start_time": "2021-07-14T15:23:03.574Z"
   },
   {
    "duration": 25,
    "start_time": "2021-07-14T15:23:03.599Z"
   },
   {
    "duration": 4,
    "start_time": "2021-07-14T15:23:03.626Z"
   },
   {
    "duration": 21,
    "start_time": "2021-07-14T15:23:03.632Z"
   },
   {
    "duration": 28,
    "start_time": "2021-07-14T15:23:03.656Z"
   },
   {
    "duration": 6,
    "start_time": "2021-07-14T15:23:03.688Z"
   },
   {
    "duration": 15,
    "start_time": "2021-07-14T15:23:03.698Z"
   },
   {
    "duration": 6,
    "start_time": "2021-07-14T15:23:03.716Z"
   },
   {
    "duration": 9,
    "start_time": "2021-07-14T15:23:03.725Z"
   },
   {
    "duration": 13,
    "start_time": "2021-07-14T15:23:03.737Z"
   },
   {
    "duration": 14,
    "start_time": "2021-07-14T15:23:03.753Z"
   },
   {
    "duration": 11,
    "start_time": "2021-07-14T15:23:03.770Z"
   },
   {
    "duration": 21,
    "start_time": "2021-07-14T15:23:03.784Z"
   },
   {
    "duration": 16,
    "start_time": "2021-07-14T15:23:03.807Z"
   },
   {
    "duration": 19,
    "start_time": "2021-07-14T15:23:03.826Z"
   },
   {
    "duration": 8,
    "start_time": "2021-07-14T15:23:03.848Z"
   },
   {
    "duration": 10,
    "start_time": "2021-07-14T15:23:03.858Z"
   },
   {
    "duration": 804,
    "start_time": "2021-07-14T15:23:03.870Z"
   },
   {
    "duration": 13,
    "start_time": "2021-07-14T15:23:04.676Z"
   },
   {
    "duration": 6,
    "start_time": "2021-07-14T15:23:04.692Z"
   },
   {
    "duration": 21,
    "start_time": "2021-07-14T15:23:04.700Z"
   },
   {
    "duration": 35,
    "start_time": "2021-07-14T15:23:04.727Z"
   },
   {
    "duration": 1732,
    "start_time": "2021-07-14T15:23:04.766Z"
   },
   {
    "duration": 32,
    "start_time": "2021-07-14T15:23:06.500Z"
   },
   {
    "duration": 30,
    "start_time": "2021-07-14T15:23:06.535Z"
   },
   {
    "duration": 549,
    "start_time": "2021-07-14T15:23:06.568Z"
   },
   {
    "duration": 660,
    "start_time": "2021-07-14T15:23:07.119Z"
   },
   {
    "duration": 814,
    "start_time": "2021-07-14T15:23:07.782Z"
   },
   {
    "duration": 19,
    "start_time": "2021-07-14T15:23:08.599Z"
   },
   {
    "duration": 516,
    "start_time": "2021-07-14T15:23:08.621Z"
   },
   {
    "duration": 528,
    "start_time": "2021-07-14T15:23:09.140Z"
   },
   {
    "duration": 18,
    "start_time": "2021-07-14T15:23:09.671Z"
   },
   {
    "duration": 542,
    "start_time": "2021-07-14T15:23:09.691Z"
   },
   {
    "duration": 522,
    "start_time": "2021-07-14T15:23:10.235Z"
   },
   {
    "duration": 15,
    "start_time": "2021-07-14T15:23:10.760Z"
   },
   {
    "duration": 485,
    "start_time": "2021-07-14T15:23:10.778Z"
   },
   {
    "duration": 511,
    "start_time": "2021-07-14T15:23:11.265Z"
   },
   {
    "duration": 15,
    "start_time": "2021-07-14T15:23:11.778Z"
   },
   {
    "duration": 575,
    "start_time": "2021-07-14T15:23:11.795Z"
   },
   {
    "duration": 502,
    "start_time": "2021-07-14T15:23:12.372Z"
   },
   {
    "duration": 16,
    "start_time": "2021-07-14T15:23:12.876Z"
   },
   {
    "duration": 484,
    "start_time": "2021-07-14T15:23:12.895Z"
   },
   {
    "duration": 484,
    "start_time": "2021-07-14T15:23:13.381Z"
   },
   {
    "duration": 16,
    "start_time": "2021-07-14T15:23:13.867Z"
   },
   {
    "duration": 682,
    "start_time": "2021-07-14T15:23:13.886Z"
   },
   {
    "duration": 507,
    "start_time": "2021-07-14T15:23:14.571Z"
   },
   {
    "duration": 11,
    "start_time": "2021-07-14T15:23:15.080Z"
   },
   {
    "duration": 348,
    "start_time": "2021-07-14T15:23:15.093Z"
   },
   {
    "duration": 19,
    "start_time": "2021-07-14T15:23:15.444Z"
   },
   {
    "duration": 352,
    "start_time": "2021-07-14T15:23:15.465Z"
   },
   {
    "duration": 12,
    "start_time": "2021-07-14T15:23:15.819Z"
   },
   {
    "duration": 359,
    "start_time": "2021-07-14T15:23:15.833Z"
   },
   {
    "duration": 13,
    "start_time": "2021-07-14T15:23:16.195Z"
   },
   {
    "duration": 368,
    "start_time": "2021-07-14T15:23:16.211Z"
   },
   {
    "duration": 11,
    "start_time": "2021-07-14T15:23:16.581Z"
   },
   {
    "duration": 353,
    "start_time": "2021-07-14T15:23:16.594Z"
   },
   {
    "duration": 13,
    "start_time": "2021-07-14T15:23:16.955Z"
   },
   {
    "duration": 364,
    "start_time": "2021-07-14T15:23:16.970Z"
   },
   {
    "duration": 23,
    "start_time": "2021-07-14T15:23:17.337Z"
   },
   {
    "duration": 385,
    "start_time": "2021-07-14T15:23:17.363Z"
   },
   {
    "duration": 14,
    "start_time": "2021-07-14T15:23:17.755Z"
   },
   {
    "duration": 332,
    "start_time": "2021-07-14T15:23:17.771Z"
   },
   {
    "duration": 12,
    "start_time": "2021-07-14T15:23:18.106Z"
   },
   {
    "duration": 354,
    "start_time": "2021-07-14T15:23:18.120Z"
   },
   {
    "duration": 16,
    "start_time": "2021-07-14T15:23:18.477Z"
   },
   {
    "duration": 37,
    "start_time": "2021-07-14T15:23:18.495Z"
   },
   {
    "duration": 30,
    "start_time": "2021-07-14T15:23:18.539Z"
   },
   {
    "duration": 24,
    "start_time": "2021-07-14T15:23:18.572Z"
   },
   {
    "duration": 1400,
    "start_time": "2021-07-15T09:35:02.481Z"
   },
   {
    "duration": 25,
    "start_time": "2021-07-15T09:35:03.884Z"
   },
   {
    "duration": 21,
    "start_time": "2021-07-15T09:35:03.912Z"
   },
   {
    "duration": 19,
    "start_time": "2021-07-15T09:35:03.936Z"
   },
   {
    "duration": 9,
    "start_time": "2021-07-15T09:35:03.958Z"
   },
   {
    "duration": 12,
    "start_time": "2021-07-15T09:35:03.969Z"
   },
   {
    "duration": 9,
    "start_time": "2021-07-15T09:35:03.983Z"
   },
   {
    "duration": 15,
    "start_time": "2021-07-15T09:35:03.995Z"
   },
   {
    "duration": 5,
    "start_time": "2021-07-15T09:35:04.013Z"
   },
   {
    "duration": 7,
    "start_time": "2021-07-15T09:35:04.055Z"
   },
   {
    "duration": 8,
    "start_time": "2021-07-15T09:35:04.064Z"
   },
   {
    "duration": 11,
    "start_time": "2021-07-15T09:35:04.074Z"
   },
   {
    "duration": 13,
    "start_time": "2021-07-15T09:35:04.088Z"
   },
   {
    "duration": 13,
    "start_time": "2021-07-15T09:35:04.103Z"
   },
   {
    "duration": 41,
    "start_time": "2021-07-15T09:35:04.119Z"
   },
   {
    "duration": 13,
    "start_time": "2021-07-15T09:35:04.162Z"
   },
   {
    "duration": 7,
    "start_time": "2021-07-15T09:35:04.177Z"
   },
   {
    "duration": 11,
    "start_time": "2021-07-15T09:35:04.186Z"
   },
   {
    "duration": 823,
    "start_time": "2021-07-15T09:35:04.200Z"
   },
   {
    "duration": 28,
    "start_time": "2021-07-15T09:35:05.026Z"
   },
   {
    "duration": 5,
    "start_time": "2021-07-15T09:35:05.057Z"
   },
   {
    "duration": 14,
    "start_time": "2021-07-15T09:35:05.064Z"
   },
   {
    "duration": 31,
    "start_time": "2021-07-15T09:35:05.083Z"
   },
   {
    "duration": 1349,
    "start_time": "2021-07-15T09:35:05.117Z"
   },
   {
    "duration": 30,
    "start_time": "2021-07-15T09:35:06.468Z"
   },
   {
    "duration": 14,
    "start_time": "2021-07-15T09:35:06.500Z"
   },
   {
    "duration": 580,
    "start_time": "2021-07-15T09:35:06.516Z"
   },
   {
    "duration": 633,
    "start_time": "2021-07-15T09:35:07.098Z"
   },
   {
    "duration": 710,
    "start_time": "2021-07-15T09:35:07.733Z"
   },
   {
    "duration": 19,
    "start_time": "2021-07-15T09:35:08.446Z"
   },
   {
    "duration": 516,
    "start_time": "2021-07-15T09:35:08.467Z"
   },
   {
    "duration": 504,
    "start_time": "2021-07-15T09:35:08.986Z"
   },
   {
    "duration": 15,
    "start_time": "2021-07-15T09:35:09.492Z"
   },
   {
    "duration": 546,
    "start_time": "2021-07-15T09:35:09.510Z"
   },
   {
    "duration": 498,
    "start_time": "2021-07-15T09:35:10.059Z"
   },
   {
    "duration": 15,
    "start_time": "2021-07-15T09:35:10.560Z"
   },
   {
    "duration": 499,
    "start_time": "2021-07-15T09:35:10.578Z"
   },
   {
    "duration": 503,
    "start_time": "2021-07-15T09:35:11.079Z"
   },
   {
    "duration": 15,
    "start_time": "2021-07-15T09:35:11.585Z"
   },
   {
    "duration": 542,
    "start_time": "2021-07-15T09:35:11.603Z"
   },
   {
    "duration": 527,
    "start_time": "2021-07-15T09:35:12.147Z"
   },
   {
    "duration": 15,
    "start_time": "2021-07-15T09:35:12.677Z"
   },
   {
    "duration": 533,
    "start_time": "2021-07-15T09:35:12.694Z"
   },
   {
    "duration": 520,
    "start_time": "2021-07-15T09:35:13.231Z"
   },
   {
    "duration": 15,
    "start_time": "2021-07-15T09:35:13.755Z"
   },
   {
    "duration": 584,
    "start_time": "2021-07-15T09:35:13.773Z"
   },
   {
    "duration": 521,
    "start_time": "2021-07-15T09:35:14.360Z"
   },
   {
    "duration": 35,
    "start_time": "2021-07-15T09:37:01.008Z"
   },
   {
    "duration": 12,
    "start_time": "2021-07-15T10:03:07.350Z"
   },
   {
    "duration": 11,
    "start_time": "2021-07-15T10:03:31.999Z"
   },
   {
    "duration": 1497,
    "start_time": "2021-07-15T10:04:19.026Z"
   },
   {
    "duration": 33,
    "start_time": "2021-07-15T10:04:20.526Z"
   },
   {
    "duration": 53,
    "start_time": "2021-07-15T10:04:20.563Z"
   },
   {
    "duration": 12,
    "start_time": "2021-07-15T10:04:20.619Z"
   },
   {
    "duration": 25,
    "start_time": "2021-07-15T10:04:20.633Z"
   },
   {
    "duration": 12,
    "start_time": "2021-07-15T10:04:20.660Z"
   },
   {
    "duration": 7,
    "start_time": "2021-07-15T10:04:20.674Z"
   },
   {
    "duration": 24,
    "start_time": "2021-07-15T10:04:20.685Z"
   },
   {
    "duration": 5,
    "start_time": "2021-07-15T10:04:20.712Z"
   },
   {
    "duration": 37,
    "start_time": "2021-07-15T10:04:20.719Z"
   },
   {
    "duration": 16,
    "start_time": "2021-07-15T10:04:20.758Z"
   },
   {
    "duration": 13,
    "start_time": "2021-07-15T10:04:20.777Z"
   },
   {
    "duration": 14,
    "start_time": "2021-07-15T10:04:20.792Z"
   },
   {
    "duration": 17,
    "start_time": "2021-07-15T10:04:20.808Z"
   },
   {
    "duration": 23,
    "start_time": "2021-07-15T10:04:20.828Z"
   },
   {
    "duration": 23,
    "start_time": "2021-07-15T10:04:20.853Z"
   },
   {
    "duration": 15,
    "start_time": "2021-07-15T10:04:20.879Z"
   },
   {
    "duration": 10,
    "start_time": "2021-07-15T10:04:20.896Z"
   },
   {
    "duration": 754,
    "start_time": "2021-07-15T10:04:20.908Z"
   },
   {
    "duration": 14,
    "start_time": "2021-07-15T10:04:21.665Z"
   },
   {
    "duration": 7,
    "start_time": "2021-07-15T10:04:21.682Z"
   },
   {
    "duration": 17,
    "start_time": "2021-07-15T10:04:21.691Z"
   },
   {
    "duration": 54,
    "start_time": "2021-07-15T10:04:21.715Z"
   },
   {
    "duration": 1537,
    "start_time": "2021-07-15T10:04:21.773Z"
   },
   {
    "duration": 48,
    "start_time": "2021-07-15T10:04:23.312Z"
   },
   {
    "duration": 14,
    "start_time": "2021-07-15T10:04:23.363Z"
   },
   {
    "duration": 592,
    "start_time": "2021-07-15T10:04:23.379Z"
   },
   {
    "duration": 703,
    "start_time": "2021-07-15T10:04:23.974Z"
   },
   {
    "duration": 703,
    "start_time": "2021-07-15T10:04:24.680Z"
   },
   {
    "duration": 15,
    "start_time": "2021-07-15T10:04:25.385Z"
   },
   {
    "duration": 538,
    "start_time": "2021-07-15T10:04:25.403Z"
   },
   {
    "duration": 518,
    "start_time": "2021-07-15T10:04:25.944Z"
   },
   {
    "duration": 17,
    "start_time": "2021-07-15T10:04:26.465Z"
   },
   {
    "duration": 512,
    "start_time": "2021-07-15T10:04:26.485Z"
   },
   {
    "duration": 495,
    "start_time": "2021-07-15T10:04:27.000Z"
   },
   {
    "duration": 14,
    "start_time": "2021-07-15T10:04:27.498Z"
   },
   {
    "duration": 531,
    "start_time": "2021-07-15T10:04:27.514Z"
   },
   {
    "duration": 512,
    "start_time": "2021-07-15T10:04:28.047Z"
   },
   {
    "duration": 14,
    "start_time": "2021-07-15T10:04:28.562Z"
   },
   {
    "duration": 510,
    "start_time": "2021-07-15T10:04:28.579Z"
   },
   {
    "duration": 475,
    "start_time": "2021-07-15T10:04:29.092Z"
   },
   {
    "duration": 14,
    "start_time": "2021-07-15T10:04:29.570Z"
   },
   {
    "duration": 504,
    "start_time": "2021-07-15T10:04:29.586Z"
   },
   {
    "duration": 482,
    "start_time": "2021-07-15T10:04:30.093Z"
   },
   {
    "duration": 15,
    "start_time": "2021-07-15T10:04:30.578Z"
   },
   {
    "duration": 636,
    "start_time": "2021-07-15T10:04:30.595Z"
   },
   {
    "duration": 531,
    "start_time": "2021-07-15T10:04:31.234Z"
   },
   {
    "duration": 12,
    "start_time": "2021-07-15T10:04:31.767Z"
   },
   {
    "duration": 29,
    "start_time": "2021-07-15T10:04:31.782Z"
   },
   {
    "duration": 354,
    "start_time": "2021-07-15T10:04:31.814Z"
   },
   {
    "duration": 11,
    "start_time": "2021-07-15T10:04:32.171Z"
   },
   {
    "duration": 394,
    "start_time": "2021-07-15T10:04:32.184Z"
   },
   {
    "duration": 13,
    "start_time": "2021-07-15T10:04:32.581Z"
   },
   {
    "duration": 375,
    "start_time": "2021-07-15T10:04:32.596Z"
   },
   {
    "duration": 13,
    "start_time": "2021-07-15T10:04:32.974Z"
   },
   {
    "duration": 364,
    "start_time": "2021-07-15T10:04:32.990Z"
   },
   {
    "duration": 13,
    "start_time": "2021-07-15T10:04:33.357Z"
   },
   {
    "duration": 381,
    "start_time": "2021-07-15T10:04:33.373Z"
   },
   {
    "duration": 14,
    "start_time": "2021-07-15T10:04:33.757Z"
   },
   {
    "duration": 356,
    "start_time": "2021-07-15T10:04:33.774Z"
   },
   {
    "duration": 27,
    "start_time": "2021-07-15T10:04:34.133Z"
   },
   {
    "duration": 378,
    "start_time": "2021-07-15T10:04:34.163Z"
   },
   {
    "duration": 19,
    "start_time": "2021-07-15T10:04:34.544Z"
   },
   {
    "duration": 361,
    "start_time": "2021-07-15T10:04:34.565Z"
   },
   {
    "duration": 12,
    "start_time": "2021-07-15T10:04:34.929Z"
   },
   {
    "duration": 366,
    "start_time": "2021-07-15T10:04:34.955Z"
   },
   {
    "duration": 16,
    "start_time": "2021-07-15T10:04:35.324Z"
   },
   {
    "duration": 17,
    "start_time": "2021-07-15T10:04:35.359Z"
   },
   {
    "duration": 34,
    "start_time": "2021-07-15T10:04:35.379Z"
   },
   {
    "duration": 18,
    "start_time": "2021-07-15T10:04:35.416Z"
   },
   {
    "duration": 407,
    "start_time": "2021-07-15T10:06:45.598Z"
   },
   {
    "duration": 12,
    "start_time": "2021-07-15T10:10:28.415Z"
   },
   {
    "duration": 8,
    "start_time": "2021-07-15T10:12:25.883Z"
   },
   {
    "duration": 32,
    "start_time": "2021-07-15T10:12:27.586Z"
   },
   {
    "duration": 11,
    "start_time": "2021-07-15T10:12:32.497Z"
   },
   {
    "duration": 10,
    "start_time": "2021-07-15T10:12:40.657Z"
   },
   {
    "duration": 1445,
    "start_time": "2021-07-15T10:13:02.596Z"
   },
   {
    "duration": 24,
    "start_time": "2021-07-15T10:13:04.044Z"
   },
   {
    "duration": 20,
    "start_time": "2021-07-15T10:13:04.072Z"
   },
   {
    "duration": 5,
    "start_time": "2021-07-15T10:13:04.096Z"
   },
   {
    "duration": 11,
    "start_time": "2021-07-15T10:13:04.104Z"
   },
   {
    "duration": 55,
    "start_time": "2021-07-15T10:13:04.118Z"
   },
   {
    "duration": 10,
    "start_time": "2021-07-15T10:13:04.175Z"
   },
   {
    "duration": 12,
    "start_time": "2021-07-15T10:13:04.189Z"
   },
   {
    "duration": 5,
    "start_time": "2021-07-15T10:13:04.204Z"
   },
   {
    "duration": 22,
    "start_time": "2021-07-15T10:13:04.211Z"
   },
   {
    "duration": 23,
    "start_time": "2021-07-15T10:13:04.236Z"
   },
   {
    "duration": 32,
    "start_time": "2021-07-15T10:13:04.261Z"
   },
   {
    "duration": 21,
    "start_time": "2021-07-15T10:13:04.296Z"
   },
   {
    "duration": 22,
    "start_time": "2021-07-15T10:13:04.320Z"
   },
   {
    "duration": 25,
    "start_time": "2021-07-15T10:13:04.345Z"
   },
   {
    "duration": 19,
    "start_time": "2021-07-15T10:13:04.373Z"
   },
   {
    "duration": 8,
    "start_time": "2021-07-15T10:13:04.395Z"
   },
   {
    "duration": 18,
    "start_time": "2021-07-15T10:13:04.406Z"
   },
   {
    "duration": 850,
    "start_time": "2021-07-15T10:13:04.427Z"
   },
   {
    "duration": 15,
    "start_time": "2021-07-15T10:13:05.279Z"
   },
   {
    "duration": 11,
    "start_time": "2021-07-15T10:13:05.297Z"
   },
   {
    "duration": 34,
    "start_time": "2021-07-15T10:13:05.310Z"
   },
   {
    "duration": 25,
    "start_time": "2021-07-15T10:13:05.358Z"
   },
   {
    "duration": 1402,
    "start_time": "2021-07-15T10:13:05.387Z"
   },
   {
    "duration": 27,
    "start_time": "2021-07-15T10:13:06.792Z"
   },
   {
    "duration": 32,
    "start_time": "2021-07-15T10:13:06.822Z"
   },
   {
    "duration": 559,
    "start_time": "2021-07-15T10:13:06.857Z"
   },
   {
    "duration": 635,
    "start_time": "2021-07-15T10:13:07.419Z"
   },
   {
    "duration": 706,
    "start_time": "2021-07-15T10:13:08.056Z"
   },
   {
    "duration": 15,
    "start_time": "2021-07-15T10:13:08.765Z"
   },
   {
    "duration": 528,
    "start_time": "2021-07-15T10:13:08.783Z"
   },
   {
    "duration": 540,
    "start_time": "2021-07-15T10:13:09.314Z"
   },
   {
    "duration": 16,
    "start_time": "2021-07-15T10:13:09.857Z"
   },
   {
    "duration": 496,
    "start_time": "2021-07-15T10:13:09.875Z"
   },
   {
    "duration": 481,
    "start_time": "2021-07-15T10:13:10.374Z"
   },
   {
    "duration": 15,
    "start_time": "2021-07-15T10:13:10.858Z"
   },
   {
    "duration": 579,
    "start_time": "2021-07-15T10:13:10.875Z"
   },
   {
    "duration": 501,
    "start_time": "2021-07-15T10:13:11.457Z"
   },
   {
    "duration": 15,
    "start_time": "2021-07-15T10:13:11.960Z"
   },
   {
    "duration": 480,
    "start_time": "2021-07-15T10:13:11.978Z"
   },
   {
    "duration": 501,
    "start_time": "2021-07-15T10:13:12.461Z"
   },
   {
    "duration": 15,
    "start_time": "2021-07-15T10:13:12.965Z"
   },
   {
    "duration": 480,
    "start_time": "2021-07-15T10:13:12.982Z"
   },
   {
    "duration": 478,
    "start_time": "2021-07-15T10:13:13.465Z"
   },
   {
    "duration": 18,
    "start_time": "2021-07-15T10:13:13.946Z"
   },
   {
    "duration": 583,
    "start_time": "2021-07-15T10:13:13.967Z"
   },
   {
    "duration": 501,
    "start_time": "2021-07-15T10:13:14.555Z"
   },
   {
    "duration": 12,
    "start_time": "2021-07-15T10:13:15.059Z"
   },
   {
    "duration": 25,
    "start_time": "2021-07-15T10:13:15.073Z"
   },
   {
    "duration": 10,
    "start_time": "2021-07-15T10:13:15.101Z"
   },
   {
    "duration": 355,
    "start_time": "2021-07-15T10:13:15.114Z"
   },
   {
    "duration": 11,
    "start_time": "2021-07-15T10:13:15.472Z"
   },
   {
    "duration": 376,
    "start_time": "2021-07-15T10:13:15.485Z"
   },
   {
    "duration": 15,
    "start_time": "2021-07-15T10:13:15.863Z"
   },
   {
    "duration": 357,
    "start_time": "2021-07-15T10:13:15.880Z"
   },
   {
    "duration": 19,
    "start_time": "2021-07-15T10:13:16.240Z"
   },
   {
    "duration": 340,
    "start_time": "2021-07-15T10:13:16.262Z"
   },
   {
    "duration": 11,
    "start_time": "2021-07-15T10:13:16.606Z"
   },
   {
    "duration": 365,
    "start_time": "2021-07-15T10:13:16.619Z"
   },
   {
    "duration": 13,
    "start_time": "2021-07-15T10:13:16.987Z"
   },
   {
    "duration": 342,
    "start_time": "2021-07-15T10:13:17.002Z"
   },
   {
    "duration": 15,
    "start_time": "2021-07-15T10:13:17.347Z"
   },
   {
    "duration": 360,
    "start_time": "2021-07-15T10:13:17.364Z"
   },
   {
    "duration": 26,
    "start_time": "2021-07-15T10:13:17.728Z"
   },
   {
    "duration": 352,
    "start_time": "2021-07-15T10:13:17.757Z"
   },
   {
    "duration": 15,
    "start_time": "2021-07-15T10:13:18.112Z"
   },
   {
    "duration": 357,
    "start_time": "2021-07-15T10:13:18.130Z"
   },
   {
    "duration": 16,
    "start_time": "2021-07-15T10:13:18.497Z"
   },
   {
    "duration": 49,
    "start_time": "2021-07-15T10:13:18.516Z"
   },
   {
    "duration": 20,
    "start_time": "2021-07-15T10:13:18.568Z"
   },
   {
    "duration": 16,
    "start_time": "2021-07-15T10:13:18.591Z"
   },
   {
    "duration": 5,
    "start_time": "2021-07-15T10:15:42.351Z"
   },
   {
    "duration": 12,
    "start_time": "2021-07-15T10:15:49.438Z"
   },
   {
    "duration": 13,
    "start_time": "2021-07-15T10:18:09.393Z"
   },
   {
    "duration": 5,
    "start_time": "2021-07-15T10:20:28.494Z"
   },
   {
    "duration": 730,
    "start_time": "2021-07-15T10:20:44.812Z"
   },
   {
    "duration": 534,
    "start_time": "2021-07-15T10:21:12.812Z"
   },
   {
    "duration": 554,
    "start_time": "2021-07-15T10:27:25.611Z"
   },
   {
    "duration": 90,
    "start_time": "2021-07-15T11:08:37.950Z"
   },
   {
    "duration": 11,
    "start_time": "2021-07-15T11:19:46.583Z"
   },
   {
    "duration": 369,
    "start_time": "2021-07-15T11:19:48.511Z"
   },
   {
    "duration": 38,
    "start_time": "2021-07-15T11:20:51.360Z"
   },
   {
    "duration": 42,
    "start_time": "2021-07-15T11:22:33.844Z"
   },
   {
    "duration": 36,
    "start_time": "2021-07-15T11:23:01.688Z"
   },
   {
    "duration": 11,
    "start_time": "2021-07-15T11:25:11.820Z"
   },
   {
    "duration": 359,
    "start_time": "2021-07-15T11:25:15.321Z"
   },
   {
    "duration": 11,
    "start_time": "2021-07-15T11:25:33.018Z"
   },
   {
    "duration": 387,
    "start_time": "2021-07-15T11:25:37.269Z"
   },
   {
    "duration": 119,
    "start_time": "2021-07-15T11:39:24.185Z"
   },
   {
    "duration": 1420,
    "start_time": "2021-07-15T11:41:31.080Z"
   },
   {
    "duration": 23,
    "start_time": "2021-07-15T11:41:32.503Z"
   },
   {
    "duration": 32,
    "start_time": "2021-07-15T11:41:32.529Z"
   },
   {
    "duration": 6,
    "start_time": "2021-07-15T11:41:32.565Z"
   },
   {
    "duration": 16,
    "start_time": "2021-07-15T11:41:32.574Z"
   },
   {
    "duration": 17,
    "start_time": "2021-07-15T11:41:32.592Z"
   },
   {
    "duration": 12,
    "start_time": "2021-07-15T11:41:32.611Z"
   },
   {
    "duration": 40,
    "start_time": "2021-07-15T11:41:32.627Z"
   },
   {
    "duration": 5,
    "start_time": "2021-07-15T11:41:32.671Z"
   },
   {
    "duration": 13,
    "start_time": "2021-07-15T11:41:32.679Z"
   },
   {
    "duration": 11,
    "start_time": "2021-07-15T11:41:32.695Z"
   },
   {
    "duration": 63,
    "start_time": "2021-07-15T11:41:32.708Z"
   },
   {
    "duration": 7,
    "start_time": "2021-07-15T11:41:32.773Z"
   },
   {
    "duration": 11,
    "start_time": "2021-07-15T11:41:32.783Z"
   },
   {
    "duration": 9,
    "start_time": "2021-07-15T11:41:32.797Z"
   },
   {
    "duration": 54,
    "start_time": "2021-07-15T11:41:32.808Z"
   },
   {
    "duration": 10,
    "start_time": "2021-07-15T11:41:32.865Z"
   },
   {
    "duration": 8,
    "start_time": "2021-07-15T11:41:32.878Z"
   },
   {
    "duration": 861,
    "start_time": "2021-07-15T11:41:32.889Z"
   },
   {
    "duration": 22,
    "start_time": "2021-07-15T11:41:33.752Z"
   },
   {
    "duration": 5,
    "start_time": "2021-07-15T11:41:33.776Z"
   },
   {
    "duration": 11,
    "start_time": "2021-07-15T11:41:33.784Z"
   },
   {
    "duration": 80,
    "start_time": "2021-07-15T11:41:33.801Z"
   },
   {
    "duration": 1416,
    "start_time": "2021-07-15T11:41:33.884Z"
   },
   {
    "duration": 31,
    "start_time": "2021-07-15T11:41:35.302Z"
   },
   {
    "duration": 15,
    "start_time": "2021-07-15T11:41:35.362Z"
   },
   {
    "duration": 573,
    "start_time": "2021-07-15T11:41:35.380Z"
   },
   {
    "duration": 671,
    "start_time": "2021-07-15T11:41:35.956Z"
   },
   {
    "duration": 768,
    "start_time": "2021-07-15T11:41:36.629Z"
   },
   {
    "duration": 16,
    "start_time": "2021-07-15T11:41:37.400Z"
   },
   {
    "duration": 672,
    "start_time": "2021-07-15T11:41:37.419Z"
   },
   {
    "duration": 592,
    "start_time": "2021-07-15T11:41:38.094Z"
   },
   {
    "duration": 15,
    "start_time": "2021-07-15T11:41:38.688Z"
   },
   {
    "duration": 575,
    "start_time": "2021-07-15T11:41:38.705Z"
   },
   {
    "duration": 605,
    "start_time": "2021-07-15T11:41:39.282Z"
   },
   {
    "duration": 14,
    "start_time": "2021-07-15T11:41:39.890Z"
   },
   {
    "duration": 552,
    "start_time": "2021-07-15T11:41:39.906Z"
   },
   {
    "duration": 516,
    "start_time": "2021-07-15T11:41:40.462Z"
   },
   {
    "duration": 16,
    "start_time": "2021-07-15T11:41:40.980Z"
   },
   {
    "duration": 513,
    "start_time": "2021-07-15T11:41:40.998Z"
   },
   {
    "duration": 516,
    "start_time": "2021-07-15T11:41:41.514Z"
   },
   {
    "duration": 32,
    "start_time": "2021-07-15T11:41:42.033Z"
   },
   {
    "duration": 499,
    "start_time": "2021-07-15T11:41:42.069Z"
   },
   {
    "duration": 510,
    "start_time": "2021-07-15T11:41:42.571Z"
   },
   {
    "duration": 17,
    "start_time": "2021-07-15T11:41:43.085Z"
   },
   {
    "duration": 639,
    "start_time": "2021-07-15T11:41:43.104Z"
   },
   {
    "duration": 647,
    "start_time": "2021-07-15T11:41:43.745Z"
   },
   {
    "duration": 22,
    "start_time": "2021-07-15T11:41:44.395Z"
   },
   {
    "duration": 717,
    "start_time": "2021-07-15T11:41:44.420Z"
   },
   {
    "duration": 28,
    "start_time": "2021-07-15T11:41:45.140Z"
   },
   {
    "duration": 369,
    "start_time": "2021-07-15T11:41:45.171Z"
   },
   {
    "duration": 27,
    "start_time": "2021-07-15T11:41:45.542Z"
   },
   {
    "duration": 401,
    "start_time": "2021-07-15T11:41:45.571Z"
   },
   {
    "duration": 13,
    "start_time": "2021-07-15T11:41:45.974Z"
   },
   {
    "duration": 391,
    "start_time": "2021-07-15T11:41:45.989Z"
   },
   {
    "duration": 11,
    "start_time": "2021-07-15T11:41:46.382Z"
   },
   {
    "duration": 387,
    "start_time": "2021-07-15T11:41:46.396Z"
   },
   {
    "duration": 12,
    "start_time": "2021-07-15T11:41:46.785Z"
   },
   {
    "duration": 401,
    "start_time": "2021-07-15T11:41:46.799Z"
   },
   {
    "duration": 12,
    "start_time": "2021-07-15T11:41:47.203Z"
   },
   {
    "duration": 389,
    "start_time": "2021-07-15T11:41:47.217Z"
   },
   {
    "duration": 17,
    "start_time": "2021-07-15T11:41:47.609Z"
   },
   {
    "duration": 417,
    "start_time": "2021-07-15T11:41:47.628Z"
   },
   {
    "duration": 16,
    "start_time": "2021-07-15T11:41:48.055Z"
   },
   {
    "duration": 388,
    "start_time": "2021-07-15T11:41:48.073Z"
   },
   {
    "duration": 15,
    "start_time": "2021-07-15T11:41:48.465Z"
   },
   {
    "duration": 495,
    "start_time": "2021-07-15T11:41:48.483Z"
   },
   {
    "duration": 17,
    "start_time": "2021-07-15T11:41:48.988Z"
   },
   {
    "duration": 62,
    "start_time": "2021-07-15T11:41:49.009Z"
   },
   {
    "duration": 17,
    "start_time": "2021-07-15T11:41:49.074Z"
   },
   {
    "duration": 16,
    "start_time": "2021-07-15T11:41:49.094Z"
   },
   {
    "duration": 1423,
    "start_time": "2021-07-15T11:51:10.568Z"
   },
   {
    "duration": 23,
    "start_time": "2021-07-15T11:51:11.993Z"
   },
   {
    "duration": 46,
    "start_time": "2021-07-15T11:51:12.019Z"
   },
   {
    "duration": 5,
    "start_time": "2021-07-15T11:51:12.068Z"
   },
   {
    "duration": 19,
    "start_time": "2021-07-15T11:51:12.076Z"
   },
   {
    "duration": 23,
    "start_time": "2021-07-15T11:51:12.097Z"
   },
   {
    "duration": 13,
    "start_time": "2021-07-15T11:51:12.123Z"
   },
   {
    "duration": 34,
    "start_time": "2021-07-15T11:51:12.140Z"
   },
   {
    "duration": 9,
    "start_time": "2021-07-15T11:51:12.177Z"
   },
   {
    "duration": 22,
    "start_time": "2021-07-15T11:51:12.188Z"
   },
   {
    "duration": 14,
    "start_time": "2021-07-15T11:51:12.213Z"
   },
   {
    "duration": 30,
    "start_time": "2021-07-15T11:51:12.230Z"
   },
   {
    "duration": 20,
    "start_time": "2021-07-15T11:51:12.265Z"
   },
   {
    "duration": 24,
    "start_time": "2021-07-15T11:51:12.287Z"
   },
   {
    "duration": 22,
    "start_time": "2021-07-15T11:51:12.314Z"
   },
   {
    "duration": 24,
    "start_time": "2021-07-15T11:51:12.338Z"
   },
   {
    "duration": 16,
    "start_time": "2021-07-15T11:51:12.365Z"
   },
   {
    "duration": 20,
    "start_time": "2021-07-15T11:51:12.383Z"
   },
   {
    "duration": 813,
    "start_time": "2021-07-15T11:51:12.406Z"
   },
   {
    "duration": 41,
    "start_time": "2021-07-15T11:51:13.222Z"
   },
   {
    "duration": 5,
    "start_time": "2021-07-15T11:51:13.266Z"
   },
   {
    "duration": 28,
    "start_time": "2021-07-15T11:51:13.274Z"
   },
   {
    "duration": 47,
    "start_time": "2021-07-15T11:51:13.308Z"
   },
   {
    "duration": 1371,
    "start_time": "2021-07-15T11:51:13.360Z"
   },
   {
    "duration": 45,
    "start_time": "2021-07-15T11:51:14.733Z"
   },
   {
    "duration": 13,
    "start_time": "2021-07-15T11:51:14.780Z"
   },
   {
    "duration": 600,
    "start_time": "2021-07-15T11:51:14.795Z"
   },
   {
    "duration": 645,
    "start_time": "2021-07-15T11:51:15.397Z"
   },
   {
    "duration": 760,
    "start_time": "2021-07-15T11:51:16.045Z"
   },
   {
    "duration": 17,
    "start_time": "2021-07-15T11:51:16.808Z"
   },
   {
    "duration": 572,
    "start_time": "2021-07-15T11:51:16.827Z"
   },
   {
    "duration": 516,
    "start_time": "2021-07-15T11:51:17.401Z"
   },
   {
    "duration": 14,
    "start_time": "2021-07-15T11:51:17.919Z"
   },
   {
    "duration": 544,
    "start_time": "2021-07-15T11:51:17.957Z"
   },
   {
    "duration": 593,
    "start_time": "2021-07-15T11:51:18.503Z"
   },
   {
    "duration": 16,
    "start_time": "2021-07-15T11:51:19.098Z"
   },
   {
    "duration": 587,
    "start_time": "2021-07-15T11:51:19.117Z"
   },
   {
    "duration": 567,
    "start_time": "2021-07-15T11:51:19.706Z"
   },
   {
    "duration": 17,
    "start_time": "2021-07-15T11:51:20.276Z"
   },
   {
    "duration": 514,
    "start_time": "2021-07-15T11:51:20.295Z"
   },
   {
    "duration": 574,
    "start_time": "2021-07-15T11:51:20.811Z"
   },
   {
    "duration": 15,
    "start_time": "2021-07-15T11:51:21.387Z"
   },
   {
    "duration": 557,
    "start_time": "2021-07-15T11:51:21.405Z"
   },
   {
    "duration": 520,
    "start_time": "2021-07-15T11:51:21.965Z"
   },
   {
    "duration": 18,
    "start_time": "2021-07-15T11:51:22.488Z"
   },
   {
    "duration": 665,
    "start_time": "2021-07-15T11:51:22.509Z"
   },
   {
    "duration": 523,
    "start_time": "2021-07-15T11:51:23.177Z"
   },
   {
    "duration": 14,
    "start_time": "2021-07-15T11:51:23.702Z"
   },
   {
    "duration": 630,
    "start_time": "2021-07-15T11:51:23.718Z"
   },
   {
    "duration": 14,
    "start_time": "2021-07-15T11:51:24.350Z"
   },
   {
    "duration": 436,
    "start_time": "2021-07-15T11:51:24.369Z"
   },
   {
    "duration": 15,
    "start_time": "2021-07-15T11:51:24.808Z"
   },
   {
    "duration": 417,
    "start_time": "2021-07-15T11:51:24.826Z"
   },
   {
    "duration": 19,
    "start_time": "2021-07-15T11:51:25.246Z"
   },
   {
    "duration": 398,
    "start_time": "2021-07-15T11:51:25.269Z"
   },
   {
    "duration": 12,
    "start_time": "2021-07-15T11:51:25.669Z"
   },
   {
    "duration": 382,
    "start_time": "2021-07-15T11:51:25.684Z"
   },
   {
    "duration": 11,
    "start_time": "2021-07-15T11:51:26.069Z"
   },
   {
    "duration": 396,
    "start_time": "2021-07-15T11:51:26.083Z"
   },
   {
    "duration": 11,
    "start_time": "2021-07-15T11:51:26.481Z"
   },
   {
    "duration": 395,
    "start_time": "2021-07-15T11:51:26.495Z"
   },
   {
    "duration": 12,
    "start_time": "2021-07-15T11:51:26.892Z"
   },
   {
    "duration": 397,
    "start_time": "2021-07-15T11:51:26.906Z"
   },
   {
    "duration": 10,
    "start_time": "2021-07-15T11:51:27.306Z"
   },
   {
    "duration": 376,
    "start_time": "2021-07-15T11:51:27.319Z"
   },
   {
    "duration": 10,
    "start_time": "2021-07-15T11:51:27.697Z"
   },
   {
    "duration": 486,
    "start_time": "2021-07-15T11:51:27.710Z"
   },
   {
    "duration": 17,
    "start_time": "2021-07-15T11:51:28.207Z"
   },
   {
    "duration": 48,
    "start_time": "2021-07-15T11:51:28.227Z"
   },
   {
    "duration": 16,
    "start_time": "2021-07-15T11:51:28.278Z"
   },
   {
    "duration": 62,
    "start_time": "2021-07-15T11:51:28.296Z"
   },
   {
    "duration": 144,
    "start_time": "2021-07-15T21:09:13.122Z"
   },
   {
    "duration": 109,
    "start_time": "2021-07-15T21:10:03.128Z"
   },
   {
    "duration": 160,
    "start_time": "2021-07-15T21:10:54.025Z"
   },
   {
    "duration": 1486,
    "start_time": "2021-10-02T13:24:21.767Z"
   },
   {
    "duration": 23,
    "start_time": "2021-10-02T13:24:23.256Z"
   },
   {
    "duration": 20,
    "start_time": "2021-10-02T13:24:23.282Z"
   },
   {
    "duration": 20,
    "start_time": "2021-10-02T13:24:23.305Z"
   },
   {
    "duration": 28,
    "start_time": "2021-10-02T13:24:23.328Z"
   },
   {
    "duration": 20,
    "start_time": "2021-10-02T13:24:23.363Z"
   },
   {
    "duration": 7,
    "start_time": "2021-10-02T13:24:23.386Z"
   },
   {
    "duration": 30,
    "start_time": "2021-10-02T13:24:23.399Z"
   },
   {
    "duration": 6,
    "start_time": "2021-10-02T13:24:23.433Z"
   },
   {
    "duration": 26,
    "start_time": "2021-10-02T13:24:23.442Z"
   },
   {
    "duration": 19,
    "start_time": "2021-10-02T13:24:23.471Z"
   },
   {
    "duration": 14,
    "start_time": "2021-10-02T13:24:23.494Z"
   },
   {
    "duration": 16,
    "start_time": "2021-10-02T13:24:23.511Z"
   },
   {
    "duration": 18,
    "start_time": "2021-10-02T13:24:23.530Z"
   },
   {
    "duration": 12,
    "start_time": "2021-10-02T13:24:23.551Z"
   },
   {
    "duration": 20,
    "start_time": "2021-10-02T13:24:23.566Z"
   },
   {
    "duration": 10,
    "start_time": "2021-10-02T13:24:23.621Z"
   },
   {
    "duration": 9,
    "start_time": "2021-10-02T13:24:23.633Z"
   },
   {
    "duration": 781,
    "start_time": "2021-10-02T13:24:23.644Z"
   },
   {
    "duration": 17,
    "start_time": "2021-10-02T13:24:24.428Z"
   },
   {
    "duration": 9,
    "start_time": "2021-10-02T13:24:24.448Z"
   },
   {
    "duration": 18,
    "start_time": "2021-10-02T13:24:24.460Z"
   },
   {
    "duration": 54,
    "start_time": "2021-10-02T13:24:24.484Z"
   },
   {
    "duration": 1307,
    "start_time": "2021-10-02T13:24:24.543Z"
   },
   {
    "duration": 32,
    "start_time": "2021-10-02T13:24:25.853Z"
   },
   {
    "duration": 41,
    "start_time": "2021-10-02T13:24:25.887Z"
   },
   {
    "duration": 570,
    "start_time": "2021-10-02T13:24:25.931Z"
   },
   {
    "duration": 607,
    "start_time": "2021-10-02T13:24:26.504Z"
   },
   {
    "duration": 708,
    "start_time": "2021-10-02T13:24:27.114Z"
   },
   {
    "duration": 14,
    "start_time": "2021-10-02T13:24:27.824Z"
   },
   {
    "duration": 488,
    "start_time": "2021-10-02T13:24:27.841Z"
   },
   {
    "duration": 503,
    "start_time": "2021-10-02T13:24:28.331Z"
   },
   {
    "duration": 15,
    "start_time": "2021-10-02T13:24:28.837Z"
   },
   {
    "duration": 501,
    "start_time": "2021-10-02T13:24:28.855Z"
   },
   {
    "duration": 476,
    "start_time": "2021-10-02T13:24:29.359Z"
   },
   {
    "duration": 14,
    "start_time": "2021-10-02T13:24:29.838Z"
   },
   {
    "duration": 481,
    "start_time": "2021-10-02T13:24:29.855Z"
   },
   {
    "duration": 493,
    "start_time": "2021-10-02T13:24:30.339Z"
   },
   {
    "duration": 16,
    "start_time": "2021-10-02T13:24:30.835Z"
   },
   {
    "duration": 532,
    "start_time": "2021-10-02T13:24:30.853Z"
   },
   {
    "duration": 523,
    "start_time": "2021-10-02T13:24:31.387Z"
   },
   {
    "duration": 23,
    "start_time": "2021-10-02T13:24:31.912Z"
   },
   {
    "duration": 474,
    "start_time": "2021-10-02T13:24:31.937Z"
   },
   {
    "duration": 496,
    "start_time": "2021-10-02T13:24:32.413Z"
   },
   {
    "duration": 24,
    "start_time": "2021-10-02T13:24:32.912Z"
   },
   {
    "duration": 575,
    "start_time": "2021-10-02T13:24:32.938Z"
   },
   {
    "duration": 486,
    "start_time": "2021-10-02T13:24:33.522Z"
   },
   {
    "duration": 22,
    "start_time": "2021-10-02T13:24:34.011Z"
   },
   {
    "duration": 540,
    "start_time": "2021-10-02T13:24:34.035Z"
   },
   {
    "duration": 12,
    "start_time": "2021-10-02T13:24:34.577Z"
   },
   {
    "duration": 344,
    "start_time": "2021-10-02T13:24:34.591Z"
   },
   {
    "duration": 11,
    "start_time": "2021-10-02T13:24:34.938Z"
   },
   {
    "duration": 379,
    "start_time": "2021-10-02T13:24:34.951Z"
   },
   {
    "duration": 12,
    "start_time": "2021-10-02T13:24:35.333Z"
   },
   {
    "duration": 363,
    "start_time": "2021-10-02T13:24:35.348Z"
   },
   {
    "duration": 15,
    "start_time": "2021-10-02T13:24:35.713Z"
   },
   {
    "duration": 348,
    "start_time": "2021-10-02T13:24:35.731Z"
   },
   {
    "duration": 12,
    "start_time": "2021-10-02T13:24:36.081Z"
   },
   {
    "duration": 371,
    "start_time": "2021-10-02T13:24:36.095Z"
   },
   {
    "duration": 13,
    "start_time": "2021-10-02T13:24:36.469Z"
   },
   {
    "duration": 353,
    "start_time": "2021-10-02T13:24:36.484Z"
   },
   {
    "duration": 10,
    "start_time": "2021-10-02T13:24:36.839Z"
   },
   {
    "duration": 367,
    "start_time": "2021-10-02T13:24:36.851Z"
   },
   {
    "duration": 10,
    "start_time": "2021-10-02T13:24:37.222Z"
   },
   {
    "duration": 349,
    "start_time": "2021-10-02T13:24:37.234Z"
   },
   {
    "duration": 11,
    "start_time": "2021-10-02T13:24:37.585Z"
   },
   {
    "duration": 456,
    "start_time": "2021-10-02T13:24:37.598Z"
   },
   {
    "duration": 16,
    "start_time": "2021-10-02T13:24:38.061Z"
   },
   {
    "duration": 27,
    "start_time": "2021-10-02T13:24:38.079Z"
   },
   {
    "duration": 20,
    "start_time": "2021-10-02T13:24:38.122Z"
   },
   {
    "duration": 20,
    "start_time": "2021-10-02T13:24:38.145Z"
   },
   {
    "duration": 1523,
    "start_time": "2021-10-02T13:26:07.019Z"
   },
   {
    "duration": 23,
    "start_time": "2021-10-02T13:26:08.544Z"
   },
   {
    "duration": 18,
    "start_time": "2021-10-02T13:26:08.570Z"
   },
   {
    "duration": 4,
    "start_time": "2021-10-02T13:26:08.591Z"
   },
   {
    "duration": 30,
    "start_time": "2021-10-02T13:26:08.597Z"
   },
   {
    "duration": 12,
    "start_time": "2021-10-02T13:26:08.629Z"
   },
   {
    "duration": 6,
    "start_time": "2021-10-02T13:26:08.643Z"
   },
   {
    "duration": 11,
    "start_time": "2021-10-02T13:26:08.652Z"
   },
   {
    "duration": 5,
    "start_time": "2021-10-02T13:26:08.666Z"
   },
   {
    "duration": 50,
    "start_time": "2021-10-02T13:26:08.674Z"
   },
   {
    "duration": 7,
    "start_time": "2021-10-02T13:26:08.726Z"
   },
   {
    "duration": 16,
    "start_time": "2021-10-02T13:26:08.735Z"
   },
   {
    "duration": 7,
    "start_time": "2021-10-02T13:26:08.753Z"
   },
   {
    "duration": 14,
    "start_time": "2021-10-02T13:26:08.762Z"
   },
   {
    "duration": 12,
    "start_time": "2021-10-02T13:26:08.778Z"
   },
   {
    "duration": 42,
    "start_time": "2021-10-02T13:26:08.792Z"
   },
   {
    "duration": 12,
    "start_time": "2021-10-02T13:26:08.837Z"
   },
   {
    "duration": 7,
    "start_time": "2021-10-02T13:26:08.851Z"
   },
   {
    "duration": 884,
    "start_time": "2021-10-02T13:26:08.861Z"
   },
   {
    "duration": 15,
    "start_time": "2021-10-02T13:26:09.748Z"
   },
   {
    "duration": 5,
    "start_time": "2021-10-02T13:26:09.765Z"
   },
   {
    "duration": 16,
    "start_time": "2021-10-02T13:26:09.773Z"
   },
   {
    "duration": 27,
    "start_time": "2021-10-02T13:26:09.824Z"
   },
   {
    "duration": 1557,
    "start_time": "2021-10-02T13:26:09.854Z"
   },
   {
    "duration": 32,
    "start_time": "2021-10-02T13:26:11.413Z"
   },
   {
    "duration": 13,
    "start_time": "2021-10-02T13:26:11.448Z"
   },
   {
    "duration": 564,
    "start_time": "2021-10-02T13:26:11.463Z"
   },
   {
    "duration": 635,
    "start_time": "2021-10-02T13:26:12.030Z"
   },
   {
    "duration": 797,
    "start_time": "2021-10-02T13:26:12.668Z"
   },
   {
    "duration": 14,
    "start_time": "2021-10-02T13:26:13.468Z"
   },
   {
    "duration": 534,
    "start_time": "2021-10-02T13:26:13.485Z"
   },
   {
    "duration": 503,
    "start_time": "2021-10-02T13:26:14.021Z"
   },
   {
    "duration": 19,
    "start_time": "2021-10-02T13:26:14.527Z"
   },
   {
    "duration": 738,
    "start_time": "2021-10-02T13:26:14.550Z"
   },
   {
    "duration": 521,
    "start_time": "2021-10-02T13:26:15.290Z"
   },
   {
    "duration": 21,
    "start_time": "2021-10-02T13:26:15.814Z"
   },
   {
    "duration": 499,
    "start_time": "2021-10-02T13:26:15.838Z"
   },
   {
    "duration": 484,
    "start_time": "2021-10-02T13:26:16.339Z"
   },
   {
    "duration": 15,
    "start_time": "2021-10-02T13:26:16.826Z"
   },
   {
    "duration": 481,
    "start_time": "2021-10-02T13:26:16.843Z"
   },
   {
    "duration": 496,
    "start_time": "2021-10-02T13:26:17.327Z"
   },
   {
    "duration": 20,
    "start_time": "2021-10-02T13:26:17.827Z"
   },
   {
    "duration": 486,
    "start_time": "2021-10-02T13:26:17.850Z"
   },
   {
    "duration": 491,
    "start_time": "2021-10-02T13:26:18.339Z"
   },
   {
    "duration": 15,
    "start_time": "2021-10-02T13:26:18.833Z"
   },
   {
    "duration": 872,
    "start_time": "2021-10-02T13:26:18.851Z"
   },
   {
    "duration": 520,
    "start_time": "2021-10-02T13:26:19.726Z"
   },
   {
    "duration": 14,
    "start_time": "2021-10-02T13:26:20.248Z"
   },
   {
    "duration": 562,
    "start_time": "2021-10-02T13:26:20.264Z"
   },
   {
    "duration": 11,
    "start_time": "2021-10-02T13:26:20.828Z"
   },
   {
    "duration": 346,
    "start_time": "2021-10-02T13:26:20.841Z"
   },
   {
    "duration": 14,
    "start_time": "2021-10-02T13:26:21.189Z"
   },
   {
    "duration": 378,
    "start_time": "2021-10-02T13:26:21.205Z"
   },
   {
    "duration": 13,
    "start_time": "2021-10-02T13:26:21.586Z"
   },
   {
    "duration": 376,
    "start_time": "2021-10-02T13:26:21.602Z"
   },
   {
    "duration": 13,
    "start_time": "2021-10-02T13:26:21.981Z"
   },
   {
    "duration": 370,
    "start_time": "2021-10-02T13:26:21.997Z"
   },
   {
    "duration": 12,
    "start_time": "2021-10-02T13:26:22.370Z"
   },
   {
    "duration": 375,
    "start_time": "2021-10-02T13:26:22.385Z"
   },
   {
    "duration": 13,
    "start_time": "2021-10-02T13:26:22.763Z"
   },
   {
    "duration": 364,
    "start_time": "2021-10-02T13:26:22.779Z"
   },
   {
    "duration": 13,
    "start_time": "2021-10-02T13:26:23.146Z"
   },
   {
    "duration": 491,
    "start_time": "2021-10-02T13:26:23.162Z"
   },
   {
    "duration": 68,
    "start_time": "2021-10-02T13:26:23.656Z"
   },
   {
    "duration": 644,
    "start_time": "2021-10-02T13:26:23.726Z"
   },
   {
    "duration": 11,
    "start_time": "2021-10-02T13:26:24.423Z"
   },
   {
    "duration": 450,
    "start_time": "2021-10-02T13:26:24.437Z"
   },
   {
    "duration": 28,
    "start_time": "2021-10-02T13:26:24.895Z"
   },
   {
    "duration": 16,
    "start_time": "2021-10-02T13:26:24.927Z"
   },
   {
    "duration": 18,
    "start_time": "2021-10-02T13:26:24.946Z"
   },
   {
    "duration": 64,
    "start_time": "2021-10-02T13:26:24.967Z"
   },
   {
    "duration": 94,
    "start_time": "2021-10-02T13:26:43.617Z"
   },
   {
    "duration": 11,
    "start_time": "2021-10-02T13:26:47.666Z"
   },
   {
    "duration": 10,
    "start_time": "2021-10-02T13:27:20.581Z"
   },
   {
    "duration": 1413,
    "start_time": "2021-10-02T13:29:14.126Z"
   },
   {
    "duration": 24,
    "start_time": "2021-10-02T13:29:15.541Z"
   },
   {
    "duration": 26,
    "start_time": "2021-10-02T13:29:15.568Z"
   },
   {
    "duration": 4,
    "start_time": "2021-10-02T13:29:15.597Z"
   },
   {
    "duration": 7,
    "start_time": "2021-10-02T13:29:15.623Z"
   },
   {
    "duration": 17,
    "start_time": "2021-10-02T13:29:15.633Z"
   },
   {
    "duration": 17,
    "start_time": "2021-10-02T13:29:15.653Z"
   },
   {
    "duration": 12,
    "start_time": "2021-10-02T13:29:15.674Z"
   },
   {
    "duration": 34,
    "start_time": "2021-10-02T13:29:15.688Z"
   },
   {
    "duration": 7,
    "start_time": "2021-10-02T13:29:15.725Z"
   },
   {
    "duration": 12,
    "start_time": "2021-10-02T13:29:15.734Z"
   },
   {
    "duration": 12,
    "start_time": "2021-10-02T13:29:15.748Z"
   },
   {
    "duration": 9,
    "start_time": "2021-10-02T13:29:15.763Z"
   },
   {
    "duration": 21,
    "start_time": "2021-10-02T13:29:15.775Z"
   },
   {
    "duration": 31,
    "start_time": "2021-10-02T13:29:15.799Z"
   },
   {
    "duration": 14,
    "start_time": "2021-10-02T13:29:15.832Z"
   },
   {
    "duration": 8,
    "start_time": "2021-10-02T13:29:15.848Z"
   },
   {
    "duration": 10,
    "start_time": "2021-10-02T13:29:15.858Z"
   },
   {
    "duration": 781,
    "start_time": "2021-10-02T13:29:15.870Z"
   },
   {
    "duration": 19,
    "start_time": "2021-10-02T13:29:16.654Z"
   },
   {
    "duration": 5,
    "start_time": "2021-10-02T13:29:16.675Z"
   },
   {
    "duration": 24,
    "start_time": "2021-10-02T13:29:16.682Z"
   },
   {
    "duration": 26,
    "start_time": "2021-10-02T13:29:16.725Z"
   },
   {
    "duration": 1287,
    "start_time": "2021-10-02T13:29:16.755Z"
   },
   {
    "duration": 28,
    "start_time": "2021-10-02T13:29:18.045Z"
   },
   {
    "duration": 26,
    "start_time": "2021-10-02T13:29:18.076Z"
   },
   {
    "duration": 561,
    "start_time": "2021-10-02T13:29:18.104Z"
   },
   {
    "duration": 605,
    "start_time": "2021-10-02T13:29:18.668Z"
   },
   {
    "duration": 794,
    "start_time": "2021-10-02T13:29:19.275Z"
   },
   {
    "duration": 15,
    "start_time": "2021-10-02T13:29:20.071Z"
   },
   {
    "duration": 521,
    "start_time": "2021-10-02T13:29:20.088Z"
   },
   {
    "duration": 530,
    "start_time": "2021-10-02T13:29:20.611Z"
   },
   {
    "duration": 13,
    "start_time": "2021-10-02T13:29:21.144Z"
   },
   {
    "duration": 494,
    "start_time": "2021-10-02T13:29:21.160Z"
   },
   {
    "duration": 490,
    "start_time": "2021-10-02T13:29:21.656Z"
   },
   {
    "duration": 16,
    "start_time": "2021-10-02T13:29:22.148Z"
   },
   {
    "duration": 523,
    "start_time": "2021-10-02T13:29:22.167Z"
   },
   {
    "duration": 553,
    "start_time": "2021-10-02T13:29:22.693Z"
   },
   {
    "duration": 15,
    "start_time": "2021-10-02T13:29:23.248Z"
   },
   {
    "duration": 491,
    "start_time": "2021-10-02T13:29:23.266Z"
   },
   {
    "duration": 480,
    "start_time": "2021-10-02T13:29:23.759Z"
   },
   {
    "duration": 15,
    "start_time": "2021-10-02T13:29:24.241Z"
   },
   {
    "duration": 475,
    "start_time": "2021-10-02T13:29:24.258Z"
   },
   {
    "duration": 479,
    "start_time": "2021-10-02T13:29:24.735Z"
   },
   {
    "duration": 15,
    "start_time": "2021-10-02T13:29:25.216Z"
   },
   {
    "duration": 578,
    "start_time": "2021-10-02T13:29:25.233Z"
   },
   {
    "duration": 507,
    "start_time": "2021-10-02T13:29:25.813Z"
   },
   {
    "duration": 15,
    "start_time": "2021-10-02T13:29:26.323Z"
   },
   {
    "duration": 554,
    "start_time": "2021-10-02T13:29:26.340Z"
   },
   {
    "duration": 11,
    "start_time": "2021-10-02T13:29:26.896Z"
   },
   {
    "duration": 339,
    "start_time": "2021-10-02T13:29:26.922Z"
   },
   {
    "duration": 11,
    "start_time": "2021-10-02T13:29:27.263Z"
   },
   {
    "duration": 376,
    "start_time": "2021-10-02T13:29:27.277Z"
   },
   {
    "duration": 11,
    "start_time": "2021-10-02T13:29:27.655Z"
   },
   {
    "duration": 367,
    "start_time": "2021-10-02T13:29:27.669Z"
   },
   {
    "duration": 11,
    "start_time": "2021-10-02T13:29:28.039Z"
   },
   {
    "duration": 353,
    "start_time": "2021-10-02T13:29:28.052Z"
   },
   {
    "duration": 18,
    "start_time": "2021-10-02T13:29:28.408Z"
   },
   {
    "duration": 358,
    "start_time": "2021-10-02T13:29:28.428Z"
   },
   {
    "duration": 12,
    "start_time": "2021-10-02T13:29:28.788Z"
   },
   {
    "duration": 351,
    "start_time": "2021-10-02T13:29:28.803Z"
   },
   {
    "duration": 12,
    "start_time": "2021-10-02T13:29:29.156Z"
   },
   {
    "duration": 378,
    "start_time": "2021-10-02T13:29:29.170Z"
   },
   {
    "duration": 10,
    "start_time": "2021-10-02T13:29:29.551Z"
   },
   {
    "duration": 349,
    "start_time": "2021-10-02T13:29:29.563Z"
   },
   {
    "duration": 16,
    "start_time": "2021-10-02T13:29:29.914Z"
   },
   {
    "duration": 472,
    "start_time": "2021-10-02T13:29:29.933Z"
   },
   {
    "duration": 20,
    "start_time": "2021-10-02T13:29:30.412Z"
   },
   {
    "duration": 45,
    "start_time": "2021-10-02T13:29:30.434Z"
   },
   {
    "duration": 40,
    "start_time": "2021-10-02T13:29:30.481Z"
   },
   {
    "duration": 37,
    "start_time": "2021-10-02T13:29:30.523Z"
   }
  ],
  "kernelspec": {
   "display_name": "Python 3",
   "language": "python",
   "name": "python3"
  },
  "language_info": {
   "codemirror_mode": {
    "name": "ipython",
    "version": 3
   },
   "file_extension": ".py",
   "mimetype": "text/x-python",
   "name": "python",
   "nbconvert_exporter": "python",
   "pygments_lexer": "ipython3",
   "version": "3.7.10"
  },
  "toc": {
   "base_numbering": 1,
   "nav_menu": {},
   "number_sections": false,
   "sideBar": true,
   "skip_h1_title": true,
   "title_cell": "Содержание",
   "title_sidebar": "Содержание",
   "toc_cell": true,
   "toc_position": {
    "height": "calc(100% - 180px)",
    "left": "10px",
    "top": "150px",
    "width": "383px"
   },
   "toc_section_display": true,
   "toc_window_display": true
  }
 },
 "nbformat": 4,
 "nbformat_minor": 5
}

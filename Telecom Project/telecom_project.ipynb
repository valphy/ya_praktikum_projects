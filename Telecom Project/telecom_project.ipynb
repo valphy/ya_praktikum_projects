{
 "cells": [
  {
   "cell_type": "markdown",
   "metadata": {
    "toc": true
   },
   "source": [
    "<h1>Содержание<span class=\"tocSkip\"></span></h1>\n",
    "<div class=\"toc\"><ul class=\"toc-item\"><li><span><a href=\"#Изучение-данных-из-файла\" data-toc-modified-id=\"Изучение-данных-из-файла-1\"><span class=\"toc-item-num\">1&nbsp;&nbsp;</span>Изучение данных из файла</a></span><ul class=\"toc-item\"><li><span><a href=\"#Вывод\" data-toc-modified-id=\"Вывод-1.1\"><span class=\"toc-item-num\">1.1&nbsp;&nbsp;</span>Вывод</a></span></li></ul></li><li><span><a href=\"#Предобработка-данных\" data-toc-modified-id=\"Предобработка-данных-2\"><span class=\"toc-item-num\">2&nbsp;&nbsp;</span>Предобработка данных</a></span><ul class=\"toc-item\"><li><span><a href=\"#Итоги\" data-toc-modified-id=\"Итоги-2.1\"><span class=\"toc-item-num\">2.1&nbsp;&nbsp;</span>Итоги</a></span></li></ul></li><li><span><a href=\"#Подготовка-данных\" data-toc-modified-id=\"Подготовка-данных-3\"><span class=\"toc-item-num\">3&nbsp;&nbsp;</span>Подготовка данных</a></span><ul class=\"toc-item\"><li><span><a href=\"#Общая-подготовка\" data-toc-modified-id=\"Общая-подготовка-3.1\"><span class=\"toc-item-num\">3.1&nbsp;&nbsp;</span>Общая подготовка</a></span></li><li><span><a href=\"#Объединение-таблиц\" data-toc-modified-id=\"Объединение-таблиц-3.2\"><span class=\"toc-item-num\">3.2&nbsp;&nbsp;</span>Объединение таблиц</a></span></li><li><span><a href=\"#Подсчет-прибыли\" data-toc-modified-id=\"Подсчет-прибыли-3.3\"><span class=\"toc-item-num\">3.3&nbsp;&nbsp;</span>Подсчет прибыли</a></span></li><li><span><a href=\"#Итоги\" data-toc-modified-id=\"Итоги-3.4\"><span class=\"toc-item-num\">3.4&nbsp;&nbsp;</span>Итоги</a></span></li></ul></li><li><span><a href=\"#Исследовательский-анализ-данных\" data-toc-modified-id=\"Исследовательский-анализ-данных-4\"><span class=\"toc-item-num\">4&nbsp;&nbsp;</span>Исследовательский анализ данных</a></span><ul class=\"toc-item\"><li><span><a href=\"#Минуты\" data-toc-modified-id=\"Минуты-4.1\"><span class=\"toc-item-num\">4.1&nbsp;&nbsp;</span>Минуты</a></span></li><li><span><a href=\"#Сообщения\" data-toc-modified-id=\"Сообщения-4.2\"><span class=\"toc-item-num\">4.2&nbsp;&nbsp;</span>Сообщения</a></span></li><li><span><a href=\"#Интернет\" data-toc-modified-id=\"Интернет-4.3\"><span class=\"toc-item-num\">4.3&nbsp;&nbsp;</span>Интернет</a></span></li><li><span><a href=\"#Итоги\" data-toc-modified-id=\"Итоги-4.4\"><span class=\"toc-item-num\">4.4&nbsp;&nbsp;</span>Итоги</a></span></li></ul></li><li><span><a href=\"#Проверка-гипотез\" data-toc-modified-id=\"Проверка-гипотез-5\"><span class=\"toc-item-num\">5&nbsp;&nbsp;</span>Проверка гипотез</a></span><ul class=\"toc-item\"><li><span><a href=\"#Первая-гипотеза\" data-toc-modified-id=\"Первая-гипотеза-5.1\"><span class=\"toc-item-num\">5.1&nbsp;&nbsp;</span>Первая гипотеза</a></span></li><li><span><a href=\"#Итоги\" data-toc-modified-id=\"Итоги-5.2\"><span class=\"toc-item-num\">5.2&nbsp;&nbsp;</span>Итоги</a></span></li><li><span><a href=\"#Вторая-гипотеза\" data-toc-modified-id=\"Вторая-гипотеза-5.3\"><span class=\"toc-item-num\">5.3&nbsp;&nbsp;</span>Вторая гипотеза</a></span></li><li><span><a href=\"#Итоги\" data-toc-modified-id=\"Итоги-5.4\"><span class=\"toc-item-num\">5.4&nbsp;&nbsp;</span>Итоги</a></span></li></ul></li><li><span><a href=\"#Выводы\" data-toc-modified-id=\"Выводы-6\"><span class=\"toc-item-num\">6&nbsp;&nbsp;</span>Выводы</a></span></li></ul></div>"
   ]
  },
  {
   "cell_type": "markdown",
   "metadata": {},
   "source": [
    " # Определение перспективного тарифа для телеком компании\n",
    "\n",
    "\n",
    "Клиентам предлагают два тарифных плана: «Смарт» и «Ультра». Чтобы скорректировать рекламный бюджет, требуется понять, какой тариф приносит больше денег.  \n",
    "\n",
    "Предстоит сделать предварительный анализ тарифов на небольшой выборке клиентов. В нашем распоряжении данные 500 пользователей: кто они, откуда, каким тарифом пользуются, сколько звонков и сообщений каждый отправил за 2018 год. Нужно проанализировать поведение клиентов и сделать вывод — какой тариф лучше."
   ]
  },
  {
   "cell_type": "markdown",
   "metadata": {},
   "source": [
    " ## Изучение данных из файла"
   ]
  },
  {
   "cell_type": "code",
   "execution_count": 1,
   "metadata": {},
   "outputs": [],
   "source": [
    "import warnings\n",
    "warnings.filterwarnings('ignore')\n",
    "import pandas as pd\n",
    "import numpy as np\n",
    "from scipy import stats as st\n",
    "import matplotlib.pyplot as plt\n",
    "from pylab import rcParams\n",
    "rcParams['figure.figsize'] = 10, 7\n",
    "from matplotlib import cycler\n",
    "colors = cycler('color',\n",
    "                ['#EAC435', '#345995', '#8C2D7E',\n",
    "                 '#E40066', '#03CEA4', '#FB4D3D',\n",
    "                 '#806045', '#04724D', '#FFFFFF',\n",
    "                 '#00A8E8', '#88BB44', '#FFBBBB','#00FF00','#000000'])\n",
    "plt.rc('axes',facecolor='#E6E6E6',  edgecolor='none',\n",
    "       axisbelow=True, grid=True, prop_cycle=colors)\n",
    "plt.rc('grid', color='w', linestyle='solid')\n",
    "plt.rc('xtick', direction='out', color='gray')\n",
    "plt.rc('ytick', direction='out', color='gray')\n",
    "plt.rc('patch', edgecolor='#E6E6E6')\n",
    "plt.rc('lines', linewidth=2)\n",
    "plt.rcParams.update({\n",
    "    \"figure.facecolor\":  (1.0, 1.0, 1.0, 0.999)})"
   ]
  },
  {
   "cell_type": "code",
   "execution_count": 2,
   "metadata": {},
   "outputs": [],
   "source": [
    "calls = pd.read_csv('/datasets/calls.csv')\n",
    "internet = pd.read_csv('/datasets/internet.csv')\n",
    "messages = pd.read_csv('/datasets/messages.csv')\n",
    "tariffs = pd.read_csv('/datasets/tariffs.csv')\n",
    "users = pd.read_csv('/datasets/users.csv')"
   ]
  },
  {
   "cell_type": "code",
   "execution_count": 3,
   "metadata": {},
   "outputs": [
    {
     "data": {
      "text/html": [
       "<div>\n",
       "<style scoped>\n",
       "    .dataframe tbody tr th:only-of-type {\n",
       "        vertical-align: middle;\n",
       "    }\n",
       "\n",
       "    .dataframe tbody tr th {\n",
       "        vertical-align: top;\n",
       "    }\n",
       "\n",
       "    .dataframe thead th {\n",
       "        text-align: right;\n",
       "    }\n",
       "</style>\n",
       "<table border=\"1\" class=\"dataframe\">\n",
       "  <thead>\n",
       "    <tr style=\"text-align: right;\">\n",
       "      <th></th>\n",
       "      <th>id</th>\n",
       "      <th>call_date</th>\n",
       "      <th>duration</th>\n",
       "      <th>user_id</th>\n",
       "    </tr>\n",
       "  </thead>\n",
       "  <tbody>\n",
       "    <tr>\n",
       "      <td>0</td>\n",
       "      <td>1000_0</td>\n",
       "      <td>2018-07-25</td>\n",
       "      <td>0.00</td>\n",
       "      <td>1000</td>\n",
       "    </tr>\n",
       "    <tr>\n",
       "      <td>1</td>\n",
       "      <td>1000_1</td>\n",
       "      <td>2018-08-17</td>\n",
       "      <td>0.00</td>\n",
       "      <td>1000</td>\n",
       "    </tr>\n",
       "    <tr>\n",
       "      <td>2</td>\n",
       "      <td>1000_2</td>\n",
       "      <td>2018-06-11</td>\n",
       "      <td>2.85</td>\n",
       "      <td>1000</td>\n",
       "    </tr>\n",
       "    <tr>\n",
       "      <td>3</td>\n",
       "      <td>1000_3</td>\n",
       "      <td>2018-09-21</td>\n",
       "      <td>13.80</td>\n",
       "      <td>1000</td>\n",
       "    </tr>\n",
       "    <tr>\n",
       "      <td>4</td>\n",
       "      <td>1000_4</td>\n",
       "      <td>2018-12-15</td>\n",
       "      <td>5.18</td>\n",
       "      <td>1000</td>\n",
       "    </tr>\n",
       "  </tbody>\n",
       "</table>\n",
       "</div>"
      ],
      "text/plain": [
       "       id   call_date  duration  user_id\n",
       "0  1000_0  2018-07-25      0.00     1000\n",
       "1  1000_1  2018-08-17      0.00     1000\n",
       "2  1000_2  2018-06-11      2.85     1000\n",
       "3  1000_3  2018-09-21     13.80     1000\n",
       "4  1000_4  2018-12-15      5.18     1000"
      ]
     },
     "execution_count": 3,
     "metadata": {},
     "output_type": "execute_result"
    }
   ],
   "source": [
    "calls.head()"
   ]
  },
  {
   "cell_type": "code",
   "execution_count": 4,
   "metadata": {},
   "outputs": [
    {
     "name": "stdout",
     "output_type": "stream",
     "text": [
      "<class 'pandas.core.frame.DataFrame'>\n",
      "RangeIndex: 202607 entries, 0 to 202606\n",
      "Data columns (total 4 columns):\n",
      "id           202607 non-null object\n",
      "call_date    202607 non-null object\n",
      "duration     202607 non-null float64\n",
      "user_id      202607 non-null int64\n",
      "dtypes: float64(1), int64(1), object(2)\n",
      "memory usage: 6.2+ MB\n"
     ]
    }
   ],
   "source": [
    "calls.info()"
   ]
  },
  {
   "cell_type": "markdown",
   "metadata": {},
   "source": [
    "В таблице calls представлена информация о звонках пользователей.\n",
    "\n",
    "В столбце duration обнаружены нулевые значение - это могут быть пропущенные звонки. Выделим их в отдельную группу и учтем в дальнейшем.\n",
    "\n",
    "Неверные типы:\n",
    "- call_date - для дат тип следует поменять на date_time\n"
   ]
  },
  {
   "cell_type": "code",
   "execution_count": 5,
   "metadata": {},
   "outputs": [
    {
     "data": {
      "text/html": [
       "<div>\n",
       "<style scoped>\n",
       "    .dataframe tbody tr th:only-of-type {\n",
       "        vertical-align: middle;\n",
       "    }\n",
       "\n",
       "    .dataframe tbody tr th {\n",
       "        vertical-align: top;\n",
       "    }\n",
       "\n",
       "    .dataframe thead th {\n",
       "        text-align: right;\n",
       "    }\n",
       "</style>\n",
       "<table border=\"1\" class=\"dataframe\">\n",
       "  <thead>\n",
       "    <tr style=\"text-align: right;\">\n",
       "      <th></th>\n",
       "      <th>id</th>\n",
       "      <th>message_date</th>\n",
       "      <th>user_id</th>\n",
       "    </tr>\n",
       "  </thead>\n",
       "  <tbody>\n",
       "    <tr>\n",
       "      <td>0</td>\n",
       "      <td>1000_0</td>\n",
       "      <td>2018-06-27</td>\n",
       "      <td>1000</td>\n",
       "    </tr>\n",
       "    <tr>\n",
       "      <td>1</td>\n",
       "      <td>1000_1</td>\n",
       "      <td>2018-10-08</td>\n",
       "      <td>1000</td>\n",
       "    </tr>\n",
       "    <tr>\n",
       "      <td>2</td>\n",
       "      <td>1000_2</td>\n",
       "      <td>2018-08-04</td>\n",
       "      <td>1000</td>\n",
       "    </tr>\n",
       "    <tr>\n",
       "      <td>3</td>\n",
       "      <td>1000_3</td>\n",
       "      <td>2018-06-16</td>\n",
       "      <td>1000</td>\n",
       "    </tr>\n",
       "    <tr>\n",
       "      <td>4</td>\n",
       "      <td>1000_4</td>\n",
       "      <td>2018-12-05</td>\n",
       "      <td>1000</td>\n",
       "    </tr>\n",
       "  </tbody>\n",
       "</table>\n",
       "</div>"
      ],
      "text/plain": [
       "       id message_date  user_id\n",
       "0  1000_0   2018-06-27     1000\n",
       "1  1000_1   2018-10-08     1000\n",
       "2  1000_2   2018-08-04     1000\n",
       "3  1000_3   2018-06-16     1000\n",
       "4  1000_4   2018-12-05     1000"
      ]
     },
     "execution_count": 5,
     "metadata": {},
     "output_type": "execute_result"
    }
   ],
   "source": [
    "messages.head()"
   ]
  },
  {
   "cell_type": "code",
   "execution_count": 6,
   "metadata": {},
   "outputs": [
    {
     "name": "stdout",
     "output_type": "stream",
     "text": [
      "<class 'pandas.core.frame.DataFrame'>\n",
      "RangeIndex: 123036 entries, 0 to 123035\n",
      "Data columns (total 3 columns):\n",
      "id              123036 non-null object\n",
      "message_date    123036 non-null object\n",
      "user_id         123036 non-null int64\n",
      "dtypes: int64(1), object(2)\n",
      "memory usage: 2.8+ MB\n"
     ]
    }
   ],
   "source": [
    "messages.info()"
   ]
  },
  {
   "cell_type": "markdown",
   "metadata": {},
   "source": [
    "В таблице messages представлена информация о сообщениях пользователей.\n",
    "\n",
    "Неверные типы:\n",
    "- message_date - для дат тип следует поменять на date_time\n"
   ]
  },
  {
   "cell_type": "code",
   "execution_count": 7,
   "metadata": {},
   "outputs": [
    {
     "data": {
      "text/html": [
       "<div>\n",
       "<style scoped>\n",
       "    .dataframe tbody tr th:only-of-type {\n",
       "        vertical-align: middle;\n",
       "    }\n",
       "\n",
       "    .dataframe tbody tr th {\n",
       "        vertical-align: top;\n",
       "    }\n",
       "\n",
       "    .dataframe thead th {\n",
       "        text-align: right;\n",
       "    }\n",
       "</style>\n",
       "<table border=\"1\" class=\"dataframe\">\n",
       "  <thead>\n",
       "    <tr style=\"text-align: right;\">\n",
       "      <th></th>\n",
       "      <th>Unnamed: 0</th>\n",
       "      <th>id</th>\n",
       "      <th>mb_used</th>\n",
       "      <th>session_date</th>\n",
       "      <th>user_id</th>\n",
       "    </tr>\n",
       "  </thead>\n",
       "  <tbody>\n",
       "    <tr>\n",
       "      <td>0</td>\n",
       "      <td>0</td>\n",
       "      <td>1000_0</td>\n",
       "      <td>112.95</td>\n",
       "      <td>2018-11-25</td>\n",
       "      <td>1000</td>\n",
       "    </tr>\n",
       "    <tr>\n",
       "      <td>1</td>\n",
       "      <td>1</td>\n",
       "      <td>1000_1</td>\n",
       "      <td>1052.81</td>\n",
       "      <td>2018-09-07</td>\n",
       "      <td>1000</td>\n",
       "    </tr>\n",
       "    <tr>\n",
       "      <td>2</td>\n",
       "      <td>2</td>\n",
       "      <td>1000_2</td>\n",
       "      <td>1197.26</td>\n",
       "      <td>2018-06-25</td>\n",
       "      <td>1000</td>\n",
       "    </tr>\n",
       "    <tr>\n",
       "      <td>3</td>\n",
       "      <td>3</td>\n",
       "      <td>1000_3</td>\n",
       "      <td>550.27</td>\n",
       "      <td>2018-08-22</td>\n",
       "      <td>1000</td>\n",
       "    </tr>\n",
       "    <tr>\n",
       "      <td>4</td>\n",
       "      <td>4</td>\n",
       "      <td>1000_4</td>\n",
       "      <td>302.56</td>\n",
       "      <td>2018-09-24</td>\n",
       "      <td>1000</td>\n",
       "    </tr>\n",
       "  </tbody>\n",
       "</table>\n",
       "</div>"
      ],
      "text/plain": [
       "   Unnamed: 0      id  mb_used session_date  user_id\n",
       "0           0  1000_0   112.95   2018-11-25     1000\n",
       "1           1  1000_1  1052.81   2018-09-07     1000\n",
       "2           2  1000_2  1197.26   2018-06-25     1000\n",
       "3           3  1000_3   550.27   2018-08-22     1000\n",
       "4           4  1000_4   302.56   2018-09-24     1000"
      ]
     },
     "execution_count": 7,
     "metadata": {},
     "output_type": "execute_result"
    }
   ],
   "source": [
    "internet.head()"
   ]
  },
  {
   "cell_type": "code",
   "execution_count": 8,
   "metadata": {},
   "outputs": [
    {
     "name": "stdout",
     "output_type": "stream",
     "text": [
      "<class 'pandas.core.frame.DataFrame'>\n",
      "RangeIndex: 149396 entries, 0 to 149395\n",
      "Data columns (total 5 columns):\n",
      "Unnamed: 0      149396 non-null int64\n",
      "id              149396 non-null object\n",
      "mb_used         149396 non-null float64\n",
      "session_date    149396 non-null object\n",
      "user_id         149396 non-null int64\n",
      "dtypes: float64(1), int64(2), object(2)\n",
      "memory usage: 5.7+ MB\n"
     ]
    }
   ],
   "source": [
    "internet.info()"
   ]
  },
  {
   "cell_type": "markdown",
   "metadata": {},
   "source": [
    "Беря во внимание наличие нулевых значений звонков, проверим наличие нулевых значений трафика."
   ]
  },
  {
   "cell_type": "code",
   "execution_count": 9,
   "metadata": {},
   "outputs": [
    {
     "name": "stdout",
     "output_type": "stream",
     "text": [
      "Количество строк с нулевым значением mb_used: 19598\n"
     ]
    }
   ],
   "source": [
    "print('Количество строк с нулевым значением mb_used:', len(internet.query('mb_used == 0')))"
   ]
  },
  {
   "cell_type": "markdown",
   "metadata": {},
   "source": [
    "В таблице internet представлена информация об интернет-сессиях пользователей.\n",
    "\n",
    "Неверные типы:\n",
    "- session_date - для дат тип следует поменять на date_time\n",
    "\n",
    "\n",
    "Так же обнаружены 19598 строк с нулевым значением mb_used и лишний стобец, дублирующий индекс."
   ]
  },
  {
   "cell_type": "code",
   "execution_count": 10,
   "metadata": {},
   "outputs": [
    {
     "data": {
      "text/html": [
       "<div>\n",
       "<style scoped>\n",
       "    .dataframe tbody tr th:only-of-type {\n",
       "        vertical-align: middle;\n",
       "    }\n",
       "\n",
       "    .dataframe tbody tr th {\n",
       "        vertical-align: top;\n",
       "    }\n",
       "\n",
       "    .dataframe thead th {\n",
       "        text-align: right;\n",
       "    }\n",
       "</style>\n",
       "<table border=\"1\" class=\"dataframe\">\n",
       "  <thead>\n",
       "    <tr style=\"text-align: right;\">\n",
       "      <th></th>\n",
       "      <th>messages_included</th>\n",
       "      <th>mb_per_month_included</th>\n",
       "      <th>minutes_included</th>\n",
       "      <th>rub_monthly_fee</th>\n",
       "      <th>rub_per_gb</th>\n",
       "      <th>rub_per_message</th>\n",
       "      <th>rub_per_minute</th>\n",
       "      <th>tariff_name</th>\n",
       "    </tr>\n",
       "  </thead>\n",
       "  <tbody>\n",
       "    <tr>\n",
       "      <td>0</td>\n",
       "      <td>50</td>\n",
       "      <td>15360</td>\n",
       "      <td>500</td>\n",
       "      <td>550</td>\n",
       "      <td>200</td>\n",
       "      <td>3</td>\n",
       "      <td>3</td>\n",
       "      <td>smart</td>\n",
       "    </tr>\n",
       "    <tr>\n",
       "      <td>1</td>\n",
       "      <td>1000</td>\n",
       "      <td>30720</td>\n",
       "      <td>3000</td>\n",
       "      <td>1950</td>\n",
       "      <td>150</td>\n",
       "      <td>1</td>\n",
       "      <td>1</td>\n",
       "      <td>ultra</td>\n",
       "    </tr>\n",
       "  </tbody>\n",
       "</table>\n",
       "</div>"
      ],
      "text/plain": [
       "   messages_included  mb_per_month_included  minutes_included  \\\n",
       "0                 50                  15360               500   \n",
       "1               1000                  30720              3000   \n",
       "\n",
       "   rub_monthly_fee  rub_per_gb  rub_per_message  rub_per_minute tariff_name  \n",
       "0              550         200                3               3       smart  \n",
       "1             1950         150                1               1       ultra  "
      ]
     },
     "execution_count": 10,
     "metadata": {},
     "output_type": "execute_result"
    }
   ],
   "source": [
    "tariffs.head()"
   ]
  },
  {
   "cell_type": "markdown",
   "metadata": {},
   "source": [
    "В таблице tarrifs представлена информация о тарифах компании Мегалайн."
   ]
  },
  {
   "cell_type": "code",
   "execution_count": 11,
   "metadata": {},
   "outputs": [
    {
     "data": {
      "text/html": [
       "<div>\n",
       "<style scoped>\n",
       "    .dataframe tbody tr th:only-of-type {\n",
       "        vertical-align: middle;\n",
       "    }\n",
       "\n",
       "    .dataframe tbody tr th {\n",
       "        vertical-align: top;\n",
       "    }\n",
       "\n",
       "    .dataframe thead th {\n",
       "        text-align: right;\n",
       "    }\n",
       "</style>\n",
       "<table border=\"1\" class=\"dataframe\">\n",
       "  <thead>\n",
       "    <tr style=\"text-align: right;\">\n",
       "      <th></th>\n",
       "      <th>user_id</th>\n",
       "      <th>age</th>\n",
       "      <th>churn_date</th>\n",
       "      <th>city</th>\n",
       "      <th>first_name</th>\n",
       "      <th>last_name</th>\n",
       "      <th>reg_date</th>\n",
       "      <th>tariff</th>\n",
       "    </tr>\n",
       "  </thead>\n",
       "  <tbody>\n",
       "    <tr>\n",
       "      <td>0</td>\n",
       "      <td>1000</td>\n",
       "      <td>52</td>\n",
       "      <td>NaN</td>\n",
       "      <td>Краснодар</td>\n",
       "      <td>Рафаил</td>\n",
       "      <td>Верещагин</td>\n",
       "      <td>2018-05-25</td>\n",
       "      <td>ultra</td>\n",
       "    </tr>\n",
       "    <tr>\n",
       "      <td>1</td>\n",
       "      <td>1001</td>\n",
       "      <td>41</td>\n",
       "      <td>NaN</td>\n",
       "      <td>Москва</td>\n",
       "      <td>Иван</td>\n",
       "      <td>Ежов</td>\n",
       "      <td>2018-11-01</td>\n",
       "      <td>smart</td>\n",
       "    </tr>\n",
       "    <tr>\n",
       "      <td>2</td>\n",
       "      <td>1002</td>\n",
       "      <td>59</td>\n",
       "      <td>NaN</td>\n",
       "      <td>Стерлитамак</td>\n",
       "      <td>Евгений</td>\n",
       "      <td>Абрамович</td>\n",
       "      <td>2018-06-17</td>\n",
       "      <td>smart</td>\n",
       "    </tr>\n",
       "    <tr>\n",
       "      <td>3</td>\n",
       "      <td>1003</td>\n",
       "      <td>23</td>\n",
       "      <td>NaN</td>\n",
       "      <td>Москва</td>\n",
       "      <td>Белла</td>\n",
       "      <td>Белякова</td>\n",
       "      <td>2018-08-17</td>\n",
       "      <td>ultra</td>\n",
       "    </tr>\n",
       "    <tr>\n",
       "      <td>4</td>\n",
       "      <td>1004</td>\n",
       "      <td>68</td>\n",
       "      <td>NaN</td>\n",
       "      <td>Новокузнецк</td>\n",
       "      <td>Татьяна</td>\n",
       "      <td>Авдеенко</td>\n",
       "      <td>2018-05-14</td>\n",
       "      <td>ultra</td>\n",
       "    </tr>\n",
       "  </tbody>\n",
       "</table>\n",
       "</div>"
      ],
      "text/plain": [
       "   user_id  age churn_date         city first_name  last_name    reg_date  \\\n",
       "0     1000   52        NaN    Краснодар     Рафаил  Верещагин  2018-05-25   \n",
       "1     1001   41        NaN       Москва       Иван       Ежов  2018-11-01   \n",
       "2     1002   59        NaN  Стерлитамак    Евгений  Абрамович  2018-06-17   \n",
       "3     1003   23        NaN       Москва      Белла   Белякова  2018-08-17   \n",
       "4     1004   68        NaN  Новокузнецк    Татьяна   Авдеенко  2018-05-14   \n",
       "\n",
       "  tariff  \n",
       "0  ultra  \n",
       "1  smart  \n",
       "2  smart  \n",
       "3  ultra  \n",
       "4  ultra  "
      ]
     },
     "execution_count": 11,
     "metadata": {},
     "output_type": "execute_result"
    }
   ],
   "source": [
    "users.head()"
   ]
  },
  {
   "cell_type": "code",
   "execution_count": 12,
   "metadata": {},
   "outputs": [
    {
     "name": "stdout",
     "output_type": "stream",
     "text": [
      "<class 'pandas.core.frame.DataFrame'>\n",
      "RangeIndex: 500 entries, 0 to 499\n",
      "Data columns (total 8 columns):\n",
      "user_id       500 non-null int64\n",
      "age           500 non-null int64\n",
      "churn_date    38 non-null object\n",
      "city          500 non-null object\n",
      "first_name    500 non-null object\n",
      "last_name     500 non-null object\n",
      "reg_date      500 non-null object\n",
      "tariff        500 non-null object\n",
      "dtypes: int64(2), object(6)\n",
      "memory usage: 31.4+ KB\n"
     ]
    }
   ],
   "source": [
    "users.info()"
   ]
  },
  {
   "cell_type": "markdown",
   "metadata": {},
   "source": [
    "В таблице users представлена информация о пользвателях.\n",
    "\n",
    "Неверные типы:\n",
    "- churn_date - для дат тип следует поменять на date_time\n",
    "- reg_date - для дат тип следует поменять на date_time\n"
   ]
  },
  {
   "cell_type": "markdown",
   "metadata": {},
   "source": [
    "### Вывод"
   ]
  },
  {
   "cell_type": "markdown",
   "metadata": {},
   "source": [
    "Предоставленные данные это пять таблиц:\n",
    " - таблица calls с информацией о звонках пользователей.\n",
    " - таблица messages с информацией о собщениях.\n",
    " - таблица internet c информацией о интернет траффике.\n",
    " - таблица tariffs c информацией о тарифах.\n",
    " - таблица users с информацией о пользователях.\n",
    "\n",
    "При первом взгляде на данные были обнаружены проблемы, которые могут отрицательно повлиять на ход исследования:\n",
    "- Некорректные типы - следует исправить их для верного представления информации в ходе исследования.  \n",
    "- Обнаружены пропуски в значениях churn_date (дата прекращения пользования тарифом) в таблице users - они обозначают, что тариф ещё действовал на момент выгрузки данных. Следует обозначить их специалным значением.  \n",
    "- Столбец, дублирующий индекс в таблице internet нужно удалить.\n",
    "- Нулевые значения длительности звонков - следует обратить на них внимание и учесть при анализе данных, они могут обозначать пропущенные вызовы.\n",
    "- Нулевые значения трафика - следует удалить строки с нулевыми значениями - никакой полезной информации для данного исследования они не несут и являются скорее всего ошибкой при сборе данных."
   ]
  },
  {
   "cell_type": "markdown",
   "metadata": {},
   "source": [
    "##  Предобработка данных"
   ]
  },
  {
   "cell_type": "markdown",
   "metadata": {},
   "source": [
    "В таблице с информацией о тарифах заменим значения объема траффика на гигабайты."
   ]
  },
  {
   "cell_type": "code",
   "execution_count": 13,
   "metadata": {},
   "outputs": [],
   "source": [
    "tariffs['mb_per_month_included'] = tariffs['mb_per_month_included'] /1024\n",
    "tariffs['mb_per_month_included'] = tariffs['mb_per_month_included'].astype('int')\n",
    "tariffs.rename(columns = {'mb_per_month_included':'gb_per_month_included'}, inplace = True )"
   ]
  },
  {
   "cell_type": "code",
   "execution_count": 14,
   "metadata": {
    "scrolled": true
   },
   "outputs": [
    {
     "data": {
      "text/html": [
       "<div>\n",
       "<style scoped>\n",
       "    .dataframe tbody tr th:only-of-type {\n",
       "        vertical-align: middle;\n",
       "    }\n",
       "\n",
       "    .dataframe tbody tr th {\n",
       "        vertical-align: top;\n",
       "    }\n",
       "\n",
       "    .dataframe thead th {\n",
       "        text-align: right;\n",
       "    }\n",
       "</style>\n",
       "<table border=\"1\" class=\"dataframe\">\n",
       "  <thead>\n",
       "    <tr style=\"text-align: right;\">\n",
       "      <th></th>\n",
       "      <th>messages_included</th>\n",
       "      <th>gb_per_month_included</th>\n",
       "      <th>minutes_included</th>\n",
       "      <th>rub_monthly_fee</th>\n",
       "      <th>rub_per_gb</th>\n",
       "      <th>rub_per_message</th>\n",
       "      <th>rub_per_minute</th>\n",
       "      <th>tariff_name</th>\n",
       "    </tr>\n",
       "  </thead>\n",
       "  <tbody>\n",
       "    <tr>\n",
       "      <td>0</td>\n",
       "      <td>50</td>\n",
       "      <td>15</td>\n",
       "      <td>500</td>\n",
       "      <td>550</td>\n",
       "      <td>200</td>\n",
       "      <td>3</td>\n",
       "      <td>3</td>\n",
       "      <td>smart</td>\n",
       "    </tr>\n",
       "    <tr>\n",
       "      <td>1</td>\n",
       "      <td>1000</td>\n",
       "      <td>30</td>\n",
       "      <td>3000</td>\n",
       "      <td>1950</td>\n",
       "      <td>150</td>\n",
       "      <td>1</td>\n",
       "      <td>1</td>\n",
       "      <td>ultra</td>\n",
       "    </tr>\n",
       "  </tbody>\n",
       "</table>\n",
       "</div>"
      ],
      "text/plain": [
       "   messages_included  gb_per_month_included  minutes_included  \\\n",
       "0                 50                     15               500   \n",
       "1               1000                     30              3000   \n",
       "\n",
       "   rub_monthly_fee  rub_per_gb  rub_per_message  rub_per_minute tariff_name  \n",
       "0              550         200                3               3       smart  \n",
       "1             1950         150                1               1       ultra  "
      ]
     },
     "execution_count": 14,
     "metadata": {},
     "output_type": "execute_result"
    }
   ],
   "source": [
    "tariffs"
   ]
  },
  {
   "cell_type": "markdown",
   "metadata": {},
   "source": [
    "В таблице internet удалим строки с нулевыми значениями mb_used"
   ]
  },
  {
   "cell_type": "code",
   "execution_count": 15,
   "metadata": {},
   "outputs": [],
   "source": [
    "internet.drop(internet.index[internet['mb_used'] == 0], inplace = True)\n",
    "internet = internet.reset_index()"
   ]
  },
  {
   "cell_type": "markdown",
   "metadata": {},
   "source": [
    "Компания «Мегалайн» округляет секунды до минут - сделаем то же самое со значениями duration в таблице calls."
   ]
  },
  {
   "cell_type": "code",
   "execution_count": 16,
   "metadata": {},
   "outputs": [],
   "source": [
    "calls['duration'] = np.ceil(calls['duration'])"
   ]
  },
  {
   "cell_type": "markdown",
   "metadata": {},
   "source": [
    "Заменим типы в таблице calls и messages."
   ]
  },
  {
   "cell_type": "code",
   "execution_count": 17,
   "metadata": {},
   "outputs": [],
   "source": [
    "calls['call_date'] = pd.to_datetime(calls['call_date'])\n",
    "calls['duration'] = calls['duration'].astype('int')"
   ]
  },
  {
   "cell_type": "code",
   "execution_count": 18,
   "metadata": {},
   "outputs": [],
   "source": [
    "messages['message_date'] = pd.to_datetime(messages['message_date'])"
   ]
  },
  {
   "cell_type": "markdown",
   "metadata": {},
   "source": [
    "Удалим лишний столбец в internet и заменим типы."
   ]
  },
  {
   "cell_type": "code",
   "execution_count": 19,
   "metadata": {},
   "outputs": [],
   "source": [
    "internet = internet.drop('Unnamed: 0',axis = 1)"
   ]
  },
  {
   "cell_type": "code",
   "execution_count": 20,
   "metadata": {},
   "outputs": [],
   "source": [
    "internet['session_date'] = pd.to_datetime(internet['session_date'])"
   ]
  },
  {
   "cell_type": "markdown",
   "metadata": {},
   "source": [
    "В таблице users заполним пропуски значений churn_date заглушкой и заменим типы."
   ]
  },
  {
   "cell_type": "code",
   "execution_count": 21,
   "metadata": {},
   "outputs": [],
   "source": [
    "users['churn_date'] = users['churn_date'].fillna('1999-01-01')"
   ]
  },
  {
   "cell_type": "code",
   "execution_count": 22,
   "metadata": {},
   "outputs": [],
   "source": [
    "users['churn_date'] = pd.to_datetime(users['churn_date'])\n",
    "users['reg_date'] = pd.to_datetime(users['reg_date'])"
   ]
  },
  {
   "cell_type": "markdown",
   "metadata": {},
   "source": [
    "### Итоги"
   ]
  },
  {
   "cell_type": "markdown",
   "metadata": {},
   "source": [
    "- В таблице tariffs мегабайты были заменены на гигабайты.\n",
    "- Удалены строки с нулевыми значениями mb_used в таблице internet.\n",
    "- В таблице calls минуты округлены до часов и заменены типы данных:\n",
    " - call_date - тип date_time.\n",
    " - user_id - тип object.\n",
    " - duration - тип int.\n",
    "- Заменен тип данных в таблице messages:\n",
    " - message_date - тип date_time.\n",
    " - user_id - тип object.\n",
    "- Заменен тип данных в таблице internet:\n",
    " - session_date - тип date_time.\n",
    " - user_id - тип object.\n",
    "-  В таблице users пропущенные значения были заполнены заглушкой и заменены типы данных:\n",
    " - churn_date - тип date_time.\n",
    " - user_id - тип object.\n",
    " - reg_date - тип date_time."
   ]
  },
  {
   "cell_type": "markdown",
   "metadata": {},
   "source": [
    " ##  Подготовка данных"
   ]
  },
  {
   "cell_type": "markdown",
   "metadata": {},
   "source": [
    "### Общая подготовка"
   ]
  },
  {
   "cell_type": "markdown",
   "metadata": {},
   "source": [
    "Добавим в таблицы calls, messages и  internet стобцы с информацией о месяце."
   ]
  },
  {
   "cell_type": "code",
   "execution_count": 23,
   "metadata": {},
   "outputs": [],
   "source": [
    "calls['month'] = calls['call_date'].dt.month_name()\n",
    "messages['month'] = messages['message_date'].dt.month_name()\n",
    "internet['month'] = internet['session_date'].dt.month_name()"
   ]
  },
  {
   "cell_type": "markdown",
   "metadata": {},
   "source": [
    "Cгруппируем таблицу calls по user_id и месяцу, посчитаем общую продолжительность звонков в месяц, их общее количество и количество пропущенных. "
   ]
  },
  {
   "cell_type": "code",
   "execution_count": 24,
   "metadata": {},
   "outputs": [
    {
     "data": {
      "text/html": [
       "<div>\n",
       "<style scoped>\n",
       "    .dataframe tbody tr th:only-of-type {\n",
       "        vertical-align: middle;\n",
       "    }\n",
       "\n",
       "    .dataframe tbody tr th {\n",
       "        vertical-align: top;\n",
       "    }\n",
       "\n",
       "    .dataframe thead th {\n",
       "        text-align: right;\n",
       "    }\n",
       "</style>\n",
       "<table border=\"1\" class=\"dataframe\">\n",
       "  <thead>\n",
       "    <tr style=\"text-align: right;\">\n",
       "      <th></th>\n",
       "      <th>user_id</th>\n",
       "      <th>month</th>\n",
       "      <th>duration</th>\n",
       "      <th>missed_calls</th>\n",
       "      <th>all_calls</th>\n",
       "    </tr>\n",
       "  </thead>\n",
       "  <tbody>\n",
       "    <tr>\n",
       "      <td>0</td>\n",
       "      <td>1000</td>\n",
       "      <td>August</td>\n",
       "      <td>408</td>\n",
       "      <td>10</td>\n",
       "      <td>52</td>\n",
       "    </tr>\n",
       "    <tr>\n",
       "      <td>1</td>\n",
       "      <td>1000</td>\n",
       "      <td>December</td>\n",
       "      <td>333</td>\n",
       "      <td>8</td>\n",
       "      <td>46</td>\n",
       "    </tr>\n",
       "    <tr>\n",
       "      <td>2</td>\n",
       "      <td>1000</td>\n",
       "      <td>July</td>\n",
       "      <td>340</td>\n",
       "      <td>6</td>\n",
       "      <td>47</td>\n",
       "    </tr>\n",
       "    <tr>\n",
       "      <td>3</td>\n",
       "      <td>1000</td>\n",
       "      <td>June</td>\n",
       "      <td>172</td>\n",
       "      <td>15</td>\n",
       "      <td>43</td>\n",
       "    </tr>\n",
       "    <tr>\n",
       "      <td>4</td>\n",
       "      <td>1000</td>\n",
       "      <td>May</td>\n",
       "      <td>159</td>\n",
       "      <td>5</td>\n",
       "      <td>22</td>\n",
       "    </tr>\n",
       "  </tbody>\n",
       "</table>\n",
       "</div>"
      ],
      "text/plain": [
       "   user_id     month  duration  missed_calls  all_calls\n",
       "0     1000    August       408            10         52\n",
       "1     1000  December       333             8         46\n",
       "2     1000      July       340             6         47\n",
       "3     1000      June       172            15         43\n",
       "4     1000       May       159             5         22"
      ]
     },
     "execution_count": 24,
     "metadata": {},
     "output_type": "execute_result"
    }
   ],
   "source": [
    "calls_grp = calls.groupby(['user_id','month']).agg({'duration':['sum',lambda x: x.eq(0).sum()],'user_id':'count'}).reset_index()\n",
    "calls_grp.columns = ['user_id','month','duration','missed_calls','all_calls']\n",
    "calls_grp.head()"
   ]
  },
  {
   "cell_type": "markdown",
   "metadata": {},
   "source": [
    "Cгруппируем таблицу  messages по user_id и месяцу, посчитаем общее количество сообщений в месяц."
   ]
  },
  {
   "cell_type": "code",
   "execution_count": 25,
   "metadata": {},
   "outputs": [
    {
     "data": {
      "text/html": [
       "<div>\n",
       "<style scoped>\n",
       "    .dataframe tbody tr th:only-of-type {\n",
       "        vertical-align: middle;\n",
       "    }\n",
       "\n",
       "    .dataframe tbody tr th {\n",
       "        vertical-align: top;\n",
       "    }\n",
       "\n",
       "    .dataframe thead th {\n",
       "        text-align: right;\n",
       "    }\n",
       "</style>\n",
       "<table border=\"1\" class=\"dataframe\">\n",
       "  <thead>\n",
       "    <tr style=\"text-align: right;\">\n",
       "      <th></th>\n",
       "      <th>user_id</th>\n",
       "      <th>month</th>\n",
       "      <th>count_msg</th>\n",
       "    </tr>\n",
       "  </thead>\n",
       "  <tbody>\n",
       "    <tr>\n",
       "      <td>0</td>\n",
       "      <td>1000</td>\n",
       "      <td>August</td>\n",
       "      <td>81</td>\n",
       "    </tr>\n",
       "    <tr>\n",
       "      <td>1</td>\n",
       "      <td>1000</td>\n",
       "      <td>December</td>\n",
       "      <td>70</td>\n",
       "    </tr>\n",
       "    <tr>\n",
       "      <td>2</td>\n",
       "      <td>1000</td>\n",
       "      <td>July</td>\n",
       "      <td>75</td>\n",
       "    </tr>\n",
       "    <tr>\n",
       "      <td>3</td>\n",
       "      <td>1000</td>\n",
       "      <td>June</td>\n",
       "      <td>60</td>\n",
       "    </tr>\n",
       "    <tr>\n",
       "      <td>4</td>\n",
       "      <td>1000</td>\n",
       "      <td>May</td>\n",
       "      <td>22</td>\n",
       "    </tr>\n",
       "  </tbody>\n",
       "</table>\n",
       "</div>"
      ],
      "text/plain": [
       "   user_id     month  count_msg\n",
       "0     1000    August         81\n",
       "1     1000  December         70\n",
       "2     1000      July         75\n",
       "3     1000      June         60\n",
       "4     1000       May         22"
      ]
     },
     "execution_count": 25,
     "metadata": {},
     "output_type": "execute_result"
    }
   ],
   "source": [
    "messages_grp = messages.groupby(['user_id','month']).agg({'user_id':'count'})\n",
    "messages_grp.columns = ['count_msg']\n",
    "messages_grp.reset_index(inplace = True)\n",
    "messages_grp.head()"
   ]
  },
  {
   "cell_type": "markdown",
   "metadata": {},
   "source": [
    "Cгруппируем таблицу internet по user_id и месяцу, посчитаем общее количество трафика в месяц для каждого ползователя.  \n",
    "Переведем мегабайты в гигабайты и округлим вверх в соответствии с политикой компании \"Мегалайн\".    "
   ]
  },
  {
   "cell_type": "code",
   "execution_count": 26,
   "metadata": {},
   "outputs": [
    {
     "data": {
      "text/html": [
       "<div>\n",
       "<style scoped>\n",
       "    .dataframe tbody tr th:only-of-type {\n",
       "        vertical-align: middle;\n",
       "    }\n",
       "\n",
       "    .dataframe tbody tr th {\n",
       "        vertical-align: top;\n",
       "    }\n",
       "\n",
       "    .dataframe thead th {\n",
       "        text-align: right;\n",
       "    }\n",
       "</style>\n",
       "<table border=\"1\" class=\"dataframe\">\n",
       "  <thead>\n",
       "    <tr style=\"text-align: right;\">\n",
       "      <th></th>\n",
       "      <th>user_id</th>\n",
       "      <th>month</th>\n",
       "      <th>gb_used</th>\n",
       "    </tr>\n",
       "  </thead>\n",
       "  <tbody>\n",
       "    <tr>\n",
       "      <td>0</td>\n",
       "      <td>1000</td>\n",
       "      <td>August</td>\n",
       "      <td>14</td>\n",
       "    </tr>\n",
       "    <tr>\n",
       "      <td>1</td>\n",
       "      <td>1000</td>\n",
       "      <td>December</td>\n",
       "      <td>10</td>\n",
       "    </tr>\n",
       "    <tr>\n",
       "      <td>2</td>\n",
       "      <td>1000</td>\n",
       "      <td>July</td>\n",
       "      <td>14</td>\n",
       "    </tr>\n",
       "    <tr>\n",
       "      <td>3</td>\n",
       "      <td>1000</td>\n",
       "      <td>June</td>\n",
       "      <td>23</td>\n",
       "    </tr>\n",
       "    <tr>\n",
       "      <td>4</td>\n",
       "      <td>1000</td>\n",
       "      <td>May</td>\n",
       "      <td>3</td>\n",
       "    </tr>\n",
       "  </tbody>\n",
       "</table>\n",
       "</div>"
      ],
      "text/plain": [
       "   user_id     month  gb_used\n",
       "0     1000    August       14\n",
       "1     1000  December       10\n",
       "2     1000      July       14\n",
       "3     1000      June       23\n",
       "4     1000       May        3"
      ]
     },
     "execution_count": 26,
     "metadata": {},
     "output_type": "execute_result"
    }
   ],
   "source": [
    "internet_grp = internet.groupby(['user_id','month']).agg({'mb_used':'sum'}).reset_index()\n",
    "internet_grp['mb_used'] = internet_grp['mb_used'] / 1024\n",
    "internet_grp.rename(columns = {'mb_used':'gb_used'}, inplace = True )\n",
    "internet_grp['gb_used'] = np.ceil(internet_grp['gb_used']).astype('int')\n",
    "internet_grp.head()"
   ]
  },
  {
   "cell_type": "markdown",
   "metadata": {},
   "source": [
    "Добавим в таблицу users столбец, в котором обозначим принадлежность пользователя к московскому или другому региону."
   ]
  },
  {
   "cell_type": "code",
   "execution_count": 27,
   "metadata": {},
   "outputs": [
    {
     "data": {
      "text/html": [
       "<div>\n",
       "<style scoped>\n",
       "    .dataframe tbody tr th:only-of-type {\n",
       "        vertical-align: middle;\n",
       "    }\n",
       "\n",
       "    .dataframe tbody tr th {\n",
       "        vertical-align: top;\n",
       "    }\n",
       "\n",
       "    .dataframe thead th {\n",
       "        text-align: right;\n",
       "    }\n",
       "</style>\n",
       "<table border=\"1\" class=\"dataframe\">\n",
       "  <thead>\n",
       "    <tr style=\"text-align: right;\">\n",
       "      <th></th>\n",
       "      <th>user_id</th>\n",
       "      <th>age</th>\n",
       "      <th>churn_date</th>\n",
       "      <th>city</th>\n",
       "      <th>first_name</th>\n",
       "      <th>last_name</th>\n",
       "      <th>reg_date</th>\n",
       "      <th>tariff</th>\n",
       "      <th>region</th>\n",
       "    </tr>\n",
       "  </thead>\n",
       "  <tbody>\n",
       "    <tr>\n",
       "      <td>0</td>\n",
       "      <td>1000</td>\n",
       "      <td>52</td>\n",
       "      <td>1999-01-01</td>\n",
       "      <td>Краснодар</td>\n",
       "      <td>Рафаил</td>\n",
       "      <td>Верещагин</td>\n",
       "      <td>2018-05-25</td>\n",
       "      <td>ultra</td>\n",
       "      <td>другой</td>\n",
       "    </tr>\n",
       "    <tr>\n",
       "      <td>1</td>\n",
       "      <td>1001</td>\n",
       "      <td>41</td>\n",
       "      <td>1999-01-01</td>\n",
       "      <td>Москва</td>\n",
       "      <td>Иван</td>\n",
       "      <td>Ежов</td>\n",
       "      <td>2018-11-01</td>\n",
       "      <td>smart</td>\n",
       "      <td>Москва</td>\n",
       "    </tr>\n",
       "    <tr>\n",
       "      <td>2</td>\n",
       "      <td>1002</td>\n",
       "      <td>59</td>\n",
       "      <td>1999-01-01</td>\n",
       "      <td>Стерлитамак</td>\n",
       "      <td>Евгений</td>\n",
       "      <td>Абрамович</td>\n",
       "      <td>2018-06-17</td>\n",
       "      <td>smart</td>\n",
       "      <td>другой</td>\n",
       "    </tr>\n",
       "    <tr>\n",
       "      <td>3</td>\n",
       "      <td>1003</td>\n",
       "      <td>23</td>\n",
       "      <td>1999-01-01</td>\n",
       "      <td>Москва</td>\n",
       "      <td>Белла</td>\n",
       "      <td>Белякова</td>\n",
       "      <td>2018-08-17</td>\n",
       "      <td>ultra</td>\n",
       "      <td>Москва</td>\n",
       "    </tr>\n",
       "    <tr>\n",
       "      <td>4</td>\n",
       "      <td>1004</td>\n",
       "      <td>68</td>\n",
       "      <td>1999-01-01</td>\n",
       "      <td>Новокузнецк</td>\n",
       "      <td>Татьяна</td>\n",
       "      <td>Авдеенко</td>\n",
       "      <td>2018-05-14</td>\n",
       "      <td>ultra</td>\n",
       "      <td>другой</td>\n",
       "    </tr>\n",
       "  </tbody>\n",
       "</table>\n",
       "</div>"
      ],
      "text/plain": [
       "   user_id  age churn_date         city first_name  last_name   reg_date  \\\n",
       "0     1000   52 1999-01-01    Краснодар     Рафаил  Верещагин 2018-05-25   \n",
       "1     1001   41 1999-01-01       Москва       Иван       Ежов 2018-11-01   \n",
       "2     1002   59 1999-01-01  Стерлитамак    Евгений  Абрамович 2018-06-17   \n",
       "3     1003   23 1999-01-01       Москва      Белла   Белякова 2018-08-17   \n",
       "4     1004   68 1999-01-01  Новокузнецк    Татьяна   Авдеенко 2018-05-14   \n",
       "\n",
       "  tariff  region  \n",
       "0  ultra  другой  \n",
       "1  smart  Москва  \n",
       "2  smart  другой  \n",
       "3  ultra  Москва  \n",
       "4  ultra  другой  "
      ]
     },
     "execution_count": 27,
     "metadata": {},
     "output_type": "execute_result"
    }
   ],
   "source": [
    "users['region'] = users['city'].transform(lambda x: 'Москва' if x == 'Москва' else 'другой')\n",
    "users.head()"
   ]
  },
  {
   "cell_type": "markdown",
   "metadata": {},
   "source": [
    "### Объединение таблиц"
   ]
  },
  {
   "cell_type": "markdown",
   "metadata": {},
   "source": [
    "Создадим таблицу с информацией о звонках, сообщениях и траффике пользователя."
   ]
  },
  {
   "cell_type": "code",
   "execution_count": 28,
   "metadata": {},
   "outputs": [],
   "source": [
    "df = calls_grp.merge(messages_grp, on = ['user_id','month'], how = 'outer')\\\n",
    ".merge(internet_grp, on = ['user_id','month'], how = 'outer').sort_values('user_id')\\\n",
    ".fillna('0')"
   ]
  },
  {
   "cell_type": "code",
   "execution_count": 29,
   "metadata": {},
   "outputs": [
    {
     "data": {
      "text/html": [
       "<div>\n",
       "<style scoped>\n",
       "    .dataframe tbody tr th:only-of-type {\n",
       "        vertical-align: middle;\n",
       "    }\n",
       "\n",
       "    .dataframe tbody tr th {\n",
       "        vertical-align: top;\n",
       "    }\n",
       "\n",
       "    .dataframe thead th {\n",
       "        text-align: right;\n",
       "    }\n",
       "</style>\n",
       "<table border=\"1\" class=\"dataframe\">\n",
       "  <thead>\n",
       "    <tr style=\"text-align: right;\">\n",
       "      <th></th>\n",
       "      <th>user_id</th>\n",
       "      <th>month</th>\n",
       "      <th>duration</th>\n",
       "      <th>missed_calls</th>\n",
       "      <th>all_calls</th>\n",
       "      <th>count_msg</th>\n",
       "      <th>gb_used</th>\n",
       "    </tr>\n",
       "  </thead>\n",
       "  <tbody>\n",
       "    <tr>\n",
       "      <td>0</td>\n",
       "      <td>1000</td>\n",
       "      <td>August</td>\n",
       "      <td>408</td>\n",
       "      <td>10</td>\n",
       "      <td>52</td>\n",
       "      <td>81</td>\n",
       "      <td>14</td>\n",
       "    </tr>\n",
       "    <tr>\n",
       "      <td>1</td>\n",
       "      <td>1000</td>\n",
       "      <td>December</td>\n",
       "      <td>333</td>\n",
       "      <td>8</td>\n",
       "      <td>46</td>\n",
       "      <td>70</td>\n",
       "      <td>10</td>\n",
       "    </tr>\n",
       "    <tr>\n",
       "      <td>2</td>\n",
       "      <td>1000</td>\n",
       "      <td>July</td>\n",
       "      <td>340</td>\n",
       "      <td>6</td>\n",
       "      <td>47</td>\n",
       "      <td>75</td>\n",
       "      <td>14</td>\n",
       "    </tr>\n",
       "    <tr>\n",
       "      <td>3</td>\n",
       "      <td>1000</td>\n",
       "      <td>June</td>\n",
       "      <td>172</td>\n",
       "      <td>15</td>\n",
       "      <td>43</td>\n",
       "      <td>60</td>\n",
       "      <td>23</td>\n",
       "    </tr>\n",
       "    <tr>\n",
       "      <td>4</td>\n",
       "      <td>1000</td>\n",
       "      <td>May</td>\n",
       "      <td>159</td>\n",
       "      <td>5</td>\n",
       "      <td>22</td>\n",
       "      <td>22</td>\n",
       "      <td>3</td>\n",
       "    </tr>\n",
       "  </tbody>\n",
       "</table>\n",
       "</div>"
      ],
      "text/plain": [
       "   user_id     month duration missed_calls all_calls count_msg gb_used\n",
       "0     1000    August      408           10        52        81      14\n",
       "1     1000  December      333            8        46        70      10\n",
       "2     1000      July      340            6        47        75      14\n",
       "3     1000      June      172           15        43        60      23\n",
       "4     1000       May      159            5        22        22       3"
      ]
     },
     "execution_count": 29,
     "metadata": {},
     "output_type": "execute_result"
    }
   ],
   "source": [
    "df.head()"
   ]
  },
  {
   "cell_type": "markdown",
   "metadata": {},
   "source": [
    "Добавим в эту таблицу информацию о тарифах и регионе из таблицы users и починим типы."
   ]
  },
  {
   "cell_type": "code",
   "execution_count": 30,
   "metadata": {},
   "outputs": [],
   "source": [
    "user_tariff_region = users[['user_id','tariff','region']]"
   ]
  },
  {
   "cell_type": "code",
   "execution_count": 31,
   "metadata": {},
   "outputs": [],
   "source": [
    "df = df.merge(user_tariff_region, on = 'user_id', how = 'outer').dropna()"
   ]
  },
  {
   "cell_type": "code",
   "execution_count": 32,
   "metadata": {},
   "outputs": [],
   "source": [
    "\n",
    "df['duration'] = df['duration'].astype('int')\n",
    "df['missed_calls'] = df['missed_calls'].astype('int')\n",
    "df['all_calls'] = df['all_calls'].astype('int')\n",
    "df['count_msg'] = df['count_msg'].astype('int')\n",
    "df['gb_used'] = df['gb_used'].astype('int')"
   ]
  },
  {
   "cell_type": "markdown",
   "metadata": {},
   "source": [
    "### Подсчет прибыли"
   ]
  },
  {
   "cell_type": "markdown",
   "metadata": {},
   "source": [
    "Изучим информацию о тарифах, создадим функцию подсчета прибыли и применим ее к общему датафрейму."
   ]
  },
  {
   "cell_type": "code",
   "execution_count": 33,
   "metadata": {},
   "outputs": [
    {
     "data": {
      "text/html": [
       "<div>\n",
       "<style scoped>\n",
       "    .dataframe tbody tr th:only-of-type {\n",
       "        vertical-align: middle;\n",
       "    }\n",
       "\n",
       "    .dataframe tbody tr th {\n",
       "        vertical-align: top;\n",
       "    }\n",
       "\n",
       "    .dataframe thead th {\n",
       "        text-align: right;\n",
       "    }\n",
       "</style>\n",
       "<table border=\"1\" class=\"dataframe\">\n",
       "  <thead>\n",
       "    <tr style=\"text-align: right;\">\n",
       "      <th></th>\n",
       "      <th>messages_included</th>\n",
       "      <th>gb_per_month_included</th>\n",
       "      <th>minutes_included</th>\n",
       "      <th>rub_monthly_fee</th>\n",
       "      <th>rub_per_gb</th>\n",
       "      <th>rub_per_message</th>\n",
       "      <th>rub_per_minute</th>\n",
       "      <th>tariff_name</th>\n",
       "    </tr>\n",
       "  </thead>\n",
       "  <tbody>\n",
       "    <tr>\n",
       "      <td>0</td>\n",
       "      <td>50</td>\n",
       "      <td>15</td>\n",
       "      <td>500</td>\n",
       "      <td>550</td>\n",
       "      <td>200</td>\n",
       "      <td>3</td>\n",
       "      <td>3</td>\n",
       "      <td>smart</td>\n",
       "    </tr>\n",
       "    <tr>\n",
       "      <td>1</td>\n",
       "      <td>1000</td>\n",
       "      <td>30</td>\n",
       "      <td>3000</td>\n",
       "      <td>1950</td>\n",
       "      <td>150</td>\n",
       "      <td>1</td>\n",
       "      <td>1</td>\n",
       "      <td>ultra</td>\n",
       "    </tr>\n",
       "  </tbody>\n",
       "</table>\n",
       "</div>"
      ],
      "text/plain": [
       "   messages_included  gb_per_month_included  minutes_included  \\\n",
       "0                 50                     15               500   \n",
       "1               1000                     30              3000   \n",
       "\n",
       "   rub_monthly_fee  rub_per_gb  rub_per_message  rub_per_minute tariff_name  \n",
       "0              550         200                3               3       smart  \n",
       "1             1950         150                1               1       ultra  "
      ]
     },
     "execution_count": 33,
     "metadata": {},
     "output_type": "execute_result"
    }
   ],
   "source": [
    "tariffs"
   ]
  },
  {
   "cell_type": "code",
   "execution_count": 34,
   "metadata": {},
   "outputs": [
    {
     "data": {
      "text/plain": [
       "550"
      ]
     },
     "execution_count": 34,
     "metadata": {},
     "output_type": "execute_result"
    }
   ],
   "source": [
    "tariffs.loc[0,'rub_monthly_fee']"
   ]
  },
  {
   "cell_type": "code",
   "execution_count": 35,
   "metadata": {},
   "outputs": [],
   "source": [
    "def revenue(row):\n",
    "    revenue = 0\n",
    "    if row['tariff'] == 'smart':\n",
    "        revenue = tariffs.loc[0,'rub_monthly_fee']\n",
    "        if row['duration'] > tariffs.loc[0,'minutes_included']:\n",
    "            revenue += (row['duration'] - tariffs.loc[0,'minutes_included']) * tariffs.loc[0,'rub_per_minute']\n",
    "        if row['count_msg'] > tariffs.loc[0,'messages_included']:\n",
    "            revenue += (row['count_msg'] - tariffs.loc[0,'messages_included']) * tariffs.loc[0,'rub_per_message']\n",
    "        if row['gb_used'] > tariffs.loc[0,'gb_per_month_included']:\n",
    "            revenue += (row['gb_used'] - tariffs.loc[0,'gb_per_month_included']) * tariffs.loc[0,'rub_per_gb']\n",
    "    if row['tariff'] == 'ultra':\n",
    "        revenue = tariffs.loc[1,'rub_monthly_fee']\n",
    "        if row['duration'] > tariffs.loc[1,'minutes_included']:\n",
    "            revenue += (row['duration'] - tariffs.loc[1,'minutes_included'])\n",
    "        if row['count_msg'] > tariffs.loc[1,'messages_included']:\n",
    "            revenue += (row['count_msg'] - tariffs.loc[1,'messages_included'])\n",
    "        if row['gb_used'] > tariffs.loc[1,'gb_per_month_included']:\n",
    "            revenue += (row['gb_used'] - tariffs.loc[1,'gb_per_month_included']) * tariffs.loc[1,'rub_per_gb']        \n",
    "    return revenue        "
   ]
  },
  {
   "cell_type": "code",
   "execution_count": 36,
   "metadata": {},
   "outputs": [],
   "source": [
    "df['revenue'] = df.apply(revenue, axis = 1)"
   ]
  },
  {
   "cell_type": "code",
   "execution_count": 37,
   "metadata": {},
   "outputs": [
    {
     "data": {
      "text/html": [
       "<div>\n",
       "<style scoped>\n",
       "    .dataframe tbody tr th:only-of-type {\n",
       "        vertical-align: middle;\n",
       "    }\n",
       "\n",
       "    .dataframe tbody tr th {\n",
       "        vertical-align: top;\n",
       "    }\n",
       "\n",
       "    .dataframe thead th {\n",
       "        text-align: right;\n",
       "    }\n",
       "</style>\n",
       "<table border=\"1\" class=\"dataframe\">\n",
       "  <thead>\n",
       "    <tr style=\"text-align: right;\">\n",
       "      <th></th>\n",
       "      <th>user_id</th>\n",
       "      <th>month</th>\n",
       "      <th>duration</th>\n",
       "      <th>missed_calls</th>\n",
       "      <th>all_calls</th>\n",
       "      <th>count_msg</th>\n",
       "      <th>gb_used</th>\n",
       "      <th>tariff</th>\n",
       "      <th>region</th>\n",
       "      <th>revenue</th>\n",
       "    </tr>\n",
       "  </thead>\n",
       "  <tbody>\n",
       "    <tr>\n",
       "      <td>0</td>\n",
       "      <td>1000</td>\n",
       "      <td>August</td>\n",
       "      <td>408</td>\n",
       "      <td>10</td>\n",
       "      <td>52</td>\n",
       "      <td>81</td>\n",
       "      <td>14</td>\n",
       "      <td>ultra</td>\n",
       "      <td>другой</td>\n",
       "      <td>1950</td>\n",
       "    </tr>\n",
       "    <tr>\n",
       "      <td>1</td>\n",
       "      <td>1000</td>\n",
       "      <td>December</td>\n",
       "      <td>333</td>\n",
       "      <td>8</td>\n",
       "      <td>46</td>\n",
       "      <td>70</td>\n",
       "      <td>10</td>\n",
       "      <td>ultra</td>\n",
       "      <td>другой</td>\n",
       "      <td>1950</td>\n",
       "    </tr>\n",
       "    <tr>\n",
       "      <td>2</td>\n",
       "      <td>1000</td>\n",
       "      <td>July</td>\n",
       "      <td>340</td>\n",
       "      <td>6</td>\n",
       "      <td>47</td>\n",
       "      <td>75</td>\n",
       "      <td>14</td>\n",
       "      <td>ultra</td>\n",
       "      <td>другой</td>\n",
       "      <td>1950</td>\n",
       "    </tr>\n",
       "    <tr>\n",
       "      <td>3</td>\n",
       "      <td>1000</td>\n",
       "      <td>June</td>\n",
       "      <td>172</td>\n",
       "      <td>15</td>\n",
       "      <td>43</td>\n",
       "      <td>60</td>\n",
       "      <td>23</td>\n",
       "      <td>ultra</td>\n",
       "      <td>другой</td>\n",
       "      <td>1950</td>\n",
       "    </tr>\n",
       "    <tr>\n",
       "      <td>4</td>\n",
       "      <td>1000</td>\n",
       "      <td>May</td>\n",
       "      <td>159</td>\n",
       "      <td>5</td>\n",
       "      <td>22</td>\n",
       "      <td>22</td>\n",
       "      <td>3</td>\n",
       "      <td>ultra</td>\n",
       "      <td>другой</td>\n",
       "      <td>1950</td>\n",
       "    </tr>\n",
       "  </tbody>\n",
       "</table>\n",
       "</div>"
      ],
      "text/plain": [
       "   user_id     month  duration  missed_calls  all_calls  count_msg  gb_used  \\\n",
       "0     1000    August       408            10         52         81       14   \n",
       "1     1000  December       333             8         46         70       10   \n",
       "2     1000      July       340             6         47         75       14   \n",
       "3     1000      June       172            15         43         60       23   \n",
       "4     1000       May       159             5         22         22        3   \n",
       "\n",
       "  tariff  region  revenue  \n",
       "0  ultra  другой     1950  \n",
       "1  ultra  другой     1950  \n",
       "2  ultra  другой     1950  \n",
       "3  ultra  другой     1950  \n",
       "4  ultra  другой     1950  "
      ]
     },
     "execution_count": 37,
     "metadata": {},
     "output_type": "execute_result"
    }
   ],
   "source": [
    "df.head()"
   ]
  },
  {
   "cell_type": "markdown",
   "metadata": {},
   "source": [
    "### Итоги"
   ]
  },
  {
   "cell_type": "markdown",
   "metadata": {},
   "source": [
    "Мы сгруппировали данные о звонках, сообщениях и трафике по месяцу, посчитали прибыль и подготовили данные к дальнейшему анализу."
   ]
  },
  {
   "cell_type": "markdown",
   "metadata": {},
   "source": [
    "## Исследовательский анализ данных"
   ]
  },
  {
   "cell_type": "markdown",
   "metadata": {},
   "source": [
    "Изучим, сколько минут разговора, сколько сообщений и какой объём интернет-трафика требуется пользователям каждого тарифа в месяц."
   ]
  },
  {
   "cell_type": "markdown",
   "metadata": {},
   "source": [
    "### Минуты"
   ]
  },
  {
   "cell_type": "markdown",
   "metadata": {},
   "source": [
    "Изучим продолжительность звонков в месяц пользователей обоих тарифов.  \n",
    "Посчитаем среднее, дисперсию, стандартное отклонение и построим гистограммы."
   ]
  },
  {
   "cell_type": "code",
   "execution_count": 38,
   "metadata": {},
   "outputs": [
    {
     "data": {
      "text/html": [
       "<style  type=\"text/css\" >\n",
       "</style><table id=\"T_2fb82e4e_238a_11ec_8ba6_02420a391b35\" ><thead>    <tr>        <th class=\"blank level0\" ></th>        <th class=\"col_heading level0 col0\" colspan=3>duration</th>    </tr>    <tr>        <th class=\"blank level1\" ></th>        <th class=\"col_heading level1 col0\" >mean</th>        <th class=\"col_heading level1 col1\" >var</th>        <th class=\"col_heading level1 col2\" >std</th>    </tr>    <tr>        <th class=\"index_name level0\" >tariff</th>        <th class=\"blank\" ></th>        <th class=\"blank\" ></th>        <th class=\"blank\" ></th>    </tr></thead><tbody>\n",
       "                <tr>\n",
       "                        <th id=\"T_2fb82e4e_238a_11ec_8ba6_02420a391b35level0_row0\" class=\"row_heading level0 row0\" >smart</th>\n",
       "                        <td id=\"T_2fb82e4e_238a_11ec_8ba6_02420a391b35row0_col0\" class=\"data row0 col0\" >418</td>\n",
       "                        <td id=\"T_2fb82e4e_238a_11ec_8ba6_02420a391b35row0_col1\" class=\"data row0 col1\" >36219</td>\n",
       "                        <td id=\"T_2fb82e4e_238a_11ec_8ba6_02420a391b35row0_col2\" class=\"data row0 col2\" >190</td>\n",
       "            </tr>\n",
       "            <tr>\n",
       "                        <th id=\"T_2fb82e4e_238a_11ec_8ba6_02420a391b35level0_row1\" class=\"row_heading level0 row1\" >ultra</th>\n",
       "                        <td id=\"T_2fb82e4e_238a_11ec_8ba6_02420a391b35row1_col0\" class=\"data row1 col0\" >527</td>\n",
       "                        <td id=\"T_2fb82e4e_238a_11ec_8ba6_02420a391b35row1_col1\" class=\"data row1 col1\" >100874</td>\n",
       "                        <td id=\"T_2fb82e4e_238a_11ec_8ba6_02420a391b35row1_col2\" class=\"data row1 col2\" >318</td>\n",
       "            </tr>\n",
       "    </tbody></table>"
      ],
      "text/plain": [
       "<pandas.io.formats.style.Styler at 0x7efd8c43eb50>"
      ]
     },
     "execution_count": 38,
     "metadata": {},
     "output_type": "execute_result"
    }
   ],
   "source": [
    "df.groupby('tariff').agg({'duration': ['mean','var','std']}).style.format(\"{:.0f}\")"
   ]
  },
  {
   "cell_type": "code",
   "execution_count": 39,
   "metadata": {},
   "outputs": [
    {
     "data": {
      "image/png": "[encoded data removed]",
      "text/plain": [
       "<Figure size 720x504 with 1 Axes>"
      ]
     },
     "metadata": {},
     "output_type": "display_data"
    }
   ],
   "source": [
    "ax = plt.axes()\n",
    "df.query('tariff == \"smart\"')['duration'].plot(kind = 'hist', bins = 30, range = (0,1435),grid = True)\n",
    "plt.title('Рспределение общей продолжительности звонков в месяц, тариф Smart™')\n",
    "plt.ylabel('Количество абонентов')\n",
    "plt.xlabel('Количество минут в месяц')\n",
    "plt.show()"
   ]
  },
  {
   "cell_type": "code",
   "execution_count": 40,
   "metadata": {},
   "outputs": [
    {
     "data": {
      "image/png": "[encoded data removed]",
      "text/plain": [
       "<Figure size 720x504 with 1 Axes>"
      ]
     },
     "metadata": {},
     "output_type": "display_data"
    }
   ],
   "source": [
    "ax = plt.axes()\n",
    "df.query('tariff == \"ultra\"')['duration'].plot(kind = 'hist', bins = 30, range = (0,1435),grid = True)\n",
    "plt.title('Рспределение общей продолжительности звонков в месяц, тариф Ultra™')\n",
    "plt.ylabel('Количество абонентов')\n",
    "plt.xlabel('Количество минут в месяц')\n",
    "plt.show()"
   ]
  },
  {
   "cell_type": "markdown",
   "metadata": {},
   "source": [
    "Средняя продожительность звонков на тарифах ultra больше.    \n",
    "\n",
    "Распредение значений нормальное в обоих случаях, но на тарифах ultra наблюдается пик в районе нулевых значений продолжительности звонка - обладатели этих тарифов часто не отвечают на звонки, или их собеседники не берут трубки."
   ]
  },
  {
   "cell_type": "markdown",
   "metadata": {},
   "source": [
    " ### Сообщения"
   ]
  },
  {
   "cell_type": "markdown",
   "metadata": {},
   "source": [
    "Изучим количество сообщений в месяц у пользователей обоих тарифов.  \n",
    "Посчитаем среднее, дисперсию, стандартное отклонение и построим гистограммы."
   ]
  },
  {
   "cell_type": "code",
   "execution_count": 41,
   "metadata": {},
   "outputs": [
    {
     "data": {
      "text/html": [
       "<style  type=\"text/css\" >\n",
       "</style><table id=\"T_304b5ffc_238a_11ec_8ba6_02420a391b35\" ><thead>    <tr>        <th class=\"blank level0\" ></th>        <th class=\"col_heading level0 col0\" colspan=3>count_msg</th>    </tr>    <tr>        <th class=\"blank level1\" ></th>        <th class=\"col_heading level1 col0\" >mean</th>        <th class=\"col_heading level1 col1\" >var</th>        <th class=\"col_heading level1 col2\" >std</th>    </tr>    <tr>        <th class=\"index_name level0\" >tariff</th>        <th class=\"blank\" ></th>        <th class=\"blank\" ></th>        <th class=\"blank\" ></th>    </tr></thead><tbody>\n",
       "                <tr>\n",
       "                        <th id=\"T_304b5ffc_238a_11ec_8ba6_02420a391b35level0_row0\" class=\"row_heading level0 row0\" >smart</th>\n",
       "                        <td id=\"T_304b5ffc_238a_11ec_8ba6_02420a391b35row0_col0\" class=\"data row0 col0\" >33</td>\n",
       "                        <td id=\"T_304b5ffc_238a_11ec_8ba6_02420a391b35row0_col1\" class=\"data row0 col1\" >797</td>\n",
       "                        <td id=\"T_304b5ffc_238a_11ec_8ba6_02420a391b35row0_col2\" class=\"data row0 col2\" >28</td>\n",
       "            </tr>\n",
       "            <tr>\n",
       "                        <th id=\"T_304b5ffc_238a_11ec_8ba6_02420a391b35level0_row1\" class=\"row_heading level0 row1\" >ultra</th>\n",
       "                        <td id=\"T_304b5ffc_238a_11ec_8ba6_02420a391b35row1_col0\" class=\"data row1 col0\" >49</td>\n",
       "                        <td id=\"T_304b5ffc_238a_11ec_8ba6_02420a391b35row1_col1\" class=\"data row1 col1\" >2285</td>\n",
       "                        <td id=\"T_304b5ffc_238a_11ec_8ba6_02420a391b35row1_col2\" class=\"data row1 col2\" >48</td>\n",
       "            </tr>\n",
       "    </tbody></table>"
      ],
      "text/plain": [
       "<pandas.io.formats.style.Styler at 0x7efd8bcc7890>"
      ]
     },
     "execution_count": 41,
     "metadata": {},
     "output_type": "execute_result"
    }
   ],
   "source": [
    "df.groupby('tariff').agg({'count_msg': ['mean','var','std']}).style.format(\"{:.0f}\")"
   ]
  },
  {
   "cell_type": "code",
   "execution_count": 42,
   "metadata": {},
   "outputs": [
    {
     "data": {
      "image/png": "[encoded data removed]",
      "text/plain": [
       "<Figure size 720x504 with 1 Axes>"
      ]
     },
     "metadata": {},
     "output_type": "display_data"
    }
   ],
   "source": [
    "ax = plt.axes()\n",
    "df.query('tariff == \"smart\"')['count_msg'].plot(kind = 'hist', bins = 30, range = (0,150),grid = True)\n",
    "plt.title('Распределение общего количества сообщений в месяц, тариф Smart™')\n",
    "plt.ylabel('Количество абонентов')\n",
    "plt.xlabel('Количество сообщений в месяц')\n",
    "plt.show()"
   ]
  },
  {
   "cell_type": "code",
   "execution_count": 43,
   "metadata": {},
   "outputs": [
    {
     "data": {
      "image/png": "[encoded data removed]",
      "text/plain": [
       "<Figure size 720x504 with 1 Axes>"
      ]
     },
     "metadata": {},
     "output_type": "display_data"
    }
   ],
   "source": [
    "ax = plt.axes()\n",
    "df.query('tariff == \"ultra\"')['count_msg'].plot(kind = 'hist', bins = 30, range = (0,200),grid = True)\n",
    "plt.title('Распределение общего количества сообщений в месяц, тариф Ultra™')\n",
    "plt.ylabel('Количество абонентов')\n",
    "plt.xlabel('Количество сообщений в месяц')\n",
    "\n",
    "plt.show()"
   ]
  },
  {
   "cell_type": "markdown",
   "metadata": {},
   "source": [
    "Распределение для обоих тарифов нормальное, с большими пиками у нулевых значений - в настоящее время все меньше пользователей пользуются функцией сообщений.\n",
    "Среди тех, кому это еще актуально, больше сообщений отправляют пользователи тарифов Ultra."
   ]
  },
  {
   "cell_type": "markdown",
   "metadata": {},
   "source": [
    "### Интернет"
   ]
  },
  {
   "cell_type": "markdown",
   "metadata": {},
   "source": [
    "Изучим количество использованного трафика в месяц у пользователей обоих тарифов.  \n",
    "Посчитаем среднее, дисперсию, стандартное отклонение и построим гистограммы."
   ]
  },
  {
   "cell_type": "code",
   "execution_count": 44,
   "metadata": {},
   "outputs": [
    {
     "data": {
      "text/html": [
       "<style  type=\"text/css\" >\n",
       "</style><table id=\"T_30e33ee4_238a_11ec_8ba6_02420a391b35\" ><thead>    <tr>        <th class=\"blank level0\" ></th>        <th class=\"col_heading level0 col0\" colspan=3>gb_used</th>    </tr>    <tr>        <th class=\"blank level1\" ></th>        <th class=\"col_heading level1 col0\" >mean</th>        <th class=\"col_heading level1 col1\" >var</th>        <th class=\"col_heading level1 col2\" >std</th>    </tr>    <tr>        <th class=\"index_name level0\" >tariff</th>        <th class=\"blank\" ></th>        <th class=\"blank\" ></th>        <th class=\"blank\" ></th>    </tr></thead><tbody>\n",
       "                <tr>\n",
       "                        <th id=\"T_30e33ee4_238a_11ec_8ba6_02420a391b35level0_row0\" class=\"row_heading level0 row0\" >smart</th>\n",
       "                        <td id=\"T_30e33ee4_238a_11ec_8ba6_02420a391b35row0_col0\" class=\"data row0 col0\" >16</td>\n",
       "                        <td id=\"T_30e33ee4_238a_11ec_8ba6_02420a391b35row0_col1\" class=\"data row0 col1\" >33</td>\n",
       "                        <td id=\"T_30e33ee4_238a_11ec_8ba6_02420a391b35row0_col2\" class=\"data row0 col2\" >6</td>\n",
       "            </tr>\n",
       "            <tr>\n",
       "                        <th id=\"T_30e33ee4_238a_11ec_8ba6_02420a391b35level0_row1\" class=\"row_heading level0 row1\" >ultra</th>\n",
       "                        <td id=\"T_30e33ee4_238a_11ec_8ba6_02420a391b35row1_col0\" class=\"data row1 col0\" >19</td>\n",
       "                        <td id=\"T_30e33ee4_238a_11ec_8ba6_02420a391b35row1_col1\" class=\"data row1 col1\" >97</td>\n",
       "                        <td id=\"T_30e33ee4_238a_11ec_8ba6_02420a391b35row1_col2\" class=\"data row1 col2\" >10</td>\n",
       "            </tr>\n",
       "    </tbody></table>"
      ],
      "text/plain": [
       "<pandas.io.formats.style.Styler at 0x7efe009b38d0>"
      ]
     },
     "execution_count": 44,
     "metadata": {},
     "output_type": "execute_result"
    }
   ],
   "source": [
    "df.groupby('tariff').agg({'gb_used': ['mean','var','std']}).style.format(\"{:.0f}\")\n"
   ]
  },
  {
   "cell_type": "code",
   "execution_count": 45,
   "metadata": {},
   "outputs": [
    {
     "data": {
      "image/png": "[encoded data removed]",
      "text/plain": [
       "<Figure size 720x504 with 1 Axes>"
      ]
     },
     "metadata": {},
     "output_type": "display_data"
    }
   ],
   "source": [
    "ax = plt.axes()\n",
    "df.query('tariff == \"smart\"')['gb_used'].plot(kind = 'hist', bins = 25, range = (0,50),grid = True)\n",
    "plt.title('Распределение общего количества трафика в месяц, тариф Smart™')\n",
    "plt.ylabel('Количество абонентов')\n",
    "plt.xlabel('Размер трафика в месяц, Gb')\n",
    "plt.show()"
   ]
  },
  {
   "cell_type": "code",
   "execution_count": 46,
   "metadata": {},
   "outputs": [
    {
     "data": {
      "image/png": "[encoded data removed]",
      "text/plain": [
       "<Figure size 720x504 with 1 Axes>"
      ]
     },
     "metadata": {},
     "output_type": "display_data"
    }
   ],
   "source": [
    "ax = plt.axes()\n",
    "df.query('tariff == \"ultra\"')['gb_used'].plot(kind = 'hist', bins = 25, range = (0,50),grid = True)\n",
    "plt.title('Распределение общего количества трафика в месяц, тариф Ultra™')\n",
    "plt.ylabel('Количество абонентов')\n",
    "plt.xlabel('Размер трафика в месяц')\n",
    "\n",
    "plt.show()"
   ]
  },
  {
   "cell_type": "markdown",
   "metadata": {},
   "source": [
    "Среднее количество израсходованного трафика на тарифах ultra больше.  \n",
    "Распредение значений нормальное в обоих случаях."
   ]
  },
  {
   "cell_type": "markdown",
   "metadata": {},
   "source": [
    "### Итоги"
   ]
  },
  {
   "cell_type": "markdown",
   "metadata": {},
   "source": [
    "В среднем в месяц для пользователей тарифов smart требуется:\n",
    " - 417 минут разговора.\n",
    " - 33 сообщения.\n",
    " - 16 гигабайт трафика.\n",
    "\n",
    "В среднем в месяц для пользователей тарифов ultra требуется:\n",
    " - 527 минут разговора.\n",
    " - 49 сообщений.\n",
    " - 19 гигабайт трафика.\n",
    "\n",
    "Для пользователей тарифов ultra требуется больше минут, сообщений и трафика.  \n",
    "Так же на графиках распределния количества сообщений было обнаружено, что большое количество абонентов обоих тарифов этой функцией не пользуются вообще."
   ]
  },
  {
   "cell_type": "markdown",
   "metadata": {},
   "source": [
    "## Проверка гипотез"
   ]
  },
  {
   "cell_type": "markdown",
   "metadata": {},
   "source": [
    " Проверим следующие гипотезы:\n",
    " - средняя выручка пользователей тарифов «Ультра» и «Смарт» различается;\n",
    " - средняя выручка пользователей из Москвы отличается от выручки пользователей из других регионов;"
   ]
  },
  {
   "cell_type": "markdown",
   "metadata": {},
   "source": [
    "### Первая гипотеза"
   ]
  },
  {
   "cell_type": "markdown",
   "metadata": {},
   "source": [
    "Сравним среднюю выручку пользователей тарифов в представленной выборке."
   ]
  },
  {
   "cell_type": "code",
   "execution_count": 47,
   "metadata": {},
   "outputs": [
    {
     "data": {
      "text/html": [
       "<style  type=\"text/css\" >\n",
       "</style><table id=\"T_317291fc_238a_11ec_8ba6_02420a391b35\" ><thead>    <tr>        <th class=\"blank level0\" ></th>        <th class=\"col_heading level0 col0\" >revenue</th>    </tr>    <tr>        <th class=\"index_name level0\" >tariff</th>        <th class=\"blank\" ></th>    </tr></thead><tbody>\n",
       "                <tr>\n",
       "                        <th id=\"T_317291fc_238a_11ec_8ba6_02420a391b35level0_row0\" class=\"row_heading level0 row0\" >smart</th>\n",
       "                        <td id=\"T_317291fc_238a_11ec_8ba6_02420a391b35row0_col0\" class=\"data row0 col0\" >1290</td>\n",
       "            </tr>\n",
       "            <tr>\n",
       "                        <th id=\"T_317291fc_238a_11ec_8ba6_02420a391b35level0_row1\" class=\"row_heading level0 row1\" >ultra</th>\n",
       "                        <td id=\"T_317291fc_238a_11ec_8ba6_02420a391b35row1_col0\" class=\"data row1 col0\" >2070</td>\n",
       "            </tr>\n",
       "    </tbody></table>"
      ],
      "text/plain": [
       "<pandas.io.formats.style.Styler at 0x7efe006a9690>"
      ]
     },
     "execution_count": 47,
     "metadata": {},
     "output_type": "execute_result"
    }
   ],
   "source": [
    "df.groupby('tariff').agg({'revenue':'mean'}).style.format(\"{:.0f}\")"
   ]
  },
  {
   "cell_type": "markdown",
   "metadata": {},
   "source": [
    "Сформируем нулевую и альтернативную гипотезу:\n",
    "- Нулевая гипотеза - средние выручки для двух тарифов равны.\n",
    "- Альтернативная гипотеза - средние выручки для двух тарифов отличаются."
   ]
  },
  {
   "cell_type": "markdown",
   "metadata": {},
   "source": [
    "Попробуем отвергнуть нулевую гипотезу:\n",
    " - Создадим два массива с данными о выручке пользователей двух тарифов\n",
    " - С помощью  метода st.ttest_ind сравним уровень значимости стастистики разности средних этих массивов.  \n",
    " - Сравним полученный уровень значимости с допустимым - 0.05."
   ]
  },
  {
   "cell_type": "code",
   "execution_count": 48,
   "metadata": {},
   "outputs": [
    {
     "name": "stdout",
     "output_type": "stream",
     "text": [
      "p-значение: 1.4229814360764067e-160\n",
      "Отвергаем нулевую гипотезу\n"
     ]
    }
   ],
   "source": [
    "array_smart = df.query('tariff == \"smart\"')['revenue'].tolist()\n",
    "array_ultra = df.query('tariff == \"ultra\"')['revenue'].tolist()\n",
    "\n",
    "alpha = 0.05\n",
    "\n",
    "results = st.ttest_ind(array_smart, array_ultra)\n",
    "\n",
    "print('p-значение:', results.pvalue)\n",
    "\n",
    "if results.pvalue < alpha:\n",
    "    print('Отвергаем нулевую гипотезу')\n",
    "else:\n",
    "    print('Не получилось отвергнуть нулевую гипотезу') "
   ]
  },
  {
   "cell_type": "markdown",
   "metadata": {},
   "source": [
    "### Итоги"
   ]
  },
  {
   "cell_type": "markdown",
   "metadata": {},
   "source": [
    "Нулевая гипотеза отвергнута - следовательно выручки для двух тарифов отличаются.  \n",
    "Средняя выручка тарифов ultra в выборке больше - можем утверждать то же самое и для всей генеральной совокупности."
   ]
  },
  {
   "cell_type": "markdown",
   "metadata": {},
   "source": [
    "### Вторая гипотеза"
   ]
  },
  {
   "cell_type": "markdown",
   "metadata": {},
   "source": [
    "Сравним среднюю выручку пользователей из Москвы с представителями других регионов в представленной выборке."
   ]
  },
  {
   "cell_type": "code",
   "execution_count": 49,
   "metadata": {},
   "outputs": [
    {
     "data": {
      "text/html": [
       "<style  type=\"text/css\" >\n",
       "</style><table id=\"T_317bce66_238a_11ec_8ba6_02420a391b35\" ><thead>    <tr>        <th class=\"blank level0\" ></th>        <th class=\"col_heading level0 col0\" >revenue</th>    </tr>    <tr>        <th class=\"index_name level0\" >region</th>        <th class=\"blank\" ></th>    </tr></thead><tbody>\n",
       "                <tr>\n",
       "                        <th id=\"T_317bce66_238a_11ec_8ba6_02420a391b35level0_row0\" class=\"row_heading level0 row0\" >Москва</th>\n",
       "                        <td id=\"T_317bce66_238a_11ec_8ba6_02420a391b35row0_col0\" class=\"data row0 col0\" >1547</td>\n",
       "            </tr>\n",
       "            <tr>\n",
       "                        <th id=\"T_317bce66_238a_11ec_8ba6_02420a391b35level0_row1\" class=\"row_heading level0 row1\" >другой</th>\n",
       "                        <td id=\"T_317bce66_238a_11ec_8ba6_02420a391b35row1_col0\" class=\"data row1 col0\" >1525</td>\n",
       "            </tr>\n",
       "    </tbody></table>"
      ],
      "text/plain": [
       "<pandas.io.formats.style.Styler at 0x7efe0088a690>"
      ]
     },
     "execution_count": 49,
     "metadata": {},
     "output_type": "execute_result"
    }
   ],
   "source": [
    "df.groupby('region').agg({'revenue':'mean'}).style.format(\"{:.0f}\")"
   ]
  },
  {
   "cell_type": "markdown",
   "metadata": {},
   "source": [
    "Сформируем нулевую и альтернативную гипотезу:\n",
    " - Нулевая гипотеза - средния выручка для пользователей из Москвы не отличается от выручки пользователей из других регионов.  \n",
    " - Альтернативная гипотеза - средния выручка для пользователей из Москвы отличается."
   ]
  },
  {
   "cell_type": "markdown",
   "metadata": {},
   "source": [
    "Попробуем отвергнуть нулевую гипотезу:\n",
    " - Создадим два массива с данными о выручке пользователей из Москвы и из других регионов.\n",
    " - С помощью  метода st.ttest_ind сравним уровень значимости стастистики разности средних этих массивов.  \n",
    " - Сравним полученный уровень значимости с допустимым - 0.05."
   ]
  },
  {
   "cell_type": "code",
   "execution_count": 50,
   "metadata": {},
   "outputs": [
    {
     "name": "stdout",
     "output_type": "stream",
     "text": [
      "p-значение: 0.5440152911670224\n",
      "Не получилось отвергнуть нулевую гипотезу\n"
     ]
    }
   ],
   "source": [
    "array_smart = df.query('region == \"Москва\"')['revenue'].tolist()\n",
    "array_ultra = df.query('region == \"другой\"')['revenue'].tolist()\n",
    "\n",
    "alpha = 0.05\n",
    "\n",
    "results = st.ttest_ind(array_smart, array_ultra)\n",
    "\n",
    "print('p-значение:', results.pvalue)\n",
    "\n",
    "if results.pvalue < alpha:\n",
    "    print('Отвергаем нулевую гипотезу')\n",
    "else:\n",
    "    print('Не получилось отвергнуть нулевую гипотезу') "
   ]
  },
  {
   "cell_type": "markdown",
   "metadata": {},
   "source": [
    "### Итоги"
   ]
  },
  {
   "cell_type": "markdown",
   "metadata": {},
   "source": [
    "Отвергнуть нулевую гипотезу не получилось - с довольно большой вероятностью можем утверждать, что средняя выручка в Москве не отличается от выручки в других регионах. "
   ]
  },
  {
   "cell_type": "markdown",
   "metadata": {},
   "source": [
    "## Выводы"
   ]
  },
  {
   "cell_type": "markdown",
   "metadata": {},
   "source": [
    "В ходе исследования были сделаны следующие выводы:\n",
    "\n",
    "- Было посчитано количество минут разговора, количество сообщений и объём интернет-трафика в среднем требуемый пользователям каждого тарифа в месяц:\n",
    "  - Тариф smart: 417 минут, 33 сообщения, 16 гигабайт трафика. \n",
    "  - Тариф ultra: 527 минут, 49 сообщений, 19 гигабайт трафика.\n",
    "- Была подтверждена гипотеза о том, что средняя выручка пользователей тарифов «Ультра» и «Смарт» различается - средняя выручка тарифов Smart оказалась больше.\n",
    "- Была опровергнута гипотеза о том, что средняя выручка пользователей из Москвы отличается от выручки пользователей из других регионов.\n",
    "\n",
    "Беря во внимание все вышесказанное приходим к основному выводу исследования - тариф ultra оказался лучше. Он приносит больше прибыли при небольшом увеличении количества потребляемых минут, сообщений и трафика абонентами сети \"Мегалайн\"."
   ]
  }
 ],
 "metadata": {
  "ExecuteTimeLog": [
   {
    "duration": 1337,
    "start_time": "2021-07-05T14:12:04.847Z"
   },
   {
    "duration": 588,
    "start_time": "2021-07-05T14:12:06.187Z"
   },
   {
    "duration": 19,
    "start_time": "2021-07-05T14:12:06.778Z"
   },
   {
    "duration": 35,
    "start_time": "2021-07-05T14:12:06.800Z"
   },
   {
    "duration": 10,
    "start_time": "2021-07-05T14:12:06.838Z"
   },
   {
    "duration": 21,
    "start_time": "2021-07-05T14:12:06.852Z"
   },
   {
    "duration": 15,
    "start_time": "2021-07-05T14:12:06.903Z"
   },
   {
    "duration": 24,
    "start_time": "2021-07-05T14:12:06.924Z"
   },
   {
    "duration": 12,
    "start_time": "2021-07-05T14:12:06.951Z"
   },
   {
    "duration": 18,
    "start_time": "2021-07-05T14:12:07.001Z"
   },
   {
    "duration": 10,
    "start_time": "2021-07-05T14:12:07.022Z"
   },
   {
    "duration": 19,
    "start_time": "2021-07-05T14:12:07.035Z"
   },
   {
    "duration": 12,
    "start_time": "2021-07-05T14:12:07.057Z"
   },
   {
    "duration": 7,
    "start_time": "2021-07-05T14:12:07.102Z"
   },
   {
    "duration": 241,
    "start_time": "2021-07-05T14:12:07.112Z"
   },
   {
    "duration": 135,
    "start_time": "2021-07-05T14:12:07.355Z"
   },
   {
    "duration": 18,
    "start_time": "2021-07-05T14:12:07.492Z"
   },
   {
    "duration": 176,
    "start_time": "2021-07-05T14:12:07.513Z"
   },
   {
    "duration": 9,
    "start_time": "2021-07-05T14:12:07.692Z"
   },
   {
    "duration": 13,
    "start_time": "2021-07-05T14:12:07.705Z"
   },
   {
    "duration": 229,
    "start_time": "2021-07-05T14:12:07.721Z"
   },
   {
    "duration": 1709,
    "start_time": "2021-07-05T14:12:07.953Z"
   },
   {
    "duration": 85,
    "start_time": "2021-07-05T14:12:09.669Z"
   },
   {
    "duration": 93,
    "start_time": "2021-07-05T14:12:09.757Z"
   },
   {
    "duration": 20,
    "start_time": "2021-07-05T14:12:09.853Z"
   },
   {
    "duration": 58,
    "start_time": "2021-07-05T14:12:09.876Z"
   },
   {
    "duration": 22,
    "start_time": "2021-07-05T14:12:09.936Z"
   },
   {
    "duration": 8,
    "start_time": "2021-07-05T14:12:09.961Z"
   },
   {
    "duration": 37,
    "start_time": "2021-07-05T14:12:09.972Z"
   },
   {
    "duration": 15,
    "start_time": "2021-07-05T14:12:10.012Z"
   },
   {
    "duration": 29,
    "start_time": "2021-07-05T14:12:10.029Z"
   },
   {
    "duration": 15,
    "start_time": "2021-07-05T14:12:10.060Z"
   },
   {
    "duration": 255,
    "start_time": "2021-07-05T14:12:10.077Z"
   },
   {
    "duration": 16,
    "start_time": "2021-07-05T14:12:10.334Z"
   },
   {
    "duration": 683,
    "start_time": "2021-07-05T14:12:10.353Z"
   },
   {
    "duration": 577,
    "start_time": "2021-07-05T14:12:11.039Z"
   },
   {
    "duration": 485,
    "start_time": "2021-07-05T14:12:11.619Z"
   },
   {
    "duration": 21,
    "start_time": "2021-07-05T14:12:12.106Z"
   },
   {
    "duration": 589,
    "start_time": "2021-07-05T14:12:12.130Z"
   },
   {
    "duration": 492,
    "start_time": "2021-07-05T14:12:12.722Z"
   },
   {
    "duration": 17,
    "start_time": "2021-07-05T14:12:13.216Z"
   },
   {
    "duration": 485,
    "start_time": "2021-07-05T14:12:13.236Z"
   },
   {
    "duration": 471,
    "start_time": "2021-07-05T14:12:13.723Z"
   },
   {
    "duration": 16,
    "start_time": "2021-07-05T14:12:14.201Z"
   },
   {
    "duration": 17,
    "start_time": "2021-07-05T14:12:14.219Z"
   },
   {
    "duration": 12,
    "start_time": "2021-07-05T14:12:14.238Z"
   },
   {
    "duration": 129,
    "start_time": "2021-07-05T14:12:14.252Z"
   },
   {
    "duration": 513,
    "start_time": "2021-07-05T14:17:50.124Z"
   },
   {
    "duration": 1514,
    "start_time": "2021-07-05T14:20:04.170Z"
   },
   {
    "duration": 560,
    "start_time": "2021-07-05T14:20:05.687Z"
   },
   {
    "duration": 16,
    "start_time": "2021-07-05T14:20:06.250Z"
   },
   {
    "duration": 26,
    "start_time": "2021-07-05T14:20:06.270Z"
   },
   {
    "duration": 13,
    "start_time": "2021-07-05T14:20:06.300Z"
   },
   {
    "duration": 22,
    "start_time": "2021-07-05T14:20:06.316Z"
   },
   {
    "duration": 22,
    "start_time": "2021-07-05T14:20:06.341Z"
   },
   {
    "duration": 58,
    "start_time": "2021-07-05T14:20:06.368Z"
   },
   {
    "duration": 14,
    "start_time": "2021-07-05T14:20:06.429Z"
   },
   {
    "duration": 21,
    "start_time": "2021-07-05T14:20:06.445Z"
   },
   {
    "duration": 15,
    "start_time": "2021-07-05T14:20:06.468Z"
   },
   {
    "duration": 29,
    "start_time": "2021-07-05T14:20:06.502Z"
   },
   {
    "duration": 16,
    "start_time": "2021-07-05T14:20:06.534Z"
   },
   {
    "duration": 8,
    "start_time": "2021-07-05T14:20:06.553Z"
   },
   {
    "duration": 239,
    "start_time": "2021-07-05T14:20:06.563Z"
   },
   {
    "duration": 170,
    "start_time": "2021-07-05T14:20:06.805Z"
   },
   {
    "duration": 12,
    "start_time": "2021-07-05T14:20:06.977Z"
   },
   {
    "duration": 196,
    "start_time": "2021-07-05T14:20:06.992Z"
   },
   {
    "duration": 11,
    "start_time": "2021-07-05T14:20:07.191Z"
   },
   {
    "duration": 19,
    "start_time": "2021-07-05T14:20:07.205Z"
   },
   {
    "duration": 209,
    "start_time": "2021-07-05T14:20:07.226Z"
   },
   {
    "duration": 1737,
    "start_time": "2021-07-05T14:20:07.437Z"
   },
   {
    "duration": 76,
    "start_time": "2021-07-05T14:20:09.179Z"
   },
   {
    "duration": 90,
    "start_time": "2021-07-05T14:20:09.258Z"
   },
   {
    "duration": 19,
    "start_time": "2021-07-05T14:20:09.350Z"
   },
   {
    "duration": 61,
    "start_time": "2021-07-05T14:20:09.372Z"
   },
   {
    "duration": 13,
    "start_time": "2021-07-05T14:20:09.435Z"
   },
   {
    "duration": 8,
    "start_time": "2021-07-05T14:20:09.451Z"
   },
   {
    "duration": 40,
    "start_time": "2021-07-05T14:20:09.461Z"
   },
   {
    "duration": 16,
    "start_time": "2021-07-05T14:20:09.504Z"
   },
   {
    "duration": 17,
    "start_time": "2021-07-05T14:20:09.523Z"
   },
   {
    "duration": 7,
    "start_time": "2021-07-05T14:20:09.542Z"
   },
   {
    "duration": 258,
    "start_time": "2021-07-05T14:20:09.552Z"
   },
   {
    "duration": 16,
    "start_time": "2021-07-05T14:20:09.813Z"
   },
   {
    "duration": 766,
    "start_time": "2021-07-05T14:20:09.831Z"
   },
   {
    "duration": 490,
    "start_time": "2021-07-05T14:20:10.600Z"
   },
   {
    "duration": 681,
    "start_time": "2021-07-05T14:20:11.100Z"
   },
   {
    "duration": 35,
    "start_time": "2021-07-05T14:20:11.783Z"
   },
   {
    "duration": 617,
    "start_time": "2021-07-05T14:20:11.821Z"
   },
   {
    "duration": 510,
    "start_time": "2021-07-05T14:20:12.441Z"
   },
   {
    "duration": 17,
    "start_time": "2021-07-05T14:20:12.954Z"
   },
   {
    "duration": 494,
    "start_time": "2021-07-05T14:20:12.974Z"
   },
   {
    "duration": 512,
    "start_time": "2021-07-05T14:20:13.471Z"
   },
   {
    "duration": 28,
    "start_time": "2021-07-05T14:20:13.985Z"
   },
   {
    "duration": 19,
    "start_time": "2021-07-05T14:20:14.016Z"
   },
   {
    "duration": 14,
    "start_time": "2021-07-05T14:20:14.038Z"
   },
   {
    "duration": 158,
    "start_time": "2021-07-05T14:20:14.055Z"
   },
   {
    "duration": 1059,
    "start_time": "2021-07-05T14:43:03.656Z"
   },
   {
    "duration": 368,
    "start_time": "2021-07-05T14:43:04.717Z"
   },
   {
    "duration": 9,
    "start_time": "2021-07-05T14:43:05.089Z"
   },
   {
    "duration": 21,
    "start_time": "2021-07-05T14:43:05.100Z"
   },
   {
    "duration": 7,
    "start_time": "2021-07-05T14:43:05.123Z"
   },
   {
    "duration": 15,
    "start_time": "2021-07-05T14:43:05.131Z"
   },
   {
    "duration": 9,
    "start_time": "2021-07-05T14:43:05.148Z"
   },
   {
    "duration": 17,
    "start_time": "2021-07-05T14:43:05.159Z"
   },
   {
    "duration": 6,
    "start_time": "2021-07-05T14:43:05.177Z"
   },
   {
    "duration": 11,
    "start_time": "2021-07-05T14:43:05.185Z"
   },
   {
    "duration": 9,
    "start_time": "2021-07-05T14:43:05.198Z"
   },
   {
    "duration": 11,
    "start_time": "2021-07-05T14:43:05.208Z"
   },
   {
    "duration": 13,
    "start_time": "2021-07-05T14:43:05.221Z"
   },
   {
    "duration": 4,
    "start_time": "2021-07-05T14:43:05.240Z"
   },
   {
    "duration": 144,
    "start_time": "2021-07-05T14:43:05.245Z"
   },
   {
    "duration": 86,
    "start_time": "2021-07-05T14:43:05.391Z"
   },
   {
    "duration": 8,
    "start_time": "2021-07-05T14:43:05.478Z"
   },
   {
    "duration": 114,
    "start_time": "2021-07-05T14:43:05.487Z"
   },
   {
    "duration": 3,
    "start_time": "2021-07-05T14:43:05.602Z"
   },
   {
    "duration": 12,
    "start_time": "2021-07-05T14:43:05.606Z"
   },
   {
    "duration": 136,
    "start_time": "2021-07-05T14:43:05.620Z"
   },
   {
    "duration": 826,
    "start_time": "2021-07-05T14:43:05.761Z"
   },
   {
    "duration": 41,
    "start_time": "2021-07-05T14:43:06.589Z"
   },
   {
    "duration": 52,
    "start_time": "2021-07-05T14:43:06.632Z"
   },
   {
    "duration": 12,
    "start_time": "2021-07-05T14:43:06.685Z"
   },
   {
    "duration": 41,
    "start_time": "2021-07-05T14:43:06.699Z"
   },
   {
    "duration": 8,
    "start_time": "2021-07-05T14:43:06.742Z"
   },
   {
    "duration": 7,
    "start_time": "2021-07-05T14:43:06.752Z"
   },
   {
    "duration": 13,
    "start_time": "2021-07-05T14:43:06.761Z"
   },
   {
    "duration": 8,
    "start_time": "2021-07-05T14:43:06.776Z"
   },
   {
    "duration": 9,
    "start_time": "2021-07-05T14:43:06.786Z"
   },
   {
    "duration": 7,
    "start_time": "2021-07-05T14:43:06.796Z"
   },
   {
    "duration": 144,
    "start_time": "2021-07-05T14:43:06.805Z"
   },
   {
    "duration": 9,
    "start_time": "2021-07-05T14:43:06.951Z"
   },
   {
    "duration": 561,
    "start_time": "2021-07-05T14:43:06.961Z"
   },
   {
    "duration": 259,
    "start_time": "2021-07-05T14:43:07.524Z"
   },
   {
    "duration": 266,
    "start_time": "2021-07-05T14:43:07.785Z"
   },
   {
    "duration": 12,
    "start_time": "2021-07-05T14:43:08.053Z"
   },
   {
    "duration": 282,
    "start_time": "2021-07-05T14:43:08.066Z"
   },
   {
    "duration": 268,
    "start_time": "2021-07-05T14:43:08.349Z"
   },
   {
    "duration": 10,
    "start_time": "2021-07-05T14:43:08.619Z"
   },
   {
    "duration": 254,
    "start_time": "2021-07-05T14:43:08.641Z"
   },
   {
    "duration": 252,
    "start_time": "2021-07-05T14:43:08.897Z"
   },
   {
    "duration": 7,
    "start_time": "2021-07-05T14:43:09.151Z"
   },
   {
    "duration": 13,
    "start_time": "2021-07-05T14:43:09.160Z"
   },
   {
    "duration": 11,
    "start_time": "2021-07-05T14:43:09.175Z"
   },
   {
    "duration": 96,
    "start_time": "2021-07-05T14:43:09.188Z"
   },
   {
    "duration": 3,
    "start_time": "2021-07-05T14:55:58.243Z"
   },
   {
    "duration": 6,
    "start_time": "2021-07-05T14:58:16.439Z"
   },
   {
    "duration": 362,
    "start_time": "2021-07-05T15:47:12.338Z"
   },
   {
    "duration": 1452,
    "start_time": "2021-07-05T15:47:31.586Z"
   },
   {
    "duration": 539,
    "start_time": "2021-07-05T15:47:33.041Z"
   },
   {
    "duration": 15,
    "start_time": "2021-07-05T15:47:33.583Z"
   },
   {
    "duration": 34,
    "start_time": "2021-07-05T15:47:33.601Z"
   },
   {
    "duration": 12,
    "start_time": "2021-07-05T15:47:33.639Z"
   },
   {
    "duration": 51,
    "start_time": "2021-07-05T15:47:33.653Z"
   },
   {
    "duration": 15,
    "start_time": "2021-07-05T15:47:33.707Z"
   },
   {
    "duration": 34,
    "start_time": "2021-07-05T15:47:33.725Z"
   },
   {
    "duration": 46,
    "start_time": "2021-07-05T15:47:33.765Z"
   },
   {
    "duration": 24,
    "start_time": "2021-07-05T15:47:33.814Z"
   },
   {
    "duration": 9,
    "start_time": "2021-07-05T15:47:33.840Z"
   },
   {
    "duration": 20,
    "start_time": "2021-07-05T15:47:33.852Z"
   },
   {
    "duration": 33,
    "start_time": "2021-07-05T15:47:33.875Z"
   },
   {
    "duration": 16,
    "start_time": "2021-07-05T15:47:33.911Z"
   },
   {
    "duration": 250,
    "start_time": "2021-07-05T15:47:33.930Z"
   },
   {
    "duration": 149,
    "start_time": "2021-07-05T15:47:34.182Z"
   },
   {
    "duration": 11,
    "start_time": "2021-07-05T15:47:34.334Z"
   },
   {
    "duration": 202,
    "start_time": "2021-07-05T15:47:34.347Z"
   },
   {
    "duration": 4,
    "start_time": "2021-07-05T15:47:34.551Z"
   },
   {
    "duration": 20,
    "start_time": "2021-07-05T15:47:34.558Z"
   },
   {
    "duration": 26,
    "start_time": "2021-07-05T15:47:41.512Z"
   },
   {
    "duration": 354,
    "start_time": "2021-07-05T15:48:25.434Z"
   },
   {
    "duration": 7,
    "start_time": "2021-07-05T15:48:44.240Z"
   },
   {
    "duration": 7,
    "start_time": "2021-07-05T15:52:43.897Z"
   },
   {
    "duration": 7,
    "start_time": "2021-07-05T15:52:52.231Z"
   },
   {
    "duration": 6,
    "start_time": "2021-07-05T15:53:12.841Z"
   },
   {
    "duration": 10,
    "start_time": "2021-07-05T15:53:24.816Z"
   },
   {
    "duration": 1715,
    "start_time": "2021-07-05T15:55:31.825Z"
   },
   {
    "duration": 643,
    "start_time": "2021-07-05T15:55:33.544Z"
   },
   {
    "duration": 16,
    "start_time": "2021-07-05T15:55:34.191Z"
   },
   {
    "duration": 42,
    "start_time": "2021-07-05T15:55:34.210Z"
   },
   {
    "duration": 11,
    "start_time": "2021-07-05T15:55:34.255Z"
   },
   {
    "duration": 50,
    "start_time": "2021-07-05T15:55:34.268Z"
   },
   {
    "duration": 14,
    "start_time": "2021-07-05T15:55:34.321Z"
   },
   {
    "duration": 39,
    "start_time": "2021-07-05T15:55:34.341Z"
   },
   {
    "duration": 17,
    "start_time": "2021-07-05T15:55:34.403Z"
   },
   {
    "duration": 20,
    "start_time": "2021-07-05T15:55:34.423Z"
   },
   {
    "duration": 17,
    "start_time": "2021-07-05T15:55:34.446Z"
   },
   {
    "duration": 42,
    "start_time": "2021-07-05T15:55:34.465Z"
   },
   {
    "duration": 29,
    "start_time": "2021-07-05T15:55:34.510Z"
   },
   {
    "duration": 11,
    "start_time": "2021-07-05T15:55:34.541Z"
   },
   {
    "duration": 249,
    "start_time": "2021-07-05T15:55:34.555Z"
   },
   {
    "duration": 155,
    "start_time": "2021-07-05T15:55:34.808Z"
   },
   {
    "duration": 12,
    "start_time": "2021-07-05T15:55:34.966Z"
   },
   {
    "duration": 202,
    "start_time": "2021-07-05T15:55:34.981Z"
   },
   {
    "duration": 15,
    "start_time": "2021-07-05T15:55:35.185Z"
   },
   {
    "duration": 14,
    "start_time": "2021-07-05T15:55:35.205Z"
   },
   {
    "duration": 237,
    "start_time": "2021-07-05T15:55:35.222Z"
   },
   {
    "duration": 1816,
    "start_time": "2021-07-05T15:55:35.462Z"
   },
   {
    "duration": 72,
    "start_time": "2021-07-05T15:55:37.284Z"
   },
   {
    "duration": 93,
    "start_time": "2021-07-05T15:55:37.359Z"
   },
   {
    "duration": 19,
    "start_time": "2021-07-05T15:55:37.455Z"
   },
   {
    "duration": 59,
    "start_time": "2021-07-05T15:55:37.476Z"
   },
   {
    "duration": 14,
    "start_time": "2021-07-05T15:55:37.538Z"
   },
   {
    "duration": 10,
    "start_time": "2021-07-05T15:55:37.556Z"
   },
   {
    "duration": 46,
    "start_time": "2021-07-05T15:55:37.568Z"
   },
   {
    "duration": 18,
    "start_time": "2021-07-05T15:55:37.618Z"
   },
   {
    "duration": 20,
    "start_time": "2021-07-05T15:55:37.639Z"
   },
   {
    "duration": 41,
    "start_time": "2021-07-05T15:55:37.662Z"
   },
   {
    "duration": 248,
    "start_time": "2021-07-05T15:55:37.707Z"
   },
   {
    "duration": 16,
    "start_time": "2021-07-05T15:55:37.958Z"
   },
   {
    "duration": 938,
    "start_time": "2021-07-05T15:55:37.977Z"
   },
   {
    "duration": 516,
    "start_time": "2021-07-05T15:55:38.918Z"
   },
   {
    "duration": 499,
    "start_time": "2021-07-05T15:55:39.437Z"
   },
   {
    "duration": 19,
    "start_time": "2021-07-05T15:55:39.938Z"
   },
   {
    "duration": 573,
    "start_time": "2021-07-05T15:55:39.960Z"
   },
   {
    "duration": 513,
    "start_time": "2021-07-05T15:55:40.536Z"
   },
   {
    "duration": 18,
    "start_time": "2021-07-05T15:55:41.051Z"
   },
   {
    "duration": 496,
    "start_time": "2021-07-05T15:55:41.071Z"
   },
   {
    "duration": 494,
    "start_time": "2021-07-05T15:55:41.570Z"
   },
   {
    "duration": 11,
    "start_time": "2021-07-05T15:55:42.067Z"
   },
   {
    "duration": 31,
    "start_time": "2021-07-05T15:55:42.081Z"
   },
   {
    "duration": 15,
    "start_time": "2021-07-05T15:55:42.116Z"
   },
   {
    "duration": 146,
    "start_time": "2021-07-05T15:55:42.134Z"
   },
   {
    "duration": 12,
    "start_time": "2021-07-05T15:56:11.654Z"
   },
   {
    "duration": 1708,
    "start_time": "2021-07-05T15:56:51.777Z"
   },
   {
    "duration": 600,
    "start_time": "2021-07-05T15:56:53.489Z"
   },
   {
    "duration": 17,
    "start_time": "2021-07-05T15:56:54.093Z"
   },
   {
    "duration": 38,
    "start_time": "2021-07-05T15:56:54.113Z"
   },
   {
    "duration": 11,
    "start_time": "2021-07-05T15:56:54.154Z"
   },
   {
    "duration": 51,
    "start_time": "2021-07-05T15:56:54.167Z"
   },
   {
    "duration": 12,
    "start_time": "2021-07-05T15:56:54.221Z"
   },
   {
    "duration": 28,
    "start_time": "2021-07-05T15:56:54.237Z"
   },
   {
    "duration": 14,
    "start_time": "2021-07-05T15:56:54.302Z"
   },
   {
    "duration": 16,
    "start_time": "2021-07-05T15:56:54.319Z"
   },
   {
    "duration": 13,
    "start_time": "2021-07-05T15:56:54.338Z"
   },
   {
    "duration": 71,
    "start_time": "2021-07-05T15:56:54.354Z"
   },
   {
    "duration": 13,
    "start_time": "2021-07-05T15:56:54.428Z"
   },
   {
    "duration": 7,
    "start_time": "2021-07-05T15:56:54.444Z"
   },
   {
    "duration": 259,
    "start_time": "2021-07-05T15:56:54.454Z"
   },
   {
    "duration": 203,
    "start_time": "2021-07-05T15:56:54.717Z"
   },
   {
    "duration": 15,
    "start_time": "2021-07-05T15:56:54.923Z"
   },
   {
    "duration": 316,
    "start_time": "2021-07-05T15:56:54.952Z"
   },
   {
    "duration": 6,
    "start_time": "2021-07-05T15:56:55.271Z"
   },
   {
    "duration": 28,
    "start_time": "2021-07-05T15:56:55.280Z"
   },
   {
    "duration": 24,
    "start_time": "2021-07-05T15:57:25.291Z"
   },
   {
    "duration": 19,
    "start_time": "2021-07-05T15:57:47.687Z"
   },
   {
    "duration": 26,
    "start_time": "2021-07-05T15:58:01.898Z"
   },
   {
    "duration": 31,
    "start_time": "2021-07-05T15:58:11.576Z"
   },
   {
    "duration": 25,
    "start_time": "2021-07-05T15:58:58.590Z"
   },
   {
    "duration": 8,
    "start_time": "2021-07-05T15:59:13.895Z"
   },
   {
    "duration": 7,
    "start_time": "2021-07-05T15:59:20.924Z"
   },
   {
    "duration": 8,
    "start_time": "2021-07-05T15:59:28.510Z"
   },
   {
    "duration": 30,
    "start_time": "2021-07-05T15:59:35.830Z"
   },
   {
    "duration": 6,
    "start_time": "2021-07-05T15:59:53.680Z"
   },
   {
    "duration": 6,
    "start_time": "2021-07-05T16:00:01.047Z"
   },
   {
    "duration": 20,
    "start_time": "2021-07-05T16:00:08.668Z"
   },
   {
    "duration": 61,
    "start_time": "2021-07-05T16:00:23.663Z"
   },
   {
    "duration": 33,
    "start_time": "2021-07-05T16:00:50.859Z"
   },
   {
    "duration": 17,
    "start_time": "2021-07-05T16:01:15.179Z"
   },
   {
    "duration": 23,
    "start_time": "2021-07-05T16:01:50.204Z"
   },
   {
    "duration": 9,
    "start_time": "2021-07-05T16:03:04.122Z"
   },
   {
    "duration": 6,
    "start_time": "2021-07-05T16:03:11.137Z"
   },
   {
    "duration": 159,
    "start_time": "2021-07-05T16:04:07.091Z"
   },
   {
    "duration": 39,
    "start_time": "2021-07-05T16:04:12.484Z"
   },
   {
    "duration": 6,
    "start_time": "2021-07-05T16:09:21.178Z"
   },
   {
    "duration": 6,
    "start_time": "2021-07-05T16:09:28.181Z"
   },
   {
    "duration": 17,
    "start_time": "2021-07-05T16:09:36.048Z"
   },
   {
    "duration": 28,
    "start_time": "2021-07-05T16:09:59.153Z"
   },
   {
    "duration": 88,
    "start_time": "2021-07-05T16:37:53.065Z"
   },
   {
    "duration": 96,
    "start_time": "2021-07-05T16:39:56.981Z"
   },
   {
    "duration": 438,
    "start_time": "2021-07-05T16:42:25.216Z"
   },
   {
    "duration": 13,
    "start_time": "2021-07-05T16:42:29.492Z"
   },
   {
    "duration": 17,
    "start_time": "2021-07-05T17:03:44.647Z"
   },
   {
    "duration": 35,
    "start_time": "2021-07-05T17:10:38.654Z"
   },
   {
    "duration": 28,
    "start_time": "2021-07-05T17:10:44.866Z"
   },
   {
    "duration": 15,
    "start_time": "2021-07-05T17:11:21.060Z"
   },
   {
    "duration": 343,
    "start_time": "2021-07-05T17:12:12.061Z"
   },
   {
    "duration": 71,
    "start_time": "2021-07-05T17:12:33.328Z"
   },
   {
    "duration": 82,
    "start_time": "2021-07-05T17:14:46.884Z"
   },
   {
    "duration": 52,
    "start_time": "2021-07-05T17:14:58.159Z"
   },
   {
    "duration": 54,
    "start_time": "2021-07-05T17:15:30.192Z"
   },
   {
    "duration": 98,
    "start_time": "2021-07-05T17:17:10.164Z"
   },
   {
    "duration": 307,
    "start_time": "2021-07-05T17:21:26.090Z"
   },
   {
    "duration": 1558,
    "start_time": "2021-07-05T17:21:53.763Z"
   },
   {
    "duration": 692,
    "start_time": "2021-07-05T17:21:55.324Z"
   },
   {
    "duration": 25,
    "start_time": "2021-07-05T17:21:56.019Z"
   },
   {
    "duration": 36,
    "start_time": "2021-07-05T17:21:56.048Z"
   },
   {
    "duration": 28,
    "start_time": "2021-07-05T17:21:56.086Z"
   },
   {
    "duration": 34,
    "start_time": "2021-07-05T17:21:56.117Z"
   },
   {
    "duration": 20,
    "start_time": "2021-07-05T17:21:56.156Z"
   },
   {
    "duration": 44,
    "start_time": "2021-07-05T17:21:56.203Z"
   },
   {
    "duration": 22,
    "start_time": "2021-07-05T17:21:56.252Z"
   },
   {
    "duration": 35,
    "start_time": "2021-07-05T17:21:56.277Z"
   },
   {
    "duration": 27,
    "start_time": "2021-07-05T17:21:56.316Z"
   },
   {
    "duration": 15,
    "start_time": "2021-07-05T17:21:56.349Z"
   },
   {
    "duration": 36,
    "start_time": "2021-07-05T17:21:56.368Z"
   },
   {
    "duration": 19,
    "start_time": "2021-07-05T17:21:56.408Z"
   },
   {
    "duration": 74,
    "start_time": "2021-07-05T17:21:56.433Z"
   },
   {
    "duration": 7,
    "start_time": "2021-07-05T17:21:56.510Z"
   },
   {
    "duration": 323,
    "start_time": "2021-07-05T17:21:56.520Z"
   },
   {
    "duration": 196,
    "start_time": "2021-07-05T17:21:56.846Z"
   },
   {
    "duration": 25,
    "start_time": "2021-07-05T17:21:57.045Z"
   },
   {
    "duration": 282,
    "start_time": "2021-07-05T17:21:57.073Z"
   },
   {
    "duration": 7,
    "start_time": "2021-07-05T17:21:57.358Z"
   },
   {
    "duration": 33,
    "start_time": "2021-07-05T17:21:57.368Z"
   },
   {
    "duration": 276,
    "start_time": "2021-07-05T17:21:57.407Z"
   },
   {
    "duration": 2060,
    "start_time": "2021-07-05T17:21:57.686Z"
   },
   {
    "duration": 96,
    "start_time": "2021-07-05T17:21:59.748Z"
   },
   {
    "duration": 90,
    "start_time": "2021-07-05T17:21:59.847Z"
   },
   {
    "duration": 27,
    "start_time": "2021-07-05T17:21:59.940Z"
   },
   {
    "duration": 2394,
    "start_time": "2021-07-05T17:21:59.969Z"
   },
   {
    "duration": 16,
    "start_time": "2021-07-05T17:22:02.365Z"
   },
   {
    "duration": 24,
    "start_time": "2021-07-05T17:22:02.384Z"
   },
   {
    "duration": 549,
    "start_time": "2021-07-05T17:22:02.412Z"
   },
   {
    "duration": 8024,
    "start_time": "2021-07-05T17:22:02.964Z"
   },
   {
    "duration": -103,
    "start_time": "2021-07-05T17:22:11.094Z"
   },
   {
    "duration": -107,
    "start_time": "2021-07-05T17:22:11.100Z"
   },
   {
    "duration": -111,
    "start_time": "2021-07-05T17:22:11.105Z"
   },
   {
    "duration": -116,
    "start_time": "2021-07-05T17:22:11.111Z"
   },
   {
    "duration": -119,
    "start_time": "2021-07-05T17:22:11.116Z"
   },
   {
    "duration": -124,
    "start_time": "2021-07-05T17:22:11.122Z"
   },
   {
    "duration": -127,
    "start_time": "2021-07-05T17:22:11.127Z"
   },
   {
    "duration": -131,
    "start_time": "2021-07-05T17:22:11.132Z"
   },
   {
    "duration": -130,
    "start_time": "2021-07-05T17:22:11.137Z"
   },
   {
    "duration": -134,
    "start_time": "2021-07-05T17:22:11.143Z"
   },
   {
    "duration": -137,
    "start_time": "2021-07-05T17:22:11.148Z"
   },
   {
    "duration": -142,
    "start_time": "2021-07-05T17:22:11.154Z"
   },
   {
    "duration": -146,
    "start_time": "2021-07-05T17:22:11.159Z"
   },
   {
    "duration": -150,
    "start_time": "2021-07-05T17:22:11.165Z"
   },
   {
    "duration": -153,
    "start_time": "2021-07-05T17:22:11.170Z"
   },
   {
    "duration": -157,
    "start_time": "2021-07-05T17:22:11.175Z"
   },
   {
    "duration": -190,
    "start_time": "2021-07-05T17:22:11.213Z"
   },
   {
    "duration": 14,
    "start_time": "2021-07-05T17:23:19.523Z"
   },
   {
    "duration": 14,
    "start_time": "2021-07-05T17:23:52.138Z"
   },
   {
    "duration": 68,
    "start_time": "2021-07-05T17:26:23.671Z"
   },
   {
    "duration": 1787,
    "start_time": "2021-07-05T17:26:53.267Z"
   },
   {
    "duration": 286,
    "start_time": "2021-07-05T17:27:04.562Z"
   },
   {
    "duration": 1694,
    "start_time": "2021-07-05T17:27:24.023Z"
   },
   {
    "duration": 652,
    "start_time": "2021-07-05T17:27:25.721Z"
   },
   {
    "duration": 31,
    "start_time": "2021-07-05T17:27:26.377Z"
   },
   {
    "duration": 44,
    "start_time": "2021-07-05T17:27:26.412Z"
   },
   {
    "duration": 15,
    "start_time": "2021-07-05T17:27:26.459Z"
   },
   {
    "duration": 56,
    "start_time": "2021-07-05T17:27:26.478Z"
   },
   {
    "duration": 18,
    "start_time": "2021-07-05T17:27:26.538Z"
   },
   {
    "duration": 63,
    "start_time": "2021-07-05T17:27:26.559Z"
   },
   {
    "duration": 22,
    "start_time": "2021-07-05T17:27:26.629Z"
   },
   {
    "duration": 19,
    "start_time": "2021-07-05T17:27:26.656Z"
   },
   {
    "duration": 29,
    "start_time": "2021-07-05T17:27:26.701Z"
   },
   {
    "duration": 15,
    "start_time": "2021-07-05T17:27:26.734Z"
   },
   {
    "duration": 12,
    "start_time": "2021-07-05T17:27:26.752Z"
   },
   {
    "duration": 22,
    "start_time": "2021-07-05T17:27:26.801Z"
   },
   {
    "duration": 49,
    "start_time": "2021-07-05T17:27:26.830Z"
   },
   {
    "duration": 29,
    "start_time": "2021-07-05T17:27:26.882Z"
   },
   {
    "duration": 59,
    "start_time": "2021-07-05T17:27:26.914Z"
   },
   {
    "duration": 205,
    "start_time": "2021-07-05T17:27:26.976Z"
   },
   {
    "duration": 39,
    "start_time": "2021-07-05T17:27:27.184Z"
   },
   {
    "duration": 47,
    "start_time": "2021-07-05T17:27:27.226Z"
   },
   {
    "duration": 6,
    "start_time": "2021-07-05T17:27:27.277Z"
   },
   {
    "duration": 24,
    "start_time": "2021-07-05T17:27:27.303Z"
   },
   {
    "duration": 316,
    "start_time": "2021-07-05T17:27:27.331Z"
   },
   {
    "duration": 2810,
    "start_time": "2021-07-05T17:27:27.650Z"
   },
   {
    "duration": 101,
    "start_time": "2021-07-05T17:27:30.463Z"
   },
   {
    "duration": 7636,
    "start_time": "2021-07-05T17:27:30.567Z"
   },
   {
    "duration": -101,
    "start_time": "2021-07-05T17:27:38.313Z"
   },
   {
    "duration": -104,
    "start_time": "2021-07-05T17:27:38.328Z"
   },
   {
    "duration": -109,
    "start_time": "2021-07-05T17:27:38.336Z"
   },
   {
    "duration": -112,
    "start_time": "2021-07-05T17:27:38.341Z"
   },
   {
    "duration": -116,
    "start_time": "2021-07-05T17:27:38.348Z"
   },
   {
    "duration": -111,
    "start_time": "2021-07-05T17:27:38.352Z"
   },
   {
    "duration": -113,
    "start_time": "2021-07-05T17:27:38.357Z"
   },
   {
    "duration": -116,
    "start_time": "2021-07-05T17:27:38.362Z"
   },
   {
    "duration": -120,
    "start_time": "2021-07-05T17:27:38.368Z"
   },
   {
    "duration": -122,
    "start_time": "2021-07-05T17:27:38.373Z"
   },
   {
    "duration": -118,
    "start_time": "2021-07-05T17:27:38.378Z"
   },
   {
    "duration": -121,
    "start_time": "2021-07-05T17:27:38.383Z"
   },
   {
    "duration": -162,
    "start_time": "2021-07-05T17:27:38.427Z"
   },
   {
    "duration": -164,
    "start_time": "2021-07-05T17:27:38.431Z"
   },
   {
    "duration": -135,
    "start_time": "2021-07-05T17:27:38.437Z"
   },
   {
    "duration": -136,
    "start_time": "2021-07-05T17:27:38.441Z"
   },
   {
    "duration": -669,
    "start_time": "2021-07-05T17:27:38.977Z"
   },
   {
    "duration": -674,
    "start_time": "2021-07-05T17:27:38.991Z"
   },
   {
    "duration": -674,
    "start_time": "2021-07-05T17:27:38.998Z"
   },
   {
    "duration": -686,
    "start_time": "2021-07-05T17:27:39.015Z"
   },
   {
    "duration": -688,
    "start_time": "2021-07-05T17:27:39.021Z"
   },
   {
    "duration": -691,
    "start_time": "2021-07-05T17:27:39.026Z"
   },
   {
    "duration": -696,
    "start_time": "2021-07-05T17:27:39.033Z"
   },
   {
    "duration": 52,
    "start_time": "2021-07-05T17:29:30.999Z"
   },
   {
    "duration": 1516,
    "start_time": "2021-07-05T17:29:53.225Z"
   },
   {
    "duration": 615,
    "start_time": "2021-07-05T17:29:54.744Z"
   },
   {
    "duration": 18,
    "start_time": "2021-07-05T17:29:55.363Z"
   },
   {
    "duration": 36,
    "start_time": "2021-07-05T17:29:55.384Z"
   },
   {
    "duration": 15,
    "start_time": "2021-07-05T17:29:55.423Z"
   },
   {
    "duration": 31,
    "start_time": "2021-07-05T17:29:55.441Z"
   },
   {
    "duration": 26,
    "start_time": "2021-07-05T17:29:55.499Z"
   },
   {
    "duration": 34,
    "start_time": "2021-07-05T17:29:55.531Z"
   },
   {
    "duration": 46,
    "start_time": "2021-07-05T17:29:55.569Z"
   },
   {
    "duration": 22,
    "start_time": "2021-07-05T17:29:55.619Z"
   },
   {
    "duration": 20,
    "start_time": "2021-07-05T17:29:55.645Z"
   },
   {
    "duration": 43,
    "start_time": "2021-07-05T17:29:55.668Z"
   },
   {
    "duration": 12,
    "start_time": "2021-07-05T17:29:55.714Z"
   },
   {
    "duration": 18,
    "start_time": "2021-07-05T17:29:55.736Z"
   },
   {
    "duration": 69,
    "start_time": "2021-07-05T17:29:55.757Z"
   },
   {
    "duration": 5,
    "start_time": "2021-07-05T17:29:55.832Z"
   },
   {
    "duration": 84,
    "start_time": "2021-07-05T17:29:55.843Z"
   },
   {
    "duration": 170,
    "start_time": "2021-07-05T17:29:55.931Z"
   },
   {
    "duration": 20,
    "start_time": "2021-07-05T17:29:56.106Z"
   },
   {
    "duration": 41,
    "start_time": "2021-07-05T17:29:56.129Z"
   },
   {
    "duration": 37,
    "start_time": "2021-07-05T17:29:56.173Z"
   },
   {
    "duration": 14,
    "start_time": "2021-07-05T17:29:56.221Z"
   },
   {
    "duration": 276,
    "start_time": "2021-07-05T17:29:56.244Z"
   },
   {
    "duration": 2134,
    "start_time": "2021-07-05T17:29:56.525Z"
   },
   {
    "duration": 86,
    "start_time": "2021-07-05T17:29:58.662Z"
   },
   {
    "duration": 70,
    "start_time": "2021-07-05T17:29:58.752Z"
   },
   {
    "duration": 24,
    "start_time": "2021-07-05T17:29:58.825Z"
   },
   {
    "duration": 476,
    "start_time": "2021-07-05T17:29:58.852Z"
   },
   {
    "duration": -276,
    "start_time": "2021-07-05T17:29:59.608Z"
   },
   {
    "duration": -280,
    "start_time": "2021-07-05T17:29:59.614Z"
   },
   {
    "duration": -283,
    "start_time": "2021-07-05T17:29:59.619Z"
   },
   {
    "duration": -288,
    "start_time": "2021-07-05T17:29:59.626Z"
   },
   {
    "duration": -297,
    "start_time": "2021-07-05T17:29:59.638Z"
   },
   {
    "duration": -315,
    "start_time": "2021-07-05T17:29:59.658Z"
   },
   {
    "duration": -319,
    "start_time": "2021-07-05T17:29:59.664Z"
   },
   {
    "duration": -324,
    "start_time": "2021-07-05T17:29:59.671Z"
   },
   {
    "duration": -328,
    "start_time": "2021-07-05T17:29:59.677Z"
   },
   {
    "duration": -330,
    "start_time": "2021-07-05T17:29:59.682Z"
   },
   {
    "duration": -332,
    "start_time": "2021-07-05T17:29:59.686Z"
   },
   {
    "duration": -336,
    "start_time": "2021-07-05T17:29:59.692Z"
   },
   {
    "duration": -338,
    "start_time": "2021-07-05T17:29:59.697Z"
   },
   {
    "duration": -341,
    "start_time": "2021-07-05T17:29:59.702Z"
   },
   {
    "duration": -343,
    "start_time": "2021-07-05T17:29:59.706Z"
   },
   {
    "duration": -346,
    "start_time": "2021-07-05T17:29:59.711Z"
   },
   {
    "duration": -349,
    "start_time": "2021-07-05T17:29:59.716Z"
   },
   {
    "duration": -354,
    "start_time": "2021-07-05T17:29:59.722Z"
   },
   {
    "duration": -356,
    "start_time": "2021-07-05T17:29:59.726Z"
   },
   {
    "duration": -360,
    "start_time": "2021-07-05T17:29:59.732Z"
   },
   {
    "duration": -364,
    "start_time": "2021-07-05T17:29:59.737Z"
   },
   {
    "duration": 294,
    "start_time": "2021-07-05T17:31:11.651Z"
   },
   {
    "duration": 336,
    "start_time": "2021-07-05T17:31:26.093Z"
   },
   {
    "duration": 901,
    "start_time": "2021-07-05T17:32:14.776Z"
   },
   {
    "duration": 20,
    "start_time": "2021-07-05T17:32:42.279Z"
   },
   {
    "duration": 10,
    "start_time": "2021-07-05T17:35:07.429Z"
   },
   {
    "duration": 19,
    "start_time": "2021-07-05T17:35:27.375Z"
   },
   {
    "duration": 9,
    "start_time": "2021-07-05T17:35:43.657Z"
   },
   {
    "duration": 1433,
    "start_time": "2021-07-05T17:37:01.555Z"
   },
   {
    "duration": 565,
    "start_time": "2021-07-05T17:37:02.992Z"
   },
   {
    "duration": 15,
    "start_time": "2021-07-05T17:37:03.560Z"
   },
   {
    "duration": 36,
    "start_time": "2021-07-05T17:37:03.578Z"
   },
   {
    "duration": 11,
    "start_time": "2021-07-05T17:37:03.617Z"
   },
   {
    "duration": 30,
    "start_time": "2021-07-05T17:37:03.631Z"
   },
   {
    "duration": 14,
    "start_time": "2021-07-05T17:37:03.664Z"
   },
   {
    "duration": 47,
    "start_time": "2021-07-05T17:37:03.681Z"
   },
   {
    "duration": 15,
    "start_time": "2021-07-05T17:37:03.732Z"
   },
   {
    "duration": 14,
    "start_time": "2021-07-05T17:37:03.750Z"
   },
   {
    "duration": 21,
    "start_time": "2021-07-05T17:37:03.801Z"
   },
   {
    "duration": 16,
    "start_time": "2021-07-05T17:37:03.825Z"
   },
   {
    "duration": 15,
    "start_time": "2021-07-05T17:37:03.843Z"
   },
   {
    "duration": 22,
    "start_time": "2021-07-05T17:37:03.861Z"
   },
   {
    "duration": 55,
    "start_time": "2021-07-05T17:37:03.886Z"
   },
   {
    "duration": 5,
    "start_time": "2021-07-05T17:37:03.944Z"
   },
   {
    "duration": 78,
    "start_time": "2021-07-05T17:37:03.952Z"
   },
   {
    "duration": 29,
    "start_time": "2021-07-05T17:37:04.033Z"
   },
   {
    "duration": 50,
    "start_time": "2021-07-05T17:37:04.065Z"
   },
   {
    "duration": 31,
    "start_time": "2021-07-05T17:37:04.118Z"
   },
   {
    "duration": 6,
    "start_time": "2021-07-05T17:37:04.152Z"
   },
   {
    "duration": 20,
    "start_time": "2021-07-05T17:37:04.160Z"
   },
   {
    "duration": 203,
    "start_time": "2021-07-05T17:37:04.207Z"
   },
   {
    "duration": 1694,
    "start_time": "2021-07-05T17:37:04.413Z"
   },
   {
    "duration": 41,
    "start_time": "2021-07-05T17:37:06.110Z"
   },
   {
    "duration": 70,
    "start_time": "2021-07-05T17:37:06.154Z"
   },
   {
    "duration": 20,
    "start_time": "2021-07-05T17:37:06.227Z"
   },
   {
    "duration": 64,
    "start_time": "2021-07-05T17:37:06.251Z"
   },
   {
    "duration": 18,
    "start_time": "2021-07-05T17:37:06.317Z"
   },
   {
    "duration": 6,
    "start_time": "2021-07-05T17:37:06.338Z"
   },
   {
    "duration": 18,
    "start_time": "2021-07-05T17:37:06.347Z"
   },
   {
    "duration": 46,
    "start_time": "2021-07-05T17:37:06.367Z"
   },
   {
    "duration": 15,
    "start_time": "2021-07-05T17:37:06.418Z"
   },
   {
    "duration": 7,
    "start_time": "2021-07-05T17:37:06.436Z"
   },
   {
    "duration": 262,
    "start_time": "2021-07-05T17:37:06.446Z"
   },
   {
    "duration": 19,
    "start_time": "2021-07-05T17:37:06.711Z"
   },
   {
    "duration": 701,
    "start_time": "2021-07-05T17:37:06.733Z"
   },
   {
    "duration": 495,
    "start_time": "2021-07-05T17:37:07.437Z"
   },
   {
    "duration": 488,
    "start_time": "2021-07-05T17:37:07.935Z"
   },
   {
    "duration": 18,
    "start_time": "2021-07-05T17:37:08.425Z"
   },
   {
    "duration": 528,
    "start_time": "2021-07-05T17:37:08.446Z"
   },
   {
    "duration": 496,
    "start_time": "2021-07-05T17:37:08.976Z"
   },
   {
    "duration": 34,
    "start_time": "2021-07-05T17:37:09.475Z"
   },
   {
    "duration": 474,
    "start_time": "2021-07-05T17:37:09.513Z"
   },
   {
    "duration": 468,
    "start_time": "2021-07-05T17:37:09.990Z"
   },
   {
    "duration": 11,
    "start_time": "2021-07-05T17:37:10.460Z"
   },
   {
    "duration": 46,
    "start_time": "2021-07-05T17:37:10.473Z"
   },
   {
    "duration": 16,
    "start_time": "2021-07-05T17:37:10.522Z"
   },
   {
    "duration": 124,
    "start_time": "2021-07-05T17:37:10.541Z"
   },
   {
    "duration": 639,
    "start_time": "2021-07-05T17:39:41.508Z"
   },
   {
    "duration": 7,
    "start_time": "2021-07-05T17:39:47.955Z"
   },
   {
    "duration": 6,
    "start_time": "2021-07-05T17:39:52.427Z"
   },
   {
    "duration": 14,
    "start_time": "2021-07-05T17:39:58.307Z"
   },
   {
    "duration": 8,
    "start_time": "2021-07-05T17:40:49.687Z"
   },
   {
    "duration": 1801,
    "start_time": "2021-07-05T17:41:09.160Z"
   },
   {
    "duration": 658,
    "start_time": "2021-07-05T17:41:10.964Z"
   },
   {
    "duration": 18,
    "start_time": "2021-07-05T17:41:11.625Z"
   },
   {
    "duration": 30,
    "start_time": "2021-07-05T17:41:11.646Z"
   },
   {
    "duration": 31,
    "start_time": "2021-07-05T17:41:11.679Z"
   },
   {
    "duration": 28,
    "start_time": "2021-07-05T17:41:11.713Z"
   },
   {
    "duration": 15,
    "start_time": "2021-07-05T17:41:11.745Z"
   },
   {
    "duration": 88,
    "start_time": "2021-07-05T17:41:11.764Z"
   },
   {
    "duration": 17,
    "start_time": "2021-07-05T17:41:11.855Z"
   },
   {
    "duration": 14,
    "start_time": "2021-07-05T17:41:11.874Z"
   },
   {
    "duration": 28,
    "start_time": "2021-07-05T17:41:11.891Z"
   },
   {
    "duration": 15,
    "start_time": "2021-07-05T17:41:11.922Z"
   },
   {
    "duration": 9,
    "start_time": "2021-07-05T17:41:11.939Z"
   },
   {
    "duration": 60,
    "start_time": "2021-07-05T17:41:11.950Z"
   },
   {
    "duration": 40,
    "start_time": "2021-07-05T17:41:12.013Z"
   },
   {
    "duration": 6,
    "start_time": "2021-07-05T17:41:12.056Z"
   },
   {
    "duration": 82,
    "start_time": "2021-07-05T17:41:12.064Z"
   },
   {
    "duration": 56,
    "start_time": "2021-07-05T17:41:12.148Z"
   },
   {
    "duration": 24,
    "start_time": "2021-07-05T17:41:12.212Z"
   },
   {
    "duration": 41,
    "start_time": "2021-07-05T17:41:12.239Z"
   },
   {
    "duration": 17,
    "start_time": "2021-07-05T17:41:12.283Z"
   },
   {
    "duration": 18,
    "start_time": "2021-07-05T17:41:12.306Z"
   },
   {
    "duration": 229,
    "start_time": "2021-07-05T17:41:12.330Z"
   },
   {
    "duration": 1744,
    "start_time": "2021-07-05T17:41:12.562Z"
   },
   {
    "duration": 39,
    "start_time": "2021-07-05T17:41:14.309Z"
   },
   {
    "duration": 71,
    "start_time": "2021-07-05T17:41:14.351Z"
   },
   {
    "duration": 20,
    "start_time": "2021-07-05T17:41:14.425Z"
   },
   {
    "duration": 70,
    "start_time": "2021-07-05T17:41:14.448Z"
   },
   {
    "duration": 15,
    "start_time": "2021-07-05T17:41:14.523Z"
   },
   {
    "duration": 17,
    "start_time": "2021-07-05T17:41:14.541Z"
   },
   {
    "duration": 27,
    "start_time": "2021-07-05T17:41:14.561Z"
   },
   {
    "duration": 36,
    "start_time": "2021-07-05T17:41:14.591Z"
   },
   {
    "duration": 15,
    "start_time": "2021-07-05T17:41:14.630Z"
   },
   {
    "duration": 22,
    "start_time": "2021-07-05T17:41:14.647Z"
   },
   {
    "duration": 30,
    "start_time": "2021-07-05T17:41:14.672Z"
   },
   {
    "duration": 312,
    "start_time": "2021-07-05T17:41:14.709Z"
   },
   {
    "duration": 20,
    "start_time": "2021-07-05T17:41:15.023Z"
   },
   {
    "duration": 1378,
    "start_time": "2021-07-05T17:41:15.047Z"
   },
   {
    "duration": 515,
    "start_time": "2021-07-05T17:41:16.428Z"
   },
   {
    "duration": 531,
    "start_time": "2021-07-05T17:41:16.945Z"
   },
   {
    "duration": 36,
    "start_time": "2021-07-05T17:41:17.478Z"
   },
   {
    "duration": 524,
    "start_time": "2021-07-05T17:41:17.519Z"
   },
   {
    "duration": 519,
    "start_time": "2021-07-05T17:41:18.046Z"
   },
   {
    "duration": 36,
    "start_time": "2021-07-05T17:41:18.568Z"
   },
   {
    "duration": 487,
    "start_time": "2021-07-05T17:41:18.607Z"
   },
   {
    "duration": 482,
    "start_time": "2021-07-05T17:41:19.104Z"
   },
   {
    "duration": 21,
    "start_time": "2021-07-05T17:41:19.589Z"
   },
   {
    "duration": 21,
    "start_time": "2021-07-05T17:41:19.612Z"
   },
   {
    "duration": 21,
    "start_time": "2021-07-05T17:41:19.636Z"
   },
   {
    "duration": 130,
    "start_time": "2021-07-05T17:41:19.659Z"
   },
   {
    "duration": 298,
    "start_time": "2021-07-05T17:41:39.537Z"
   },
   {
    "duration": 16,
    "start_time": "2021-07-05T17:41:42.320Z"
   },
   {
    "duration": 9,
    "start_time": "2021-07-05T17:51:07.335Z"
   },
   {
    "duration": 548,
    "start_time": "2021-07-05T17:51:11.831Z"
   },
   {
    "duration": 15,
    "start_time": "2021-07-05T17:51:14.837Z"
   },
   {
    "duration": 1379,
    "start_time": "2021-07-05T17:51:54.921Z"
   },
   {
    "duration": 609,
    "start_time": "2021-07-05T17:51:56.305Z"
   },
   {
    "duration": 18,
    "start_time": "2021-07-05T17:51:56.921Z"
   },
   {
    "duration": 27,
    "start_time": "2021-07-05T17:51:56.942Z"
   },
   {
    "duration": 38,
    "start_time": "2021-07-05T17:51:56.972Z"
   },
   {
    "duration": 22,
    "start_time": "2021-07-05T17:51:57.015Z"
   },
   {
    "duration": 12,
    "start_time": "2021-07-05T17:51:57.041Z"
   },
   {
    "duration": 58,
    "start_time": "2021-07-05T17:51:57.056Z"
   },
   {
    "duration": 19,
    "start_time": "2021-07-05T17:51:57.117Z"
   },
   {
    "duration": 14,
    "start_time": "2021-07-05T17:51:57.139Z"
   },
   {
    "duration": 50,
    "start_time": "2021-07-05T17:51:57.156Z"
   },
   {
    "duration": 20,
    "start_time": "2021-07-05T17:51:57.212Z"
   },
   {
    "duration": 17,
    "start_time": "2021-07-05T17:51:57.235Z"
   },
   {
    "duration": 22,
    "start_time": "2021-07-05T17:51:57.254Z"
   },
   {
    "duration": 62,
    "start_time": "2021-07-05T17:51:57.278Z"
   },
   {
    "duration": 5,
    "start_time": "2021-07-05T17:51:57.342Z"
   },
   {
    "duration": 82,
    "start_time": "2021-07-05T17:51:57.349Z"
   },
   {
    "duration": 28,
    "start_time": "2021-07-05T17:51:57.434Z"
   },
   {
    "duration": 38,
    "start_time": "2021-07-05T17:51:57.465Z"
   },
   {
    "duration": 33,
    "start_time": "2021-07-05T17:51:57.505Z"
   },
   {
    "duration": 5,
    "start_time": "2021-07-05T17:51:57.540Z"
   },
   {
    "duration": 9,
    "start_time": "2021-07-05T17:51:57.550Z"
   },
   {
    "duration": 235,
    "start_time": "2021-07-05T17:51:57.562Z"
   },
   {
    "duration": 1701,
    "start_time": "2021-07-05T17:51:57.801Z"
   },
   {
    "duration": 41,
    "start_time": "2021-07-05T17:51:59.505Z"
   },
   {
    "duration": 76,
    "start_time": "2021-07-05T17:51:59.549Z"
   },
   {
    "duration": 19,
    "start_time": "2021-07-05T17:51:59.628Z"
   },
   {
    "duration": 57,
    "start_time": "2021-07-05T17:51:59.650Z"
   },
   {
    "duration": 15,
    "start_time": "2021-07-05T17:51:59.710Z"
   },
   {
    "duration": 9,
    "start_time": "2021-07-05T17:51:59.728Z"
   },
   {
    "duration": 15,
    "start_time": "2021-07-05T17:51:59.740Z"
   },
   {
    "duration": 53,
    "start_time": "2021-07-05T17:51:59.757Z"
   },
   {
    "duration": 17,
    "start_time": "2021-07-05T17:51:59.813Z"
   },
   {
    "duration": 8,
    "start_time": "2021-07-05T17:51:59.832Z"
   },
   {
    "duration": 10,
    "start_time": "2021-07-05T17:51:59.843Z"
   },
   {
    "duration": 511,
    "start_time": "2021-07-05T17:51:59.856Z"
   },
   {
    "duration": 16,
    "start_time": "2021-07-05T17:52:00.370Z"
   },
   {
    "duration": 731,
    "start_time": "2021-07-05T17:52:00.400Z"
   },
   {
    "duration": 514,
    "start_time": "2021-07-05T17:52:01.133Z"
   },
   {
    "duration": 511,
    "start_time": "2021-07-05T17:52:01.650Z"
   },
   {
    "duration": 20,
    "start_time": "2021-07-05T17:52:02.164Z"
   },
   {
    "duration": 532,
    "start_time": "2021-07-05T17:52:02.201Z"
   },
   {
    "duration": 612,
    "start_time": "2021-07-05T17:52:02.735Z"
   },
   {
    "duration": 20,
    "start_time": "2021-07-05T17:52:03.351Z"
   },
   {
    "duration": 487,
    "start_time": "2021-07-05T17:52:03.373Z"
   },
   {
    "duration": 488,
    "start_time": "2021-07-05T17:52:03.862Z"
   },
   {
    "duration": 13,
    "start_time": "2021-07-05T17:52:04.353Z"
   },
   {
    "duration": 59,
    "start_time": "2021-07-05T17:52:04.369Z"
   },
   {
    "duration": 11,
    "start_time": "2021-07-05T17:52:04.430Z"
   },
   {
    "duration": 147,
    "start_time": "2021-07-05T17:52:04.445Z"
   },
   {
    "duration": 90,
    "start_time": "2021-07-05T17:54:30.132Z"
   },
   {
    "duration": 140,
    "start_time": "2021-07-05T17:58:14.942Z"
   },
   {
    "duration": 97,
    "start_time": "2021-07-05T17:59:26.655Z"
   },
   {
    "duration": 1478,
    "start_time": "2021-07-05T18:02:04.497Z"
   },
   {
    "duration": 693,
    "start_time": "2021-07-05T18:02:05.978Z"
   },
   {
    "duration": 17,
    "start_time": "2021-07-05T18:02:06.674Z"
   },
   {
    "duration": 45,
    "start_time": "2021-07-05T18:02:06.694Z"
   },
   {
    "duration": 12,
    "start_time": "2021-07-05T18:02:06.742Z"
   },
   {
    "duration": 47,
    "start_time": "2021-07-05T18:02:06.757Z"
   },
   {
    "duration": 15,
    "start_time": "2021-07-05T18:02:06.808Z"
   },
   {
    "duration": 25,
    "start_time": "2021-07-05T18:02:06.828Z"
   },
   {
    "duration": 52,
    "start_time": "2021-07-05T18:02:06.857Z"
   },
   {
    "duration": 16,
    "start_time": "2021-07-05T18:02:06.911Z"
   },
   {
    "duration": 15,
    "start_time": "2021-07-05T18:02:06.931Z"
   },
   {
    "duration": 14,
    "start_time": "2021-07-05T18:02:06.950Z"
   },
   {
    "duration": 12,
    "start_time": "2021-07-05T18:02:07.001Z"
   },
   {
    "duration": 14,
    "start_time": "2021-07-05T18:02:07.018Z"
   },
   {
    "duration": 72,
    "start_time": "2021-07-05T18:02:07.035Z"
   },
   {
    "duration": 8,
    "start_time": "2021-07-05T18:02:07.112Z"
   },
   {
    "duration": 47,
    "start_time": "2021-07-05T18:02:07.123Z"
   },
   {
    "duration": 46,
    "start_time": "2021-07-05T18:02:07.173Z"
   },
   {
    "duration": 20,
    "start_time": "2021-07-05T18:02:07.222Z"
   },
   {
    "duration": 75,
    "start_time": "2021-07-05T18:02:07.245Z"
   },
   {
    "duration": 6,
    "start_time": "2021-07-05T18:02:07.323Z"
   },
   {
    "duration": 12,
    "start_time": "2021-07-05T18:02:07.333Z"
   },
   {
    "duration": 225,
    "start_time": "2021-07-05T18:02:07.350Z"
   },
   {
    "duration": 2698,
    "start_time": "2021-07-05T18:02:07.578Z"
   },
   {
    "duration": 69,
    "start_time": "2021-07-05T18:02:10.279Z"
   },
   {
    "duration": 80,
    "start_time": "2021-07-05T18:02:10.351Z"
   },
   {
    "duration": 21,
    "start_time": "2021-07-05T18:02:10.434Z"
   },
   {
    "duration": 60,
    "start_time": "2021-07-05T18:02:10.458Z"
   },
   {
    "duration": 20,
    "start_time": "2021-07-05T18:02:10.522Z"
   },
   {
    "duration": 9,
    "start_time": "2021-07-05T18:02:10.545Z"
   },
   {
    "duration": 48,
    "start_time": "2021-07-05T18:02:10.557Z"
   },
   {
    "duration": 18,
    "start_time": "2021-07-05T18:02:10.608Z"
   },
   {
    "duration": 21,
    "start_time": "2021-07-05T18:02:10.629Z"
   },
   {
    "duration": 8,
    "start_time": "2021-07-05T18:02:10.653Z"
   },
   {
    "duration": 55,
    "start_time": "2021-07-05T18:02:10.665Z"
   },
   {
    "duration": 583,
    "start_time": "2021-07-05T18:02:10.724Z"
   },
   {
    "duration": 23,
    "start_time": "2021-07-05T18:02:11.310Z"
   },
   {
    "duration": 860,
    "start_time": "2021-07-05T18:02:11.342Z"
   },
   {
    "duration": 678,
    "start_time": "2021-07-05T18:02:12.205Z"
   },
   {
    "duration": 572,
    "start_time": "2021-07-05T18:02:12.885Z"
   },
   {
    "duration": 19,
    "start_time": "2021-07-05T18:02:13.460Z"
   },
   {
    "duration": 608,
    "start_time": "2021-07-05T18:02:13.482Z"
   },
   {
    "duration": 542,
    "start_time": "2021-07-05T18:02:14.092Z"
   },
   {
    "duration": 22,
    "start_time": "2021-07-05T18:02:14.637Z"
   },
   {
    "duration": 552,
    "start_time": "2021-07-05T18:02:14.661Z"
   },
   {
    "duration": 535,
    "start_time": "2021-07-05T18:02:15.217Z"
   },
   {
    "duration": 13,
    "start_time": "2021-07-05T18:02:15.755Z"
   },
   {
    "duration": 47,
    "start_time": "2021-07-05T18:02:15.771Z"
   },
   {
    "duration": 17,
    "start_time": "2021-07-05T18:02:15.820Z"
   },
   {
    "duration": 142,
    "start_time": "2021-07-05T18:02:15.840Z"
   },
   {
    "duration": 1376,
    "start_time": "2021-10-02T14:08:09.738Z"
   },
   {
    "duration": 510,
    "start_time": "2021-10-02T14:08:11.117Z"
   },
   {
    "duration": 15,
    "start_time": "2021-10-02T14:08:11.630Z"
   },
   {
    "duration": 32,
    "start_time": "2021-10-02T14:08:11.647Z"
   },
   {
    "duration": 10,
    "start_time": "2021-10-02T14:08:11.681Z"
   },
   {
    "duration": 43,
    "start_time": "2021-10-02T14:08:11.694Z"
   },
   {
    "duration": 12,
    "start_time": "2021-10-02T14:08:11.739Z"
   },
   {
    "duration": 33,
    "start_time": "2021-10-02T14:08:11.755Z"
   },
   {
    "duration": 34,
    "start_time": "2021-10-02T14:08:11.791Z"
   },
   {
    "duration": 12,
    "start_time": "2021-10-02T14:08:11.827Z"
   },
   {
    "duration": 25,
    "start_time": "2021-10-02T14:08:11.841Z"
   },
   {
    "duration": 12,
    "start_time": "2021-10-02T14:08:11.869Z"
   },
   {
    "duration": 10,
    "start_time": "2021-10-02T14:08:11.884Z"
   },
   {
    "duration": 32,
    "start_time": "2021-10-02T14:08:11.896Z"
   },
   {
    "duration": 35,
    "start_time": "2021-10-02T14:08:11.930Z"
   },
   {
    "duration": 5,
    "start_time": "2021-10-02T14:08:11.968Z"
   },
   {
    "duration": 75,
    "start_time": "2021-10-02T14:08:11.975Z"
   },
   {
    "duration": 26,
    "start_time": "2021-10-02T14:08:12.053Z"
   },
   {
    "duration": 17,
    "start_time": "2021-10-02T14:08:12.081Z"
   },
   {
    "duration": 48,
    "start_time": "2021-10-02T14:08:12.100Z"
   },
   {
    "duration": 4,
    "start_time": "2021-10-02T14:08:12.151Z"
   },
   {
    "duration": 14,
    "start_time": "2021-10-02T14:08:12.157Z"
   },
   {
    "duration": 207,
    "start_time": "2021-10-02T14:08:12.176Z"
   },
   {
    "duration": 1560,
    "start_time": "2021-10-02T14:08:12.386Z"
   },
   {
    "duration": 39,
    "start_time": "2021-10-02T14:08:13.949Z"
   },
   {
    "duration": 69,
    "start_time": "2021-10-02T14:08:13.992Z"
   },
   {
    "duration": 21,
    "start_time": "2021-10-02T14:08:14.064Z"
   },
   {
    "duration": 64,
    "start_time": "2021-10-02T14:08:14.088Z"
   },
   {
    "duration": 15,
    "start_time": "2021-10-02T14:08:14.154Z"
   },
   {
    "duration": 17,
    "start_time": "2021-10-02T14:08:14.172Z"
   },
   {
    "duration": 41,
    "start_time": "2021-10-02T14:08:14.192Z"
   },
   {
    "duration": 21,
    "start_time": "2021-10-02T14:08:14.236Z"
   },
   {
    "duration": 26,
    "start_time": "2021-10-02T14:08:14.260Z"
   },
   {
    "duration": 10,
    "start_time": "2021-10-02T14:08:14.289Z"
   },
   {
    "duration": 20,
    "start_time": "2021-10-02T14:08:14.302Z"
   },
   {
    "duration": 476,
    "start_time": "2021-10-02T14:08:14.325Z"
   },
   {
    "duration": 20,
    "start_time": "2021-10-02T14:08:14.804Z"
   },
   {
    "duration": 651,
    "start_time": "2021-10-02T14:08:14.827Z"
   },
   {
    "duration": 462,
    "start_time": "2021-10-02T14:08:15.482Z"
   },
   {
    "duration": 468,
    "start_time": "2021-10-02T14:08:15.947Z"
   },
   {
    "duration": 18,
    "start_time": "2021-10-02T14:08:16.422Z"
   },
   {
    "duration": 488,
    "start_time": "2021-10-02T14:08:16.442Z"
   },
   {
    "duration": 474,
    "start_time": "2021-10-02T14:08:16.933Z"
   },
   {
    "duration": 25,
    "start_time": "2021-10-02T14:08:17.410Z"
   },
   {
    "duration": 455,
    "start_time": "2021-10-02T14:08:17.438Z"
   },
   {
    "duration": 464,
    "start_time": "2021-10-02T14:08:17.896Z"
   },
   {
    "duration": 12,
    "start_time": "2021-10-02T14:08:18.362Z"
   },
   {
    "duration": 38,
    "start_time": "2021-10-02T14:08:18.376Z"
   },
   {
    "duration": 18,
    "start_time": "2021-10-02T14:08:18.416Z"
   },
   {
    "duration": 124,
    "start_time": "2021-10-02T14:08:18.436Z"
   }
  ],
  "kernelspec": {
   "display_name": "Python 3",
   "language": "python",
   "name": "python3"
  },
  "language_info": {
   "codemirror_mode": {
    "name": "ipython",
    "version": 3
   },
   "file_extension": ".py",
   "mimetype": "text/x-python",
   "name": "python",
   "nbconvert_exporter": "python",
   "pygments_lexer": "ipython3",
   "version": "3.7.8"
  },
  "toc": {
   "base_numbering": 1,
   "nav_menu": {},
   "number_sections": true,
   "sideBar": true,
   "skip_h1_title": true,
   "title_cell": "Содержание",
   "title_sidebar": "Содержание",
   "toc_cell": true,
   "toc_position": {},
   "toc_section_display": true,
   "toc_window_display": true
  }
 },
 "nbformat": 4,
 "nbformat_minor": 5
}

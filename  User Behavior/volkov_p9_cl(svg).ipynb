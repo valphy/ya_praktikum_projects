{
 "cells": [
  {
   "cell_type": "markdown",
   "metadata": {
    "toc": true
   },
   "source": [
    "<h1>Содержание<span class=\"tocSkip\"></span></h1>\n",
    "<div class=\"toc\"><ul class=\"toc-item\"><li><span><a href=\"#Первый-взгляд-на-данные\" data-toc-modified-id=\"Первый-взгляд-на-данные-1\"><span class=\"toc-item-num\">1&nbsp;&nbsp;</span>Первый взгляд на данные</a></span><ul class=\"toc-item\"><li><span><a href=\"#Выводы\" data-toc-modified-id=\"Выводы-1.1\"><span class=\"toc-item-num\">1.1&nbsp;&nbsp;</span>Выводы</a></span></li></ul></li><li><span><a href=\"#Изучение-и-проверка-данных\" data-toc-modified-id=\"Изучение-и-проверка-данных-2\"><span class=\"toc-item-num\">2&nbsp;&nbsp;</span>Изучение и проверка данных</a></span><ul class=\"toc-item\"><li><span><a href=\"#Выводы\" data-toc-modified-id=\"Выводы-2.1\"><span class=\"toc-item-num\">2.1&nbsp;&nbsp;</span>Выводы</a></span></li></ul></li><li><span><a href=\"#Воронка-событий\" data-toc-modified-id=\"Воронка-событий-3\"><span class=\"toc-item-num\">3&nbsp;&nbsp;</span>Воронка событий</a></span><ul class=\"toc-item\"><li><span><a href=\"#Выводы\" data-toc-modified-id=\"Выводы-3.1\"><span class=\"toc-item-num\">3.1&nbsp;&nbsp;</span>Выводы</a></span></li></ul></li><li><span><a href=\"#Результаты-экперимента\" data-toc-modified-id=\"Результаты-экперимента-4\"><span class=\"toc-item-num\">4&nbsp;&nbsp;</span>Результаты экперимента</a></span></li><li><span><a href=\"#Выводы\" data-toc-modified-id=\"Выводы-5\"><span class=\"toc-item-num\">5&nbsp;&nbsp;</span>Выводы</a></span></li></ul></div>"
   ]
  },
  {
   "cell_type": "markdown",
   "metadata": {},
   "source": [
    "# Поведение пользователей мобильного приложения"
   ]
  },
  {
   "cell_type": "markdown",
   "metadata": {},
   "source": [
    "Цели проекта: \n",
    " - Изучение воронки продаж мобильного приложения по продаже продуктов питания.\n",
    " - Анализ результатов A/A/B-эксперимента. Для тестируемой группы во всем приложении поменяли шрифты.\n",
    " \n",
    "Изучаемые данные:\n",
    "- Логи с данными о поведении пользователей приложения."
   ]
  },
  {
   "cell_type": "markdown",
   "metadata": {},
   "source": [
    "##  Первый взгляд на данные "
   ]
  },
  {
   "cell_type": "code",
   "execution_count": 1,
   "metadata": {},
   "outputs": [],
   "source": [
    "import warnings\n",
    "warnings.filterwarnings('ignore')\n",
    "import pandas as pd\n",
    "import numpy as np\n",
    "import matplotlib.pyplot as plt\n",
    "import seaborn as sns\n",
    "import plotly.express as px\n",
    "from plotly import graph_objects as go\n",
    "%matplotlib inline\n",
    "from pylab import rcParams\n",
    "rcParams['figure.figsize'] = 10, 7\n",
    "import matplotlib.dates as md\n",
    "from matplotlib.ticker import FuncFormatter\n",
    "import matplotlib.ticker as ticker\n",
    "%config InlineBackend.figure_format='retina'\n",
    "from matplotlib import cycler\n",
    "import operator\n",
    "colors = cycler('color',\n",
    "                ['#345995', '#FB4D3D', '#8C2D7E',\n",
    "                 '#E40066', '#03CEA4', '#EAC435',\n",
    "                 '#806045', '#04724D', '#00A8E8',\n",
    "                 '#88BB44', '#FFFFFF', '#FFBBBB','#00FF00','#000000'])\n",
    "plt.rc('axes',facecolor='#E6E6E6',  edgecolor='none',\n",
    "       axisbelow=True, grid=True, prop_cycle=colors)\n",
    "plt.rc('grid', color='w', linestyle='solid')\n",
    "plt.rc('xtick', direction='out', color='black')\n",
    "plt.rc('ytick', direction='out', color='gray')\n",
    "plt.rc('patch', edgecolor='#E6E6E6')\n",
    "plt.rc('lines', linewidth=2)\n",
    "plt.rcParams.update({\n",
    "    \"figure.facecolor\":  (1.0, 1.0, 1.0, 0.999)})\n",
    "pd.set_option('chained_assignment', None)\n",
    "import datetime \n",
    "import math as mth\n",
    "from scipy import stats as st"
   ]
  },
  {
   "cell_type": "code",
   "execution_count": 2,
   "metadata": {},
   "outputs": [],
   "source": [
    "try:\n",
    "    df = pd.read_csv('/datasets/logs_exp.csv', sep = '\\t')\n",
    "except:\n",
    "    df = pd.read_csv('logs_exp.csv', sep = '\\t')"
   ]
  },
  {
   "cell_type": "code",
   "execution_count": 3,
   "metadata": {},
   "outputs": [
    {
     "data": {
      "text/html": [
       "<div>\n",
       "<style scoped>\n",
       "    .dataframe tbody tr th:only-of-type {\n",
       "        vertical-align: middle;\n",
       "    }\n",
       "\n",
       "    .dataframe tbody tr th {\n",
       "        vertical-align: top;\n",
       "    }\n",
       "\n",
       "    .dataframe thead th {\n",
       "        text-align: right;\n",
       "    }\n",
       "</style>\n",
       "<table border=\"1\" class=\"dataframe\">\n",
       "  <thead>\n",
       "    <tr style=\"text-align: right;\">\n",
       "      <th></th>\n",
       "      <th>EventName</th>\n",
       "      <th>DeviceIDHash</th>\n",
       "      <th>EventTimestamp</th>\n",
       "      <th>ExpId</th>\n",
       "    </tr>\n",
       "  </thead>\n",
       "  <tbody>\n",
       "    <tr>\n",
       "      <td>0</td>\n",
       "      <td>MainScreenAppear</td>\n",
       "      <td>4575588528974610257</td>\n",
       "      <td>1564029816</td>\n",
       "      <td>246</td>\n",
       "    </tr>\n",
       "    <tr>\n",
       "      <td>1</td>\n",
       "      <td>MainScreenAppear</td>\n",
       "      <td>7416695313311560658</td>\n",
       "      <td>1564053102</td>\n",
       "      <td>246</td>\n",
       "    </tr>\n",
       "    <tr>\n",
       "      <td>2</td>\n",
       "      <td>PaymentScreenSuccessful</td>\n",
       "      <td>3518123091307005509</td>\n",
       "      <td>1564054127</td>\n",
       "      <td>248</td>\n",
       "    </tr>\n",
       "    <tr>\n",
       "      <td>3</td>\n",
       "      <td>CartScreenAppear</td>\n",
       "      <td>3518123091307005509</td>\n",
       "      <td>1564054127</td>\n",
       "      <td>248</td>\n",
       "    </tr>\n",
       "    <tr>\n",
       "      <td>4</td>\n",
       "      <td>PaymentScreenSuccessful</td>\n",
       "      <td>6217807653094995999</td>\n",
       "      <td>1564055322</td>\n",
       "      <td>248</td>\n",
       "    </tr>\n",
       "  </tbody>\n",
       "</table>\n",
       "</div>"
      ],
      "text/plain": [
       "                 EventName         DeviceIDHash  EventTimestamp  ExpId\n",
       "0         MainScreenAppear  4575588528974610257      1564029816    246\n",
       "1         MainScreenAppear  7416695313311560658      1564053102    246\n",
       "2  PaymentScreenSuccessful  3518123091307005509      1564054127    248\n",
       "3         CartScreenAppear  3518123091307005509      1564054127    248\n",
       "4  PaymentScreenSuccessful  6217807653094995999      1564055322    248"
      ]
     },
     "execution_count": 3,
     "metadata": {},
     "output_type": "execute_result"
    }
   ],
   "source": [
    "df.head()"
   ]
  },
  {
   "cell_type": "code",
   "execution_count": 4,
   "metadata": {},
   "outputs": [
    {
     "name": "stdout",
     "output_type": "stream",
     "text": [
      "<class 'pandas.core.frame.DataFrame'>\n",
      "RangeIndex: 244126 entries, 0 to 244125\n",
      "Data columns (total 4 columns):\n",
      "EventName         244126 non-null object\n",
      "DeviceIDHash      244126 non-null int64\n",
      "EventTimestamp    244126 non-null int64\n",
      "ExpId             244126 non-null int64\n",
      "dtypes: int64(3), object(1)\n",
      "memory usage: 7.5+ MB\n"
     ]
    }
   ],
   "source": [
    "df.info()"
   ]
  },
  {
   "cell_type": "markdown",
   "metadata": {},
   "source": [
    " - EventName — название события;\n",
    " - DeviceIDHash — уникальный идентификатор пользователя;\n",
    " - EventTimestamp — время события;\n",
    " - ExpId — номер эксперимента: 246 и 247 — контрольные группы, а 248 — экспериментальная."
   ]
  },
  {
   "cell_type": "markdown",
   "metadata": {},
   "source": [
    "Поменяем названия столбцов на более удобные."
   ]
  },
  {
   "cell_type": "code",
   "execution_count": 5,
   "metadata": {},
   "outputs": [],
   "source": [
    "df.columns = ['event_name', 'id', 'event_timestamp', 'group']"
   ]
  },
  {
   "cell_type": "markdown",
   "metadata": {},
   "source": [
    "Проверим на дупликаты строк."
   ]
  },
  {
   "cell_type": "code",
   "execution_count": 6,
   "metadata": {},
   "outputs": [
    {
     "name": "stdout",
     "output_type": "stream",
     "text": [
      "Дупликаты строк: 413\n"
     ]
    }
   ],
   "source": [
    "print('Дупликаты строк:',df.duplicated().sum())"
   ]
  },
  {
   "cell_type": "markdown",
   "metadata": {},
   "source": [
    "Удалим дупликаты."
   ]
  },
  {
   "cell_type": "code",
   "execution_count": 7,
   "metadata": {},
   "outputs": [],
   "source": [
    "df.drop_duplicates(inplace = True)"
   ]
  },
  {
   "cell_type": "markdown",
   "metadata": {},
   "source": [
    "Поменяем названия тестуремых групп."
   ]
  },
  {
   "cell_type": "code",
   "execution_count": 8,
   "metadata": {},
   "outputs": [],
   "source": [
    "df['group'] = df['group'].astype('str')\n",
    "df['group'] = df['group'].replace(\n",
    "    {'246':'A',\n",
    "     '247':'AA',\n",
    "     '248':'B'})"
   ]
  },
  {
   "cell_type": "markdown",
   "metadata": {},
   "source": [
    "Проверим, не попали ли пользователи в несколько групп тестирования."
   ]
  },
  {
   "cell_type": "code",
   "execution_count": 9,
   "metadata": {},
   "outputs": [
    {
     "data": {
      "text/plain": [
       "1    7551\n",
       "Name: group, dtype: int64"
      ]
     },
     "execution_count": 9,
     "metadata": {},
     "output_type": "execute_result"
    }
   ],
   "source": [
    "df.groupby('id')['group'].nunique().value_counts()"
   ]
  },
  {
   "cell_type": "markdown",
   "metadata": {},
   "source": [
    "Добавим столбцы с информацией о дате"
   ]
  },
  {
   "cell_type": "code",
   "execution_count": 10,
   "metadata": {},
   "outputs": [],
   "source": [
    "df['event_datetime'] = pd.to_datetime(df['event_timestamp'],  unit='s')\n",
    "df['event_date'] = df['event_datetime'].dt.date"
   ]
  },
  {
   "cell_type": "markdown",
   "metadata": {},
   "source": [
    "Поправим индекс."
   ]
  },
  {
   "cell_type": "code",
   "execution_count": 11,
   "metadata": {},
   "outputs": [],
   "source": [
    "df.reset_index(drop = True, inplace = True)"
   ]
  },
  {
   "cell_type": "markdown",
   "metadata": {},
   "source": [
    "Поменяем названия событий на более удобные."
   ]
  },
  {
   "cell_type": "code",
   "execution_count": 12,
   "metadata": {},
   "outputs": [],
   "source": [
    "df['event_name'].replace({\n",
    "    \"MainScreenAppear\": \"main\",\n",
    "    \"PaymentScreenSuccessful\": \"payment\",\n",
    "    \"OffersScreenAppear\": \"offers\",\n",
    "    \"CartScreenAppear\": \"cart\",\n",
    "    \"Tutorial\": \"tutorial\",\n",
    "    }, inplace=True)"
   ]
  },
  {
   "cell_type": "markdown",
   "metadata": {},
   "source": [
    "###  Выводы"
   ]
  },
  {
   "cell_type": "markdown",
   "metadata": {},
   "source": [
    "Представленные данные - таблица с данными о поведении пользователей мобильного приложения. Дупликаты были удалены, а типы данных приведены к корректным - в остальном проблем в данных обнаружено не было. Можно приступить к более глубокой проверке данных."
   ]
  },
  {
   "cell_type": "markdown",
   "metadata": {},
   "source": [
    "## Изучение и проверка данных"
   ]
  },
  {
   "cell_type": "markdown",
   "metadata": {},
   "source": [
    "Посчитаем сколько всего событий в логе и сколько всего пользователей.\n",
    "Так же найдем среднее количесвто событий на пользователя."
   ]
  },
  {
   "cell_type": "code",
   "execution_count": 13,
   "metadata": {},
   "outputs": [
    {
     "name": "stdout",
     "output_type": "stream",
     "text": [
      "Всего событий в логе: 243713\n",
      "Всего пользователей в логе: 7551\n",
      "Среднее количество событий на пользователя: 32 , медиана: 20 , мода: 5\n"
     ]
    }
   ],
   "source": [
    "print('Всего событий в логе:',len(df))\n",
    "print('Всего пользователей в логе:',df['id'].nunique())\n",
    "print('Среднее количество событий на пользователя: {:.0f}'.format(len(df) / df['id'].nunique()),\n",
    "      ', медиана:', int(df.groupby('id')['event_name'].count().median()),\n",
    "      ', мода:',df.groupby('id')['event_name'].count().mode()[0])"
   ]
  },
  {
   "cell_type": "markdown",
   "metadata": {},
   "source": [
    "Выведем минимальную и максимальную дату, посмотрим на распределение."
   ]
  },
  {
   "cell_type": "code",
   "execution_count": 14,
   "metadata": {},
   "outputs": [
    {
     "name": "stdout",
     "output_type": "stream",
     "text": [
      "min date: 2019-07-25 04:43:36 | max date: 2019-08-07 21:15:17\n"
     ]
    }
   ],
   "source": [
    " print('min date:',df['event_datetime'].min(),'|', 'max date:',df['event_datetime'].max())"
   ]
  },
  {
   "cell_type": "code",
   "execution_count": 15,
   "metadata": {},
   "outputs": [
    {
     "data": {
      "image/svg+xml": [
       "<svg class=\"main-svg\" xmlns=\"http://www.w3.org/2000/svg\" xmlns:xlink=\"http://www.w3.org/1999/xlink\" width=\"700\" height=\"500\" style=\"\" viewBox=\"0 0 700 500\"><rect x=\"0\" y=\"0\" width=\"700\" height=\"500\" style=\"fill: rgb(255, 255, 255); fill-opacity: 1;\"/><defs id=\"defs-f34569\"><g class=\"clips\"><clipPath id=\"clipf34569xyplot\" class=\"plotclip\"><rect width=\"540\" height=\"320\"/></clipPath><clipPath class=\"axesclip\" id=\"clipf34569x\"><rect x=\"80\" y=\"0\" width=\"540\" height=\"500\"/></clipPath><clipPath class=\"axesclip\" id=\"clipf34569y\"><rect x=\"0\" y=\"100\" width=\"700\" height=\"320\"/></clipPath><clipPath class=\"axesclip\" id=\"clipf34569xy\"><rect x=\"80\" y=\"100\" width=\"540\" height=\"320\"/></clipPath></g><g class=\"gradients\"/><g class=\"patterns\"/></defs><g class=\"bglayer\"><rect class=\"bg\" x=\"80\" y=\"100\" width=\"540\" height=\"320\" style=\"fill: rgb(229, 236, 246); fill-opacity: 1; stroke-width: 0;\"/></g><g class=\"layer-below\"><g class=\"imagelayer\"/><g class=\"shapelayer\"/></g><g class=\"cartesianlayer\"><g class=\"subplot xy\"><g class=\"layer-subplot\"><g class=\"shapelayer\"/><g class=\"imagelayer\"/></g><g class=\"gridlayer\"><g class=\"x\"/><g class=\"y\"><path class=\"ygrid crisp\" transform=\"translate(0,368.35)\" d=\"M80,0h540\" style=\"stroke: rgb(255, 255, 255); stroke-opacity: 1; stroke-width: 1px;\"/><path class=\"ygrid crisp\" transform=\"translate(0,316.7)\" d=\"M80,0h540\" style=\"stroke: rgb(255, 255, 255); stroke-opacity: 1; stroke-width: 1px;\"/><path class=\"ygrid crisp\" transform=\"translate(0,265.06)\" d=\"M80,0h540\" style=\"stroke: rgb(255, 255, 255); stroke-opacity: 1; stroke-width: 1px;\"/><path class=\"ygrid crisp\" transform=\"translate(0,213.41)\" d=\"M80,0h540\" style=\"stroke: rgb(255, 255, 255); stroke-opacity: 1; stroke-width: 1px;\"/><path class=\"ygrid crisp\" transform=\"translate(0,161.76)\" d=\"M80,0h540\" style=\"stroke: rgb(255, 255, 255); stroke-opacity: 1; stroke-width: 1px;\"/><path class=\"ygrid crisp\" transform=\"translate(0,110.11)\" d=\"M80,0h540\" style=\"stroke: rgb(255, 255, 255); stroke-opacity: 1; stroke-width: 1px;\"/></g></g><g class=\"zerolinelayer\"><path class=\"yzl zl crisp\" transform=\"translate(0,420)\" d=\"M80,0h540\" style=\"stroke: rgb(255, 255, 255); stroke-opacity: 1; stroke-width: 2px;\"/></g><path class=\"xlines-below\"/><path class=\"ylines-below\"/><g class=\"overlines-below\"/><g class=\"xaxislayer-below\"/><g class=\"yaxislayer-below\"/><g class=\"overaxes-below\"/><g class=\"plot\" transform=\"translate(80,100)\" clip-path=\"url(#clipf34569xyplot)\"><g class=\"barlayer mlayer\"><g class=\"trace bars\" shape-rendering=\"crispEdges\" style=\"opacity: 1;\"><g class=\"points\"><g class=\"point\"><path d=\"M0,320V319.9H1.64V320Z\" style=\"vector-effect: non-scaling-stroke; opacity: 1; stroke-width: 0px; fill: rgb(27, 158, 119); fill-opacity: 1;\"/></g><g class=\"point\"><path d=\"M0,0Z\" style=\"vector-effect: non-scaling-stroke; opacity: 1; stroke-width: 0px; fill: rgb(27, 158, 119); fill-opacity: 1;\"/></g><g class=\"point\"><path d=\"M0,0Z\" style=\"vector-effect: non-scaling-stroke; opacity: 1; stroke-width: 0px; fill: rgb(27, 158, 119); fill-opacity: 1;\"/></g><g class=\"point\"><path d=\"M0,0Z\" style=\"vector-effect: non-scaling-stroke; opacity: 1; stroke-width: 0px; fill: rgb(27, 158, 119); fill-opacity: 1;\"/></g><g class=\"point\"><path d=\"M0,0Z\" style=\"vector-effect: non-scaling-stroke; opacity: 1; stroke-width: 0px; fill: rgb(27, 158, 119); fill-opacity: 1;\"/></g><g class=\"point\"><path d=\"M0,0Z\" style=\"vector-effect: non-scaling-stroke; opacity: 1; stroke-width: 0px; fill: rgb(27, 158, 119); fill-opacity: 1;\"/></g><g class=\"point\"><path d=\"M0,0Z\" style=\"vector-effect: non-scaling-stroke; opacity: 1; stroke-width: 0px; fill: rgb(27, 158, 119); fill-opacity: 1;\"/></g><g class=\"point\"><path d=\"M11.45,320V319.48H13.09V320Z\" style=\"vector-effect: non-scaling-stroke; opacity: 1; stroke-width: 0px; fill: rgb(27, 158, 119); fill-opacity: 1;\"/></g><g class=\"point\"><path d=\"M0,0Z\" style=\"vector-effect: non-scaling-stroke; opacity: 1; stroke-width: 0px; fill: rgb(27, 158, 119); fill-opacity: 1;\"/></g><g class=\"point\"><path d=\"M0,0Z\" style=\"vector-effect: non-scaling-stroke; opacity: 1; stroke-width: 0px; fill: rgb(27, 158, 119); fill-opacity: 1;\"/></g><g class=\"point\"><path d=\"M16.36,320V319.9H18V320Z\" style=\"vector-effect: non-scaling-stroke; opacity: 1; stroke-width: 0px; fill: rgb(27, 158, 119); fill-opacity: 1;\"/></g><g class=\"point\"><path d=\"M0,0Z\" style=\"vector-effect: non-scaling-stroke; opacity: 1; stroke-width: 0px; fill: rgb(27, 158, 119); fill-opacity: 1;\"/></g><g class=\"point\"><path d=\"M0,0Z\" style=\"vector-effect: non-scaling-stroke; opacity: 1; stroke-width: 0px; fill: rgb(27, 158, 119); fill-opacity: 1;\"/></g><g class=\"point\"><path d=\"M0,0Z\" style=\"vector-effect: non-scaling-stroke; opacity: 1; stroke-width: 0px; fill: rgb(27, 158, 119); fill-opacity: 1;\"/></g><g class=\"point\"><path d=\"M0,0Z\" style=\"vector-effect: non-scaling-stroke; opacity: 1; stroke-width: 0px; fill: rgb(27, 158, 119); fill-opacity: 1;\"/></g><g class=\"point\"><path d=\"M0,0Z\" style=\"vector-effect: non-scaling-stroke; opacity: 1; stroke-width: 0px; fill: rgb(27, 158, 119); fill-opacity: 1;\"/></g><g class=\"point\"><path d=\"M26.18,320V319.79H27.82V320Z\" style=\"vector-effect: non-scaling-stroke; opacity: 1; stroke-width: 0px; fill: rgb(27, 158, 119); fill-opacity: 1;\"/></g><g class=\"point\"><path d=\"M0,0Z\" style=\"vector-effect: non-scaling-stroke; opacity: 1; stroke-width: 0px; fill: rgb(27, 158, 119); fill-opacity: 1;\"/></g><g class=\"point\"><path d=\"M0,0Z\" style=\"vector-effect: non-scaling-stroke; opacity: 1; stroke-width: 0px; fill: rgb(27, 158, 119); fill-opacity: 1;\"/></g><g class=\"point\"><path d=\"M0,0Z\" style=\"vector-effect: non-scaling-stroke; opacity: 1; stroke-width: 0px; fill: rgb(27, 158, 119); fill-opacity: 1;\"/></g><g class=\"point\"><path d=\"M0,0Z\" style=\"vector-effect: non-scaling-stroke; opacity: 1; stroke-width: 0px; fill: rgb(27, 158, 119); fill-opacity: 1;\"/></g><g class=\"point\"><path d=\"M0,0Z\" style=\"vector-effect: non-scaling-stroke; opacity: 1; stroke-width: 0px; fill: rgb(27, 158, 119); fill-opacity: 1;\"/></g><g class=\"point\"><path d=\"M0,0Z\" style=\"vector-effect: non-scaling-stroke; opacity: 1; stroke-width: 0px; fill: rgb(27, 158, 119); fill-opacity: 1;\"/></g><g class=\"point\"><path d=\"M37.64,320V319.9H39.27V320Z\" style=\"vector-effect: non-scaling-stroke; opacity: 1; stroke-width: 0px; fill: rgb(27, 158, 119); fill-opacity: 1;\"/></g><g class=\"point\"><path d=\"M0,0Z\" style=\"vector-effect: non-scaling-stroke; opacity: 1; stroke-width: 0px; fill: rgb(27, 158, 119); fill-opacity: 1;\"/></g><g class=\"point\"><path d=\"M40.91,320V319.9H42.55V320Z\" style=\"vector-effect: non-scaling-stroke; opacity: 1; stroke-width: 0px; fill: rgb(27, 158, 119); fill-opacity: 1;\"/></g><g class=\"point\"><path d=\"M42.55,320V319.79H44.18V320Z\" style=\"vector-effect: non-scaling-stroke; opacity: 1; stroke-width: 0px; fill: rgb(27, 158, 119); fill-opacity: 1;\"/></g><g class=\"point\"><path d=\"M44.18,320V319.9H45.82V320Z\" style=\"vector-effect: non-scaling-stroke; opacity: 1; stroke-width: 0px; fill: rgb(27, 158, 119); fill-opacity: 1;\"/></g><g class=\"point\"><path d=\"M0,0Z\" style=\"vector-effect: non-scaling-stroke; opacity: 1; stroke-width: 0px; fill: rgb(27, 158, 119); fill-opacity: 1;\"/></g><g class=\"point\"><path d=\"M0,0Z\" style=\"vector-effect: non-scaling-stroke; opacity: 1; stroke-width: 0px; fill: rgb(27, 158, 119); fill-opacity: 1;\"/></g><g class=\"point\"><path d=\"M49.09,320V319.9H50.73V320Z\" style=\"vector-effect: non-scaling-stroke; opacity: 1; stroke-width: 0px; fill: rgb(27, 158, 119); fill-opacity: 1;\"/></g><g class=\"point\"><path d=\"M50.73,320V319.79H52.36V320Z\" style=\"vector-effect: non-scaling-stroke; opacity: 1; stroke-width: 0px; fill: rgb(27, 158, 119); fill-opacity: 1;\"/></g><g class=\"point\"><path d=\"M52.36,320V319.9H54V320Z\" style=\"vector-effect: non-scaling-stroke; opacity: 1; stroke-width: 0px; fill: rgb(27, 158, 119); fill-opacity: 1;\"/></g><g class=\"point\"><path d=\"M54,320V319.9H55.64V320Z\" style=\"vector-effect: non-scaling-stroke; opacity: 1; stroke-width: 0px; fill: rgb(27, 158, 119); fill-opacity: 1;\"/></g><g class=\"point\"><path d=\"M55.64,320V319.48H57.27V320Z\" style=\"vector-effect: non-scaling-stroke; opacity: 1; stroke-width: 0px; fill: rgb(27, 158, 119); fill-opacity: 1;\"/></g><g class=\"point\"><path d=\"M57.27,320V319.9H58.91V320Z\" style=\"vector-effect: non-scaling-stroke; opacity: 1; stroke-width: 0px; fill: rgb(27, 158, 119); fill-opacity: 1;\"/></g><g class=\"point\"><path d=\"M58.91,320V319.9H60.55V320Z\" style=\"vector-effect: non-scaling-stroke; opacity: 1; stroke-width: 0px; fill: rgb(27, 158, 119); fill-opacity: 1;\"/></g><g class=\"point\"><path d=\"M60.55,320V319.69H62.18V320Z\" style=\"vector-effect: non-scaling-stroke; opacity: 1; stroke-width: 0px; fill: rgb(27, 158, 119); fill-opacity: 1;\"/></g><g class=\"point\"><path d=\"M62.18,320V319.38H63.82V320Z\" style=\"vector-effect: non-scaling-stroke; opacity: 1; stroke-width: 0px; fill: rgb(27, 158, 119); fill-opacity: 1;\"/></g><g class=\"point\"><path d=\"M63.82,320V319.59H65.45V320Z\" style=\"vector-effect: non-scaling-stroke; opacity: 1; stroke-width: 0px; fill: rgb(27, 158, 119); fill-opacity: 1;\"/></g><g class=\"point\"><path d=\"M0,0Z\" style=\"vector-effect: non-scaling-stroke; opacity: 1; stroke-width: 0px; fill: rgb(27, 158, 119); fill-opacity: 1;\"/></g><g class=\"point\"><path d=\"M0,0Z\" style=\"vector-effect: non-scaling-stroke; opacity: 1; stroke-width: 0px; fill: rgb(27, 158, 119); fill-opacity: 1;\"/></g><g class=\"point\"><path d=\"M0,0Z\" style=\"vector-effect: non-scaling-stroke; opacity: 1; stroke-width: 0px; fill: rgb(27, 158, 119); fill-opacity: 1;\"/></g><g class=\"point\"><path d=\"M70.36,320V319.9H72V320Z\" style=\"vector-effect: non-scaling-stroke; opacity: 1; stroke-width: 0px; fill: rgb(27, 158, 119); fill-opacity: 1;\"/></g><g class=\"point\"><path d=\"M0,0Z\" style=\"vector-effect: non-scaling-stroke; opacity: 1; stroke-width: 0px; fill: rgb(27, 158, 119); fill-opacity: 1;\"/></g><g class=\"point\"><path d=\"M0,0Z\" style=\"vector-effect: non-scaling-stroke; opacity: 1; stroke-width: 0px; fill: rgb(27, 158, 119); fill-opacity: 1;\"/></g><g class=\"point\"><path d=\"M0,0Z\" style=\"vector-effect: non-scaling-stroke; opacity: 1; stroke-width: 0px; fill: rgb(27, 158, 119); fill-opacity: 1;\"/></g><g class=\"point\"><path d=\"M0,0Z\" style=\"vector-effect: non-scaling-stroke; opacity: 1; stroke-width: 0px; fill: rgb(27, 158, 119); fill-opacity: 1;\"/></g><g class=\"point\"><path d=\"M78.55,320V319.9H80.18V320Z\" style=\"vector-effect: non-scaling-stroke; opacity: 1; stroke-width: 0px; fill: rgb(27, 158, 119); fill-opacity: 1;\"/></g><g class=\"point\"><path d=\"M0,0Z\" style=\"vector-effect: non-scaling-stroke; opacity: 1; stroke-width: 0px; fill: rgb(27, 158, 119); fill-opacity: 1;\"/></g><g class=\"point\"><path d=\"M81.82,320V319.59H83.45V320Z\" style=\"vector-effect: non-scaling-stroke; opacity: 1; stroke-width: 0px; fill: rgb(27, 158, 119); fill-opacity: 1;\"/></g><g class=\"point\"><path d=\"M0,0Z\" style=\"vector-effect: non-scaling-stroke; opacity: 1; stroke-width: 0px; fill: rgb(27, 158, 119); fill-opacity: 1;\"/></g><g class=\"point\"><path d=\"M85.09,320V319.07H86.73V320Z\" style=\"vector-effect: non-scaling-stroke; opacity: 1; stroke-width: 0px; fill: rgb(27, 158, 119); fill-opacity: 1;\"/></g><g class=\"point\"><path d=\"M0,0Z\" style=\"vector-effect: non-scaling-stroke; opacity: 1; stroke-width: 0px; fill: rgb(27, 158, 119); fill-opacity: 1;\"/></g><g class=\"point\"><path d=\"M88.36,320V318.66H90V320Z\" style=\"vector-effect: non-scaling-stroke; opacity: 1; stroke-width: 0px; fill: rgb(27, 158, 119); fill-opacity: 1;\"/></g><g class=\"point\"><path d=\"M90,320V319.9H91.64V320Z\" style=\"vector-effect: non-scaling-stroke; opacity: 1; stroke-width: 0px; fill: rgb(27, 158, 119); fill-opacity: 1;\"/></g><g class=\"point\"><path d=\"M91.64,320V319.79H93.27V320Z\" style=\"vector-effect: non-scaling-stroke; opacity: 1; stroke-width: 0px; fill: rgb(27, 158, 119); fill-opacity: 1;\"/></g><g class=\"point\"><path d=\"M93.27,320V319.9H94.91V320Z\" style=\"vector-effect: non-scaling-stroke; opacity: 1; stroke-width: 0px; fill: rgb(27, 158, 119); fill-opacity: 1;\"/></g><g class=\"point\"><path d=\"M94.91,320V319.59H96.55V320Z\" style=\"vector-effect: non-scaling-stroke; opacity: 1; stroke-width: 0px; fill: rgb(27, 158, 119); fill-opacity: 1;\"/></g><g class=\"point\"><path d=\"M96.55,320V319.79H98.18V320Z\" style=\"vector-effect: non-scaling-stroke; opacity: 1; stroke-width: 0px; fill: rgb(27, 158, 119); fill-opacity: 1;\"/></g><g class=\"point\"><path d=\"M98.18,320V319.48H99.82V320Z\" style=\"vector-effect: non-scaling-stroke; opacity: 1; stroke-width: 0px; fill: rgb(27, 158, 119); fill-opacity: 1;\"/></g><g class=\"point\"><path d=\"M99.82,320V319.38H101.45V320Z\" style=\"vector-effect: non-scaling-stroke; opacity: 1; stroke-width: 0px; fill: rgb(27, 158, 119); fill-opacity: 1;\"/></g><g class=\"point\"><path d=\"M101.45,320V319.59H103.09V320Z\" style=\"vector-effect: non-scaling-stroke; opacity: 1; stroke-width: 0px; fill: rgb(27, 158, 119); fill-opacity: 1;\"/></g><g class=\"point\"><path d=\"M103.09,320V319.79H104.73V320Z\" style=\"vector-effect: non-scaling-stroke; opacity: 1; stroke-width: 0px; fill: rgb(27, 158, 119); fill-opacity: 1;\"/></g><g class=\"point\"><path d=\"M0,0Z\" style=\"vector-effect: non-scaling-stroke; opacity: 1; stroke-width: 0px; fill: rgb(27, 158, 119); fill-opacity: 1;\"/></g><g class=\"point\"><path d=\"M0,0Z\" style=\"vector-effect: non-scaling-stroke; opacity: 1; stroke-width: 0px; fill: rgb(27, 158, 119); fill-opacity: 1;\"/></g><g class=\"point\"><path d=\"M0,0Z\" style=\"vector-effect: non-scaling-stroke; opacity: 1; stroke-width: 0px; fill: rgb(27, 158, 119); fill-opacity: 1;\"/></g><g class=\"point\"><path d=\"M109.64,320V319.9H111.27V320Z\" style=\"vector-effect: non-scaling-stroke; opacity: 1; stroke-width: 0px; fill: rgb(27, 158, 119); fill-opacity: 1;\"/></g><g class=\"point\"><path d=\"M0,0Z\" style=\"vector-effect: non-scaling-stroke; opacity: 1; stroke-width: 0px; fill: rgb(27, 158, 119); fill-opacity: 1;\"/></g><g class=\"point\"><path d=\"M0,0Z\" style=\"vector-effect: non-scaling-stroke; opacity: 1; stroke-width: 0px; fill: rgb(27, 158, 119); fill-opacity: 1;\"/></g><g class=\"point\"><path d=\"M114.55,320V319.9H116.18V320Z\" style=\"vector-effect: non-scaling-stroke; opacity: 1; stroke-width: 0px; fill: rgb(27, 158, 119); fill-opacity: 1;\"/></g><g class=\"point\"><path d=\"M0,0Z\" style=\"vector-effect: non-scaling-stroke; opacity: 1; stroke-width: 0px; fill: rgb(27, 158, 119); fill-opacity: 1;\"/></g><g class=\"point\"><path d=\"M117.82,320V319.07H119.45V320Z\" style=\"vector-effect: non-scaling-stroke; opacity: 1; stroke-width: 0px; fill: rgb(27, 158, 119); fill-opacity: 1;\"/></g><g class=\"point\"><path d=\"M119.45,320V319.79H121.09V320Z\" style=\"vector-effect: non-scaling-stroke; opacity: 1; stroke-width: 0px; fill: rgb(27, 158, 119); fill-opacity: 1;\"/></g><g class=\"point\"><path d=\"M121.09,320V319.69H122.73V320Z\" style=\"vector-effect: non-scaling-stroke; opacity: 1; stroke-width: 0px; fill: rgb(27, 158, 119); fill-opacity: 1;\"/></g><g class=\"point\"><path d=\"M122.73,320V319.28H124.36V320Z\" style=\"vector-effect: non-scaling-stroke; opacity: 1; stroke-width: 0px; fill: rgb(27, 158, 119); fill-opacity: 1;\"/></g><g class=\"point\"><path d=\"M124.36,320V319.48H126V320Z\" style=\"vector-effect: non-scaling-stroke; opacity: 1; stroke-width: 0px; fill: rgb(27, 158, 119); fill-opacity: 1;\"/></g><g class=\"point\"><path d=\"M126,320V319.79H127.64V320Z\" style=\"vector-effect: non-scaling-stroke; opacity: 1; stroke-width: 0px; fill: rgb(27, 158, 119); fill-opacity: 1;\"/></g><g class=\"point\"><path d=\"M127.64,320V319.69H129.27V320Z\" style=\"vector-effect: non-scaling-stroke; opacity: 1; stroke-width: 0px; fill: rgb(27, 158, 119); fill-opacity: 1;\"/></g><g class=\"point\"><path d=\"M129.27,320V319.9H130.91V320Z\" style=\"vector-effect: non-scaling-stroke; opacity: 1; stroke-width: 0px; fill: rgb(27, 158, 119); fill-opacity: 1;\"/></g><g class=\"point\"><path d=\"M130.91,320V318.97H132.55V320Z\" style=\"vector-effect: non-scaling-stroke; opacity: 1; stroke-width: 0px; fill: rgb(27, 158, 119); fill-opacity: 1;\"/></g><g class=\"point\"><path d=\"M132.55,320V318.55H134.18V320Z\" style=\"vector-effect: non-scaling-stroke; opacity: 1; stroke-width: 0px; fill: rgb(27, 158, 119); fill-opacity: 1;\"/></g><g class=\"point\"><path d=\"M134.18,320V319.28H135.82V320Z\" style=\"vector-effect: non-scaling-stroke; opacity: 1; stroke-width: 0px; fill: rgb(27, 158, 119); fill-opacity: 1;\"/></g><g class=\"point\"><path d=\"M135.82,320V319.28H137.45V320Z\" style=\"vector-effect: non-scaling-stroke; opacity: 1; stroke-width: 0px; fill: rgb(27, 158, 119); fill-opacity: 1;\"/></g><g class=\"point\"><path d=\"M137.45,320V318.86H139.09V320Z\" style=\"vector-effect: non-scaling-stroke; opacity: 1; stroke-width: 0px; fill: rgb(27, 158, 119); fill-opacity: 1;\"/></g><g class=\"point\"><path d=\"M139.09,320V319.38H140.73V320Z\" style=\"vector-effect: non-scaling-stroke; opacity: 1; stroke-width: 0px; fill: rgb(27, 158, 119); fill-opacity: 1;\"/></g><g class=\"point\"><path d=\"M140.73,320V319.17H142.36V320Z\" style=\"vector-effect: non-scaling-stroke; opacity: 1; stroke-width: 0px; fill: rgb(27, 158, 119); fill-opacity: 1;\"/></g><g class=\"point\"><path d=\"M142.36,320V319.38H144V320Z\" style=\"vector-effect: non-scaling-stroke; opacity: 1; stroke-width: 0px; fill: rgb(27, 158, 119); fill-opacity: 1;\"/></g><g class=\"point\"><path d=\"M144,320V319.9H145.64V320Z\" style=\"vector-effect: non-scaling-stroke; opacity: 1; stroke-width: 0px; fill: rgb(27, 158, 119); fill-opacity: 1;\"/></g><g class=\"point\"><path d=\"M145.64,320V319.79H147.27V320Z\" style=\"vector-effect: non-scaling-stroke; opacity: 1; stroke-width: 0px; fill: rgb(27, 158, 119); fill-opacity: 1;\"/></g><g class=\"point\"><path d=\"M0,0Z\" style=\"vector-effect: non-scaling-stroke; opacity: 1; stroke-width: 0px; fill: rgb(27, 158, 119); fill-opacity: 1;\"/></g><g class=\"point\"><path d=\"M0,0Z\" style=\"vector-effect: non-scaling-stroke; opacity: 1; stroke-width: 0px; fill: rgb(27, 158, 119); fill-opacity: 1;\"/></g><g class=\"point\"><path d=\"M0,0Z\" style=\"vector-effect: non-scaling-stroke; opacity: 1; stroke-width: 0px; fill: rgb(27, 158, 119); fill-opacity: 1;\"/></g><g class=\"point\"><path d=\"M0,0Z\" style=\"vector-effect: non-scaling-stroke; opacity: 1; stroke-width: 0px; fill: rgb(27, 158, 119); fill-opacity: 1;\"/></g><g class=\"point\"><path d=\"M153.82,320V319.79H155.45V320Z\" style=\"vector-effect: non-scaling-stroke; opacity: 1; stroke-width: 0px; fill: rgb(27, 158, 119); fill-opacity: 1;\"/></g><g class=\"point\"><path d=\"M0,0Z\" style=\"vector-effect: non-scaling-stroke; opacity: 1; stroke-width: 0px; fill: rgb(27, 158, 119); fill-opacity: 1;\"/></g><g class=\"point\"><path d=\"M157.09,320V319.9H158.73V320Z\" style=\"vector-effect: non-scaling-stroke; opacity: 1; stroke-width: 0px; fill: rgb(27, 158, 119); fill-opacity: 1;\"/></g><g class=\"point\"><path d=\"M158.73,320V319.48H160.36V320Z\" style=\"vector-effect: non-scaling-stroke; opacity: 1; stroke-width: 0px; fill: rgb(27, 158, 119); fill-opacity: 1;\"/></g><g class=\"point\"><path d=\"M160.36,320V319.79H162V320Z\" style=\"vector-effect: non-scaling-stroke; opacity: 1; stroke-width: 0px; fill: rgb(27, 158, 119); fill-opacity: 1;\"/></g><g class=\"point\"><path d=\"M162,320V319.69H163.64V320Z\" style=\"vector-effect: non-scaling-stroke; opacity: 1; stroke-width: 0px; fill: rgb(27, 158, 119); fill-opacity: 1;\"/></g><g class=\"point\"><path d=\"M163.64,320V319.48H165.27V320Z\" style=\"vector-effect: non-scaling-stroke; opacity: 1; stroke-width: 0px; fill: rgb(27, 158, 119); fill-opacity: 1;\"/></g><g class=\"point\"><path d=\"M165.27,320V319.17H166.91V320Z\" style=\"vector-effect: non-scaling-stroke; opacity: 1; stroke-width: 0px; fill: rgb(27, 158, 119); fill-opacity: 1;\"/></g><g class=\"point\"><path d=\"M166.91,320V318.86H168.55V320Z\" style=\"vector-effect: non-scaling-stroke; opacity: 1; stroke-width: 0px; fill: rgb(27, 158, 119); fill-opacity: 1;\"/></g><g class=\"point\"><path d=\"M168.55,320V319.28H170.18V320Z\" style=\"vector-effect: non-scaling-stroke; opacity: 1; stroke-width: 0px; fill: rgb(27, 158, 119); fill-opacity: 1;\"/></g><g class=\"point\"><path d=\"M170.18,320V319.07H171.82V320Z\" style=\"vector-effect: non-scaling-stroke; opacity: 1; stroke-width: 0px; fill: rgb(27, 158, 119); fill-opacity: 1;\"/></g><g class=\"point\"><path d=\"M171.82,320V318.86H173.45V320Z\" style=\"vector-effect: non-scaling-stroke; opacity: 1; stroke-width: 0px; fill: rgb(27, 158, 119); fill-opacity: 1;\"/></g><g class=\"point\"><path d=\"M173.45,320V317.21H175.09V320Z\" style=\"vector-effect: non-scaling-stroke; opacity: 1; stroke-width: 0px; fill: rgb(27, 158, 119); fill-opacity: 1;\"/></g><g class=\"point\"><path d=\"M175.09,320V318.97H176.73V320Z\" style=\"vector-effect: non-scaling-stroke; opacity: 1; stroke-width: 0px; fill: rgb(27, 158, 119); fill-opacity: 1;\"/></g><g class=\"point\"><path d=\"M176.73,320V318.04H178.36V320Z\" style=\"vector-effect: non-scaling-stroke; opacity: 1; stroke-width: 0px; fill: rgb(27, 158, 119); fill-opacity: 1;\"/></g><g class=\"point\"><path d=\"M178.36,320V317.21H180V320Z\" style=\"vector-effect: non-scaling-stroke; opacity: 1; stroke-width: 0px; fill: rgb(27, 158, 119); fill-opacity: 1;\"/></g><g class=\"point\"><path d=\"M180,320V318.66H181.64V320Z\" style=\"vector-effect: non-scaling-stroke; opacity: 1; stroke-width: 0px; fill: rgb(27, 158, 119); fill-opacity: 1;\"/></g><g class=\"point\"><path d=\"M181.64,320V318.35H183.27V320Z\" style=\"vector-effect: non-scaling-stroke; opacity: 1; stroke-width: 0px; fill: rgb(27, 158, 119); fill-opacity: 1;\"/></g><g class=\"point\"><path d=\"M183.27,320V319.69H184.91V320Z\" style=\"vector-effect: non-scaling-stroke; opacity: 1; stroke-width: 0px; fill: rgb(27, 158, 119); fill-opacity: 1;\"/></g><g class=\"point\"><path d=\"M184.91,320V319.59H186.55V320Z\" style=\"vector-effect: non-scaling-stroke; opacity: 1; stroke-width: 0px; fill: rgb(27, 158, 119); fill-opacity: 1;\"/></g><g class=\"point\"><path d=\"M186.55,320V319.9H188.18V320Z\" style=\"vector-effect: non-scaling-stroke; opacity: 1; stroke-width: 0px; fill: rgb(27, 158, 119); fill-opacity: 1;\"/></g><g class=\"point\"><path d=\"M0,0Z\" style=\"vector-effect: non-scaling-stroke; opacity: 1; stroke-width: 0px; fill: rgb(27, 158, 119); fill-opacity: 1;\"/></g><g class=\"point\"><path d=\"M0,0Z\" style=\"vector-effect: non-scaling-stroke; opacity: 1; stroke-width: 0px; fill: rgb(27, 158, 119); fill-opacity: 1;\"/></g><g class=\"point\"><path d=\"M191.45,320V319.79H193.09V320Z\" style=\"vector-effect: non-scaling-stroke; opacity: 1; stroke-width: 0px; fill: rgb(27, 158, 119); fill-opacity: 1;\"/></g><g class=\"point\"><path d=\"M193.09,320V319.79H194.73V320Z\" style=\"vector-effect: non-scaling-stroke; opacity: 1; stroke-width: 0px; fill: rgb(27, 158, 119); fill-opacity: 1;\"/></g><g class=\"point\"><path d=\"M194.73,320V319.79H196.36V320Z\" style=\"vector-effect: non-scaling-stroke; opacity: 1; stroke-width: 0px; fill: rgb(27, 158, 119); fill-opacity: 1;\"/></g><g class=\"point\"><path d=\"M196.36,320V318.76H198V320Z\" style=\"vector-effect: non-scaling-stroke; opacity: 1; stroke-width: 0px; fill: rgb(27, 158, 119); fill-opacity: 1;\"/></g><g class=\"point\"><path d=\"M198,320V318.45H199.64V320Z\" style=\"vector-effect: non-scaling-stroke; opacity: 1; stroke-width: 0px; fill: rgb(27, 158, 119); fill-opacity: 1;\"/></g><g class=\"point\"><path d=\"M199.64,320V318.55H201.27V320Z\" style=\"vector-effect: non-scaling-stroke; opacity: 1; stroke-width: 0px; fill: rgb(27, 158, 119); fill-opacity: 1;\"/></g><g class=\"point\"><path d=\"M201.27,320V319.07H202.91V320Z\" style=\"vector-effect: non-scaling-stroke; opacity: 1; stroke-width: 0px; fill: rgb(27, 158, 119); fill-opacity: 1;\"/></g><g class=\"point\"><path d=\"M202.91,320V317.42H204.55V320Z\" style=\"vector-effect: non-scaling-stroke; opacity: 1; stroke-width: 0px; fill: rgb(27, 158, 119); fill-opacity: 1;\"/></g><g class=\"point\"><path d=\"M204.55,320V318.04H206.18V320Z\" style=\"vector-effect: non-scaling-stroke; opacity: 1; stroke-width: 0px; fill: rgb(27, 158, 119); fill-opacity: 1;\"/></g><g class=\"point\"><path d=\"M206.18,320V316.8H207.82V320Z\" style=\"vector-effect: non-scaling-stroke; opacity: 1; stroke-width: 0px; fill: rgb(27, 158, 119); fill-opacity: 1;\"/></g><g class=\"point\"><path d=\"M207.82,320V316.69H209.45V320Z\" style=\"vector-effect: non-scaling-stroke; opacity: 1; stroke-width: 0px; fill: rgb(27, 158, 119); fill-opacity: 1;\"/></g><g class=\"point\"><path d=\"M209.45,320V317.73H211.09V320Z\" style=\"vector-effect: non-scaling-stroke; opacity: 1; stroke-width: 0px; fill: rgb(27, 158, 119); fill-opacity: 1;\"/></g><g class=\"point\"><path d=\"M211.09,320V317.31H212.73V320Z\" style=\"vector-effect: non-scaling-stroke; opacity: 1; stroke-width: 0px; fill: rgb(27, 158, 119); fill-opacity: 1;\"/></g><g class=\"point\"><path d=\"M212.73,320V317.52H214.36V320Z\" style=\"vector-effect: non-scaling-stroke; opacity: 1; stroke-width: 0px; fill: rgb(27, 158, 119); fill-opacity: 1;\"/></g><g class=\"point\"><path d=\"M214.36,320V317.11H216V320Z\" style=\"vector-effect: non-scaling-stroke; opacity: 1; stroke-width: 0px; fill: rgb(27, 158, 119); fill-opacity: 1;\"/></g><g class=\"point\"><path d=\"M216,320V315.76H217.64V320Z\" style=\"vector-effect: non-scaling-stroke; opacity: 1; stroke-width: 0px; fill: rgb(27, 158, 119); fill-opacity: 1;\"/></g><g class=\"point\"><path d=\"M217.64,320V316.9H219.27V320Z\" style=\"vector-effect: non-scaling-stroke; opacity: 1; stroke-width: 0px; fill: rgb(27, 158, 119); fill-opacity: 1;\"/></g><g class=\"point\"><path d=\"M219.27,320V317.62H220.91V320Z\" style=\"vector-effect: non-scaling-stroke; opacity: 1; stroke-width: 0px; fill: rgb(27, 158, 119); fill-opacity: 1;\"/></g><g class=\"point\"><path d=\"M220.91,320V317.83H222.55V320Z\" style=\"vector-effect: non-scaling-stroke; opacity: 1; stroke-width: 0px; fill: rgb(27, 158, 119); fill-opacity: 1;\"/></g><g class=\"point\"><path d=\"M222.55,320V318.55H224.18V320Z\" style=\"vector-effect: non-scaling-stroke; opacity: 1; stroke-width: 0px; fill: rgb(27, 158, 119); fill-opacity: 1;\"/></g><g class=\"point\"><path d=\"M224.18,320V318.97H225.82V320Z\" style=\"vector-effect: non-scaling-stroke; opacity: 1; stroke-width: 0px; fill: rgb(27, 158, 119); fill-opacity: 1;\"/></g><g class=\"point\"><path d=\"M225.82,320V319.59H227.45V320Z\" style=\"vector-effect: non-scaling-stroke; opacity: 1; stroke-width: 0px; fill: rgb(27, 158, 119); fill-opacity: 1;\"/></g><g class=\"point\"><path d=\"M227.45,320V319.38H229.09V320Z\" style=\"vector-effect: non-scaling-stroke; opacity: 1; stroke-width: 0px; fill: rgb(27, 158, 119); fill-opacity: 1;\"/></g><g class=\"point\"><path d=\"M0,0Z\" style=\"vector-effect: non-scaling-stroke; opacity: 1; stroke-width: 0px; fill: rgb(27, 158, 119); fill-opacity: 1;\"/></g><g class=\"point\"><path d=\"M230.73,320V319.69H232.36V320Z\" style=\"vector-effect: non-scaling-stroke; opacity: 1; stroke-width: 0px; fill: rgb(27, 158, 119); fill-opacity: 1;\"/></g><g class=\"point\"><path d=\"M232.36,320V319.79H234V320Z\" style=\"vector-effect: non-scaling-stroke; opacity: 1; stroke-width: 0px; fill: rgb(27, 158, 119); fill-opacity: 1;\"/></g><g class=\"point\"><path d=\"M234,320V318.76H235.64V320Z\" style=\"vector-effect: non-scaling-stroke; opacity: 1; stroke-width: 0px; fill: rgb(27, 158, 119); fill-opacity: 1;\"/></g><g class=\"point\"><path d=\"M235.64,320V317.73H237.27V320Z\" style=\"vector-effect: non-scaling-stroke; opacity: 1; stroke-width: 0px; fill: rgb(27, 158, 119); fill-opacity: 1;\"/></g><g class=\"point\"><path d=\"M237.27,320V317.21H238.91V320Z\" style=\"vector-effect: non-scaling-stroke; opacity: 1; stroke-width: 0px; fill: rgb(27, 158, 119); fill-opacity: 1;\"/></g><g class=\"point\"><path d=\"M238.91,320V316.8H240.55V320Z\" style=\"vector-effect: non-scaling-stroke; opacity: 1; stroke-width: 0px; fill: rgb(27, 158, 119); fill-opacity: 1;\"/></g><g class=\"point\"><path d=\"M240.55,320V315.35H242.18V320Z\" style=\"vector-effect: non-scaling-stroke; opacity: 1; stroke-width: 0px; fill: rgb(27, 158, 119); fill-opacity: 1;\"/></g><g class=\"point\"><path d=\"M242.18,320V316.8H243.82V320Z\" style=\"vector-effect: non-scaling-stroke; opacity: 1; stroke-width: 0px; fill: rgb(27, 158, 119); fill-opacity: 1;\"/></g><g class=\"point\"><path d=\"M243.82,320V314.94H245.45V320Z\" style=\"vector-effect: non-scaling-stroke; opacity: 1; stroke-width: 0px; fill: rgb(27, 158, 119); fill-opacity: 1;\"/></g><g class=\"point\"><path d=\"M245.45,320V310.91H247.09V320Z\" style=\"vector-effect: non-scaling-stroke; opacity: 1; stroke-width: 0px; fill: rgb(27, 158, 119); fill-opacity: 1;\"/></g><g class=\"point\"><path d=\"M247.09,320V314.53H248.73V320Z\" style=\"vector-effect: non-scaling-stroke; opacity: 1; stroke-width: 0px; fill: rgb(27, 158, 119); fill-opacity: 1;\"/></g><g class=\"point\"><path d=\"M248.73,320V311.53H250.36V320Z\" style=\"vector-effect: non-scaling-stroke; opacity: 1; stroke-width: 0px; fill: rgb(27, 158, 119); fill-opacity: 1;\"/></g><g class=\"point\"><path d=\"M250.36,320V310.5H252V320Z\" style=\"vector-effect: non-scaling-stroke; opacity: 1; stroke-width: 0px; fill: rgb(27, 158, 119); fill-opacity: 1;\"/></g><g class=\"point\"><path d=\"M252,320V309.98H253.64V320Z\" style=\"vector-effect: non-scaling-stroke; opacity: 1; stroke-width: 0px; fill: rgb(27, 158, 119); fill-opacity: 1;\"/></g><g class=\"point\"><path d=\"M253.64,320V308.53H255.27V320Z\" style=\"vector-effect: non-scaling-stroke; opacity: 1; stroke-width: 0px; fill: rgb(27, 158, 119); fill-opacity: 1;\"/></g><g class=\"point\"><path d=\"M255.27,320V308.84H256.91V320Z\" style=\"vector-effect: non-scaling-stroke; opacity: 1; stroke-width: 0px; fill: rgb(27, 158, 119); fill-opacity: 1;\"/></g><g class=\"point\"><path d=\"M256.91,320V308.33H258.55V320Z\" style=\"vector-effect: non-scaling-stroke; opacity: 1; stroke-width: 0px; fill: rgb(27, 158, 119); fill-opacity: 1;\"/></g><g class=\"point\"><path d=\"M258.55,320V309.05H260.18V320Z\" style=\"vector-effect: non-scaling-stroke; opacity: 1; stroke-width: 0px; fill: rgb(27, 158, 119); fill-opacity: 1;\"/></g><g class=\"point\"><path d=\"M260.18,320V313.29H261.82V320Z\" style=\"vector-effect: non-scaling-stroke; opacity: 1; stroke-width: 0px; fill: rgb(27, 158, 119); fill-opacity: 1;\"/></g><g class=\"point\"><path d=\"M261.82,320V314.22H263.45V320Z\" style=\"vector-effect: non-scaling-stroke; opacity: 1; stroke-width: 0px; fill: rgb(27, 158, 119); fill-opacity: 1;\"/></g><g class=\"point\"><path d=\"M263.45,320V276.2H265.09V320Z\" style=\"vector-effect: non-scaling-stroke; opacity: 1; stroke-width: 0px; fill: rgb(27, 158, 119); fill-opacity: 1;\"/></g><g class=\"point\"><path d=\"M265.09,320V288.08H266.73V320Z\" style=\"vector-effect: non-scaling-stroke; opacity: 1; stroke-width: 0px; fill: rgb(27, 158, 119); fill-opacity: 1;\"/></g><g class=\"point\"><path d=\"M266.73,320V309.26H268.36V320Z\" style=\"vector-effect: non-scaling-stroke; opacity: 1; stroke-width: 0px; fill: rgb(27, 158, 119); fill-opacity: 1;\"/></g><g class=\"point\"><path d=\"M268.36,320V300.17H270V320Z\" style=\"vector-effect: non-scaling-stroke; opacity: 1; stroke-width: 0px; fill: rgb(27, 158, 119); fill-opacity: 1;\"/></g><g class=\"point\"><path d=\"M270,320V296.45H271.64V320Z\" style=\"vector-effect: non-scaling-stroke; opacity: 1; stroke-width: 0px; fill: rgb(27, 158, 119); fill-opacity: 1;\"/></g><g class=\"point\"><path d=\"M271.64,320V286.12H273.27V320Z\" style=\"vector-effect: non-scaling-stroke; opacity: 1; stroke-width: 0px; fill: rgb(27, 158, 119); fill-opacity: 1;\"/></g><g class=\"point\"><path d=\"M273.27,320V252.13H274.91V320Z\" style=\"vector-effect: non-scaling-stroke; opacity: 1; stroke-width: 0px; fill: rgb(27, 158, 119); fill-opacity: 1;\"/></g><g class=\"point\"><path d=\"M274.91,320V233.54H276.55V320Z\" style=\"vector-effect: non-scaling-stroke; opacity: 1; stroke-width: 0px; fill: rgb(27, 158, 119); fill-opacity: 1;\"/></g><g class=\"point\"><path d=\"M276.55,320V204.93H278.18V320Z\" style=\"vector-effect: non-scaling-stroke; opacity: 1; stroke-width: 0px; fill: rgb(27, 158, 119); fill-opacity: 1;\"/></g><g class=\"point\"><path d=\"M278.18,320V172.08H279.82V320Z\" style=\"vector-effect: non-scaling-stroke; opacity: 1; stroke-width: 0px; fill: rgb(27, 158, 119); fill-opacity: 1;\"/></g><g class=\"point\"><path d=\"M279.82,320V138.61H281.45V320Z\" style=\"vector-effect: non-scaling-stroke; opacity: 1; stroke-width: 0px; fill: rgb(27, 158, 119); fill-opacity: 1;\"/></g><g class=\"point\"><path d=\"M281.45,320V123.63H283.09V320Z\" style=\"vector-effect: non-scaling-stroke; opacity: 1; stroke-width: 0px; fill: rgb(27, 158, 119); fill-opacity: 1;\"/></g><g class=\"point\"><path d=\"M283.09,320V112.99H284.73V320Z\" style=\"vector-effect: non-scaling-stroke; opacity: 1; stroke-width: 0px; fill: rgb(27, 158, 119); fill-opacity: 1;\"/></g><g class=\"point\"><path d=\"M284.73,320V117.33H286.36V320Z\" style=\"vector-effect: non-scaling-stroke; opacity: 1; stroke-width: 0px; fill: rgb(27, 158, 119); fill-opacity: 1;\"/></g><g class=\"point\"><path d=\"M286.36,320V57.73H288V320Z\" style=\"vector-effect: non-scaling-stroke; opacity: 1; stroke-width: 0px; fill: rgb(27, 158, 119); fill-opacity: 1;\"/></g><g class=\"point\"><path d=\"M288,320V55.98H289.64V320Z\" style=\"vector-effect: non-scaling-stroke; opacity: 1; stroke-width: 0px; fill: rgb(27, 158, 119); fill-opacity: 1;\"/></g><g class=\"point\"><path d=\"M289.64,320V83.56H291.27V320Z\" style=\"vector-effect: non-scaling-stroke; opacity: 1; stroke-width: 0px; fill: rgb(27, 158, 119); fill-opacity: 1;\"/></g><g class=\"point\"><path d=\"M291.27,320V30.15H292.91V320Z\" style=\"vector-effect: non-scaling-stroke; opacity: 1; stroke-width: 0px; fill: rgb(27, 158, 119); fill-opacity: 1;\"/></g><g class=\"point\"><path d=\"M292.91,320V77.56H294.55V320Z\" style=\"vector-effect: non-scaling-stroke; opacity: 1; stroke-width: 0px; fill: rgb(27, 158, 119); fill-opacity: 1;\"/></g><g class=\"point\"><path d=\"M294.55,320V48.13H296.18V320Z\" style=\"vector-effect: non-scaling-stroke; opacity: 1; stroke-width: 0px; fill: rgb(27, 158, 119); fill-opacity: 1;\"/></g><g class=\"point\"><path d=\"M296.18,320V69.2H297.82V320Z\" style=\"vector-effect: non-scaling-stroke; opacity: 1; stroke-width: 0px; fill: rgb(27, 158, 119); fill-opacity: 1;\"/></g><g class=\"point\"><path d=\"M297.82,320V103.08H299.45V320Z\" style=\"vector-effect: non-scaling-stroke; opacity: 1; stroke-width: 0px; fill: rgb(27, 158, 119); fill-opacity: 1;\"/></g><g class=\"point\"><path d=\"M299.45,320V132.72H301.09V320Z\" style=\"vector-effect: non-scaling-stroke; opacity: 1; stroke-width: 0px; fill: rgb(27, 158, 119); fill-opacity: 1;\"/></g><g class=\"point\"><path d=\"M301.09,320V215.77H302.73V320Z\" style=\"vector-effect: non-scaling-stroke; opacity: 1; stroke-width: 0px; fill: rgb(27, 158, 119); fill-opacity: 1;\"/></g><g class=\"point\"><path d=\"M302.73,320V250.48H304.36V320Z\" style=\"vector-effect: non-scaling-stroke; opacity: 1; stroke-width: 0px; fill: rgb(27, 158, 119); fill-opacity: 1;\"/></g><g class=\"point\"><path d=\"M304.36,320V289.73H306V320Z\" style=\"vector-effect: non-scaling-stroke; opacity: 1; stroke-width: 0px; fill: rgb(27, 158, 119); fill-opacity: 1;\"/></g><g class=\"point\"><path d=\"M306,320V294.69H307.64V320Z\" style=\"vector-effect: non-scaling-stroke; opacity: 1; stroke-width: 0px; fill: rgb(27, 158, 119); fill-opacity: 1;\"/></g><g class=\"point\"><path d=\"M307.64,320V253.17H309.27V320Z\" style=\"vector-effect: non-scaling-stroke; opacity: 1; stroke-width: 0px; fill: rgb(27, 158, 119); fill-opacity: 1;\"/></g><g class=\"point\"><path d=\"M309.27,320V237.26H310.91V320Z\" style=\"vector-effect: non-scaling-stroke; opacity: 1; stroke-width: 0px; fill: rgb(27, 158, 119); fill-opacity: 1;\"/></g><g class=\"point\"><path d=\"M310.91,320V246.97H312.55V320Z\" style=\"vector-effect: non-scaling-stroke; opacity: 1; stroke-width: 0px; fill: rgb(27, 158, 119); fill-opacity: 1;\"/></g><g class=\"point\"><path d=\"M312.55,320V232.2H314.18V320Z\" style=\"vector-effect: non-scaling-stroke; opacity: 1; stroke-width: 0px; fill: rgb(27, 158, 119); fill-opacity: 1;\"/></g><g class=\"point\"><path d=\"M314.18,320V239.64H315.82V320Z\" style=\"vector-effect: non-scaling-stroke; opacity: 1; stroke-width: 0px; fill: rgb(27, 158, 119); fill-opacity: 1;\"/></g><g class=\"point\"><path d=\"M315.82,320V213.61H317.45V320Z\" style=\"vector-effect: non-scaling-stroke; opacity: 1; stroke-width: 0px; fill: rgb(27, 158, 119); fill-opacity: 1;\"/></g><g class=\"point\"><path d=\"M317.45,320V182.82H319.09V320Z\" style=\"vector-effect: non-scaling-stroke; opacity: 1; stroke-width: 0px; fill: rgb(27, 158, 119); fill-opacity: 1;\"/></g><g class=\"point\"><path d=\"M319.09,320V145.02H320.73V320Z\" style=\"vector-effect: non-scaling-stroke; opacity: 1; stroke-width: 0px; fill: rgb(27, 158, 119); fill-opacity: 1;\"/></g><g class=\"point\"><path d=\"M320.73,320V116.92H322.36V320Z\" style=\"vector-effect: non-scaling-stroke; opacity: 1; stroke-width: 0px; fill: rgb(27, 158, 119); fill-opacity: 1;\"/></g><g class=\"point\"><path d=\"M322.36,320V93.99H324V320Z\" style=\"vector-effect: non-scaling-stroke; opacity: 1; stroke-width: 0px; fill: rgb(27, 158, 119); fill-opacity: 1;\"/></g><g class=\"point\"><path d=\"M324,320V108.66H325.64V320Z\" style=\"vector-effect: non-scaling-stroke; opacity: 1; stroke-width: 0px; fill: rgb(27, 158, 119); fill-opacity: 1;\"/></g><g class=\"point\"><path d=\"M325.64,320V83.14H327.27V320Z\" style=\"vector-effect: non-scaling-stroke; opacity: 1; stroke-width: 0px; fill: rgb(27, 158, 119); fill-opacity: 1;\"/></g><g class=\"point\"><path d=\"M327.27,320V126.53H328.91V320Z\" style=\"vector-effect: non-scaling-stroke; opacity: 1; stroke-width: 0px; fill: rgb(27, 158, 119); fill-opacity: 1;\"/></g><g class=\"point\"><path d=\"M328.91,320V76.74H330.55V320Z\" style=\"vector-effect: non-scaling-stroke; opacity: 1; stroke-width: 0px; fill: rgb(27, 158, 119); fill-opacity: 1;\"/></g><g class=\"point\"><path d=\"M330.55,320V75.09H332.18V320Z\" style=\"vector-effect: non-scaling-stroke; opacity: 1; stroke-width: 0px; fill: rgb(27, 158, 119); fill-opacity: 1;\"/></g><g class=\"point\"><path d=\"M332.18,320V58.35H333.82V320Z\" style=\"vector-effect: non-scaling-stroke; opacity: 1; stroke-width: 0px; fill: rgb(27, 158, 119); fill-opacity: 1;\"/></g><g class=\"point\"><path d=\"M333.82,320V84.07H335.45V320Z\" style=\"vector-effect: non-scaling-stroke; opacity: 1; stroke-width: 0px; fill: rgb(27, 158, 119); fill-opacity: 1;\"/></g><g class=\"point\"><path d=\"M335.45,320V126.73H337.09V320Z\" style=\"vector-effect: non-scaling-stroke; opacity: 1; stroke-width: 0px; fill: rgb(27, 158, 119); fill-opacity: 1;\"/></g><g class=\"point\"><path d=\"M337.09,320V143.05H338.73V320Z\" style=\"vector-effect: non-scaling-stroke; opacity: 1; stroke-width: 0px; fill: rgb(27, 158, 119); fill-opacity: 1;\"/></g><g class=\"point\"><path d=\"M338.73,320V140.68H340.36V320Z\" style=\"vector-effect: non-scaling-stroke; opacity: 1; stroke-width: 0px; fill: rgb(27, 158, 119); fill-opacity: 1;\"/></g><g class=\"point\"><path d=\"M340.36,320V186.13H342V320Z\" style=\"vector-effect: non-scaling-stroke; opacity: 1; stroke-width: 0px; fill: rgb(27, 158, 119); fill-opacity: 1;\"/></g><g class=\"point\"><path d=\"M342,320V244.8H343.64V320Z\" style=\"vector-effect: non-scaling-stroke; opacity: 1; stroke-width: 0px; fill: rgb(27, 158, 119); fill-opacity: 1;\"/></g><g class=\"point\"><path d=\"M343.64,320V291.8H345.27V320Z\" style=\"vector-effect: non-scaling-stroke; opacity: 1; stroke-width: 0px; fill: rgb(27, 158, 119); fill-opacity: 1;\"/></g><g class=\"point\"><path d=\"M345.27,320V300.06H346.91V320Z\" style=\"vector-effect: non-scaling-stroke; opacity: 1; stroke-width: 0px; fill: rgb(27, 158, 119); fill-opacity: 1;\"/></g><g class=\"point\"><path d=\"M346.91,320V311.63H348.55V320Z\" style=\"vector-effect: non-scaling-stroke; opacity: 1; stroke-width: 0px; fill: rgb(27, 158, 119); fill-opacity: 1;\"/></g><g class=\"point\"><path d=\"M348.55,320V302.23H350.18V320Z\" style=\"vector-effect: non-scaling-stroke; opacity: 1; stroke-width: 0px; fill: rgb(27, 158, 119); fill-opacity: 1;\"/></g><g class=\"point\"><path d=\"M350.18,320V272.28H351.82V320Z\" style=\"vector-effect: non-scaling-stroke; opacity: 1; stroke-width: 0px; fill: rgb(27, 158, 119); fill-opacity: 1;\"/></g><g class=\"point\"><path d=\"M351.82,320V276.41H353.45V320Z\" style=\"vector-effect: non-scaling-stroke; opacity: 1; stroke-width: 0px; fill: rgb(27, 158, 119); fill-opacity: 1;\"/></g><g class=\"point\"><path d=\"M353.45,320V255.65H355.09V320Z\" style=\"vector-effect: non-scaling-stroke; opacity: 1; stroke-width: 0px; fill: rgb(27, 158, 119); fill-opacity: 1;\"/></g><g class=\"point\"><path d=\"M355.09,320V213.61H356.73V320Z\" style=\"vector-effect: non-scaling-stroke; opacity: 1; stroke-width: 0px; fill: rgb(27, 158, 119); fill-opacity: 1;\"/></g><g class=\"point\"><path d=\"M356.73,320V179.1H358.36V320Z\" style=\"vector-effect: non-scaling-stroke; opacity: 1; stroke-width: 0px; fill: rgb(27, 158, 119); fill-opacity: 1;\"/></g><g class=\"point\"><path d=\"M358.36,320V149.77H360V320Z\" style=\"vector-effect: non-scaling-stroke; opacity: 1; stroke-width: 0px; fill: rgb(27, 158, 119); fill-opacity: 1;\"/></g><g class=\"point\"><path d=\"M360,320V114.34H361.64V320Z\" style=\"vector-effect: non-scaling-stroke; opacity: 1; stroke-width: 0px; fill: rgb(27, 158, 119); fill-opacity: 1;\"/></g><g class=\"point\"><path d=\"M361.64,320V68.99H363.27V320Z\" style=\"vector-effect: non-scaling-stroke; opacity: 1; stroke-width: 0px; fill: rgb(27, 158, 119); fill-opacity: 1;\"/></g><g class=\"point\"><path d=\"M363.27,320V112.99H364.91V320Z\" style=\"vector-effect: non-scaling-stroke; opacity: 1; stroke-width: 0px; fill: rgb(27, 158, 119); fill-opacity: 1;\"/></g><g class=\"point\"><path d=\"M364.91,320V19.93H366.55V320Z\" style=\"vector-effect: non-scaling-stroke; opacity: 1; stroke-width: 0px; fill: rgb(27, 158, 119); fill-opacity: 1;\"/></g><g class=\"point\"><path d=\"M366.55,320V90.06H368.18V320Z\" style=\"vector-effect: non-scaling-stroke; opacity: 1; stroke-width: 0px; fill: rgb(27, 158, 119); fill-opacity: 1;\"/></g><g class=\"point\"><path d=\"M368.18,320V109.48H369.82V320Z\" style=\"vector-effect: non-scaling-stroke; opacity: 1; stroke-width: 0px; fill: rgb(27, 158, 119); fill-opacity: 1;\"/></g><g class=\"point\"><path d=\"M369.82,320V43.89H371.45V320Z\" style=\"vector-effect: non-scaling-stroke; opacity: 1; stroke-width: 0px; fill: rgb(27, 158, 119); fill-opacity: 1;\"/></g><g class=\"point\"><path d=\"M371.45,320V90.48H373.09V320Z\" style=\"vector-effect: non-scaling-stroke; opacity: 1; stroke-width: 0px; fill: rgb(27, 158, 119); fill-opacity: 1;\"/></g><g class=\"point\"><path d=\"M373.09,320V93.58H374.73V320Z\" style=\"vector-effect: non-scaling-stroke; opacity: 1; stroke-width: 0px; fill: rgb(27, 158, 119); fill-opacity: 1;\"/></g><g class=\"point\"><path d=\"M374.73,320V112.58H376.36V320Z\" style=\"vector-effect: non-scaling-stroke; opacity: 1; stroke-width: 0px; fill: rgb(27, 158, 119); fill-opacity: 1;\"/></g><g class=\"point\"><path d=\"M376.36,320V147.81H378V320Z\" style=\"vector-effect: non-scaling-stroke; opacity: 1; stroke-width: 0px; fill: rgb(27, 158, 119); fill-opacity: 1;\"/></g><g class=\"point\"><path d=\"M378,320V166.19H379.64V320Z\" style=\"vector-effect: non-scaling-stroke; opacity: 1; stroke-width: 0px; fill: rgb(27, 158, 119); fill-opacity: 1;\"/></g><g class=\"point\"><path d=\"M379.64,320V241.39H381.27V320Z\" style=\"vector-effect: non-scaling-stroke; opacity: 1; stroke-width: 0px; fill: rgb(27, 158, 119); fill-opacity: 1;\"/></g><g class=\"point\"><path d=\"M381.27,320V267.22H382.91V320Z\" style=\"vector-effect: non-scaling-stroke; opacity: 1; stroke-width: 0px; fill: rgb(27, 158, 119); fill-opacity: 1;\"/></g><g class=\"point\"><path d=\"M382.91,320V293.56H384.55V320Z\" style=\"vector-effect: non-scaling-stroke; opacity: 1; stroke-width: 0px; fill: rgb(27, 158, 119); fill-opacity: 1;\"/></g><g class=\"point\"><path d=\"M384.55,320V308.95H386.18V320Z\" style=\"vector-effect: non-scaling-stroke; opacity: 1; stroke-width: 0px; fill: rgb(27, 158, 119); fill-opacity: 1;\"/></g><g class=\"point\"><path d=\"M386.18,320V307.71H387.82V320Z\" style=\"vector-effect: non-scaling-stroke; opacity: 1; stroke-width: 0px; fill: rgb(27, 158, 119); fill-opacity: 1;\"/></g><g class=\"point\"><path d=\"M387.82,320V298.72H389.45V320Z\" style=\"vector-effect: non-scaling-stroke; opacity: 1; stroke-width: 0px; fill: rgb(27, 158, 119); fill-opacity: 1;\"/></g><g class=\"point\"><path d=\"M389.45,320V295.83H391.09V320Z\" style=\"vector-effect: non-scaling-stroke; opacity: 1; stroke-width: 0px; fill: rgb(27, 158, 119); fill-opacity: 1;\"/></g><g class=\"point\"><path d=\"M391.09,320V271.04H392.73V320Z\" style=\"vector-effect: non-scaling-stroke; opacity: 1; stroke-width: 0px; fill: rgb(27, 158, 119); fill-opacity: 1;\"/></g><g class=\"point\"><path d=\"M392.73,320V249.55H394.36V320Z\" style=\"vector-effect: non-scaling-stroke; opacity: 1; stroke-width: 0px; fill: rgb(27, 158, 119); fill-opacity: 1;\"/></g><g class=\"point\"><path d=\"M394.36,320V211.23H396V320Z\" style=\"vector-effect: non-scaling-stroke; opacity: 1; stroke-width: 0px; fill: rgb(27, 158, 119); fill-opacity: 1;\"/></g><g class=\"point\"><path d=\"M396,320V179.83H397.64V320Z\" style=\"vector-effect: non-scaling-stroke; opacity: 1; stroke-width: 0px; fill: rgb(27, 158, 119); fill-opacity: 1;\"/></g><g class=\"point\"><path d=\"M397.64,320V158.86H399.27V320Z\" style=\"vector-effect: non-scaling-stroke; opacity: 1; stroke-width: 0px; fill: rgb(27, 158, 119); fill-opacity: 1;\"/></g><g class=\"point\"><path d=\"M399.27,320V129.94H400.91V320Z\" style=\"vector-effect: non-scaling-stroke; opacity: 1; stroke-width: 0px; fill: rgb(27, 158, 119); fill-opacity: 1;\"/></g><g class=\"point\"><path d=\"M400.91,320V114.34H402.55V320Z\" style=\"vector-effect: non-scaling-stroke; opacity: 1; stroke-width: 0px; fill: rgb(27, 158, 119); fill-opacity: 1;\"/></g><g class=\"point\"><path d=\"M402.55,320V62.79H404.18V320Z\" style=\"vector-effect: non-scaling-stroke; opacity: 1; stroke-width: 0px; fill: rgb(27, 158, 119); fill-opacity: 1;\"/></g><g class=\"point\"><path d=\"M404.18,320V63.41H405.82V320Z\" style=\"vector-effect: non-scaling-stroke; opacity: 1; stroke-width: 0px; fill: rgb(27, 158, 119); fill-opacity: 1;\"/></g><g class=\"point\"><path d=\"M405.82,320V75.71H407.45V320Z\" style=\"vector-effect: non-scaling-stroke; opacity: 1; stroke-width: 0px; fill: rgb(27, 158, 119); fill-opacity: 1;\"/></g><g class=\"point\"><path d=\"M407.45,320V101.32H409.09V320Z\" style=\"vector-effect: non-scaling-stroke; opacity: 1; stroke-width: 0px; fill: rgb(27, 158, 119); fill-opacity: 1;\"/></g><g class=\"point\"><path d=\"M409.09,320V112.89H410.73V320Z\" style=\"vector-effect: non-scaling-stroke; opacity: 1; stroke-width: 0px; fill: rgb(27, 158, 119); fill-opacity: 1;\"/></g><g class=\"point\"><path d=\"M410.73,320V65.17H412.36V320Z\" style=\"vector-effect: non-scaling-stroke; opacity: 1; stroke-width: 0px; fill: rgb(27, 158, 119); fill-opacity: 1;\"/></g><g class=\"point\"><path d=\"M412.36,320V95.74H414V320Z\" style=\"vector-effect: non-scaling-stroke; opacity: 1; stroke-width: 0px; fill: rgb(27, 158, 119); fill-opacity: 1;\"/></g><g class=\"point\"><path d=\"M414,320V96.78H415.64V320Z\" style=\"vector-effect: non-scaling-stroke; opacity: 1; stroke-width: 0px; fill: rgb(27, 158, 119); fill-opacity: 1;\"/></g><g class=\"point\"><path d=\"M415.64,320V143.57H417.27V320Z\" style=\"vector-effect: non-scaling-stroke; opacity: 1; stroke-width: 0px; fill: rgb(27, 158, 119); fill-opacity: 1;\"/></g><g class=\"point\"><path d=\"M417.27,320V183.96H418.91V320Z\" style=\"vector-effect: non-scaling-stroke; opacity: 1; stroke-width: 0px; fill: rgb(27, 158, 119); fill-opacity: 1;\"/></g><g class=\"point\"><path d=\"M418.91,320V226.21H420.55V320Z\" style=\"vector-effect: non-scaling-stroke; opacity: 1; stroke-width: 0px; fill: rgb(27, 158, 119); fill-opacity: 1;\"/></g><g class=\"point\"><path d=\"M420.55,320V253.58H422.18V320Z\" style=\"vector-effect: non-scaling-stroke; opacity: 1; stroke-width: 0px; fill: rgb(27, 158, 119); fill-opacity: 1;\"/></g><g class=\"point\"><path d=\"M422.18,320V274.76H423.82V320Z\" style=\"vector-effect: non-scaling-stroke; opacity: 1; stroke-width: 0px; fill: rgb(27, 158, 119); fill-opacity: 1;\"/></g><g class=\"point\"><path d=\"M423.82,320V301.61H425.45V320Z\" style=\"vector-effect: non-scaling-stroke; opacity: 1; stroke-width: 0px; fill: rgb(27, 158, 119); fill-opacity: 1;\"/></g><g class=\"point\"><path d=\"M425.45,320V302.03H427.09V320Z\" style=\"vector-effect: non-scaling-stroke; opacity: 1; stroke-width: 0px; fill: rgb(27, 158, 119); fill-opacity: 1;\"/></g><g class=\"point\"><path d=\"M427.09,320V303.58H428.73V320Z\" style=\"vector-effect: non-scaling-stroke; opacity: 1; stroke-width: 0px; fill: rgb(27, 158, 119); fill-opacity: 1;\"/></g><g class=\"point\"><path d=\"M428.73,320V286.02H430.36V320Z\" style=\"vector-effect: non-scaling-stroke; opacity: 1; stroke-width: 0px; fill: rgb(27, 158, 119); fill-opacity: 1;\"/></g><g class=\"point\"><path d=\"M430.36,320V264.63H432V320Z\" style=\"vector-effect: non-scaling-stroke; opacity: 1; stroke-width: 0px; fill: rgb(27, 158, 119); fill-opacity: 1;\"/></g><g class=\"point\"><path d=\"M432,320V229.1H433.64V320Z\" style=\"vector-effect: non-scaling-stroke; opacity: 1; stroke-width: 0px; fill: rgb(27, 158, 119); fill-opacity: 1;\"/></g><g class=\"point\"><path d=\"M433.64,320V183.13H435.27V320Z\" style=\"vector-effect: non-scaling-stroke; opacity: 1; stroke-width: 0px; fill: rgb(27, 158, 119); fill-opacity: 1;\"/></g><g class=\"point\"><path d=\"M435.27,320V164.64H436.91V320Z\" style=\"vector-effect: non-scaling-stroke; opacity: 1; stroke-width: 0px; fill: rgb(27, 158, 119); fill-opacity: 1;\"/></g><g class=\"point\"><path d=\"M436.91,320V167.12H438.55V320Z\" style=\"vector-effect: non-scaling-stroke; opacity: 1; stroke-width: 0px; fill: rgb(27, 158, 119); fill-opacity: 1;\"/></g><g class=\"point\"><path d=\"M438.55,320V119.3H440.18V320Z\" style=\"vector-effect: non-scaling-stroke; opacity: 1; stroke-width: 0px; fill: rgb(27, 158, 119); fill-opacity: 1;\"/></g><g class=\"point\"><path d=\"M440.18,320V114.13H441.82V320Z\" style=\"vector-effect: non-scaling-stroke; opacity: 1; stroke-width: 0px; fill: rgb(27, 158, 119); fill-opacity: 1;\"/></g><g class=\"point\"><path d=\"M441.82,320V73.74H443.45V320Z\" style=\"vector-effect: non-scaling-stroke; opacity: 1; stroke-width: 0px; fill: rgb(27, 158, 119); fill-opacity: 1;\"/></g><g class=\"point\"><path d=\"M443.45,320V101.32H445.09V320Z\" style=\"vector-effect: non-scaling-stroke; opacity: 1; stroke-width: 0px; fill: rgb(27, 158, 119); fill-opacity: 1;\"/></g><g class=\"point\"><path d=\"M445.09,320V99.15H446.73V320Z\" style=\"vector-effect: non-scaling-stroke; opacity: 1; stroke-width: 0px; fill: rgb(27, 158, 119); fill-opacity: 1;\"/></g><g class=\"point\"><path d=\"M446.73,320V60.31H448.36V320Z\" style=\"vector-effect: non-scaling-stroke; opacity: 1; stroke-width: 0px; fill: rgb(27, 158, 119); fill-opacity: 1;\"/></g><g class=\"point\"><path d=\"M448.36,320V16H450V320Z\" style=\"vector-effect: non-scaling-stroke; opacity: 1; stroke-width: 0px; fill: rgb(27, 158, 119); fill-opacity: 1;\"/></g><g class=\"point\"><path d=\"M450,320V29.53H451.64V320Z\" style=\"vector-effect: non-scaling-stroke; opacity: 1; stroke-width: 0px; fill: rgb(27, 158, 119); fill-opacity: 1;\"/></g><g class=\"point\"><path d=\"M451.64,320V44.2H453.27V320Z\" style=\"vector-effect: non-scaling-stroke; opacity: 1; stroke-width: 0px; fill: rgb(27, 158, 119); fill-opacity: 1;\"/></g><g class=\"point\"><path d=\"M453.27,320V51.33H454.91V320Z\" style=\"vector-effect: non-scaling-stroke; opacity: 1; stroke-width: 0px; fill: rgb(27, 158, 119); fill-opacity: 1;\"/></g><g class=\"point\"><path d=\"M454.91,320V143.57H456.55V320Z\" style=\"vector-effect: non-scaling-stroke; opacity: 1; stroke-width: 0px; fill: rgb(27, 158, 119); fill-opacity: 1;\"/></g><g class=\"point\"><path d=\"M456.55,320V153.59H458.18V320Z\" style=\"vector-effect: non-scaling-stroke; opacity: 1; stroke-width: 0px; fill: rgb(27, 158, 119); fill-opacity: 1;\"/></g><g class=\"point\"><path d=\"M458.18,320V217.22H459.82V320Z\" style=\"vector-effect: non-scaling-stroke; opacity: 1; stroke-width: 0px; fill: rgb(27, 158, 119); fill-opacity: 1;\"/></g><g class=\"point\"><path d=\"M459.82,320V242.42H461.45V320Z\" style=\"vector-effect: non-scaling-stroke; opacity: 1; stroke-width: 0px; fill: rgb(27, 158, 119); fill-opacity: 1;\"/></g><g class=\"point\"><path d=\"M461.45,320V293.35H463.09V320Z\" style=\"vector-effect: non-scaling-stroke; opacity: 1; stroke-width: 0px; fill: rgb(27, 158, 119); fill-opacity: 1;\"/></g><g class=\"point\"><path d=\"M463.09,320V295.93H464.73V320Z\" style=\"vector-effect: non-scaling-stroke; opacity: 1; stroke-width: 0px; fill: rgb(27, 158, 119); fill-opacity: 1;\"/></g><g class=\"point\"><path d=\"M464.73,320V303.58H466.36V320Z\" style=\"vector-effect: non-scaling-stroke; opacity: 1; stroke-width: 0px; fill: rgb(27, 158, 119); fill-opacity: 1;\"/></g><g class=\"point\"><path d=\"M466.36,320V301.51H468V320Z\" style=\"vector-effect: non-scaling-stroke; opacity: 1; stroke-width: 0px; fill: rgb(27, 158, 119); fill-opacity: 1;\"/></g><g class=\"point\"><path d=\"M468,320V277.34H469.64V320Z\" style=\"vector-effect: non-scaling-stroke; opacity: 1; stroke-width: 0px; fill: rgb(27, 158, 119); fill-opacity: 1;\"/></g><g class=\"point\"><path d=\"M469.64,320V248.21H471.27V320Z\" style=\"vector-effect: non-scaling-stroke; opacity: 1; stroke-width: 0px; fill: rgb(27, 158, 119); fill-opacity: 1;\"/></g><g class=\"point\"><path d=\"M471.27,320V201.73H472.91V320Z\" style=\"vector-effect: non-scaling-stroke; opacity: 1; stroke-width: 0px; fill: rgb(27, 158, 119); fill-opacity: 1;\"/></g><g class=\"point\"><path d=\"M472.91,320V129.63H474.55V320Z\" style=\"vector-effect: non-scaling-stroke; opacity: 1; stroke-width: 0px; fill: rgb(27, 158, 119); fill-opacity: 1;\"/></g><g class=\"point\"><path d=\"M474.55,320V150.18H476.18V320Z\" style=\"vector-effect: non-scaling-stroke; opacity: 1; stroke-width: 0px; fill: rgb(27, 158, 119); fill-opacity: 1;\"/></g><g class=\"point\"><path d=\"M476.18,320V146.77H477.82V320Z\" style=\"vector-effect: non-scaling-stroke; opacity: 1; stroke-width: 0px; fill: rgb(27, 158, 119); fill-opacity: 1;\"/></g><g class=\"point\"><path d=\"M477.82,320V128.39H479.45V320Z\" style=\"vector-effect: non-scaling-stroke; opacity: 1; stroke-width: 0px; fill: rgb(27, 158, 119); fill-opacity: 1;\"/></g><g class=\"point\"><path d=\"M479.45,320V109.07H481.09V320Z\" style=\"vector-effect: non-scaling-stroke; opacity: 1; stroke-width: 0px; fill: rgb(27, 158, 119); fill-opacity: 1;\"/></g><g class=\"point\"><path d=\"M481.09,320V131.69H482.73V320Z\" style=\"vector-effect: non-scaling-stroke; opacity: 1; stroke-width: 0px; fill: rgb(27, 158, 119); fill-opacity: 1;\"/></g><g class=\"point\"><path d=\"M482.73,320V106.07H484.36V320Z\" style=\"vector-effect: non-scaling-stroke; opacity: 1; stroke-width: 0px; fill: rgb(27, 158, 119); fill-opacity: 1;\"/></g><g class=\"point\"><path d=\"M484.36,320V132H486V320Z\" style=\"vector-effect: non-scaling-stroke; opacity: 1; stroke-width: 0px; fill: rgb(27, 158, 119); fill-opacity: 1;\"/></g><g class=\"point\"><path d=\"M486,320V84.38H487.64V320Z\" style=\"vector-effect: non-scaling-stroke; opacity: 1; stroke-width: 0px; fill: rgb(27, 158, 119); fill-opacity: 1;\"/></g><g class=\"point\"><path d=\"M487.64,320V37.59H489.27V320Z\" style=\"vector-effect: non-scaling-stroke; opacity: 1; stroke-width: 0px; fill: rgb(27, 158, 119); fill-opacity: 1;\"/></g><g class=\"point\"><path d=\"M489.27,320V37.49H490.91V320Z\" style=\"vector-effect: non-scaling-stroke; opacity: 1; stroke-width: 0px; fill: rgb(27, 158, 119); fill-opacity: 1;\"/></g><g class=\"point\"><path d=\"M490.91,320V65.48H492.55V320Z\" style=\"vector-effect: non-scaling-stroke; opacity: 1; stroke-width: 0px; fill: rgb(27, 158, 119); fill-opacity: 1;\"/></g><g class=\"point\"><path d=\"M492.55,320V70.13H494.18V320Z\" style=\"vector-effect: non-scaling-stroke; opacity: 1; stroke-width: 0px; fill: rgb(27, 158, 119); fill-opacity: 1;\"/></g><g class=\"point\"><path d=\"M494.18,320V86.45H495.82V320Z\" style=\"vector-effect: non-scaling-stroke; opacity: 1; stroke-width: 0px; fill: rgb(27, 158, 119); fill-opacity: 1;\"/></g><g class=\"point\"><path d=\"M495.82,320V147.19H497.45V320Z\" style=\"vector-effect: non-scaling-stroke; opacity: 1; stroke-width: 0px; fill: rgb(27, 158, 119); fill-opacity: 1;\"/></g><g class=\"point\"><path d=\"M497.45,320V206.89H499.09V320Z\" style=\"vector-effect: non-scaling-stroke; opacity: 1; stroke-width: 0px; fill: rgb(27, 158, 119); fill-opacity: 1;\"/></g><g class=\"point\"><path d=\"M499.09,320V275.69H500.73V320Z\" style=\"vector-effect: non-scaling-stroke; opacity: 1; stroke-width: 0px; fill: rgb(27, 158, 119); fill-opacity: 1;\"/></g><g class=\"point\"><path d=\"M500.73,320V298.93H502.36V320Z\" style=\"vector-effect: non-scaling-stroke; opacity: 1; stroke-width: 0px; fill: rgb(27, 158, 119); fill-opacity: 1;\"/></g><g class=\"point\"><path d=\"M502.36,320V306.88H504V320Z\" style=\"vector-effect: non-scaling-stroke; opacity: 1; stroke-width: 0px; fill: rgb(27, 158, 119); fill-opacity: 1;\"/></g><g class=\"point\"><path d=\"M504,320V308.12H505.64V320Z\" style=\"vector-effect: non-scaling-stroke; opacity: 1; stroke-width: 0px; fill: rgb(27, 158, 119); fill-opacity: 1;\"/></g><g class=\"point\"><path d=\"M505.64,320V295.62H507.27V320Z\" style=\"vector-effect: non-scaling-stroke; opacity: 1; stroke-width: 0px; fill: rgb(27, 158, 119); fill-opacity: 1;\"/></g><g class=\"point\"><path d=\"M507.27,320V288.49H508.91V320Z\" style=\"vector-effect: non-scaling-stroke; opacity: 1; stroke-width: 0px; fill: rgb(27, 158, 119); fill-opacity: 1;\"/></g><g class=\"point\"><path d=\"M508.91,320V248.11H510.55V320Z\" style=\"vector-effect: non-scaling-stroke; opacity: 1; stroke-width: 0px; fill: rgb(27, 158, 119); fill-opacity: 1;\"/></g><g class=\"point\"><path d=\"M510.55,320V199.04H512.18V320Z\" style=\"vector-effect: non-scaling-stroke; opacity: 1; stroke-width: 0px; fill: rgb(27, 158, 119); fill-opacity: 1;\"/></g><g class=\"point\"><path d=\"M512.18,320V206.37H513.82V320Z\" style=\"vector-effect: non-scaling-stroke; opacity: 1; stroke-width: 0px; fill: rgb(27, 158, 119); fill-opacity: 1;\"/></g><g class=\"point\"><path d=\"M513.82,320V174.97H515.45V320Z\" style=\"vector-effect: non-scaling-stroke; opacity: 1; stroke-width: 0px; fill: rgb(27, 158, 119); fill-opacity: 1;\"/></g><g class=\"point\"><path d=\"M515.45,320V174.15H517.09V320Z\" style=\"vector-effect: non-scaling-stroke; opacity: 1; stroke-width: 0px; fill: rgb(27, 158, 119); fill-opacity: 1;\"/></g><g class=\"point\"><path d=\"M517.09,320V157.72H518.73V320Z\" style=\"vector-effect: non-scaling-stroke; opacity: 1; stroke-width: 0px; fill: rgb(27, 158, 119); fill-opacity: 1;\"/></g><g class=\"point\"><path d=\"M518.73,320V111.96H520.36V320Z\" style=\"vector-effect: non-scaling-stroke; opacity: 1; stroke-width: 0px; fill: rgb(27, 158, 119); fill-opacity: 1;\"/></g><g class=\"point\"><path d=\"M520.36,320V148.43H522V320Z\" style=\"vector-effect: non-scaling-stroke; opacity: 1; stroke-width: 0px; fill: rgb(27, 158, 119); fill-opacity: 1;\"/></g><g class=\"point\"><path d=\"M522,320V129.11H523.64V320Z\" style=\"vector-effect: non-scaling-stroke; opacity: 1; stroke-width: 0px; fill: rgb(27, 158, 119); fill-opacity: 1;\"/></g><g class=\"point\"><path d=\"M523.64,320V123.94H525.27V320Z\" style=\"vector-effect: non-scaling-stroke; opacity: 1; stroke-width: 0px; fill: rgb(27, 158, 119); fill-opacity: 1;\"/></g><g class=\"point\"><path d=\"M525.27,320V116.3H526.91V320Z\" style=\"vector-effect: non-scaling-stroke; opacity: 1; stroke-width: 0px; fill: rgb(27, 158, 119); fill-opacity: 1;\"/></g><g class=\"point\"><path d=\"M526.91,320V70.85H528.55V320Z\" style=\"vector-effect: non-scaling-stroke; opacity: 1; stroke-width: 0px; fill: rgb(27, 158, 119); fill-opacity: 1;\"/></g><g class=\"point\"><path d=\"M528.55,320V33.25H530.18V320Z\" style=\"vector-effect: non-scaling-stroke; opacity: 1; stroke-width: 0px; fill: rgb(27, 158, 119); fill-opacity: 1;\"/></g><g class=\"point\"><path d=\"M530.18,320V72.5H531.82V320Z\" style=\"vector-effect: non-scaling-stroke; opacity: 1; stroke-width: 0px; fill: rgb(27, 158, 119); fill-opacity: 1;\"/></g><g class=\"point\"><path d=\"M531.82,320V123.12H533.45V320Z\" style=\"vector-effect: non-scaling-stroke; opacity: 1; stroke-width: 0px; fill: rgb(27, 158, 119); fill-opacity: 1;\"/></g><g class=\"point\"><path d=\"M533.45,320V146.57H535.09V320Z\" style=\"vector-effect: non-scaling-stroke; opacity: 1; stroke-width: 0px; fill: rgb(27, 158, 119); fill-opacity: 1;\"/></g><g class=\"point\"><path d=\"M535.09,320V164.33H536.73V320Z\" style=\"vector-effect: non-scaling-stroke; opacity: 1; stroke-width: 0px; fill: rgb(27, 158, 119); fill-opacity: 1;\"/></g><g class=\"point\"><path d=\"M536.73,320V221.97H538.36V320Z\" style=\"vector-effect: non-scaling-stroke; opacity: 1; stroke-width: 0px; fill: rgb(27, 158, 119); fill-opacity: 1;\"/></g><g class=\"point\"><path d=\"M538.36,320V312.98H540V320Z\" style=\"vector-effect: non-scaling-stroke; opacity: 1; stroke-width: 0px; fill: rgb(27, 158, 119); fill-opacity: 1;\"/></g></g></g></g></g><g class=\"overplot\"/><path class=\"xlines-above crisp\" d=\"M0,0\" style=\"fill: none;\"/><path class=\"ylines-above crisp\" d=\"M0,0\" style=\"fill: none;\"/><g class=\"overlines-above\"/><g class=\"xaxislayer-above\"><g class=\"xtick\"><text text-anchor=\"middle\" x=\"0\" y=\"433\" transform=\"translate(152,0)\" style=\"font-family: 'Open Sans', verdana, arial, sans-serif; font-size: 12px; fill: rgb(42, 63, 95); fill-opacity: 1; white-space: pre; opacity: 1;\"><tspan class=\"line\" dy=\"0em\" x=\"0\" y=\"433\">Jul 27</tspan><tspan class=\"line\" dy=\"1.3em\" x=\"0\" y=\"433\">2019</tspan></text></g><g class=\"xtick\"><text text-anchor=\"middle\" x=\"0\" y=\"433\" style=\"font-family: 'Open Sans', verdana, arial, sans-serif; font-size: 12px; fill: rgb(42, 63, 95); fill-opacity: 1; white-space: pre; opacity: 1;\" transform=\"translate(230.55,0)\">Jul 29</text></g><g class=\"xtick\"><text text-anchor=\"middle\" x=\"0\" y=\"433\" style=\"font-family: 'Open Sans', verdana, arial, sans-serif; font-size: 12px; fill: rgb(42, 63, 95); fill-opacity: 1; white-space: pre; opacity: 1;\" transform=\"translate(309.09000000000003,0)\">Jul 31</text></g><g class=\"xtick\"><text text-anchor=\"middle\" x=\"0\" y=\"433\" style=\"font-family: 'Open Sans', verdana, arial, sans-serif; font-size: 12px; fill: rgb(42, 63, 95); fill-opacity: 1; white-space: pre; opacity: 1;\" transform=\"translate(387.64,0)\">Aug 2</text></g><g class=\"xtick\"><text text-anchor=\"middle\" x=\"0\" y=\"433\" style=\"font-family: 'Open Sans', verdana, arial, sans-serif; font-size: 12px; fill: rgb(42, 63, 95); fill-opacity: 1; white-space: pre; opacity: 1;\" transform=\"translate(466.18,0)\">Aug 4</text></g><g class=\"xtick\"><text text-anchor=\"middle\" x=\"0\" y=\"433\" style=\"font-family: 'Open Sans', verdana, arial, sans-serif; font-size: 12px; fill: rgb(42, 63, 95); fill-opacity: 1; white-space: pre; opacity: 1;\" transform=\"translate(544.73,0)\">Aug 6</text></g></g><g class=\"yaxislayer-above\"><g class=\"ytick\"><text text-anchor=\"end\" x=\"79\" y=\"4.199999999999999\" transform=\"translate(0,420)\" style=\"font-family: 'Open Sans', verdana, arial, sans-serif; font-size: 12px; fill: rgb(42, 63, 95); fill-opacity: 1; white-space: pre; opacity: 1;\">0</text></g><g class=\"ytick\"><text text-anchor=\"end\" x=\"79\" y=\"4.199999999999999\" style=\"font-family: 'Open Sans', verdana, arial, sans-serif; font-size: 12px; fill: rgb(42, 63, 95); fill-opacity: 1; white-space: pre; opacity: 1;\" transform=\"translate(0,368.35)\">500</text></g><g class=\"ytick\"><text text-anchor=\"end\" x=\"79\" y=\"4.199999999999999\" style=\"font-family: 'Open Sans', verdana, arial, sans-serif; font-size: 12px; fill: rgb(42, 63, 95); fill-opacity: 1; white-space: pre; opacity: 1;\" transform=\"translate(0,316.7)\">1000</text></g><g class=\"ytick\"><text text-anchor=\"end\" x=\"79\" y=\"4.199999999999999\" style=\"font-family: 'Open Sans', verdana, arial, sans-serif; font-size: 12px; fill: rgb(42, 63, 95); fill-opacity: 1; white-space: pre; opacity: 1;\" transform=\"translate(0,265.06)\">1500</text></g><g class=\"ytick\"><text text-anchor=\"end\" x=\"79\" y=\"4.199999999999999\" style=\"font-family: 'Open Sans', verdana, arial, sans-serif; font-size: 12px; fill: rgb(42, 63, 95); fill-opacity: 1; white-space: pre; opacity: 1;\" transform=\"translate(0,213.41)\">2000</text></g><g class=\"ytick\"><text text-anchor=\"end\" x=\"79\" y=\"4.199999999999999\" style=\"font-family: 'Open Sans', verdana, arial, sans-serif; font-size: 12px; fill: rgb(42, 63, 95); fill-opacity: 1; white-space: pre; opacity: 1;\" transform=\"translate(0,161.76)\">2500</text></g><g class=\"ytick\"><text text-anchor=\"end\" x=\"79\" y=\"4.199999999999999\" style=\"font-family: 'Open Sans', verdana, arial, sans-serif; font-size: 12px; fill: rgb(42, 63, 95); fill-opacity: 1; white-space: pre; opacity: 1;\" transform=\"translate(0,110.11)\">3000</text></g></g><g class=\"overaxes-above\"/></g></g><g class=\"polarlayer\"/><g class=\"ternarylayer\"/><g class=\"geolayer\"/><g class=\"funnelarealayer\"/><g class=\"pielayer\"/><g class=\"iciclelayer\"/><g class=\"treemaplayer\"/><g class=\"sunburstlayer\"/><g class=\"glimages\"/><defs id=\"topdefs-f34569\"><g class=\"clips\"/></defs><g class=\"layer-above\"><g class=\"imagelayer\"/><g class=\"shapelayer\"/></g><g class=\"infolayer\"><g class=\"g-gtitle\"><text class=\"gtitle\" x=\"35\" y=\"50\" text-anchor=\"start\" dy=\"0em\" style=\"font-family: 'Open Sans', verdana, arial, sans-serif; font-size: 17px; fill: rgb(42, 63, 95); opacity: 1; font-weight: normal; white-space: pre;\">Распределение событий по датам</text></g><g class=\"g-xtitle\"><text class=\"xtitle\" x=\"350\" y=\"475.909375\" text-anchor=\"middle\" style=\"font-family: 'Open Sans', verdana, arial, sans-serif; font-size: 14px; fill: rgb(42, 63, 95); opacity: 1; font-weight: normal; white-space: pre;\">event_datetime</text></g><g class=\"g-ytitle\"><text class=\"ytitle\" transform=\"rotate(-90,23.684375000000003,260)\" x=\"23.684375000000003\" y=\"260\" text-anchor=\"middle\" style=\"font-family: 'Open Sans', verdana, arial, sans-serif; font-size: 14px; fill: rgb(42, 63, 95); opacity: 1; font-weight: normal; white-space: pre;\">count</text></g></g></svg>"
      ]
     },
     "metadata": {},
     "output_type": "display_data"
    }
   ],
   "source": [
    "fig = px.histogram(df, x=\"event_datetime\",\n",
    "                   color_discrete_sequence=px.colors.qualitative.Dark2,\n",
    "                   title = 'Распределение событий по датам')\n",
    "fig.show('svg')\n"
   ]
  },
  {
   "cell_type": "markdown",
   "metadata": {},
   "source": [
    "Похоже, данные не полные - в них попали часть событий из прошлого. Судя по приближенному графику распределения, на самом деле мы распологаем данными начиная с 31-07-2019 22:00:00 \n",
    "\n",
    "Удалим данные ранее этой даты и посчитаем, сколько событий и пользователей мы потеряли."
   ]
  },
  {
   "cell_type": "code",
   "execution_count": 16,
   "metadata": {},
   "outputs": [
    {
     "name": "stdout",
     "output_type": "stream",
     "text": [
      "Удалено событий: 0.99%, 2413\n",
      "Удалено пользователей: 0.17%, 13\n"
     ]
    }
   ],
   "source": [
    "print(\n",
    "     'Удалено событий: {:.2%},'.format(\n",
    "            1 -(len(df.query('event_datetime > \"31-07-2019 22:00:00\"')) / len(df))\n",
    "                                   ),\n",
    "            len(df) - len(df.query('event_datetime > \"31-07-2019 22:00:00\"'))\n",
    ")\n",
    "\n",
    "\n",
    "users_list = df.query('event_datetime > \"31-07-2019 22:00:00\"')['id'].unique()\n",
    "\n",
    "\n",
    "print(\n",
    "     'Удалено пользователей: {:.2%},'.format(\n",
    "            df.query('id not in @users_list')['id'].nunique() / df['id'].nunique()\n",
    "                                   ),\n",
    "            df.query('id not in @users_list')['id'].nunique()\n",
    ")"
   ]
  },
  {
   "cell_type": "code",
   "execution_count": 17,
   "metadata": {},
   "outputs": [],
   "source": [
    "df = df.query('event_datetime > \"31-07-2019 22:00:00\"')"
   ]
  },
  {
   "cell_type": "markdown",
   "metadata": {},
   "source": [
    "Проверим, что у вас есть пользователи из всех трёх экспериментальных групп."
   ]
  },
  {
   "cell_type": "code",
   "execution_count": 18,
   "metadata": {},
   "outputs": [
    {
     "data": {
      "text/plain": [
       "array(['A', 'B', 'AA'], dtype=object)"
      ]
     },
     "execution_count": 18,
     "metadata": {},
     "output_type": "execute_result"
    }
   ],
   "source": [
    "df['group'].unique()"
   ]
  },
  {
   "cell_type": "markdown",
   "metadata": {},
   "source": [
    "### Выводы"
   ]
  },
  {
   "cell_type": "markdown",
   "metadata": {},
   "source": [
    "Было обнаружено что данные не полные - в них попали часть событий из прошлого. На самом деле мы распологаем данными начиная с августа 2018 года. Ошибочные данные были удалены. "
   ]
  },
  {
   "cell_type": "markdown",
   "metadata": {},
   "source": [
    "## Воронка событий"
   ]
  },
  {
   "cell_type": "markdown",
   "metadata": {},
   "source": [
    "Посмотрим, какие события есть в логах и как часто они встречаются. "
   ]
  },
  {
   "cell_type": "code",
   "execution_count": 19,
   "metadata": {},
   "outputs": [
    {
     "data": {
      "text/plain": [
       "main        117617\n",
       "offers       46420\n",
       "cart         42322\n",
       "payment      33935\n",
       "tutorial      1006\n",
       "Name: event_name, dtype: int64"
      ]
     },
     "execution_count": 19,
     "metadata": {},
     "output_type": "execute_result"
    }
   ],
   "source": [
    "df['event_name'].value_counts()"
   ]
  },
  {
   "cell_type": "markdown",
   "metadata": {},
   "source": [
    "Посчитаем, сколько пользователей совершали каждое из этих событий и отсортируем события по числу пользователей. Так же посчитаем долю пользователей, которые хоть раз совершали событие."
   ]
  },
  {
   "cell_type": "code",
   "execution_count": 20,
   "metadata": {},
   "outputs": [
    {
     "data": {
      "text/html": [
       "<div>\n",
       "<style scoped>\n",
       "    .dataframe tbody tr th:only-of-type {\n",
       "        vertical-align: middle;\n",
       "    }\n",
       "\n",
       "    .dataframe tbody tr th {\n",
       "        vertical-align: top;\n",
       "    }\n",
       "\n",
       "    .dataframe thead th {\n",
       "        text-align: right;\n",
       "    }\n",
       "</style>\n",
       "<table border=\"1\" class=\"dataframe\">\n",
       "  <thead>\n",
       "    <tr style=\"text-align: right;\">\n",
       "      <th></th>\n",
       "      <th>event_name</th>\n",
       "      <th>users</th>\n",
       "      <th>retension</th>\n",
       "    </tr>\n",
       "  </thead>\n",
       "  <tbody>\n",
       "    <tr>\n",
       "      <td>1</td>\n",
       "      <td>main</td>\n",
       "      <td>7423</td>\n",
       "      <td>0.98</td>\n",
       "    </tr>\n",
       "    <tr>\n",
       "      <td>2</td>\n",
       "      <td>offers</td>\n",
       "      <td>4595</td>\n",
       "      <td>0.61</td>\n",
       "    </tr>\n",
       "    <tr>\n",
       "      <td>0</td>\n",
       "      <td>cart</td>\n",
       "      <td>3735</td>\n",
       "      <td>0.50</td>\n",
       "    </tr>\n",
       "    <tr>\n",
       "      <td>3</td>\n",
       "      <td>payment</td>\n",
       "      <td>3539</td>\n",
       "      <td>0.47</td>\n",
       "    </tr>\n",
       "    <tr>\n",
       "      <td>4</td>\n",
       "      <td>tutorial</td>\n",
       "      <td>841</td>\n",
       "      <td>0.11</td>\n",
       "    </tr>\n",
       "  </tbody>\n",
       "</table>\n",
       "</div>"
      ],
      "text/plain": [
       "  event_name  users  retension\n",
       "1       main   7423       0.98\n",
       "2     offers   4595       0.61\n",
       "0       cart   3735       0.50\n",
       "3    payment   3539       0.47\n",
       "4   tutorial    841       0.11"
      ]
     },
     "execution_count": 20,
     "metadata": {},
     "output_type": "execute_result"
    }
   ],
   "source": [
    "event_count = df.groupby('event_name', as_index = False).agg({'id':'nunique'}).sort_values('id', ascending = False)\n",
    "event_count.columns = ['event_name', 'users']\n",
    "event_count['retension'] = round(event_count['users'] / df['id'].nunique(), 2)\n",
    "event_count"
   ]
  },
  {
   "cell_type": "markdown",
   "metadata": {},
   "source": [
    "Предпложительный порядок событий:\n",
    "   1. Переход на главный экран (main)\n",
    "   2. Экран выбора заказа (offers)\n",
    "   3. Корзина (cart)\n",
    "   4. Успешная оплата (payment)\n",
    "\n",
    "На экран tutorial заходят далеко не все пользователи, включать это событие в изучаемую воронку не будем."
   ]
  },
  {
   "cell_type": "code",
   "execution_count": 21,
   "metadata": {},
   "outputs": [],
   "source": [
    "event_count = event_count.query('event_name != \"tutorial\"')"
   ]
  },
  {
   "cell_type": "markdown",
   "metadata": {},
   "source": [
    "Выведем ворнку событий для найденной цепочки."
   ]
  },
  {
   "cell_type": "code",
   "execution_count": 22,
   "metadata": {},
   "outputs": [
    {
     "data": {
      "image/svg+xml": [
       "<svg class=\"main-svg\" xmlns=\"http://www.w3.org/2000/svg\" xmlns:xlink=\"http://www.w3.org/1999/xlink\" width=\"700\" height=\"500\" style=\"\" viewBox=\"0 0 700 500\"><rect x=\"0\" y=\"0\" width=\"700\" height=\"500\" style=\"fill: rgb(255, 255, 255); fill-opacity: 1;\"/><defs id=\"defs-caa2d6\"><g class=\"clips\"><clipPath id=\"clipcaa2d6xyplot\" class=\"plotclip\"><rect width=\"540\" height=\"320\"/></clipPath><clipPath class=\"axesclip\" id=\"clipcaa2d6x\"><rect x=\"80\" y=\"0\" width=\"540\" height=\"500\"/></clipPath><clipPath class=\"axesclip\" id=\"clipcaa2d6y\"><rect x=\"0\" y=\"100\" width=\"700\" height=\"320\"/></clipPath><clipPath class=\"axesclip\" id=\"clipcaa2d6xy\"><rect x=\"80\" y=\"100\" width=\"540\" height=\"320\"/></clipPath></g><g class=\"gradients\"/><g class=\"patterns\"/></defs><g class=\"bglayer\"><rect class=\"bg\" x=\"80\" y=\"100\" width=\"540\" height=\"320\" style=\"fill: rgb(229, 236, 246); fill-opacity: 1; stroke-width: 0;\"/></g><g class=\"layer-below\"><g class=\"imagelayer\"/><g class=\"shapelayer\"/></g><g class=\"cartesianlayer\"><g class=\"subplot xy\"><g class=\"layer-subplot\"><g class=\"shapelayer\"/><g class=\"imagelayer\"/></g><g class=\"gridlayer\"><g class=\"x\"/><g class=\"y\"/></g><g class=\"zerolinelayer\"/><path class=\"xlines-below\"/><path class=\"ylines-below\"/><g class=\"overlines-below\"/><g class=\"xaxislayer-below\"/><g class=\"yaxislayer-below\"/><g class=\"overaxes-below\"/><g class=\"plot\" transform=\"translate(80,100)\" clip-path=\"url(#clipcaa2d6xyplot)\"><g class=\"funnellayer mlayer\"><g class=\"trace bars\" style=\"opacity: 1;\"><g class=\"regions\"><g class=\"region\"><path d=\"M27,72L119.58,88H420.42L513,72Z\" style=\"stroke-width: 0; fill: rgb(99, 110, 250); fill-opacity: 0.5;\"/></g><g class=\"region\"><path d=\"M119.58,152L147.73,168H392.27L420.42,152Z\" style=\"stroke-width: 0; fill: rgb(99, 110, 250); fill-opacity: 0.5;\"/></g><g class=\"region\"><path d=\"M147.73,232L154.15,248H385.85L392.27,232Z\" style=\"stroke-width: 0; fill: rgb(99, 110, 250); fill-opacity: 0.5;\"/></g><g class=\"region\"><path d=\"M0,0Z\" style=\"stroke-width: 0; fill: rgb(99, 110, 250); fill-opacity: 0.5;\"/></g></g><g class=\"points\"><g class=\"point\"><path d=\"M27,8V72H513V8Z\" style=\"vector-effect: non-scaling-stroke; fill: rgb(99, 110, 250); fill-opacity: 1; stroke: rgb(68, 68, 68); stroke-opacity: 1; stroke-width: 0px; opacity: 1;\"/><text class=\"bartext bartext-inside\" text-anchor=\"middle\" data-notex=\"1\" x=\"0\" y=\"0\" style=\"font-family: 'Open Sans', verdana, arial, sans-serif; font-size: 12px; fill: rgb(255, 255, 255); fill-opacity: 1; white-space: pre;\" transform=\"translate(270,29.1484375)\"><tspan class=\"line\" dy=\"0em\" x=\"0\" y=\"0\">7423</tspan><tspan class=\"line\" dy=\"1.3em\" x=\"0\" y=\"0\">100% of initial</tspan><tspan class=\"line\" dy=\"2.6em\" x=\"0\" y=\"0\">100% of previous</tspan></text></g><g class=\"point\"><path d=\"M119.58,88V152H420.42V88Z\" style=\"vector-effect: non-scaling-stroke; fill: rgb(99, 110, 250); fill-opacity: 1; stroke: rgb(68, 68, 68); stroke-opacity: 1; stroke-width: 0px; opacity: 1;\"/><text class=\"bartext bartext-inside\" text-anchor=\"middle\" data-notex=\"1\" x=\"0\" y=\"0\" style=\"font-family: 'Open Sans', verdana, arial, sans-serif; font-size: 12px; fill: rgb(255, 255, 255); fill-opacity: 1; white-space: pre;\" transform=\"translate(270,109.1484375)\"><tspan class=\"line\" dy=\"0em\" x=\"0\" y=\"0\">4595</tspan><tspan class=\"line\" dy=\"1.3em\" x=\"0\" y=\"0\">62% of initial</tspan><tspan class=\"line\" dy=\"2.6em\" x=\"0\" y=\"0\">62% of previous</tspan></text></g><g class=\"point\"><path d=\"M147.73,168V232H392.27V168Z\" style=\"vector-effect: non-scaling-stroke; fill: rgb(99, 110, 250); fill-opacity: 1; stroke: rgb(68, 68, 68); stroke-opacity: 1; stroke-width: 0px; opacity: 1;\"/><text class=\"bartext bartext-inside\" text-anchor=\"middle\" data-notex=\"1\" x=\"0\" y=\"0\" style=\"font-family: 'Open Sans', verdana, arial, sans-serif; font-size: 12px; fill: rgb(255, 255, 255); fill-opacity: 1; white-space: pre;\" transform=\"translate(270,189.1484375)\"><tspan class=\"line\" dy=\"0em\" x=\"0\" y=\"0\">3735</tspan><tspan class=\"line\" dy=\"1.3em\" x=\"0\" y=\"0\">50% of initial</tspan><tspan class=\"line\" dy=\"2.6em\" x=\"0\" y=\"0\">81% of previous</tspan></text></g><g class=\"point\"><path d=\"M154.15,248V312H385.85V248Z\" style=\"vector-effect: non-scaling-stroke; fill: rgb(99, 110, 250); fill-opacity: 1; stroke: rgb(68, 68, 68); stroke-opacity: 1; stroke-width: 0px; opacity: 1;\"/><text class=\"bartext bartext-inside\" text-anchor=\"middle\" data-notex=\"1\" x=\"0\" y=\"0\" style=\"font-family: 'Open Sans', verdana, arial, sans-serif; font-size: 12px; fill: rgb(255, 255, 255); fill-opacity: 1; white-space: pre;\" transform=\"translate(270,269.1484375)\"><tspan class=\"line\" dy=\"0em\" x=\"0\" y=\"0\">3539</tspan><tspan class=\"line\" dy=\"1.3em\" x=\"0\" y=\"0\">48% of initial</tspan><tspan class=\"line\" dy=\"2.6em\" x=\"0\" y=\"0\">95% of previous</tspan></text></g></g></g></g></g><g class=\"overplot\"/><path class=\"xlines-above crisp\" d=\"M0,0\" style=\"fill: none;\"/><path class=\"ylines-above crisp\" d=\"M0,0\" style=\"fill: none;\"/><g class=\"overlines-above\"/><g class=\"xaxislayer-above\"/><g class=\"yaxislayer-above\"><g class=\"ytick\"><text text-anchor=\"end\" x=\"79\" y=\"4.199999999999999\" transform=\"translate(0,380)\" style=\"font-family: 'Open Sans', verdana, arial, sans-serif; font-size: 12px; fill: rgb(42, 63, 95); fill-opacity: 1; white-space: pre; opacity: 1;\">payment</text></g><g class=\"ytick\"><text text-anchor=\"end\" x=\"79\" y=\"4.199999999999999\" transform=\"translate(0,300)\" style=\"font-family: 'Open Sans', verdana, arial, sans-serif; font-size: 12px; fill: rgb(42, 63, 95); fill-opacity: 1; white-space: pre; opacity: 1;\">cart</text></g><g class=\"ytick\"><text text-anchor=\"end\" x=\"79\" y=\"4.199999999999999\" transform=\"translate(0,220)\" style=\"font-family: 'Open Sans', verdana, arial, sans-serif; font-size: 12px; fill: rgb(42, 63, 95); fill-opacity: 1; white-space: pre; opacity: 1;\">offers</text></g><g class=\"ytick\"><text text-anchor=\"end\" x=\"79\" y=\"4.199999999999999\" transform=\"translate(0,140)\" style=\"font-family: 'Open Sans', verdana, arial, sans-serif; font-size: 12px; fill: rgb(42, 63, 95); fill-opacity: 1; white-space: pre; opacity: 1;\">main</text></g></g><g class=\"overaxes-above\"/></g></g><g class=\"polarlayer\"/><g class=\"ternarylayer\"/><g class=\"geolayer\"/><g class=\"funnelarealayer\"/><g class=\"pielayer\"/><g class=\"iciclelayer\"/><g class=\"treemaplayer\"/><g class=\"sunburstlayer\"/><g class=\"glimages\"/><defs id=\"topdefs-caa2d6\"><g class=\"clips\"/></defs><g class=\"layer-above\"><g class=\"imagelayer\"/><g class=\"shapelayer\"/></g><g class=\"infolayer\"><g class=\"g-gtitle\"><text class=\"gtitle\" x=\"350\" y=\"50\" text-anchor=\"middle\" dy=\"0em\" style=\"font-family: 'Open Sans', verdana, arial, sans-serif; font-size: 17px; fill: rgb(42, 63, 95); opacity: 1; font-weight: normal; white-space: pre;\">Воронка событий</text></g><g class=\"g-ytitle\"/></g></svg>"
      ]
     },
     "metadata": {},
     "output_type": "display_data"
    }
   ],
   "source": [
    "fig = go.Figure(go.Funnel(\n",
    "    y = event_count['event_name'],\n",
    "    x = event_count['users'],\n",
    "    textinfo = \"value+percent previous+percent initial\"\n",
    "))\n",
    "fig.update_layout(title_text='Воронка событий', title_x=0.5)\n",
    "\n",
    "fig.show('svg')"
   ]
  },
  {
   "cell_type": "markdown",
   "metadata": {},
   "source": [
    "### Выводы"
   ]
  },
  {
   "cell_type": "markdown",
   "metadata": {},
   "source": [
    "Обнаруженные порядок событий:\n",
    "   1. Переход на главный экран (main)\n",
    "   2. Экран выбора заказа (offers)\n",
    "   3. Корзина (cart)\n",
    "   4. Успешная оплата (payment)\n",
    "\n",
    "Потери пользователей с предыдущего шага:\n",
    " - экран выбора заказа: 62%\n",
    " - экран корзины: 81%\n",
    " - успешная оплата: 95%\n",
    "\n",
    "На главном экране теряется больше всего пользователей - до выбора заказа доходит только 62 процента пользователей.\n",
    "\n",
    "От главного экрана до успешной оплаты доходит 48 процентов пользователей."
   ]
  },
  {
   "cell_type": "markdown",
   "metadata": {},
   "source": [
    "## Результаты экперимента"
   ]
  },
  {
   "cell_type": "markdown",
   "metadata": {},
   "source": [
    "Посчитаем количество пользователей в каждой группе."
   ]
  },
  {
   "cell_type": "code",
   "execution_count": 23,
   "metadata": {},
   "outputs": [
    {
     "data": {
      "text/html": [
       "<div>\n",
       "<style scoped>\n",
       "    .dataframe tbody tr th:only-of-type {\n",
       "        vertical-align: middle;\n",
       "    }\n",
       "\n",
       "    .dataframe tbody tr th {\n",
       "        vertical-align: top;\n",
       "    }\n",
       "\n",
       "    .dataframe thead th {\n",
       "        text-align: right;\n",
       "    }\n",
       "</style>\n",
       "<table border=\"1\" class=\"dataframe\">\n",
       "  <thead>\n",
       "    <tr style=\"text-align: right;\">\n",
       "      <th></th>\n",
       "      <th>group</th>\n",
       "      <th>users</th>\n",
       "    </tr>\n",
       "  </thead>\n",
       "  <tbody>\n",
       "    <tr>\n",
       "      <td>0</td>\n",
       "      <td>A</td>\n",
       "      <td>2484</td>\n",
       "    </tr>\n",
       "    <tr>\n",
       "      <td>1</td>\n",
       "      <td>AA</td>\n",
       "      <td>2517</td>\n",
       "    </tr>\n",
       "    <tr>\n",
       "      <td>2</td>\n",
       "      <td>B</td>\n",
       "      <td>2537</td>\n",
       "    </tr>\n",
       "  </tbody>\n",
       "</table>\n",
       "</div>"
      ],
      "text/plain": [
       "  group  users\n",
       "0     A   2484\n",
       "1    AA   2517\n",
       "2     B   2537"
      ]
     },
     "execution_count": 23,
     "metadata": {},
     "output_type": "execute_result"
    }
   ],
   "source": [
    "users_count = df.groupby('group')['id'].agg({'id':'nunique'}).reset_index()\n",
    "users_count.columns = ['group', 'users']\n",
    "users_count"
   ]
  },
  {
   "cell_type": "markdown",
   "metadata": {},
   "source": [
    "Соберем данные о конверсии по каждой группе в таблицу."
   ]
  },
  {
   "cell_type": "code",
   "execution_count": 24,
   "metadata": {},
   "outputs": [],
   "source": [
    "event_count_A = df.query('group == \"A\"').groupby('event_name')\\\n",
    ".agg({'id':'nunique','group':'max'}).sort_values('id', ascending = False).reset_index()\n",
    "\n",
    "event_pivot_A = event_count_A.pivot_table(index = 'group', values = 'id', columns = 'event_name')\\\n",
    ".reset_index().rename_axis(None, axis=1).reset_index(drop=True)\n",
    "\n",
    "event_pivot_A = event_pivot_A[['group','main','offers','cart',\n",
    "       'payment','tutorial']]\n",
    "\n",
    "\n",
    "event_count_AA = df.query('group == \"AA\"').groupby('event_name')\\\n",
    ".agg({'id':'nunique','group':'max'}).sort_values('id', ascending = False).reset_index()\n",
    "\n",
    "event_pivot_AA = event_count_AA.pivot_table(index = 'group', values = 'id', columns = 'event_name')\\\n",
    ".reset_index().rename_axis(None, axis=1).reset_index(drop=True)\n",
    "\n",
    "event_pivot_AA = event_pivot_AA[['group','main','offers','cart',\n",
    "       'payment','tutorial']]\n",
    "\n",
    "\n",
    "event_count_B = df.query('group == \"B\"').groupby('event_name')\\\n",
    ".agg({'id':'nunique','group':'max'}).sort_values('id', ascending = False).reset_index()\n",
    "\n",
    "event_pivot_B = event_count_B.pivot_table(index = 'group', values = 'id', columns = 'event_name')\\\n",
    ".reset_index().rename_axis(None, axis=1).reset_index(drop=True)\n",
    "\n",
    "event_pivot_B = event_pivot_B[['group','main','offers','cart',\n",
    "       'payment','tutorial']]\n",
    "\n",
    "event_pivot = pd.concat([event_pivot_A , event_pivot_AA, event_pivot_B], axis=0).reset_index(drop = True)\n",
    "event_pivot = event_pivot.merge(users_count, on = 'group')\n",
    "event_pivot = event_pivot.set_index('group')\n"
   ]
  },
  {
   "cell_type": "markdown",
   "metadata": {},
   "source": [
    "Добавим информацию о сумме контрольных A и AA групп."
   ]
  },
  {
   "cell_type": "code",
   "execution_count": 25,
   "metadata": {},
   "outputs": [
    {
     "data": {
      "text/html": [
       "<div>\n",
       "<style scoped>\n",
       "    .dataframe tbody tr th:only-of-type {\n",
       "        vertical-align: middle;\n",
       "    }\n",
       "\n",
       "    .dataframe tbody tr th {\n",
       "        vertical-align: top;\n",
       "    }\n",
       "\n",
       "    .dataframe thead th {\n",
       "        text-align: right;\n",
       "    }\n",
       "</style>\n",
       "<table border=\"1\" class=\"dataframe\">\n",
       "  <thead>\n",
       "    <tr style=\"text-align: right;\">\n",
       "      <th></th>\n",
       "      <th>main</th>\n",
       "      <th>offers</th>\n",
       "      <th>cart</th>\n",
       "      <th>payment</th>\n",
       "      <th>users</th>\n",
       "    </tr>\n",
       "    <tr>\n",
       "      <th>group</th>\n",
       "      <th></th>\n",
       "      <th></th>\n",
       "      <th></th>\n",
       "      <th></th>\n",
       "      <th></th>\n",
       "    </tr>\n",
       "  </thead>\n",
       "  <tbody>\n",
       "    <tr>\n",
       "      <td>A</td>\n",
       "      <td>2450</td>\n",
       "      <td>1542</td>\n",
       "      <td>1266</td>\n",
       "      <td>1200</td>\n",
       "      <td>2484</td>\n",
       "    </tr>\n",
       "    <tr>\n",
       "      <td>AA</td>\n",
       "      <td>2479</td>\n",
       "      <td>1522</td>\n",
       "      <td>1239</td>\n",
       "      <td>1158</td>\n",
       "      <td>2517</td>\n",
       "    </tr>\n",
       "    <tr>\n",
       "      <td>B</td>\n",
       "      <td>2494</td>\n",
       "      <td>1531</td>\n",
       "      <td>1230</td>\n",
       "      <td>1181</td>\n",
       "      <td>2537</td>\n",
       "    </tr>\n",
       "    <tr>\n",
       "      <td>A+AA</td>\n",
       "      <td>4929</td>\n",
       "      <td>3064</td>\n",
       "      <td>2505</td>\n",
       "      <td>2358</td>\n",
       "      <td>5001</td>\n",
       "    </tr>\n",
       "  </tbody>\n",
       "</table>\n",
       "</div>"
      ],
      "text/plain": [
       "       main  offers  cart  payment  users\n",
       "group                                    \n",
       "A      2450    1542  1266     1200   2484\n",
       "AA     2479    1522  1239     1158   2517\n",
       "B      2494    1531  1230     1181   2537\n",
       "A+AA   4929    3064  2505     2358   5001"
      ]
     },
     "execution_count": 25,
     "metadata": {},
     "output_type": "execute_result"
    }
   ],
   "source": [
    "A_sum = event_pivot.loc['A':'AA']\n",
    "\n",
    "A_sum.loc['A+AA',:]= A_sum.sum(axis=0).astype('int')\n",
    "for column in A_sum.columns:\n",
    "    A_sum[column] = A_sum[column].astype('int')\n",
    "\n",
    "event_pivot = pd.concat([event_pivot , A_sum], axis=0).drop_duplicates()\n",
    "event_pivot = event_pivot.drop('tutorial', axis = 1)\n",
    "event_pivot"
   ]
  },
  {
   "cell_type": "markdown",
   "metadata": {},
   "source": [
    "Посчитаем долю пользователей на каждом этапе и выведем график. "
   ]
  },
  {
   "cell_type": "code",
   "execution_count": 48,
   "metadata": {},
   "outputs": [],
   "source": [
    "retension_data = event_pivot.copy()\n",
    "retension_data['retension_main'] = round(retension_data['main'] / retension_data['users'], 3)\n",
    "retension_data['retension_cart'] = round(retension_data['cart'] / retension_data['users'], 3) \n",
    "retension_data['retension_offers'] = round(retension_data['offers'] / retension_data['users'], 3) \n",
    "retension_data['retension_payment'] = round(retension_data['payment'] / retension_data['users'], 3) "
   ]
  },
  {
   "cell_type": "code",
   "execution_count": 50,
   "metadata": {},
   "outputs": [
    {
     "data": {
      "text/html": [
       "<div>\n",
       "<style scoped>\n",
       "    .dataframe tbody tr th:only-of-type {\n",
       "        vertical-align: middle;\n",
       "    }\n",
       "\n",
       "    .dataframe tbody tr th {\n",
       "        vertical-align: top;\n",
       "    }\n",
       "\n",
       "    .dataframe thead th {\n",
       "        text-align: right;\n",
       "    }\n",
       "</style>\n",
       "<table border=\"1\" class=\"dataframe\">\n",
       "  <thead>\n",
       "    <tr style=\"text-align: right;\">\n",
       "      <th></th>\n",
       "      <th>retension_main</th>\n",
       "      <th>retension_offers</th>\n",
       "      <th>retension_cart</th>\n",
       "      <th>retension_payment</th>\n",
       "    </tr>\n",
       "    <tr>\n",
       "      <th>group</th>\n",
       "      <th></th>\n",
       "      <th></th>\n",
       "      <th></th>\n",
       "      <th></th>\n",
       "    </tr>\n",
       "  </thead>\n",
       "  <tbody>\n",
       "    <tr>\n",
       "      <td>A</td>\n",
       "      <td>0.986</td>\n",
       "      <td>0.621</td>\n",
       "      <td>0.510</td>\n",
       "      <td>0.483</td>\n",
       "    </tr>\n",
       "    <tr>\n",
       "      <td>AA</td>\n",
       "      <td>0.985</td>\n",
       "      <td>0.605</td>\n",
       "      <td>0.492</td>\n",
       "      <td>0.460</td>\n",
       "    </tr>\n",
       "    <tr>\n",
       "      <td>B</td>\n",
       "      <td>0.983</td>\n",
       "      <td>0.603</td>\n",
       "      <td>0.485</td>\n",
       "      <td>0.466</td>\n",
       "    </tr>\n",
       "    <tr>\n",
       "      <td>A+AA</td>\n",
       "      <td>0.986</td>\n",
       "      <td>0.613</td>\n",
       "      <td>0.501</td>\n",
       "      <td>0.472</td>\n",
       "    </tr>\n",
       "  </tbody>\n",
       "</table>\n",
       "</div>"
      ],
      "text/plain": [
       "       retension_main  retension_offers  retension_cart  retension_payment\n",
       "group                                                                     \n",
       "A               0.986             0.621           0.510              0.483\n",
       "AA              0.985             0.605           0.492              0.460\n",
       "B               0.983             0.603           0.485              0.466\n",
       "A+AA            0.986             0.613           0.501              0.472"
      ]
     },
     "execution_count": 50,
     "metadata": {},
     "output_type": "execute_result"
    }
   ],
   "source": [
    "retension = retension_data[['retension_main', 'retension_offers','retension_cart','retension_payment']]\n",
    "retension"
   ]
  },
  {
   "cell_type": "code",
   "execution_count": 53,
   "metadata": {},
   "outputs": [
    {
     "data": {
      "image/png": "[encoded data removed]",
      "text/plain": [
       "<Figure size 864x504 with 1 Axes>"
      ]
     },
     "metadata": {
      "image/png": {
       "height": 427,
       "width": 725
      }
     },
     "output_type": "display_data"
    }
   ],
   "source": [
    "\n",
    "fig, ax = plt.subplots(figsize = (12, 7))\n",
    "plt.plot(retension.T)\n",
    "#retension.T.plot()\n",
    "plt.title('Retension')\n",
    "\n",
    "plt.show()"
   ]
  },
  {
   "cell_type": "markdown",
   "metadata": {},
   "source": [
    "Проверим статистичекую значимость различий конвесий для каждого этапа:\n",
    "  -  Между двумя контрольными группами(A - AA)\n",
    "  -  Между первой контрольной группой и тестируемой (A - B)\n",
    "  -  Между второй контрольной группой и тестируемой (AA - B)\n",
    "  -  Между суммой контрольных групп и тестируемой (A+AA - B)\n",
    "  \n",
    "  \n",
    "Для каждого проверки сформируем  нулевую и альтернативную гипотезу:\n",
    "- Нулевая гипотеза - между долями пользователей, побывавших на этапах воронки, нет статистически значимых различий.\n",
    "- Альтернативная гипотеза - различия есть.\n",
    "\n",
    "Добавим функцию для Z теста."
   ]
  },
  {
   "cell_type": "code",
   "execution_count": null,
   "metadata": {},
   "outputs": [],
   "source": [
    "def z_test(data, group_1, group_2, success, trial, alpha):\n",
    "    \n",
    "    successes = [data.loc[group_1, success], data.loc[group_2, success]]\n",
    "    trials = [data.loc[group_1, trial], data.loc[group_2, trial]]\n",
    "\n",
    "    p1 = successes[0]/trials[0]\n",
    "    p2 = successes[1]/trials[1]\n",
    "    p_combined = (successes[0] + successes[1]) / (trials[0] + trials[1])\n",
    "    difference = p1 - p2 \n",
    "    \n",
    "    z_value = difference / mth.sqrt(p_combined * (1 - p_combined) * (1/trials[0] + 1/trials[1]))\n",
    "    distr = st.norm(0, 1)\n",
    "    z_value = difference / mth.sqrt(\n",
    "        p_combined * (1 - p_combined) * (1 / trials[0] + 1 / trials[1])\n",
    "    )\n",
    "    distr = st.norm(0, 1)\n",
    " \n",
    "    p_value = (1 - distr.cdf(abs(z_value))) * 2\n",
    " \n",
    "    print('p-значение: ', p_value)\n",
    " \n",
    "    if p_value < alpha:\n",
    "        print('Отвергаем нулевую гипотезу: между долями есть значимая разница')\n",
    "    else:\n",
    "        print(\n",
    "            'Не получилось отвергнуть нулевую гипотезу, нет оснований считать доли разными'\n",
    "        ) \n",
    " "
   ]
  },
  {
   "cell_type": "markdown",
   "metadata": {},
   "source": [
    "Применим поправку Бонферони к критическому уровню статистической значимости. Предстоит сделать 16 тестов.\n",
    "\n",
    "Изначально выбранный критический уровень статистической значимости - 0.05"
   ]
  },
  {
   "cell_type": "code",
   "execution_count": null,
   "metadata": {},
   "outputs": [],
   "source": [
    "bonferroni_alpha = 0.05 / 16\n",
    "print('bonferroni_alpha:', bonferroni_alpha)"
   ]
  },
  {
   "cell_type": "markdown",
   "metadata": {},
   "source": [
    "Проверим уровень статистической значимости конверсии для каждого шага двух контрольных групп (A и AA)"
   ]
  },
  {
   "cell_type": "code",
   "execution_count": null,
   "metadata": {},
   "outputs": [],
   "source": [
    "for stage in event_pivot[['main', 'offers', 'cart', 'payment']].columns:\n",
    "    print(),\n",
    "    print(stage,'stage'),\n",
    "    print(),\n",
    "    z_test(event_pivot, 'A', 'AA', stage, 'users', bonferroni_alpha)\n",
    "    \n",
    "    "
   ]
  },
  {
   "cell_type": "markdown",
   "metadata": {},
   "source": [
    "Разбиение на группы работает корректно, статистической разницы не обнаружено\n",
    "\n",
    "Проверим разницу первой контрольной группы и группы теста (A и B)"
   ]
  },
  {
   "cell_type": "code",
   "execution_count": null,
   "metadata": {},
   "outputs": [],
   "source": [
    "for stage in event_pivot[['main', 'offers', 'cart', 'payment']].columns:\n",
    "    print(),\n",
    "    print(stage,'stage'),\n",
    "    print(),\n",
    "    z_test(event_pivot, 'A', 'B', stage, 'users', bonferroni_alpha)"
   ]
  },
  {
   "cell_type": "markdown",
   "metadata": {},
   "source": [
    "Статистически значимой разницы между первой контрольной группой и тестовой обнаружено не было.\n",
    "\n",
    "Проверим разницу первой контрольной группы и группы теста (AA и B)"
   ]
  },
  {
   "cell_type": "code",
   "execution_count": null,
   "metadata": {},
   "outputs": [],
   "source": [
    "for stage in event_pivot[['main', 'offers', 'cart', 'payment']].columns:\n",
    "    print(),\n",
    "    print(stage,'stage'),\n",
    "    print(),\n",
    "    z_test(event_pivot, 'AA', 'B', stage, 'users', bonferroni_alpha)"
   ]
  },
  {
   "cell_type": "markdown",
   "metadata": {},
   "source": [
    "Статистически значимой разницы между второй контрольной группой и тестовой обнаружено не было.\n",
    "\n",
    "Проверим разницу между обеими контрольнными группами и группой теста (AA+A и B)"
   ]
  },
  {
   "cell_type": "code",
   "execution_count": null,
   "metadata": {},
   "outputs": [],
   "source": [
    "for stage in event_pivot[['main', 'offers', 'cart', 'payment']].columns:\n",
    "    print(),\n",
    "    print(stage,'stage'),\n",
    "    print(),\n",
    "    z_test(event_pivot, 'A+AA', 'B', stage, 'users', bonferroni_alpha)"
   ]
  },
  {
   "cell_type": "markdown",
   "metadata": {},
   "source": [
    "Статистически значимой разницы между обеими контрольными группами и тестовой обнаружено не было."
   ]
  },
  {
   "cell_type": "markdown",
   "metadata": {},
   "source": [
    "## Выводы"
   ]
  },
  {
   "cell_type": "markdown",
   "metadata": {},
   "source": [
    "В процессе исследования воронки событий пользователей были сделаны следующие выводы:\n",
    "\n",
    "Обнаруженный порядок событий:\n",
    "   1. Переход на главный экран \n",
    "   2. Экран выбора заказа \n",
    "   3. Корзина \n",
    "   4. Успешная оплата \n",
    "\n",
    "Потери пользователей с предыдущего шага:\n",
    " - экран выбора заказа: 62%\n",
    " - экран корзины: 81%\n",
    " - успешная оплата: 95%\n",
    "\n",
    "На главном экране теряется больше всего пользователей - до выбора заказа доходит только 62 процента. Возможно пользователи просто не могут найти нужную страницу.  \n",
    "\n",
    "Рекомендуется провести приоретизацию возможных гипотез - предположительно юзабилити интерфейса нуждается в более сильных изменениях, чем замена шрифтов.\n",
    "\n",
    "От главного экрана до успешной оплаты доходит 48 процентов пользователей.\n",
    "\n",
    "В процессе анализа A/A/B теста были сделаны следующие выводы:\n",
    "   - Контрольные группы были разделены корректно - статистически значимых различий в конверсии между ними обнаружено не было. \n",
    "   - Различия в конверсии для каждого этапа событий между контрольными и тестовыми группами обнаружено не было. Рекомендуется закончить тестированиеи приступить к проверке следующих гипотез.\n",
    "    \n"
   ]
  }
 ],
 "metadata": {
  "ExecuteTimeLog": [
   {
    "duration": 1222,
    "start_time": "2021-09-26T09:33:46.823Z"
   },
   {
    "duration": 885,
    "start_time": "2021-09-26T09:35:30.430Z"
   },
   {
    "duration": 1360,
    "start_time": "2021-09-26T09:35:38.140Z"
   },
   {
    "duration": 274,
    "start_time": "2021-09-26T09:35:53.911Z"
   },
   {
    "duration": 13,
    "start_time": "2021-09-26T09:35:56.470Z"
   },
   {
    "duration": 115,
    "start_time": "2021-09-26T09:36:15.937Z"
   },
   {
    "duration": 128,
    "start_time": "2021-09-26T09:37:43.469Z"
   },
   {
    "duration": 121,
    "start_time": "2021-09-26T09:40:28.934Z"
   },
   {
    "duration": 120,
    "start_time": "2021-09-26T09:41:11.044Z"
   },
   {
    "duration": 244,
    "start_time": "2021-09-26T09:41:26.466Z"
   },
   {
    "duration": 162,
    "start_time": "2021-09-26T09:42:40.023Z"
   },
   {
    "duration": 170,
    "start_time": "2021-09-26T09:43:42.320Z"
   },
   {
    "duration": 118,
    "start_time": "2021-09-26T09:43:51.623Z"
   },
   {
    "duration": 9,
    "start_time": "2021-09-26T09:43:53.516Z"
   },
   {
    "duration": 7,
    "start_time": "2021-09-26T09:44:17.856Z"
   },
   {
    "duration": 17,
    "start_time": "2021-09-26T09:44:25.231Z"
   },
   {
    "duration": 5,
    "start_time": "2021-09-26T09:48:16.506Z"
   },
   {
    "duration": 3,
    "start_time": "2021-09-26T09:49:04.352Z"
   },
   {
    "duration": 9,
    "start_time": "2021-09-26T09:49:07.972Z"
   },
   {
    "duration": 137,
    "start_time": "2021-09-26T09:50:16.872Z"
   },
   {
    "duration": 8,
    "start_time": "2021-09-26T09:50:42.792Z"
   },
   {
    "duration": 42,
    "start_time": "2021-09-26T09:50:52.758Z"
   },
   {
    "duration": 377,
    "start_time": "2021-09-26T09:51:32.780Z"
   },
   {
    "duration": 47,
    "start_time": "2021-09-26T09:51:40.428Z"
   },
   {
    "duration": 50,
    "start_time": "2021-09-26T09:51:42.835Z"
   },
   {
    "duration": 8,
    "start_time": "2021-09-26T09:54:02.709Z"
   },
   {
    "duration": 363,
    "start_time": "2021-09-26T09:54:17.469Z"
   },
   {
    "duration": 188,
    "start_time": "2021-09-26T09:55:11.757Z"
   },
   {
    "duration": 22,
    "start_time": "2021-09-26T09:55:16.859Z"
   },
   {
    "duration": 14,
    "start_time": "2021-09-26T09:57:37.507Z"
   },
   {
    "duration": 462,
    "start_time": "2021-09-26T10:00:57.392Z"
   },
   {
    "duration": 21,
    "start_time": "2021-09-26T10:01:34.218Z"
   },
   {
    "duration": 20,
    "start_time": "2021-09-26T10:01:37.236Z"
   },
   {
    "duration": 375,
    "start_time": "2021-09-26T10:01:39.990Z"
   },
   {
    "duration": 347,
    "start_time": "2021-09-26T10:04:10.697Z"
   },
   {
    "duration": 8,
    "start_time": "2021-09-26T10:04:18.735Z"
   },
   {
    "duration": 5,
    "start_time": "2021-09-26T10:04:24.116Z"
   },
   {
    "duration": 13,
    "start_time": "2021-09-26T10:10:59.721Z"
   },
   {
    "duration": 78,
    "start_time": "2021-09-26T10:13:29.555Z"
   },
   {
    "duration": 14,
    "start_time": "2021-09-26T10:13:33.236Z"
   },
   {
    "duration": 51,
    "start_time": "2021-09-26T10:14:32.290Z"
   },
   {
    "duration": 2,
    "start_time": "2021-09-26T10:16:55.562Z"
   },
   {
    "duration": 359,
    "start_time": "2021-09-26T10:21:11.413Z"
   },
   {
    "duration": 124,
    "start_time": "2021-09-26T10:21:20.988Z"
   },
   {
    "duration": 4,
    "start_time": "2021-09-26T10:21:23.901Z"
   },
   {
    "duration": 19,
    "start_time": "2021-09-26T10:22:05.339Z"
   },
   {
    "duration": 3,
    "start_time": "2021-09-26T10:22:45.200Z"
   },
   {
    "duration": 13,
    "start_time": "2021-09-26T10:22:48.399Z"
   },
   {
    "duration": 3,
    "start_time": "2021-09-26T10:23:11.112Z"
   },
   {
    "duration": 14,
    "start_time": "2021-09-26T10:23:49.782Z"
   },
   {
    "duration": 19,
    "start_time": "2021-09-26T10:24:45.237Z"
   },
   {
    "duration": 126,
    "start_time": "2021-09-26T10:24:45.258Z"
   },
   {
    "duration": 8,
    "start_time": "2021-09-26T10:24:45.386Z"
   },
   {
    "duration": 17,
    "start_time": "2021-09-26T10:24:45.396Z"
   },
   {
    "duration": 3,
    "start_time": "2021-09-26T10:24:45.415Z"
   },
   {
    "duration": 68,
    "start_time": "2021-09-26T10:24:45.420Z"
   },
   {
    "duration": 52,
    "start_time": "2021-09-26T10:24:45.490Z"
   },
   {
    "duration": 193,
    "start_time": "2021-09-26T10:24:45.543Z"
   },
   {
    "duration": 86,
    "start_time": "2021-09-26T10:24:45.738Z"
   },
   {
    "duration": 3,
    "start_time": "2021-09-26T10:24:45.826Z"
   },
   {
    "duration": 6,
    "start_time": "2021-09-26T10:24:45.830Z"
   },
   {
    "duration": 8864,
    "start_time": "2021-09-26T10:24:45.837Z"
   },
   {
    "duration": -45,
    "start_time": "2021-09-26T10:24:54.748Z"
   },
   {
    "duration": 16,
    "start_time": "2021-09-26T10:24:57.090Z"
   },
   {
    "duration": 7,
    "start_time": "2021-09-26T10:25:20.705Z"
   },
   {
    "duration": 15,
    "start_time": "2021-09-26T10:26:18.158Z"
   },
   {
    "duration": 6,
    "start_time": "2021-09-26T10:26:57.426Z"
   },
   {
    "duration": 5,
    "start_time": "2021-09-26T10:27:37.006Z"
   },
   {
    "duration": 33,
    "start_time": "2021-09-26T10:28:47.888Z"
   },
   {
    "duration": 18,
    "start_time": "2021-09-26T10:28:52.459Z"
   },
   {
    "duration": 8,
    "start_time": "2021-09-26T10:29:30.867Z"
   },
   {
    "duration": 15,
    "start_time": "2021-09-26T10:57:41.073Z"
   },
   {
    "duration": 6,
    "start_time": "2021-09-26T10:57:53.312Z"
   },
   {
    "duration": 7,
    "start_time": "2021-09-26T10:58:20.206Z"
   },
   {
    "duration": 539,
    "start_time": "2021-09-26T10:59:25.318Z"
   },
   {
    "duration": 533,
    "start_time": "2021-09-26T11:00:26.434Z"
   },
   {
    "duration": 608,
    "start_time": "2021-09-26T11:00:52.672Z"
   },
   {
    "duration": 553,
    "start_time": "2021-09-26T11:00:58.912Z"
   },
   {
    "duration": 846,
    "start_time": "2021-09-26T11:01:22.638Z"
   },
   {
    "duration": 424,
    "start_time": "2021-09-26T11:02:50.668Z"
   },
   {
    "duration": 1089,
    "start_time": "2021-09-26T11:04:16.504Z"
   },
   {
    "duration": 348,
    "start_time": "2021-09-26T11:04:23.809Z"
   },
   {
    "duration": 1530,
    "start_time": "2021-09-26T11:05:25.311Z"
   },
   {
    "duration": 375,
    "start_time": "2021-09-26T11:05:43.280Z"
   },
   {
    "duration": 368,
    "start_time": "2021-09-26T11:07:01.076Z"
   },
   {
    "duration": 145,
    "start_time": "2021-09-26T11:08:23.624Z"
   },
   {
    "duration": 10187,
    "start_time": "2021-09-26T11:08:26.391Z"
   },
   {
    "duration": 545,
    "start_time": "2021-09-26T11:08:47.716Z"
   },
   {
    "duration": 118,
    "start_time": "2021-09-26T11:14:10.384Z"
   },
   {
    "duration": 886,
    "start_time": "2021-09-26T11:14:14.491Z"
   },
   {
    "duration": 970,
    "start_time": "2021-09-26T11:14:48.500Z"
   },
   {
    "duration": 954,
    "start_time": "2021-09-26T11:14:55.073Z"
   },
   {
    "duration": 83,
    "start_time": "2021-09-26T11:16:09.881Z"
   },
   {
    "duration": 82,
    "start_time": "2021-09-26T11:16:56.385Z"
   },
   {
    "duration": 543,
    "start_time": "2021-09-26T11:20:12.059Z"
   },
   {
    "duration": 556,
    "start_time": "2021-09-26T11:20:20.608Z"
   },
   {
    "duration": 841,
    "start_time": "2021-09-26T11:20:41.343Z"
   },
   {
    "duration": 902,
    "start_time": "2021-09-26T11:20:47.303Z"
   },
   {
    "duration": 645,
    "start_time": "2021-09-26T11:20:55.984Z"
   },
   {
    "duration": 581,
    "start_time": "2021-09-26T11:21:39.219Z"
   },
   {
    "duration": 803,
    "start_time": "2021-09-26T11:21:47.341Z"
   },
   {
    "duration": 772,
    "start_time": "2021-09-26T11:23:30.602Z"
   },
   {
    "duration": 888,
    "start_time": "2021-09-26T11:23:47.376Z"
   },
   {
    "duration": 755,
    "start_time": "2021-09-26T11:24:15.600Z"
   },
   {
    "duration": 603,
    "start_time": "2021-09-26T11:24:32.231Z"
   },
   {
    "duration": 999,
    "start_time": "2021-09-26T11:25:20.943Z"
   },
   {
    "duration": 418,
    "start_time": "2021-09-26T11:25:45.764Z"
   },
   {
    "duration": 774,
    "start_time": "2021-09-26T11:28:10.505Z"
   },
   {
    "duration": 7489,
    "start_time": "2021-09-26T11:28:39.406Z"
   },
   {
    "duration": 6823,
    "start_time": "2021-09-26T11:29:18.961Z"
   },
   {
    "duration": 7706,
    "start_time": "2021-09-26T11:31:12.536Z"
   },
   {
    "duration": 361,
    "start_time": "2021-09-26T11:39:54.086Z"
   },
   {
    "duration": 361,
    "start_time": "2021-09-26T11:40:02.908Z"
   },
   {
    "duration": 7137,
    "start_time": "2021-09-26T11:41:45.966Z"
   },
   {
    "duration": 378,
    "start_time": "2021-09-26T11:44:34.497Z"
   },
   {
    "duration": 354,
    "start_time": "2021-09-26T11:44:43.208Z"
   },
   {
    "duration": 441,
    "start_time": "2021-09-26T11:45:22.225Z"
   },
   {
    "duration": 416,
    "start_time": "2021-09-26T11:47:37.187Z"
   },
   {
    "duration": 366,
    "start_time": "2021-09-26T11:48:21.065Z"
   },
   {
    "duration": 6667,
    "start_time": "2021-09-26T11:48:27.754Z"
   },
   {
    "duration": 6883,
    "start_time": "2021-09-26T11:48:47.919Z"
   },
   {
    "duration": 14,
    "start_time": "2021-09-26T11:49:53.980Z"
   },
   {
    "duration": 135,
    "start_time": "2021-09-26T11:50:25.082Z"
   },
   {
    "duration": 6,
    "start_time": "2021-09-26T11:50:49.708Z"
   },
   {
    "duration": 32,
    "start_time": "2021-09-26T11:51:01.408Z"
   },
   {
    "duration": 15,
    "start_time": "2021-09-26T11:51:38.278Z"
   },
   {
    "duration": 7,
    "start_time": "2021-09-26T11:51:42.538Z"
   },
   {
    "duration": 21,
    "start_time": "2021-09-26T11:53:34.932Z"
   },
   {
    "duration": 136,
    "start_time": "2021-09-26T11:53:34.955Z"
   },
   {
    "duration": 7,
    "start_time": "2021-09-26T11:53:35.094Z"
   },
   {
    "duration": 17,
    "start_time": "2021-09-26T11:53:35.103Z"
   },
   {
    "duration": 2,
    "start_time": "2021-09-26T11:53:35.122Z"
   },
   {
    "duration": 68,
    "start_time": "2021-09-26T11:53:35.126Z"
   },
   {
    "duration": 46,
    "start_time": "2021-09-26T11:53:35.196Z"
   },
   {
    "duration": 208,
    "start_time": "2021-09-26T11:53:35.243Z"
   },
   {
    "duration": 96,
    "start_time": "2021-09-26T11:53:35.454Z"
   },
   {
    "duration": 3,
    "start_time": "2021-09-26T11:53:35.552Z"
   },
   {
    "duration": 25,
    "start_time": "2021-09-26T11:53:35.557Z"
   },
   {
    "duration": 7,
    "start_time": "2021-09-26T11:53:35.585Z"
   },
   {
    "duration": 7167,
    "start_time": "2021-09-26T11:53:35.594Z"
   },
   {
    "duration": 21,
    "start_time": "2021-09-26T11:53:42.763Z"
   },
   {
    "duration": 18,
    "start_time": "2021-09-26T11:56:03.441Z"
   },
   {
    "duration": 23,
    "start_time": "2021-09-26T11:57:37.799Z"
   },
   {
    "duration": 6,
    "start_time": "2021-09-26T11:58:23.874Z"
   },
   {
    "duration": 18,
    "start_time": "2021-09-26T11:59:36.603Z"
   },
   {
    "duration": 18,
    "start_time": "2021-09-26T12:00:02.975Z"
   },
   {
    "duration": 3,
    "start_time": "2021-09-26T12:00:34.440Z"
   },
   {
    "duration": 20,
    "start_time": "2021-09-26T12:00:54.061Z"
   },
   {
    "duration": 19,
    "start_time": "2021-09-26T12:01:09.311Z"
   },
   {
    "duration": 17,
    "start_time": "2021-09-26T12:01:18.716Z"
   },
   {
    "duration": 8,
    "start_time": "2021-09-26T12:02:06.582Z"
   },
   {
    "duration": 10,
    "start_time": "2021-09-26T12:02:21.191Z"
   },
   {
    "duration": 20,
    "start_time": "2021-09-26T12:02:35.660Z"
   },
   {
    "duration": 243,
    "start_time": "2021-09-26T12:04:07.425Z"
   },
   {
    "duration": 115,
    "start_time": "2021-09-26T12:04:14.865Z"
   },
   {
    "duration": 159,
    "start_time": "2021-09-26T12:04:38.265Z"
   },
   {
    "duration": 128,
    "start_time": "2021-09-26T12:04:53.908Z"
   },
   {
    "duration": 122,
    "start_time": "2021-09-26T12:05:38.349Z"
   },
   {
    "duration": 120,
    "start_time": "2021-09-26T12:06:16.044Z"
   },
   {
    "duration": 35,
    "start_time": "2021-09-26T12:07:17.355Z"
   },
   {
    "duration": 32,
    "start_time": "2021-09-26T12:08:22.647Z"
   },
   {
    "duration": 33,
    "start_time": "2021-09-26T12:08:50.189Z"
   },
   {
    "duration": 9,
    "start_time": "2021-09-26T12:11:13.984Z"
   },
   {
    "duration": 11,
    "start_time": "2021-09-26T12:12:17.513Z"
   },
   {
    "duration": 42,
    "start_time": "2021-09-26T12:14:20.676Z"
   },
   {
    "duration": 43,
    "start_time": "2021-09-26T12:14:39.923Z"
   },
   {
    "duration": 14,
    "start_time": "2021-09-26T12:17:02.782Z"
   },
   {
    "duration": 16,
    "start_time": "2021-09-26T12:17:06.520Z"
   },
   {
    "duration": 16,
    "start_time": "2021-09-26T12:17:09.499Z"
   },
   {
    "duration": 112,
    "start_time": "2021-09-26T12:18:09.719Z"
   },
   {
    "duration": 113,
    "start_time": "2021-09-26T12:18:32.547Z"
   },
   {
    "duration": 12,
    "start_time": "2021-09-26T12:19:20.214Z"
   },
   {
    "duration": 392,
    "start_time": "2021-09-26T12:20:26.109Z"
   },
   {
    "duration": 13,
    "start_time": "2021-09-26T12:20:29.366Z"
   },
   {
    "duration": 25,
    "start_time": "2021-09-26T12:35:31.316Z"
   },
   {
    "duration": 48,
    "start_time": "2021-09-26T12:37:59.881Z"
   },
   {
    "duration": 450,
    "start_time": "2021-09-26T12:39:08.177Z"
   },
   {
    "duration": 49,
    "start_time": "2021-09-26T12:39:11.352Z"
   },
   {
    "duration": 7,
    "start_time": "2021-09-26T12:40:01.078Z"
   },
   {
    "duration": 14,
    "start_time": "2021-09-26T12:40:10.672Z"
   },
   {
    "duration": 48,
    "start_time": "2021-09-26T12:44:15.438Z"
   },
   {
    "duration": 7,
    "start_time": "2021-09-26T12:44:20.150Z"
   },
   {
    "duration": 4,
    "start_time": "2021-09-26T12:45:42.435Z"
   },
   {
    "duration": 47,
    "start_time": "2021-09-26T12:45:58.202Z"
   },
   {
    "duration": 7,
    "start_time": "2021-09-26T12:46:02.697Z"
   },
   {
    "duration": 7,
    "start_time": "2021-09-26T12:47:42.266Z"
   },
   {
    "duration": 13,
    "start_time": "2021-09-26T12:47:48.766Z"
   },
   {
    "duration": 5,
    "start_time": "2021-09-26T12:49:29.724Z"
   },
   {
    "duration": 7,
    "start_time": "2021-09-26T12:49:31.732Z"
   },
   {
    "duration": 10,
    "start_time": "2021-09-26T13:05:56.271Z"
   },
   {
    "duration": 5,
    "start_time": "2021-09-26T13:06:03.851Z"
   },
   {
    "duration": 55,
    "start_time": "2021-09-26T13:06:30.209Z"
   },
   {
    "duration": 19,
    "start_time": "2021-09-26T13:07:19.032Z"
   },
   {
    "duration": 269,
    "start_time": "2021-09-26T13:13:05.180Z"
   },
   {
    "duration": 9,
    "start_time": "2021-09-26T13:13:30.428Z"
   },
   {
    "duration": 5,
    "start_time": "2021-09-26T13:13:36.210Z"
   },
   {
    "duration": 8,
    "start_time": "2021-09-26T13:13:40.011Z"
   },
   {
    "duration": 113,
    "start_time": "2021-09-26T13:13:48.146Z"
   },
   {
    "duration": 55,
    "start_time": "2021-09-26T13:18:12.159Z"
   },
   {
    "duration": 413,
    "start_time": "2021-09-26T13:19:56.410Z"
   },
   {
    "duration": 359,
    "start_time": "2021-09-26T13:21:43.211Z"
   },
   {
    "duration": 125,
    "start_time": "2021-09-26T13:21:57.202Z"
   },
   {
    "duration": 115,
    "start_time": "2021-09-26T13:29:52.432Z"
   },
   {
    "duration": 274,
    "start_time": "2021-09-26T13:30:02.465Z"
   },
   {
    "duration": 120,
    "start_time": "2021-09-26T13:30:17.359Z"
   },
   {
    "duration": 115,
    "start_time": "2021-09-26T13:30:26.786Z"
   },
   {
    "duration": 116,
    "start_time": "2021-09-26T13:30:37.192Z"
   },
   {
    "duration": 617,
    "start_time": "2021-09-26T13:30:57.361Z"
   },
   {
    "duration": 117,
    "start_time": "2021-09-26T13:31:15.688Z"
   },
   {
    "duration": 116,
    "start_time": "2021-09-26T13:32:04.246Z"
   },
   {
    "duration": 115,
    "start_time": "2021-09-26T13:32:14.019Z"
   },
   {
    "duration": 112,
    "start_time": "2021-09-26T13:32:19.838Z"
   },
   {
    "duration": 281,
    "start_time": "2021-09-26T13:32:38.034Z"
   },
   {
    "duration": 113,
    "start_time": "2021-09-26T13:32:45.894Z"
   },
   {
    "duration": 210,
    "start_time": "2021-09-26T13:32:50.871Z"
   },
   {
    "duration": 112,
    "start_time": "2021-09-26T13:32:55.317Z"
   },
   {
    "duration": 267,
    "start_time": "2021-09-26T13:33:01.933Z"
   },
   {
    "duration": 113,
    "start_time": "2021-09-26T13:33:37.709Z"
   },
   {
    "duration": 113,
    "start_time": "2021-09-26T13:33:42.419Z"
   },
   {
    "duration": 123,
    "start_time": "2021-09-26T13:33:46.872Z"
   },
   {
    "duration": 110,
    "start_time": "2021-09-26T13:33:51.731Z"
   },
   {
    "duration": 289,
    "start_time": "2021-09-26T13:33:58.970Z"
   },
   {
    "duration": 122,
    "start_time": "2021-09-26T13:34:02.873Z"
   },
   {
    "duration": 5,
    "start_time": "2021-09-26T13:35:04.237Z"
   },
   {
    "duration": 5,
    "start_time": "2021-09-26T13:39:01.269Z"
   },
   {
    "duration": 111,
    "start_time": "2021-09-26T13:39:05.304Z"
   },
   {
    "duration": 117,
    "start_time": "2021-09-26T13:48:00.533Z"
   },
   {
    "duration": 357,
    "start_time": "2021-09-26T13:48:59.344Z"
   },
   {
    "duration": 114,
    "start_time": "2021-09-26T13:51:47.978Z"
   },
   {
    "duration": 120,
    "start_time": "2021-09-26T13:53:09.896Z"
   },
   {
    "duration": 109,
    "start_time": "2021-09-26T13:53:18.654Z"
   },
   {
    "duration": 139,
    "start_time": "2021-09-26T13:53:31.292Z"
   },
   {
    "duration": 356,
    "start_time": "2021-09-26T13:53:58.939Z"
   },
   {
    "duration": 261,
    "start_time": "2021-09-26T13:54:34.012Z"
   },
   {
    "duration": 985,
    "start_time": "2021-09-26T13:55:51.189Z"
   },
   {
    "duration": 127,
    "start_time": "2021-09-26T13:56:22.554Z"
   },
   {
    "duration": 15,
    "start_time": "2021-09-26T14:04:03.342Z"
   },
   {
    "duration": 23,
    "start_time": "2021-09-26T14:04:26.953Z"
   },
   {
    "duration": 15,
    "start_time": "2021-09-26T14:04:47.960Z"
   },
   {
    "duration": 8,
    "start_time": "2021-09-26T14:22:43.420Z"
   },
   {
    "duration": 52,
    "start_time": "2021-09-26T14:25:19.736Z"
   },
   {
    "duration": 23,
    "start_time": "2021-09-26T14:26:28.024Z"
   },
   {
    "duration": 590,
    "start_time": "2021-09-26T14:26:53.528Z"
   },
   {
    "duration": 436,
    "start_time": "2021-09-26T14:33:23.696Z"
   },
   {
    "duration": 1732,
    "start_time": "2021-09-26T14:33:32.327Z"
   },
   {
    "duration": 35,
    "start_time": "2021-09-26T14:33:57.341Z"
   },
   {
    "duration": 7,
    "start_time": "2021-09-26T14:34:02.711Z"
   },
   {
    "duration": 372,
    "start_time": "2021-09-26T14:35:28.961Z"
   },
   {
    "duration": 40,
    "start_time": "2021-09-26T14:36:12.889Z"
   },
   {
    "duration": 7,
    "start_time": "2021-09-26T14:36:15.280Z"
   },
   {
    "duration": 14,
    "start_time": "2021-09-26T14:36:41.133Z"
   },
   {
    "duration": 19,
    "start_time": "2021-09-26T14:37:06.632Z"
   },
   {
    "duration": 8,
    "start_time": "2021-09-26T14:38:03.218Z"
   },
   {
    "duration": 39,
    "start_time": "2021-09-26T14:38:47.868Z"
   },
   {
    "duration": 7,
    "start_time": "2021-09-26T14:38:50.691Z"
   },
   {
    "duration": 19,
    "start_time": "2021-09-26T14:38:58.107Z"
   },
   {
    "duration": 20,
    "start_time": "2021-09-26T14:39:13.618Z"
   },
   {
    "duration": 40,
    "start_time": "2021-09-26T14:40:50.038Z"
   },
   {
    "duration": 7,
    "start_time": "2021-09-26T14:40:53.381Z"
   },
   {
    "duration": 37,
    "start_time": "2021-09-26T14:41:24.716Z"
   },
   {
    "duration": 8,
    "start_time": "2021-09-26T14:41:26.334Z"
   },
   {
    "duration": 19,
    "start_time": "2021-09-26T14:41:42.949Z"
   },
   {
    "duration": 19,
    "start_time": "2021-09-26T14:41:58.212Z"
   },
   {
    "duration": 40,
    "start_time": "2021-09-26T14:42:09.246Z"
   },
   {
    "duration": 19,
    "start_time": "2021-09-26T14:42:09.288Z"
   },
   {
    "duration": 374,
    "start_time": "2021-09-26T14:42:36.052Z"
   },
   {
    "duration": 490,
    "start_time": "2021-09-26T14:43:40.154Z"
   },
   {
    "duration": 367,
    "start_time": "2021-09-26T14:43:50.560Z"
   },
   {
    "duration": 18,
    "start_time": "2021-09-26T14:44:06.353Z"
   },
   {
    "duration": 20,
    "start_time": "2021-09-26T14:44:22.408Z"
   },
   {
    "duration": 390,
    "start_time": "2021-09-26T14:44:51.539Z"
   },
   {
    "duration": 8,
    "start_time": "2021-09-26T14:45:17.259Z"
   },
   {
    "duration": 20,
    "start_time": "2021-09-26T14:45:30.540Z"
   },
   {
    "duration": 6,
    "start_time": "2021-09-26T14:45:45.748Z"
   },
   {
    "duration": 8,
    "start_time": "2021-09-26T14:46:21.930Z"
   },
   {
    "duration": 7,
    "start_time": "2021-09-26T14:47:26.649Z"
   },
   {
    "duration": 3,
    "start_time": "2021-09-26T14:48:05.497Z"
   },
   {
    "duration": 7,
    "start_time": "2021-09-26T14:48:08.231Z"
   },
   {
    "duration": 7,
    "start_time": "2021-09-26T14:48:16.279Z"
   },
   {
    "duration": 9,
    "start_time": "2021-09-26T14:49:19.918Z"
   },
   {
    "duration": 3,
    "start_time": "2021-09-26T14:49:39.209Z"
   },
   {
    "duration": 7,
    "start_time": "2021-09-26T14:49:42.400Z"
   },
   {
    "duration": 7,
    "start_time": "2021-09-26T14:49:48.034Z"
   },
   {
    "duration": 21,
    "start_time": "2021-09-26T14:50:24.560Z"
   },
   {
    "duration": 8,
    "start_time": "2021-09-26T14:50:32.281Z"
   },
   {
    "duration": 20,
    "start_time": "2021-09-26T14:51:00.938Z"
   },
   {
    "duration": 7,
    "start_time": "2021-09-26T14:52:40.237Z"
   },
   {
    "duration": 22,
    "start_time": "2021-09-26T14:52:52.123Z"
   },
   {
    "duration": 40,
    "start_time": "2021-09-26T14:54:25.285Z"
   },
   {
    "duration": 7,
    "start_time": "2021-09-26T14:54:29.983Z"
   },
   {
    "duration": 20,
    "start_time": "2021-09-26T14:54:33.898Z"
   },
   {
    "duration": 7,
    "start_time": "2021-09-26T14:55:57.170Z"
   },
   {
    "duration": 5,
    "start_time": "2021-09-26T14:57:49.857Z"
   },
   {
    "duration": 8,
    "start_time": "2021-09-26T14:58:16.419Z"
   },
   {
    "duration": 15,
    "start_time": "2021-09-26T14:58:33.284Z"
   },
   {
    "duration": 8,
    "start_time": "2021-09-26T14:58:36.902Z"
   },
   {
    "duration": 18,
    "start_time": "2021-09-26T14:59:20.645Z"
   },
   {
    "duration": 7,
    "start_time": "2021-09-26T14:59:23.977Z"
   },
   {
    "duration": 95,
    "start_time": "2021-09-26T15:00:02.483Z"
   },
   {
    "duration": 147,
    "start_time": "2021-09-26T15:00:47.125Z"
   },
   {
    "duration": 7,
    "start_time": "2021-09-26T15:00:55.040Z"
   },
   {
    "duration": 8,
    "start_time": "2021-09-26T15:27:25.901Z"
   },
   {
    "duration": 7,
    "start_time": "2021-09-26T15:27:28.724Z"
   },
   {
    "duration": 366,
    "start_time": "2021-09-26T15:28:37.669Z"
   },
   {
    "duration": 391,
    "start_time": "2021-09-26T15:28:42.778Z"
   },
   {
    "duration": 10,
    "start_time": "2021-09-26T15:30:21.760Z"
   },
   {
    "duration": 140,
    "start_time": "2021-09-26T15:30:32.911Z"
   },
   {
    "duration": 10,
    "start_time": "2021-09-26T15:30:34.492Z"
   },
   {
    "duration": 11,
    "start_time": "2021-09-26T15:32:52.403Z"
   },
   {
    "duration": 9,
    "start_time": "2021-09-26T15:33:06.353Z"
   },
   {
    "duration": 11,
    "start_time": "2021-09-26T15:34:09.864Z"
   },
   {
    "duration": 10,
    "start_time": "2021-09-26T15:34:21.990Z"
   },
   {
    "duration": 13,
    "start_time": "2021-09-26T15:35:03.707Z"
   },
   {
    "duration": 28,
    "start_time": "2021-09-26T15:35:33.477Z"
   },
   {
    "duration": 37,
    "start_time": "2021-09-26T15:35:42.258Z"
   },
   {
    "duration": 44,
    "start_time": "2021-09-26T15:36:56.408Z"
   },
   {
    "duration": 1083,
    "start_time": "2021-09-26T15:37:29.816Z"
   },
   {
    "duration": 41,
    "start_time": "2021-09-26T15:38:00.120Z"
   },
   {
    "duration": 20,
    "start_time": "2021-09-26T15:38:50.725Z"
   },
   {
    "duration": 39,
    "start_time": "2021-09-26T15:38:57.014Z"
   },
   {
    "duration": 251,
    "start_time": "2021-09-26T15:40:05.379Z"
   },
   {
    "duration": 40,
    "start_time": "2021-09-26T15:52:56.259Z"
   },
   {
    "duration": 36,
    "start_time": "2021-09-26T15:53:13.921Z"
   },
   {
    "duration": 36,
    "start_time": "2021-09-26T15:53:23.945Z"
   },
   {
    "duration": 39,
    "start_time": "2021-09-26T15:53:50.110Z"
   },
   {
    "duration": 632,
    "start_time": "2021-09-26T15:54:17.157Z"
   },
   {
    "duration": 40,
    "start_time": "2021-09-26T15:54:29.509Z"
   },
   {
    "duration": 147,
    "start_time": "2021-09-26T15:54:49.078Z"
   },
   {
    "duration": 7,
    "start_time": "2021-09-26T15:54:57.830Z"
   },
   {
    "duration": 342,
    "start_time": "2021-09-26T15:55:08.702Z"
   },
   {
    "duration": 7,
    "start_time": "2021-09-26T15:55:11.028Z"
   },
   {
    "duration": 11,
    "start_time": "2021-09-26T15:57:28.827Z"
   },
   {
    "duration": 147,
    "start_time": "2021-09-26T15:58:18.387Z"
   },
   {
    "duration": 8,
    "start_time": "2021-09-26T15:58:21.586Z"
   },
   {
    "duration": 8,
    "start_time": "2021-09-26T16:00:29.448Z"
   },
   {
    "duration": 154,
    "start_time": "2021-09-26T16:00:50.537Z"
   },
   {
    "duration": 153,
    "start_time": "2021-09-26T16:01:01.219Z"
   },
   {
    "duration": 558,
    "start_time": "2021-09-26T16:01:04.160Z"
   },
   {
    "duration": 8,
    "start_time": "2021-09-26T16:01:07.137Z"
   },
   {
    "duration": 4,
    "start_time": "2021-09-26T16:02:19.998Z"
   },
   {
    "duration": 4,
    "start_time": "2021-09-26T16:02:56.701Z"
   },
   {
    "duration": 7,
    "start_time": "2021-09-26T16:12:08.235Z"
   },
   {
    "duration": 471,
    "start_time": "2021-09-26T16:12:45.536Z"
   },
   {
    "duration": 7,
    "start_time": "2021-09-26T16:12:48.729Z"
   },
   {
    "duration": 7,
    "start_time": "2021-09-26T16:12:57.298Z"
   },
   {
    "duration": 9947,
    "start_time": "2021-09-26T16:13:50.151Z"
   },
   {
    "duration": 4,
    "start_time": "2021-09-26T16:15:15.823Z"
   },
   {
    "duration": 10418,
    "start_time": "2021-09-26T16:15:20.500Z"
   },
   {
    "duration": 5,
    "start_time": "2021-09-26T16:17:37.367Z"
   },
   {
    "duration": 3,
    "start_time": "2021-09-26T16:17:41.063Z"
   },
   {
    "duration": 3,
    "start_time": "2021-09-26T16:49:03.022Z"
   },
   {
    "duration": 7,
    "start_time": "2021-09-26T16:49:06.390Z"
   },
   {
    "duration": 723,
    "start_time": "2021-09-26T16:49:08.896Z"
   },
   {
    "duration": 6,
    "start_time": "2021-09-26T16:49:28.692Z"
   },
   {
    "duration": 695,
    "start_time": "2021-09-26T16:49:32.756Z"
   },
   {
    "duration": 20,
    "start_time": "2021-09-26T16:51:26.314Z"
   },
   {
    "duration": 20,
    "start_time": "2021-09-26T16:52:08.190Z"
   },
   {
    "duration": 726,
    "start_time": "2021-09-26T16:52:13.697Z"
   },
   {
    "duration": 6,
    "start_time": "2021-09-26T16:52:31.261Z"
   },
   {
    "duration": 39,
    "start_time": "2021-09-26T16:55:28.241Z"
   },
   {
    "duration": 147,
    "start_time": "2021-09-26T16:55:51.613Z"
   },
   {
    "duration": 485,
    "start_time": "2021-09-26T17:01:41.273Z"
   },
   {
    "duration": 524,
    "start_time": "2021-09-26T17:03:17.795Z"
   },
   {
    "duration": 152,
    "start_time": "2021-09-26T17:03:24.015Z"
   },
   {
    "duration": 9,
    "start_time": "2021-09-26T17:04:43.798Z"
   },
   {
    "duration": 6,
    "start_time": "2021-09-26T17:04:52.523Z"
   },
   {
    "duration": 6,
    "start_time": "2021-09-26T17:05:02.719Z"
   },
   {
    "duration": 8,
    "start_time": "2021-09-26T17:05:24.219Z"
   },
   {
    "duration": -83,
    "start_time": "2021-09-26T17:10:21.430Z"
   },
   {
    "duration": 9,
    "start_time": "2021-09-26T17:10:38.419Z"
   },
   {
    "duration": 44827,
    "start_time": "2021-09-26T17:10:49.685Z"
   },
   {
    "duration": 5,
    "start_time": "2021-09-26T17:11:43.258Z"
   },
   {
    "duration": 12,
    "start_time": "2021-09-26T17:11:48.200Z"
   },
   {
    "duration": 12,
    "start_time": "2021-09-26T17:12:31.499Z"
   },
   {
    "duration": 13,
    "start_time": "2021-09-26T17:12:56.191Z"
   },
   {
    "duration": 360,
    "start_time": "2021-09-26T17:14:36.976Z"
   },
   {
    "duration": 12,
    "start_time": "2021-09-26T17:15:03.660Z"
   },
   {
    "duration": 8,
    "start_time": "2021-09-26T17:15:47.638Z"
   },
   {
    "duration": -34,
    "start_time": "2021-09-26T17:16:40.386Z"
   },
   {
    "duration": 9052,
    "start_time": "2021-09-26T17:16:44.197Z"
   },
   {
    "duration": 1890,
    "start_time": "2021-09-26T17:17:29.920Z"
   },
   {
    "duration": 12,
    "start_time": "2021-09-26T17:17:57.956Z"
   },
   {
    "duration": 7,
    "start_time": "2021-09-26T17:19:34.237Z"
   },
   {
    "duration": 13,
    "start_time": "2021-09-26T17:19:39.028Z"
   },
   {
    "duration": 370,
    "start_time": "2021-09-26T17:20:24.191Z"
   },
   {
    "duration": 395,
    "start_time": "2021-09-26T17:20:30.271Z"
   },
   {
    "duration": 400,
    "start_time": "2021-09-26T17:20:47.165Z"
   },
   {
    "duration": 15,
    "start_time": "2021-09-26T17:21:00.188Z"
   },
   {
    "duration": 17,
    "start_time": "2021-09-26T17:22:58.136Z"
   },
   {
    "duration": 410,
    "start_time": "2021-09-26T17:23:09.755Z"
   },
   {
    "duration": 682,
    "start_time": "2021-09-26T17:23:22.947Z"
   },
   {
    "duration": 388,
    "start_time": "2021-09-26T17:23:41.942Z"
   },
   {
    "duration": 157,
    "start_time": "2021-09-26T17:23:56.668Z"
   },
   {
    "duration": 10,
    "start_time": "2021-09-26T17:24:00.583Z"
   },
   {
    "duration": 8,
    "start_time": "2021-09-26T17:24:28.469Z"
   },
   {
    "duration": 8,
    "start_time": "2021-09-26T17:24:37.697Z"
   },
   {
    "duration": 9,
    "start_time": "2021-09-26T17:25:09.876Z"
   },
   {
    "duration": 7,
    "start_time": "2021-09-26T17:25:12.045Z"
   },
   {
    "duration": 8,
    "start_time": "2021-09-26T17:25:37.501Z"
   },
   {
    "duration": 9,
    "start_time": "2021-09-26T17:25:39.396Z"
   },
   {
    "duration": 4,
    "start_time": "2021-09-26T17:26:14.731Z"
   },
   {
    "duration": 10,
    "start_time": "2021-09-26T17:26:18.042Z"
   },
   {
    "duration": 11,
    "start_time": "2021-09-26T17:26:45.313Z"
   },
   {
    "duration": 12,
    "start_time": "2021-09-26T17:26:59.520Z"
   },
   {
    "duration": 12,
    "start_time": "2021-09-26T17:27:26.290Z"
   },
   {
    "duration": 8,
    "start_time": "2021-09-26T17:28:31.735Z"
   },
   {
    "duration": 407,
    "start_time": "2021-09-26T17:47:47.628Z"
   },
   {
    "duration": 363,
    "start_time": "2021-09-26T17:47:57.831Z"
   },
   {
    "duration": 9,
    "start_time": "2021-09-26T17:48:00.709Z"
   },
   {
    "duration": 13,
    "start_time": "2021-09-26T17:48:39.388Z"
   },
   {
    "duration": 8,
    "start_time": "2021-09-26T17:48:43.010Z"
   },
   {
    "duration": 696,
    "start_time": "2021-09-26T17:48:50.588Z"
   },
   {
    "duration": 404,
    "start_time": "2021-09-26T17:49:05.184Z"
   },
   {
    "duration": 8,
    "start_time": "2021-09-26T17:49:08.080Z"
   },
   {
    "duration": 43,
    "start_time": "2021-09-26T17:51:39.872Z"
   },
   {
    "duration": 20,
    "start_time": "2021-09-26T17:53:32.421Z"
   },
   {
    "duration": 119,
    "start_time": "2021-09-26T17:53:32.444Z"
   },
   {
    "duration": 7,
    "start_time": "2021-09-26T17:53:32.565Z"
   },
   {
    "duration": 18,
    "start_time": "2021-09-26T17:53:32.574Z"
   },
   {
    "duration": 3,
    "start_time": "2021-09-26T17:53:32.593Z"
   },
   {
    "duration": 46,
    "start_time": "2021-09-26T17:53:32.598Z"
   },
   {
    "duration": 70,
    "start_time": "2021-09-26T17:53:32.646Z"
   },
   {
    "duration": 203,
    "start_time": "2021-09-26T17:53:32.717Z"
   },
   {
    "duration": 129,
    "start_time": "2021-09-26T17:53:32.923Z"
   },
   {
    "duration": 89,
    "start_time": "2021-09-26T17:53:33.054Z"
   },
   {
    "duration": 3,
    "start_time": "2021-09-26T17:53:33.145Z"
   },
   {
    "duration": 15,
    "start_time": "2021-09-26T17:53:36.169Z"
   },
   {
    "duration": 14,
    "start_time": "2021-09-26T17:53:58.675Z"
   },
   {
    "duration": 32,
    "start_time": "2021-09-26T17:57:53.256Z"
   },
   {
    "duration": 12,
    "start_time": "2021-09-26T17:57:56.018Z"
   },
   {
    "duration": 21,
    "start_time": "2021-09-26T17:58:00.916Z"
   },
   {
    "duration": 10,
    "start_time": "2021-09-26T17:58:01.864Z"
   },
   {
    "duration": 7,
    "start_time": "2021-09-26T17:58:02.678Z"
   },
   {
    "duration": 6869,
    "start_time": "2021-09-26T17:58:05.610Z"
   },
   {
    "duration": 106,
    "start_time": "2021-09-26T17:58:12.482Z"
   },
   {
    "duration": 6,
    "start_time": "2021-09-26T17:58:12.590Z"
   },
   {
    "duration": 7,
    "start_time": "2021-09-26T18:00:05.459Z"
   },
   {
    "duration": 15,
    "start_time": "2021-09-26T18:00:06.365Z"
   },
   {
    "duration": 11,
    "start_time": "2021-09-26T18:00:06.922Z"
   },
   {
    "duration": 22,
    "start_time": "2021-09-26T18:00:12.999Z"
   },
   {
    "duration": 49,
    "start_time": "2021-09-26T18:00:13.653Z"
   },
   {
    "duration": 6,
    "start_time": "2021-09-26T18:00:16.681Z"
   },
   {
    "duration": 268,
    "start_time": "2021-09-26T18:00:17.624Z"
   },
   {
    "duration": 5,
    "start_time": "2021-09-26T18:00:33.250Z"
   },
   {
    "duration": 122,
    "start_time": "2021-09-26T18:00:40.723Z"
   },
   {
    "duration": 125,
    "start_time": "2021-09-26T18:00:50.372Z"
   },
   {
    "duration": 70,
    "start_time": "2021-09-26T18:01:34.618Z"
   },
   {
    "duration": 149,
    "start_time": "2021-09-26T18:02:43.754Z"
   },
   {
    "duration": 12,
    "start_time": "2021-09-26T18:03:57.087Z"
   },
   {
    "duration": 7,
    "start_time": "2021-09-26T18:04:06.285Z"
   },
   {
    "duration": 5,
    "start_time": "2021-09-26T18:08:33.186Z"
   },
   {
    "duration": 6,
    "start_time": "2021-09-26T18:08:45.730Z"
   },
   {
    "duration": 3,
    "start_time": "2021-09-26T18:12:05.653Z"
   },
   {
    "duration": 7,
    "start_time": "2021-09-26T18:12:10.381Z"
   },
   {
    "duration": 14,
    "start_time": "2021-09-26T18:15:00.862Z"
   },
   {
    "duration": 13,
    "start_time": "2021-09-26T18:15:29.052Z"
   },
   {
    "duration": 12,
    "start_time": "2021-09-26T18:15:54.590Z"
   },
   {
    "duration": 14,
    "start_time": "2021-09-26T18:17:06.147Z"
   },
   {
    "duration": 483,
    "start_time": "2021-09-26T18:18:03.800Z"
   },
   {
    "duration": 4,
    "start_time": "2021-09-26T18:18:07.616Z"
   },
   {
    "duration": 10,
    "start_time": "2021-09-26T18:19:27.471Z"
   },
   {
    "duration": 376,
    "start_time": "2021-09-26T18:20:29.020Z"
   },
   {
    "duration": 4,
    "start_time": "2021-09-26T18:20:41.196Z"
   },
   {
    "duration": 368,
    "start_time": "2021-09-26T18:20:58.537Z"
   },
   {
    "duration": 7,
    "start_time": "2021-09-26T18:22:35.169Z"
   },
   {
    "duration": 9,
    "start_time": "2021-09-26T18:22:40.119Z"
   },
   {
    "duration": 7,
    "start_time": "2021-09-26T18:23:11.918Z"
   },
   {
    "duration": 357,
    "start_time": "2021-09-26T18:23:41.709Z"
   },
   {
    "duration": 8,
    "start_time": "2021-09-26T18:26:12.100Z"
   },
   {
    "duration": 7,
    "start_time": "2021-09-26T18:26:43.047Z"
   },
   {
    "duration": 482,
    "start_time": "2021-09-26T18:27:03.817Z"
   },
   {
    "duration": 729,
    "start_time": "2021-09-26T18:27:13.245Z"
   },
   {
    "duration": 9,
    "start_time": "2021-09-26T18:27:40.154Z"
   },
   {
    "duration": 596,
    "start_time": "2021-09-26T18:28:09.504Z"
   },
   {
    "duration": 599,
    "start_time": "2021-09-26T18:28:19.091Z"
   },
   {
    "duration": 5,
    "start_time": "2021-09-26T18:31:06.390Z"
   },
   {
    "duration": 120,
    "start_time": "2021-09-26T18:33:44.860Z"
   },
   {
    "duration": 359,
    "start_time": "2021-09-26T18:33:54.379Z"
   },
   {
    "duration": 370,
    "start_time": "2021-09-26T18:34:03.452Z"
   },
   {
    "duration": 9,
    "start_time": "2021-09-26T18:34:09.976Z"
   },
   {
    "duration": 601,
    "start_time": "2021-09-26T18:34:15.038Z"
   },
   {
    "duration": 22,
    "start_time": "2021-09-26T18:35:31.815Z"
   },
   {
    "duration": 147,
    "start_time": "2021-09-26T18:35:31.839Z"
   },
   {
    "duration": 8,
    "start_time": "2021-09-26T18:35:31.989Z"
   },
   {
    "duration": 18,
    "start_time": "2021-09-26T18:35:32.000Z"
   },
   {
    "duration": 3,
    "start_time": "2021-09-26T18:35:32.019Z"
   },
   {
    "duration": 81,
    "start_time": "2021-09-26T18:35:32.024Z"
   },
   {
    "duration": 47,
    "start_time": "2021-09-26T18:35:32.107Z"
   },
   {
    "duration": 229,
    "start_time": "2021-09-26T18:35:32.156Z"
   },
   {
    "duration": 140,
    "start_time": "2021-09-26T18:35:32.389Z"
   },
   {
    "duration": 89,
    "start_time": "2021-09-26T18:35:32.530Z"
   },
   {
    "duration": 3,
    "start_time": "2021-09-26T18:35:32.621Z"
   },
   {
    "duration": 19,
    "start_time": "2021-09-26T18:35:32.625Z"
   },
   {
    "duration": 53,
    "start_time": "2021-09-26T18:35:32.646Z"
   },
   {
    "duration": 8,
    "start_time": "2021-09-26T18:35:32.701Z"
   },
   {
    "duration": 7,
    "start_time": "2021-09-26T18:35:32.710Z"
   },
   {
    "duration": 7807,
    "start_time": "2021-09-26T18:35:32.719Z"
   },
   {
    "duration": 87,
    "start_time": "2021-09-26T18:35:40.528Z"
   },
   {
    "duration": 65,
    "start_time": "2021-09-26T18:35:40.617Z"
   },
   {
    "duration": 26,
    "start_time": "2021-09-26T18:35:40.684Z"
   },
   {
    "duration": 11,
    "start_time": "2021-09-26T18:35:40.712Z"
   },
   {
    "duration": 33,
    "start_time": "2021-09-26T18:35:40.777Z"
   },
   {
    "duration": 112,
    "start_time": "2021-09-26T18:35:40.812Z"
   },
   {
    "duration": 7,
    "start_time": "2021-09-26T18:35:40.981Z"
   },
   {
    "duration": 300,
    "start_time": "2021-09-26T18:35:40.992Z"
   },
   {
    "duration": 103,
    "start_time": "2021-09-26T18:35:41.295Z"
   },
   {
    "duration": 385,
    "start_time": "2021-09-26T18:35:41.400Z"
   },
   {
    "duration": 14,
    "start_time": "2021-09-26T18:35:41.788Z"
   },
   {
    "duration": 17,
    "start_time": "2021-09-26T18:35:41.803Z"
   },
   {
    "duration": 69,
    "start_time": "2021-09-26T18:35:41.822Z"
   },
   {
    "duration": 18,
    "start_time": "2021-09-26T18:35:41.894Z"
   },
   {
    "duration": 18,
    "start_time": "2021-09-26T18:35:41.914Z"
   },
   {
    "duration": 26,
    "start_time": "2021-09-26T18:35:41.934Z"
   },
   {
    "duration": 29,
    "start_time": "2021-09-26T18:35:41.962Z"
   },
   {
    "duration": 22,
    "start_time": "2021-09-26T18:35:41.994Z"
   },
   {
    "duration": 11,
    "start_time": "2021-09-26T18:35:42.018Z"
   },
   {
    "duration": 668,
    "start_time": "2021-09-26T18:35:42.032Z"
   },
   {
    "duration": 10,
    "start_time": "2021-09-26T18:35:42.702Z"
   },
   {
    "duration": 159,
    "start_time": "2021-09-26T18:37:13.347Z"
   },
   {
    "duration": 13,
    "start_time": "2021-09-26T18:37:22.097Z"
   },
   {
    "duration": 7,
    "start_time": "2021-09-26T18:37:23.161Z"
   },
   {
    "duration": 8,
    "start_time": "2021-09-26T18:37:24.779Z"
   },
   {
    "duration": 6,
    "start_time": "2021-09-26T18:37:33.424Z"
   },
   {
    "duration": 3,
    "start_time": "2021-09-26T18:37:37.206Z"
   },
   {
    "duration": 7,
    "start_time": "2021-09-26T18:37:37.698Z"
   },
   {
    "duration": 7,
    "start_time": "2021-09-26T18:37:41.529Z"
   },
   {
    "duration": 4,
    "start_time": "2021-09-26T18:37:43.170Z"
   },
   {
    "duration": 609,
    "start_time": "2021-09-26T18:37:47.151Z"
   },
   {
    "duration": 5,
    "start_time": "2021-09-26T18:38:23.032Z"
   },
   {
    "duration": 3,
    "start_time": "2021-09-26T18:39:05.273Z"
   },
   {
    "duration": 568,
    "start_time": "2021-09-26T18:39:09.653Z"
   },
   {
    "duration": 1096,
    "start_time": "2021-09-26T18:45:52.019Z"
   },
   {
    "duration": 860,
    "start_time": "2021-09-26T18:45:59.479Z"
   },
   {
    "duration": 576,
    "start_time": "2021-09-26T18:50:00.474Z"
   },
   {
    "duration": 557,
    "start_time": "2021-09-26T18:51:36.438Z"
   },
   {
    "duration": 681,
    "start_time": "2021-09-26T18:52:16.173Z"
   },
   {
    "duration": 5,
    "start_time": "2021-09-26T18:53:04.942Z"
   },
   {
    "duration": 11,
    "start_time": "2021-09-26T18:53:09.372Z"
   },
   {
    "duration": 113,
    "start_time": "2021-09-26T18:59:57.972Z"
   },
   {
    "duration": 144,
    "start_time": "2021-09-26T19:03:15.890Z"
   },
   {
    "duration": 17,
    "start_time": "2021-09-26T19:04:39.947Z"
   },
   {
    "duration": 3,
    "start_time": "2021-09-26T19:26:54.690Z"
   },
   {
    "duration": 3,
    "start_time": "2021-09-26T19:27:41.865Z"
   },
   {
    "duration": 9,
    "start_time": "2021-09-26T19:30:21.608Z"
   },
   {
    "duration": 381,
    "start_time": "2021-09-26T19:31:03.080Z"
   },
   {
    "duration": 4,
    "start_time": "2021-09-26T19:31:09.346Z"
   },
   {
    "duration": 4,
    "start_time": "2021-09-26T19:31:44.712Z"
   },
   {
    "duration": 3,
    "start_time": "2021-09-26T19:35:16.051Z"
   },
   {
    "duration": 111,
    "start_time": "2021-09-26T19:36:50.622Z"
   },
   {
    "duration": 112,
    "start_time": "2021-09-26T19:36:58.134Z"
   },
   {
    "duration": 427,
    "start_time": "2021-09-26T19:37:33.885Z"
   },
   {
    "duration": 360,
    "start_time": "2021-09-26T19:37:48.085Z"
   },
   {
    "duration": 352,
    "start_time": "2021-09-26T19:38:04.467Z"
   },
   {
    "duration": 13,
    "start_time": "2021-09-26T19:38:13.971Z"
   },
   {
    "duration": 17,
    "start_time": "2021-09-26T19:39:18.700Z"
   },
   {
    "duration": 13,
    "start_time": "2021-09-26T19:39:46.249Z"
   },
   {
    "duration": 120,
    "start_time": "2021-09-26T19:42:58.714Z"
   },
   {
    "duration": 13,
    "start_time": "2021-09-26T19:43:48.761Z"
   },
   {
    "duration": 116,
    "start_time": "2021-09-26T19:45:20.124Z"
   },
   {
    "duration": 121,
    "start_time": "2021-09-26T19:46:55.234Z"
   },
   {
    "duration": 14,
    "start_time": "2021-09-26T19:47:45.517Z"
   },
   {
    "duration": 14,
    "start_time": "2021-09-26T19:51:43.055Z"
   },
   {
    "duration": 1638,
    "start_time": "2021-09-26T20:59:24.058Z"
   },
   {
    "duration": 126,
    "start_time": "2021-09-26T20:59:25.698Z"
   },
   {
    "duration": 12,
    "start_time": "2021-09-26T20:59:25.826Z"
   },
   {
    "duration": 23,
    "start_time": "2021-09-26T20:59:25.840Z"
   },
   {
    "duration": 3,
    "start_time": "2021-09-26T20:59:25.876Z"
   },
   {
    "duration": 70,
    "start_time": "2021-09-26T20:59:25.881Z"
   },
   {
    "duration": 81,
    "start_time": "2021-09-26T20:59:25.953Z"
   },
   {
    "duration": 195,
    "start_time": "2021-09-26T20:59:26.036Z"
   },
   {
    "duration": 133,
    "start_time": "2021-09-26T20:59:26.234Z"
   },
   {
    "duration": 83,
    "start_time": "2021-09-26T20:59:26.369Z"
   },
   {
    "duration": 110,
    "start_time": "2021-09-26T20:59:26.454Z"
   },
   {
    "duration": -27,
    "start_time": "2021-09-26T20:59:26.593Z"
   },
   {
    "duration": -96,
    "start_time": "2021-09-26T20:59:26.664Z"
   },
   {
    "duration": -99,
    "start_time": "2021-09-26T20:59:26.668Z"
   },
   {
    "duration": -104,
    "start_time": "2021-09-26T20:59:26.674Z"
   },
   {
    "duration": -109,
    "start_time": "2021-09-26T20:59:26.680Z"
   },
   {
    "duration": -122,
    "start_time": "2021-09-26T20:59:26.694Z"
   },
   {
    "duration": -132,
    "start_time": "2021-09-26T20:59:26.706Z"
   },
   {
    "duration": -139,
    "start_time": "2021-09-26T20:59:26.714Z"
   },
   {
    "duration": -143,
    "start_time": "2021-09-26T20:59:26.719Z"
   },
   {
    "duration": -147,
    "start_time": "2021-09-26T20:59:26.724Z"
   },
   {
    "duration": -150,
    "start_time": "2021-09-26T20:59:26.728Z"
   },
   {
    "duration": -154,
    "start_time": "2021-09-26T20:59:26.733Z"
   },
   {
    "duration": -157,
    "start_time": "2021-09-26T20:59:26.737Z"
   },
   {
    "duration": -161,
    "start_time": "2021-09-26T20:59:26.742Z"
   },
   {
    "duration": -165,
    "start_time": "2021-09-26T20:59:26.747Z"
   },
   {
    "duration": -170,
    "start_time": "2021-09-26T20:59:26.752Z"
   },
   {
    "duration": -174,
    "start_time": "2021-09-26T20:59:26.757Z"
   },
   {
    "duration": -178,
    "start_time": "2021-09-26T20:59:26.762Z"
   },
   {
    "duration": -181,
    "start_time": "2021-09-26T20:59:26.766Z"
   },
   {
    "duration": -185,
    "start_time": "2021-09-26T20:59:26.771Z"
   },
   {
    "duration": -189,
    "start_time": "2021-09-26T20:59:26.776Z"
   },
   {
    "duration": -192,
    "start_time": "2021-09-26T20:59:26.780Z"
   },
   {
    "duration": -196,
    "start_time": "2021-09-26T20:59:26.785Z"
   },
   {
    "duration": -199,
    "start_time": "2021-09-26T20:59:26.789Z"
   },
   {
    "duration": -203,
    "start_time": "2021-09-26T20:59:26.794Z"
   },
   {
    "duration": -206,
    "start_time": "2021-09-26T20:59:26.798Z"
   },
   {
    "duration": -209,
    "start_time": "2021-09-26T20:59:26.802Z"
   },
   {
    "duration": 1528,
    "start_time": "2021-09-26T21:00:49.978Z"
   },
   {
    "duration": 148,
    "start_time": "2021-09-26T21:00:51.508Z"
   },
   {
    "duration": 17,
    "start_time": "2021-09-26T21:00:51.660Z"
   },
   {
    "duration": 15,
    "start_time": "2021-09-26T21:00:51.679Z"
   },
   {
    "duration": 2,
    "start_time": "2021-09-26T21:00:51.696Z"
   },
   {
    "duration": 84,
    "start_time": "2021-09-26T21:00:51.700Z"
   },
   {
    "duration": 59,
    "start_time": "2021-09-26T21:00:51.786Z"
   },
   {
    "duration": 205,
    "start_time": "2021-09-26T21:00:51.847Z"
   },
   {
    "duration": 140,
    "start_time": "2021-09-26T21:00:52.054Z"
   },
   {
    "duration": 94,
    "start_time": "2021-09-26T21:00:52.196Z"
   },
   {
    "duration": 4,
    "start_time": "2021-09-26T21:00:52.291Z"
   },
   {
    "duration": 35,
    "start_time": "2021-09-26T21:00:52.297Z"
   },
   {
    "duration": 14,
    "start_time": "2021-09-26T21:00:52.334Z"
   },
   {
    "duration": 132,
    "start_time": "2021-09-26T21:00:52.350Z"
   },
   {
    "duration": -30,
    "start_time": "2021-09-26T21:00:52.515Z"
   },
   {
    "duration": -58,
    "start_time": "2021-09-26T21:00:52.544Z"
   },
   {
    "duration": -61,
    "start_time": "2021-09-26T21:00:52.549Z"
   },
   {
    "duration": -109,
    "start_time": "2021-09-26T21:00:52.598Z"
   },
   {
    "duration": -117,
    "start_time": "2021-09-26T21:00:52.608Z"
   },
   {
    "duration": -138,
    "start_time": "2021-09-26T21:00:52.630Z"
   },
   {
    "duration": -143,
    "start_time": "2021-09-26T21:00:52.637Z"
   },
   {
    "duration": -145,
    "start_time": "2021-09-26T21:00:52.641Z"
   },
   {
    "duration": -150,
    "start_time": "2021-09-26T21:00:52.647Z"
   },
   {
    "duration": -153,
    "start_time": "2021-09-26T21:00:52.651Z"
   },
   {
    "duration": -156,
    "start_time": "2021-09-26T21:00:52.656Z"
   },
   {
    "duration": -160,
    "start_time": "2021-09-26T21:00:52.661Z"
   },
   {
    "duration": -162,
    "start_time": "2021-09-26T21:00:52.665Z"
   },
   {
    "duration": -165,
    "start_time": "2021-09-26T21:00:52.669Z"
   },
   {
    "duration": -168,
    "start_time": "2021-09-26T21:00:52.674Z"
   },
   {
    "duration": -171,
    "start_time": "2021-09-26T21:00:52.678Z"
   },
   {
    "duration": -173,
    "start_time": "2021-09-26T21:00:52.682Z"
   },
   {
    "duration": -176,
    "start_time": "2021-09-26T21:00:52.686Z"
   },
   {
    "duration": -179,
    "start_time": "2021-09-26T21:00:52.690Z"
   },
   {
    "duration": -206,
    "start_time": "2021-09-26T21:00:52.719Z"
   },
   {
    "duration": -209,
    "start_time": "2021-09-26T21:00:52.723Z"
   },
   {
    "duration": -211,
    "start_time": "2021-09-26T21:00:52.727Z"
   },
   {
    "duration": -214,
    "start_time": "2021-09-26T21:00:52.731Z"
   },
   {
    "duration": 22,
    "start_time": "2021-09-26T21:01:21.625Z"
   },
   {
    "duration": 150,
    "start_time": "2021-09-26T21:01:21.649Z"
   },
   {
    "duration": 8,
    "start_time": "2021-09-26T21:01:21.801Z"
   },
   {
    "duration": 20,
    "start_time": "2021-09-26T21:01:21.811Z"
   },
   {
    "duration": 3,
    "start_time": "2021-09-26T21:01:21.833Z"
   },
   {
    "duration": 80,
    "start_time": "2021-09-26T21:01:21.838Z"
   },
   {
    "duration": 68,
    "start_time": "2021-09-26T21:01:21.920Z"
   },
   {
    "duration": 199,
    "start_time": "2021-09-26T21:01:21.991Z"
   },
   {
    "duration": 131,
    "start_time": "2021-09-26T21:01:22.192Z"
   },
   {
    "duration": 94,
    "start_time": "2021-09-26T21:01:22.325Z"
   },
   {
    "duration": 3,
    "start_time": "2021-09-26T21:01:22.421Z"
   },
   {
    "duration": 52,
    "start_time": "2021-09-26T21:01:22.425Z"
   },
   {
    "duration": 9,
    "start_time": "2021-09-26T21:01:22.479Z"
   },
   {
    "duration": 7,
    "start_time": "2021-09-26T21:01:22.490Z"
   },
   {
    "duration": 7207,
    "start_time": "2021-09-26T21:01:22.498Z"
   },
   {
    "duration": 100,
    "start_time": "2021-09-26T21:01:29.708Z"
   },
   {
    "duration": 68,
    "start_time": "2021-09-26T21:01:29.809Z"
   },
   {
    "duration": 118,
    "start_time": "2021-09-26T21:01:29.879Z"
   },
   {
    "duration": -3957,
    "start_time": "2021-09-26T21:01:33.956Z"
   },
   {
    "duration": -3960,
    "start_time": "2021-09-26T21:01:33.960Z"
   },
   {
    "duration": -3963,
    "start_time": "2021-09-26T21:01:33.964Z"
   },
   {
    "duration": -3966,
    "start_time": "2021-09-26T21:01:33.968Z"
   },
   {
    "duration": -3968,
    "start_time": "2021-09-26T21:01:33.971Z"
   },
   {
    "duration": -3971,
    "start_time": "2021-09-26T21:01:33.975Z"
   },
   {
    "duration": -3973,
    "start_time": "2021-09-26T21:01:33.979Z"
   },
   {
    "duration": -3975,
    "start_time": "2021-09-26T21:01:33.982Z"
   },
   {
    "duration": -3978,
    "start_time": "2021-09-26T21:01:33.986Z"
   },
   {
    "duration": -3981,
    "start_time": "2021-09-26T21:01:33.990Z"
   },
   {
    "duration": -3983,
    "start_time": "2021-09-26T21:01:33.993Z"
   },
   {
    "duration": -3986,
    "start_time": "2021-09-26T21:01:33.997Z"
   },
   {
    "duration": -3989,
    "start_time": "2021-09-26T21:01:34.001Z"
   },
   {
    "duration": -3991,
    "start_time": "2021-09-26T21:01:34.004Z"
   },
   {
    "duration": -3994,
    "start_time": "2021-09-26T21:01:34.008Z"
   },
   {
    "duration": -3997,
    "start_time": "2021-09-26T21:01:34.012Z"
   },
   {
    "duration": -4000,
    "start_time": "2021-09-26T21:01:34.016Z"
   },
   {
    "duration": -4003,
    "start_time": "2021-09-26T21:01:34.020Z"
   },
   {
    "duration": 21,
    "start_time": "2021-09-26T21:02:18.519Z"
   },
   {
    "duration": 134,
    "start_time": "2021-09-26T21:02:18.542Z"
   },
   {
    "duration": 7,
    "start_time": "2021-09-26T21:02:18.678Z"
   },
   {
    "duration": 20,
    "start_time": "2021-09-26T21:02:18.687Z"
   },
   {
    "duration": 2,
    "start_time": "2021-09-26T21:02:18.709Z"
   },
   {
    "duration": 65,
    "start_time": "2021-09-26T21:02:18.713Z"
   },
   {
    "duration": 47,
    "start_time": "2021-09-26T21:02:18.780Z"
   },
   {
    "duration": 193,
    "start_time": "2021-09-26T21:02:18.830Z"
   },
   {
    "duration": 130,
    "start_time": "2021-09-26T21:02:19.025Z"
   },
   {
    "duration": 78,
    "start_time": "2021-09-26T21:02:19.157Z"
   },
   {
    "duration": 3,
    "start_time": "2021-09-26T21:02:19.236Z"
   },
   {
    "duration": 53,
    "start_time": "2021-09-26T21:02:19.240Z"
   },
   {
    "duration": 8,
    "start_time": "2021-09-26T21:02:19.295Z"
   },
   {
    "duration": 6,
    "start_time": "2021-09-26T21:02:19.305Z"
   },
   {
    "duration": 6584,
    "start_time": "2021-09-26T21:02:19.313Z"
   },
   {
    "duration": 107,
    "start_time": "2021-09-26T21:02:25.899Z"
   },
   {
    "duration": 76,
    "start_time": "2021-09-26T21:02:26.008Z"
   },
   {
    "duration": 17,
    "start_time": "2021-09-26T21:02:26.086Z"
   },
   {
    "duration": 92,
    "start_time": "2021-09-26T21:02:26.105Z"
   },
   {
    "duration": 183,
    "start_time": "2021-09-26T21:02:26.199Z"
   },
   {
    "duration": 5,
    "start_time": "2021-09-26T21:02:26.384Z"
   },
   {
    "duration": 118,
    "start_time": "2021-09-26T21:02:26.390Z"
   },
   {
    "duration": -4527,
    "start_time": "2021-09-26T21:02:31.037Z"
   },
   {
    "duration": -4530,
    "start_time": "2021-09-26T21:02:31.041Z"
   },
   {
    "duration": -4532,
    "start_time": "2021-09-26T21:02:31.044Z"
   },
   {
    "duration": -4536,
    "start_time": "2021-09-26T21:02:31.048Z"
   },
   {
    "duration": -4539,
    "start_time": "2021-09-26T21:02:31.052Z"
   },
   {
    "duration": -4542,
    "start_time": "2021-09-26T21:02:31.056Z"
   },
   {
    "duration": -4544,
    "start_time": "2021-09-26T21:02:31.059Z"
   },
   {
    "duration": -4547,
    "start_time": "2021-09-26T21:02:31.063Z"
   },
   {
    "duration": -4551,
    "start_time": "2021-09-26T21:02:31.068Z"
   },
   {
    "duration": -4553,
    "start_time": "2021-09-26T21:02:31.071Z"
   },
   {
    "duration": -4556,
    "start_time": "2021-09-26T21:02:31.075Z"
   },
   {
    "duration": -4560,
    "start_time": "2021-09-26T21:02:31.080Z"
   },
   {
    "duration": -4563,
    "start_time": "2021-09-26T21:02:31.084Z"
   },
   {
    "duration": 6868,
    "start_time": "2021-09-26T21:03:45.391Z"
   },
   {
    "duration": 1525,
    "start_time": "2021-09-26T21:04:20.191Z"
   },
   {
    "duration": 130,
    "start_time": "2021-09-26T21:04:21.717Z"
   },
   {
    "duration": 13,
    "start_time": "2021-09-26T21:04:21.849Z"
   },
   {
    "duration": 28,
    "start_time": "2021-09-26T21:04:21.864Z"
   },
   {
    "duration": 3,
    "start_time": "2021-09-26T21:04:21.895Z"
   },
   {
    "duration": 87,
    "start_time": "2021-09-26T21:04:21.900Z"
   },
   {
    "duration": 67,
    "start_time": "2021-09-26T21:04:21.990Z"
   },
   {
    "duration": 210,
    "start_time": "2021-09-26T21:04:22.060Z"
   },
   {
    "duration": 130,
    "start_time": "2021-09-26T21:04:22.272Z"
   },
   {
    "duration": 92,
    "start_time": "2021-09-26T21:04:22.404Z"
   },
   {
    "duration": 3,
    "start_time": "2021-09-26T21:04:22.498Z"
   },
   {
    "duration": 33,
    "start_time": "2021-09-26T21:04:22.502Z"
   },
   {
    "duration": 9,
    "start_time": "2021-09-26T21:04:22.537Z"
   },
   {
    "duration": 31,
    "start_time": "2021-09-26T21:04:22.548Z"
   },
   {
    "duration": 7371,
    "start_time": "2021-09-26T21:04:22.581Z"
   },
   {
    "duration": 123,
    "start_time": "2021-09-26T21:04:29.954Z"
   },
   {
    "duration": 19,
    "start_time": "2021-09-26T21:04:30.079Z"
   },
   {
    "duration": 11,
    "start_time": "2021-09-26T21:04:30.100Z"
   },
   {
    "duration": 77,
    "start_time": "2021-09-26T21:04:30.113Z"
   },
   {
    "duration": 109,
    "start_time": "2021-09-26T21:04:30.192Z"
   },
   {
    "duration": 5,
    "start_time": "2021-09-26T21:04:30.303Z"
   },
   {
    "duration": 280,
    "start_time": "2021-09-26T21:04:30.310Z"
   },
   {
    "duration": 97,
    "start_time": "2021-09-26T21:04:30.594Z"
   },
   {
    "duration": 313,
    "start_time": "2021-09-26T21:04:30.693Z"
   },
   {
    "duration": 70,
    "start_time": "2021-09-26T21:04:31.008Z"
   },
   {
    "duration": 9,
    "start_time": "2021-09-26T21:04:31.080Z"
   },
   {
    "duration": 22,
    "start_time": "2021-09-26T21:04:31.091Z"
   },
   {
    "duration": 784,
    "start_time": "2021-09-26T21:04:31.114Z"
   },
   {
    "duration": 8,
    "start_time": "2021-09-26T21:04:31.900Z"
   },
   {
    "duration": 15,
    "start_time": "2021-09-26T21:04:31.910Z"
   },
   {
    "duration": 14,
    "start_time": "2021-09-26T21:04:31.927Z"
   },
   {
    "duration": 43,
    "start_time": "2021-09-26T21:04:31.943Z"
   },
   {
    "duration": 16,
    "start_time": "2021-09-26T21:04:31.987Z"
   },
   {
    "duration": 14,
    "start_time": "2021-09-26T21:04:32.005Z"
   },
   {
    "duration": 1217,
    "start_time": "2021-09-27T08:34:51.578Z"
   },
   {
    "duration": 120,
    "start_time": "2021-09-27T08:34:52.797Z"
   },
   {
    "duration": 10,
    "start_time": "2021-09-27T08:34:52.919Z"
   },
   {
    "duration": 26,
    "start_time": "2021-09-27T08:34:52.931Z"
   },
   {
    "duration": 3,
    "start_time": "2021-09-27T08:34:52.958Z"
   },
   {
    "duration": 64,
    "start_time": "2021-09-27T08:34:52.963Z"
   },
   {
    "duration": 71,
    "start_time": "2021-09-27T08:34:53.029Z"
   },
   {
    "duration": 181,
    "start_time": "2021-09-27T08:34:53.103Z"
   },
   {
    "duration": 125,
    "start_time": "2021-09-27T08:34:53.286Z"
   },
   {
    "duration": 83,
    "start_time": "2021-09-27T08:34:53.413Z"
   },
   {
    "duration": 2,
    "start_time": "2021-09-27T08:34:53.498Z"
   },
   {
    "duration": 37,
    "start_time": "2021-09-27T08:34:53.502Z"
   },
   {
    "duration": 12,
    "start_time": "2021-09-27T08:34:53.541Z"
   },
   {
    "duration": 7,
    "start_time": "2021-09-27T08:34:53.555Z"
   },
   {
    "duration": 6808,
    "start_time": "2021-09-27T08:34:53.563Z"
   },
   {
    "duration": 108,
    "start_time": "2021-09-27T08:35:00.374Z"
   },
   {
    "duration": 68,
    "start_time": "2021-09-27T08:35:00.484Z"
   },
   {
    "duration": 11,
    "start_time": "2021-09-27T08:35:00.554Z"
   },
   {
    "duration": 36,
    "start_time": "2021-09-27T08:35:00.567Z"
   },
   {
    "duration": 112,
    "start_time": "2021-09-27T08:35:00.649Z"
   },
   {
    "duration": 5,
    "start_time": "2021-09-27T08:35:00.763Z"
   },
   {
    "duration": 22,
    "start_time": "2021-09-27T08:35:00.770Z"
   },
   {
    "duration": 99,
    "start_time": "2021-09-27T08:35:00.795Z"
   },
   {
    "duration": 259,
    "start_time": "2021-09-27T08:35:00.949Z"
   },
   {
    "duration": 16,
    "start_time": "2021-09-27T08:35:01.209Z"
   },
   {
    "duration": 22,
    "start_time": "2021-09-27T08:35:01.227Z"
   },
   {
    "duration": 40,
    "start_time": "2021-09-27T08:35:01.251Z"
   },
   {
    "duration": 898,
    "start_time": "2021-09-27T08:35:01.293Z"
   },
   {
    "duration": -1000,
    "start_time": "2021-09-27T08:35:03.193Z"
   },
   {
    "duration": -1016,
    "start_time": "2021-09-27T08:35:03.209Z"
   },
   {
    "duration": -1025,
    "start_time": "2021-09-27T08:35:03.219Z"
   },
   {
    "duration": -1035,
    "start_time": "2021-09-27T08:35:03.230Z"
   },
   {
    "duration": -1045,
    "start_time": "2021-09-27T08:35:03.249Z"
   },
   {
    "duration": -1057,
    "start_time": "2021-09-27T08:35:03.262Z"
   },
   {
    "duration": 274,
    "start_time": "2021-09-27T09:34:31.156Z"
   },
   {
    "duration": 6,
    "start_time": "2021-09-27T09:34:37.033Z"
   },
   {
    "duration": 5,
    "start_time": "2021-09-27T09:34:39.987Z"
   },
   {
    "duration": 4,
    "start_time": "2021-09-27T09:34:40.892Z"
   },
   {
    "duration": 14,
    "start_time": "2021-09-27T09:34:43.176Z"
   },
   {
    "duration": 1242,
    "start_time": "2021-09-27T09:35:30.949Z"
   },
   {
    "duration": 125,
    "start_time": "2021-09-27T09:35:32.194Z"
   },
   {
    "duration": 10,
    "start_time": "2021-09-27T09:35:32.321Z"
   },
   {
    "duration": 24,
    "start_time": "2021-09-27T09:35:32.333Z"
   },
   {
    "duration": 3,
    "start_time": "2021-09-27T09:35:32.359Z"
   },
   {
    "duration": 62,
    "start_time": "2021-09-27T09:35:32.363Z"
   },
   {
    "duration": 81,
    "start_time": "2021-09-27T09:35:32.427Z"
   },
   {
    "duration": 195,
    "start_time": "2021-09-27T09:35:32.510Z"
   },
   {
    "duration": 126,
    "start_time": "2021-09-27T09:35:32.708Z"
   },
   {
    "duration": 83,
    "start_time": "2021-09-27T09:35:32.836Z"
   },
   {
    "duration": 2,
    "start_time": "2021-09-27T09:35:32.921Z"
   },
   {
    "duration": 39,
    "start_time": "2021-09-27T09:35:32.925Z"
   },
   {
    "duration": 8,
    "start_time": "2021-09-27T09:35:32.966Z"
   },
   {
    "duration": 5,
    "start_time": "2021-09-27T09:35:32.976Z"
   },
   {
    "duration": 6793,
    "start_time": "2021-09-27T09:35:32.983Z"
   },
   {
    "duration": 106,
    "start_time": "2021-09-27T09:35:39.779Z"
   },
   {
    "duration": 71,
    "start_time": "2021-09-27T09:35:39.887Z"
   },
   {
    "duration": 10,
    "start_time": "2021-09-27T09:35:39.960Z"
   },
   {
    "duration": 20,
    "start_time": "2021-09-27T09:35:39.972Z"
   },
   {
    "duration": 101,
    "start_time": "2021-09-27T09:35:40.049Z"
   },
   {
    "duration": 5,
    "start_time": "2021-09-27T09:35:40.152Z"
   },
   {
    "duration": 18,
    "start_time": "2021-09-27T09:35:40.159Z"
   },
   {
    "duration": 98,
    "start_time": "2021-09-27T09:35:40.181Z"
   },
   {
    "duration": 314,
    "start_time": "2021-09-27T09:35:40.281Z"
   },
   {
    "duration": 22,
    "start_time": "2021-09-27T09:35:40.597Z"
   },
   {
    "duration": 10,
    "start_time": "2021-09-27T09:35:40.649Z"
   },
   {
    "duration": 14,
    "start_time": "2021-09-27T09:35:40.662Z"
   },
   {
    "duration": 890,
    "start_time": "2021-09-27T09:35:40.678Z"
   },
   {
    "duration": -223,
    "start_time": "2021-09-27T09:35:41.793Z"
   },
   {
    "duration": -256,
    "start_time": "2021-09-27T09:35:41.827Z"
   },
   {
    "duration": -272,
    "start_time": "2021-09-27T09:35:41.844Z"
   },
   {
    "duration": -287,
    "start_time": "2021-09-27T09:35:41.860Z"
   },
   {
    "duration": -303,
    "start_time": "2021-09-27T09:35:41.877Z"
   },
   {
    "duration": -318,
    "start_time": "2021-09-27T09:35:41.893Z"
   },
   {
    "duration": 7,
    "start_time": "2021-09-27T09:35:51.570Z"
   },
   {
    "duration": 3,
    "start_time": "2021-09-27T09:35:52.209Z"
   },
   {
    "duration": 12,
    "start_time": "2021-09-27T09:35:53.634Z"
   },
   {
    "duration": 14,
    "start_time": "2021-09-27T09:35:54.836Z"
   },
   {
    "duration": 13,
    "start_time": "2021-09-27T09:35:55.592Z"
   },
   {
    "duration": 13,
    "start_time": "2021-09-27T09:35:56.129Z"
   },
   {
    "duration": 19,
    "start_time": "2021-09-27T09:41:25.179Z"
   },
   {
    "duration": 1562,
    "start_time": "2021-09-27T09:54:03.388Z"
   },
   {
    "duration": 124,
    "start_time": "2021-09-27T09:54:04.952Z"
   },
   {
    "duration": 11,
    "start_time": "2021-09-27T09:54:05.080Z"
   },
   {
    "duration": 26,
    "start_time": "2021-09-27T09:54:05.092Z"
   },
   {
    "duration": 16,
    "start_time": "2021-09-27T09:54:05.120Z"
   },
   {
    "duration": 68,
    "start_time": "2021-09-27T09:54:05.138Z"
   },
   {
    "duration": 54,
    "start_time": "2021-09-27T09:54:05.208Z"
   },
   {
    "duration": 200,
    "start_time": "2021-09-27T09:54:05.265Z"
   },
   {
    "duration": 132,
    "start_time": "2021-09-27T09:54:05.467Z"
   },
   {
    "duration": 89,
    "start_time": "2021-09-27T09:54:05.601Z"
   },
   {
    "duration": 3,
    "start_time": "2021-09-27T09:54:05.692Z"
   },
   {
    "duration": 50,
    "start_time": "2021-09-27T09:54:05.696Z"
   },
   {
    "duration": 40,
    "start_time": "2021-09-27T09:54:05.747Z"
   },
   {
    "duration": 23,
    "start_time": "2021-09-27T09:54:05.789Z"
   },
   {
    "duration": 7304,
    "start_time": "2021-09-27T09:54:05.813Z"
   },
   {
    "duration": 56,
    "start_time": "2021-09-27T09:54:13.120Z"
   },
   {
    "duration": 74,
    "start_time": "2021-09-27T09:54:13.178Z"
   },
   {
    "duration": 12,
    "start_time": "2021-09-27T09:54:13.254Z"
   },
   {
    "duration": 78,
    "start_time": "2021-09-27T09:54:13.267Z"
   },
   {
    "duration": 99,
    "start_time": "2021-09-27T09:54:13.347Z"
   },
   {
    "duration": 5,
    "start_time": "2021-09-27T09:54:13.447Z"
   },
   {
    "duration": 225,
    "start_time": "2021-09-27T09:54:13.454Z"
   },
   {
    "duration": 101,
    "start_time": "2021-09-27T09:54:13.680Z"
   },
   {
    "duration": 314,
    "start_time": "2021-09-27T09:54:13.783Z"
   },
   {
    "duration": 18,
    "start_time": "2021-09-27T09:54:14.098Z"
   },
   {
    "duration": 26,
    "start_time": "2021-09-27T09:54:14.120Z"
   },
   {
    "duration": 13,
    "start_time": "2021-09-27T09:54:14.148Z"
   },
   {
    "duration": 622,
    "start_time": "2021-09-27T09:54:14.163Z"
   },
   {
    "duration": 5,
    "start_time": "2021-09-27T09:54:14.787Z"
   },
   {
    "duration": 10,
    "start_time": "2021-09-27T09:54:14.794Z"
   },
   {
    "duration": 19,
    "start_time": "2021-09-27T09:54:14.805Z"
   },
   {
    "duration": 27,
    "start_time": "2021-09-27T09:54:14.826Z"
   },
   {
    "duration": 12,
    "start_time": "2021-09-27T09:54:14.855Z"
   },
   {
    "duration": 18,
    "start_time": "2021-09-27T09:54:14.868Z"
   },
   {
    "duration": 22,
    "start_time": "2021-09-27T10:08:17.341Z"
   },
   {
    "duration": 147,
    "start_time": "2021-09-27T10:08:17.365Z"
   },
   {
    "duration": 8,
    "start_time": "2021-09-27T10:08:17.514Z"
   },
   {
    "duration": 26,
    "start_time": "2021-09-27T10:08:17.524Z"
   },
   {
    "duration": 3,
    "start_time": "2021-09-27T10:08:17.551Z"
   },
   {
    "duration": 54,
    "start_time": "2021-09-27T10:08:17.556Z"
   },
   {
    "duration": 60,
    "start_time": "2021-09-27T10:08:17.612Z"
   },
   {
    "duration": 236,
    "start_time": "2021-09-27T10:08:17.674Z"
   },
   {
    "duration": 126,
    "start_time": "2021-09-27T10:08:17.913Z"
   },
   {
    "duration": 79,
    "start_time": "2021-09-27T10:08:18.041Z"
   },
   {
    "duration": 3,
    "start_time": "2021-09-27T10:08:18.122Z"
   },
   {
    "duration": 35,
    "start_time": "2021-09-27T10:08:18.144Z"
   },
   {
    "duration": 12,
    "start_time": "2021-09-27T10:08:18.181Z"
   },
   {
    "duration": 7,
    "start_time": "2021-09-27T10:08:18.195Z"
   },
   {
    "duration": 7151,
    "start_time": "2021-09-27T10:08:18.204Z"
   },
   {
    "duration": 97,
    "start_time": "2021-09-27T10:08:25.357Z"
   },
   {
    "duration": 8,
    "start_time": "2021-09-27T10:09:07.373Z"
   },
   {
    "duration": 20,
    "start_time": "2021-09-27T10:09:19.595Z"
   },
   {
    "duration": 700,
    "start_time": "2021-09-27T10:11:08.827Z"
   },
   {
    "duration": 20,
    "start_time": "2021-09-27T10:11:31.554Z"
   },
   {
    "duration": 25,
    "start_time": "2021-09-27T10:13:11.048Z"
   },
   {
    "duration": 26,
    "start_time": "2021-09-27T10:13:19.280Z"
   },
   {
    "duration": 26,
    "start_time": "2021-09-27T10:13:32.980Z"
   },
   {
    "duration": 25,
    "start_time": "2021-09-27T10:13:58.437Z"
   },
   {
    "duration": 26,
    "start_time": "2021-09-27T10:14:21.413Z"
   },
   {
    "duration": 65,
    "start_time": "2021-09-27T10:15:15.972Z"
   },
   {
    "duration": 96,
    "start_time": "2021-09-27T10:18:49.269Z"
   },
   {
    "duration": 112,
    "start_time": "2021-09-27T10:21:25.119Z"
   },
   {
    "duration": 1700,
    "start_time": "2021-09-27T11:03:25.190Z"
   },
   {
    "duration": 272,
    "start_time": "2021-09-27T11:03:26.892Z"
   },
   {
    "duration": 12,
    "start_time": "2021-09-27T11:03:27.166Z"
   },
   {
    "duration": 72,
    "start_time": "2021-09-27T11:03:27.180Z"
   },
   {
    "duration": 3,
    "start_time": "2021-09-27T11:03:27.254Z"
   },
   {
    "duration": 67,
    "start_time": "2021-09-27T11:03:27.259Z"
   },
   {
    "duration": 81,
    "start_time": "2021-09-27T11:03:27.328Z"
   },
   {
    "duration": 204,
    "start_time": "2021-09-27T11:03:27.411Z"
   },
   {
    "duration": 137,
    "start_time": "2021-09-27T11:03:27.619Z"
   },
   {
    "duration": 93,
    "start_time": "2021-09-27T11:03:27.758Z"
   },
   {
    "duration": 4,
    "start_time": "2021-09-27T11:03:27.853Z"
   },
   {
    "duration": 41,
    "start_time": "2021-09-27T11:03:27.859Z"
   },
   {
    "duration": 10,
    "start_time": "2021-09-27T11:03:27.902Z"
   },
   {
    "duration": 7,
    "start_time": "2021-09-27T11:03:27.914Z"
   },
   {
    "duration": 7545,
    "start_time": "2021-09-27T11:03:27.949Z"
   },
   {
    "duration": 171,
    "start_time": "2021-09-27T11:03:35.496Z"
   },
   {
    "duration": 21,
    "start_time": "2021-09-27T11:03:35.669Z"
   },
   {
    "duration": 61,
    "start_time": "2021-09-27T11:03:35.691Z"
   },
   {
    "duration": 28,
    "start_time": "2021-09-27T11:03:35.754Z"
   },
   {
    "duration": 112,
    "start_time": "2021-09-27T11:03:35.784Z"
   },
   {
    "duration": 6,
    "start_time": "2021-09-27T11:03:35.950Z"
   },
   {
    "duration": 21,
    "start_time": "2021-09-27T11:03:35.957Z"
   },
   {
    "duration": 99,
    "start_time": "2021-09-27T11:03:35.980Z"
   },
   {
    "duration": 281,
    "start_time": "2021-09-27T11:03:36.081Z"
   },
   {
    "duration": 16,
    "start_time": "2021-09-27T11:03:36.364Z"
   },
   {
    "duration": 21,
    "start_time": "2021-09-27T11:03:36.381Z"
   },
   {
    "duration": 16,
    "start_time": "2021-09-27T11:03:36.405Z"
   },
   {
    "duration": 844,
    "start_time": "2021-09-27T11:03:36.422Z"
   },
   {
    "duration": -1430,
    "start_time": "2021-09-27T11:03:38.698Z"
   },
   {
    "duration": -1452,
    "start_time": "2021-09-27T11:03:38.720Z"
   },
   {
    "duration": -1467,
    "start_time": "2021-09-27T11:03:38.736Z"
   },
   {
    "duration": -1481,
    "start_time": "2021-09-27T11:03:38.751Z"
   },
   {
    "duration": -1494,
    "start_time": "2021-09-27T11:03:38.765Z"
   },
   {
    "duration": -1506,
    "start_time": "2021-09-27T11:03:38.778Z"
   },
   {
    "duration": 912,
    "start_time": "2021-09-27T11:04:19.988Z"
   },
   {
    "duration": 1630,
    "start_time": "2021-09-27T11:06:47.585Z"
   },
   {
    "duration": 1771,
    "start_time": "2021-09-27T11:07:12.943Z"
   },
   {
    "duration": 898,
    "start_time": "2021-09-27T11:08:20.493Z"
   },
   {
    "duration": 1240,
    "start_time": "2021-09-27T11:12:53.095Z"
   },
   {
    "duration": 125,
    "start_time": "2021-09-27T11:12:54.338Z"
   },
   {
    "duration": 10,
    "start_time": "2021-09-27T11:12:54.465Z"
   },
   {
    "duration": 17,
    "start_time": "2021-09-27T11:12:54.477Z"
   },
   {
    "duration": 3,
    "start_time": "2021-09-27T11:12:54.496Z"
   },
   {
    "duration": 87,
    "start_time": "2021-09-27T11:12:54.501Z"
   },
   {
    "duration": 112,
    "start_time": "2021-09-27T11:12:54.591Z"
   },
   {
    "duration": 294,
    "start_time": "2021-09-27T11:12:54.707Z"
   },
   {
    "duration": 137,
    "start_time": "2021-09-27T11:12:55.004Z"
   },
   {
    "duration": 84,
    "start_time": "2021-09-27T11:12:55.143Z"
   },
   {
    "duration": 3,
    "start_time": "2021-09-27T11:12:55.229Z"
   },
   {
    "duration": 35,
    "start_time": "2021-09-27T11:12:55.250Z"
   },
   {
    "duration": 10,
    "start_time": "2021-09-27T11:12:55.287Z"
   },
   {
    "duration": 6,
    "start_time": "2021-09-27T11:12:55.299Z"
   },
   {
    "duration": 6826,
    "start_time": "2021-09-27T11:12:55.307Z"
   },
   {
    "duration": 1313,
    "start_time": "2021-09-27T11:13:02.136Z"
   },
   {
    "duration": 66,
    "start_time": "2021-09-27T11:13:03.451Z"
   },
   {
    "duration": 35,
    "start_time": "2021-09-27T11:13:03.519Z"
   },
   {
    "duration": 12,
    "start_time": "2021-09-27T11:13:03.555Z"
   },
   {
    "duration": 31,
    "start_time": "2021-09-27T11:13:03.569Z"
   },
   {
    "duration": 61,
    "start_time": "2021-09-27T11:13:03.602Z"
   },
   {
    "duration": 5,
    "start_time": "2021-09-27T11:13:03.665Z"
   },
   {
    "duration": 15,
    "start_time": "2021-09-27T11:13:03.673Z"
   },
   {
    "duration": 72,
    "start_time": "2021-09-27T11:13:03.690Z"
   },
   {
    "duration": 155,
    "start_time": "2021-09-27T11:13:03.764Z"
   },
   {
    "duration": 16,
    "start_time": "2021-09-27T11:13:03.921Z"
   },
   {
    "duration": 16,
    "start_time": "2021-09-27T11:13:03.939Z"
   },
   {
    "duration": 25,
    "start_time": "2021-09-27T11:13:03.957Z"
   },
   {
    "duration": 830,
    "start_time": "2021-09-27T11:13:03.984Z"
   },
   {
    "duration": -1854,
    "start_time": "2021-09-27T11:13:06.670Z"
   },
   {
    "duration": -1872,
    "start_time": "2021-09-27T11:13:06.689Z"
   },
   {
    "duration": -1885,
    "start_time": "2021-09-27T11:13:06.703Z"
   },
   {
    "duration": -1913,
    "start_time": "2021-09-27T11:13:06.732Z"
   },
   {
    "duration": -1926,
    "start_time": "2021-09-27T11:13:06.746Z"
   },
   {
    "duration": -1940,
    "start_time": "2021-09-27T11:13:06.760Z"
   },
   {
    "duration": 1565,
    "start_time": "2021-09-27T11:35:25.603Z"
   },
   {
    "duration": 124,
    "start_time": "2021-09-27T11:35:27.169Z"
   },
   {
    "duration": 11,
    "start_time": "2021-09-27T11:35:27.296Z"
   },
   {
    "duration": 21,
    "start_time": "2021-09-27T11:35:27.309Z"
   },
   {
    "duration": 13,
    "start_time": "2021-09-27T11:35:27.331Z"
   },
   {
    "duration": 69,
    "start_time": "2021-09-27T11:35:27.346Z"
   },
   {
    "duration": 67,
    "start_time": "2021-09-27T11:35:27.416Z"
   },
   {
    "duration": 181,
    "start_time": "2021-09-27T11:35:27.486Z"
   },
   {
    "duration": 123,
    "start_time": "2021-09-27T11:35:27.670Z"
   },
   {
    "duration": 84,
    "start_time": "2021-09-27T11:35:27.794Z"
   },
   {
    "duration": 2,
    "start_time": "2021-09-27T11:35:27.880Z"
   },
   {
    "duration": 39,
    "start_time": "2021-09-27T11:35:27.884Z"
   },
   {
    "duration": 11,
    "start_time": "2021-09-27T11:35:27.924Z"
   },
   {
    "duration": 6,
    "start_time": "2021-09-27T11:35:27.944Z"
   },
   {
    "duration": 7204,
    "start_time": "2021-09-27T11:35:27.952Z"
   },
   {
    "duration": 1285,
    "start_time": "2021-09-27T11:35:35.159Z"
   },
   {
    "duration": 62,
    "start_time": "2021-09-27T11:35:36.446Z"
   },
   {
    "duration": 34,
    "start_time": "2021-09-27T11:35:36.510Z"
   },
   {
    "duration": 12,
    "start_time": "2021-09-27T11:35:36.546Z"
   },
   {
    "duration": 26,
    "start_time": "2021-09-27T11:35:36.559Z"
   },
   {
    "duration": 68,
    "start_time": "2021-09-27T11:35:36.587Z"
   },
   {
    "duration": 4,
    "start_time": "2021-09-27T11:35:36.657Z"
   },
   {
    "duration": 125,
    "start_time": "2021-09-27T11:35:36.664Z"
   },
   {
    "duration": 54,
    "start_time": "2021-09-27T11:35:36.791Z"
   },
   {
    "duration": 153,
    "start_time": "2021-09-27T11:35:36.847Z"
   },
   {
    "duration": 17,
    "start_time": "2021-09-27T11:35:37.001Z"
   },
   {
    "duration": 8,
    "start_time": "2021-09-27T11:35:37.019Z"
   },
   {
    "duration": 23,
    "start_time": "2021-09-27T11:35:37.029Z"
   },
   {
    "duration": 582,
    "start_time": "2021-09-27T11:35:37.054Z"
   },
   {
    "duration": 10,
    "start_time": "2021-09-27T11:35:37.638Z"
   },
   {
    "duration": 11,
    "start_time": "2021-09-27T11:35:37.649Z"
   },
   {
    "duration": 17,
    "start_time": "2021-09-27T11:35:37.661Z"
   },
   {
    "duration": 12,
    "start_time": "2021-09-27T11:35:37.680Z"
   },
   {
    "duration": 15,
    "start_time": "2021-09-27T11:35:37.694Z"
   },
   {
    "duration": 41,
    "start_time": "2021-09-27T11:35:37.711Z"
   },
   {
    "duration": 2016,
    "start_time": "2021-10-01T16:48:09.084Z"
   },
   {
    "duration": 164,
    "start_time": "2021-10-01T16:48:11.103Z"
   },
   {
    "duration": 15,
    "start_time": "2021-10-01T16:48:11.270Z"
   },
   {
    "duration": 39,
    "start_time": "2021-10-01T16:48:11.288Z"
   },
   {
    "duration": 32,
    "start_time": "2021-10-01T16:48:11.329Z"
   },
   {
    "duration": 105,
    "start_time": "2021-10-01T16:48:11.364Z"
   },
   {
    "duration": 105,
    "start_time": "2021-10-01T16:48:11.471Z"
   },
   {
    "duration": 274,
    "start_time": "2021-10-01T16:48:11.580Z"
   },
   {
    "duration": 181,
    "start_time": "2021-10-01T16:48:11.857Z"
   },
   {
    "duration": 127,
    "start_time": "2021-10-01T16:48:12.041Z"
   },
   {
    "duration": 3,
    "start_time": "2021-10-01T16:48:12.171Z"
   },
   {
    "duration": 82,
    "start_time": "2021-10-01T16:48:12.176Z"
   },
   {
    "duration": 63,
    "start_time": "2021-10-01T16:48:12.261Z"
   },
   {
    "duration": 25,
    "start_time": "2021-10-01T16:48:12.327Z"
   },
   {
    "duration": 11540,
    "start_time": "2021-10-01T16:48:12.354Z"
   },
   {
    "duration": 2231,
    "start_time": "2021-10-01T16:48:23.897Z"
   },
   {
    "duration": 110,
    "start_time": "2021-10-01T16:48:26.131Z"
   },
   {
    "duration": 31,
    "start_time": "2021-10-01T16:48:26.244Z"
   },
   {
    "duration": 45,
    "start_time": "2021-10-01T16:48:26.279Z"
   },
   {
    "duration": 30,
    "start_time": "2021-10-01T16:48:26.326Z"
   },
   {
    "duration": 96,
    "start_time": "2021-10-01T16:48:26.358Z"
   },
   {
    "duration": 7,
    "start_time": "2021-10-01T16:48:26.456Z"
   },
   {
    "duration": 211,
    "start_time": "2021-10-01T16:48:26.467Z"
   },
   {
    "duration": 83,
    "start_time": "2021-10-01T16:48:26.681Z"
   },
   {
    "duration": 226,
    "start_time": "2021-10-01T16:48:26.766Z"
   },
   {
    "duration": 39,
    "start_time": "2021-10-01T16:48:26.994Z"
   },
   {
    "duration": 55,
    "start_time": "2021-10-01T16:48:27.035Z"
   },
   {
    "duration": 70,
    "start_time": "2021-10-01T16:48:27.093Z"
   },
   {
    "duration": 965,
    "start_time": "2021-10-01T16:48:27.165Z"
   },
   {
    "duration": 8,
    "start_time": "2021-10-01T16:48:28.132Z"
   },
   {
    "duration": 22,
    "start_time": "2021-10-01T16:48:28.143Z"
   },
   {
    "duration": 40,
    "start_time": "2021-10-01T16:48:28.167Z"
   },
   {
    "duration": 57,
    "start_time": "2021-10-01T16:48:28.210Z"
   },
   {
    "duration": 21,
    "start_time": "2021-10-01T16:48:28.269Z"
   },
   {
    "duration": 17,
    "start_time": "2021-10-01T16:48:28.292Z"
   },
   {
    "duration": 14,
    "start_time": "2021-10-01T16:51:42.766Z"
   },
   {
    "duration": 68,
    "start_time": "2021-10-01T16:52:28.131Z"
   },
   {
    "duration": 24,
    "start_time": "2021-10-01T16:52:48.643Z"
   },
   {
    "duration": 26,
    "start_time": "2021-10-01T16:52:53.378Z"
   },
   {
    "duration": 23,
    "start_time": "2021-10-01T16:53:05.521Z"
   },
   {
    "duration": 47,
    "start_time": "2021-10-01T16:53:45.761Z"
   },
   {
    "duration": 25,
    "start_time": "2021-10-01T16:54:11.456Z"
   },
   {
    "duration": 4889,
    "start_time": "2021-10-01T16:54:24.925Z"
   },
   {
    "duration": 26,
    "start_time": "2021-10-01T16:54:32.018Z"
   },
   {
    "duration": 72,
    "start_time": "2021-10-01T16:55:15.102Z"
   },
   {
    "duration": 71,
    "start_time": "2021-10-01T16:55:30.443Z"
   },
   {
    "duration": 910,
    "start_time": "2021-10-01T16:56:32.432Z"
   },
   {
    "duration": 1156,
    "start_time": "2021-10-01T16:56:41.870Z"
   },
   {
    "duration": 2018,
    "start_time": "2021-10-02T14:22:35.278Z"
   },
   {
    "duration": 167,
    "start_time": "2021-10-02T14:22:37.298Z"
   },
   {
    "duration": 20,
    "start_time": "2021-10-02T14:22:37.468Z"
   },
   {
    "duration": 39,
    "start_time": "2021-10-02T14:22:37.491Z"
   },
   {
    "duration": 6,
    "start_time": "2021-10-02T14:22:37.532Z"
   },
   {
    "duration": 96,
    "start_time": "2021-10-02T14:22:37.540Z"
   },
   {
    "duration": 101,
    "start_time": "2021-10-02T14:22:37.639Z"
   },
   {
    "duration": 285,
    "start_time": "2021-10-02T14:22:37.744Z"
   },
   {
    "duration": 185,
    "start_time": "2021-10-02T14:22:38.032Z"
   },
   {
    "duration": 122,
    "start_time": "2021-10-02T14:22:38.223Z"
   },
   {
    "duration": 4,
    "start_time": "2021-10-02T14:22:38.347Z"
   },
   {
    "duration": 64,
    "start_time": "2021-10-02T14:22:38.354Z"
   },
   {
    "duration": 81,
    "start_time": "2021-10-02T14:22:38.420Z"
   },
   {
    "duration": 8,
    "start_time": "2021-10-02T14:22:38.503Z"
   },
   {
    "duration": 8512,
    "start_time": "2021-10-02T14:22:38.513Z"
   },
   {
    "duration": -191,
    "start_time": "2021-10-02T14:22:47.219Z"
   },
   {
    "duration": -194,
    "start_time": "2021-10-02T14:22:47.223Z"
   },
   {
    "duration": -196,
    "start_time": "2021-10-02T14:22:47.227Z"
   },
   {
    "duration": -198,
    "start_time": "2021-10-02T14:22:47.230Z"
   },
   {
    "duration": -201,
    "start_time": "2021-10-02T14:22:47.235Z"
   },
   {
    "duration": -203,
    "start_time": "2021-10-02T14:22:47.239Z"
   },
   {
    "duration": -206,
    "start_time": "2021-10-02T14:22:47.243Z"
   },
   {
    "duration": -209,
    "start_time": "2021-10-02T14:22:47.247Z"
   },
   {
    "duration": -211,
    "start_time": "2021-10-02T14:22:47.251Z"
   },
   {
    "duration": -214,
    "start_time": "2021-10-02T14:22:47.255Z"
   },
   {
    "duration": -289,
    "start_time": "2021-10-02T14:22:47.331Z"
   },
   {
    "duration": -298,
    "start_time": "2021-10-02T14:22:47.342Z"
   },
   {
    "duration": -308,
    "start_time": "2021-10-02T14:22:47.353Z"
   },
   {
    "duration": -311,
    "start_time": "2021-10-02T14:22:47.357Z"
   },
   {
    "duration": -315,
    "start_time": "2021-10-02T14:22:47.363Z"
   },
   {
    "duration": -317,
    "start_time": "2021-10-02T14:22:47.366Z"
   },
   {
    "duration": -321,
    "start_time": "2021-10-02T14:22:47.371Z"
   },
   {
    "duration": -325,
    "start_time": "2021-10-02T14:22:47.376Z"
   },
   {
    "duration": -329,
    "start_time": "2021-10-02T14:22:47.382Z"
   },
   {
    "duration": 1890,
    "start_time": "2021-10-02T14:29:46.943Z"
   },
   {
    "duration": 167,
    "start_time": "2021-10-02T14:29:48.836Z"
   },
   {
    "duration": 19,
    "start_time": "2021-10-02T14:29:49.006Z"
   },
   {
    "duration": 46,
    "start_time": "2021-10-02T14:29:49.028Z"
   },
   {
    "duration": 25,
    "start_time": "2021-10-02T14:29:49.076Z"
   },
   {
    "duration": 116,
    "start_time": "2021-10-02T14:29:49.103Z"
   },
   {
    "duration": 105,
    "start_time": "2021-10-02T14:29:49.222Z"
   },
   {
    "duration": 267,
    "start_time": "2021-10-02T14:29:49.330Z"
   },
   {
    "duration": 180,
    "start_time": "2021-10-02T14:29:49.600Z"
   },
   {
    "duration": 118,
    "start_time": "2021-10-02T14:29:49.783Z"
   },
   {
    "duration": 3,
    "start_time": "2021-10-02T14:29:49.904Z"
   },
   {
    "duration": 74,
    "start_time": "2021-10-02T14:29:49.910Z"
   },
   {
    "duration": 101,
    "start_time": "2021-10-02T14:29:49.987Z"
   },
   {
    "duration": 10,
    "start_time": "2021-10-02T14:29:50.091Z"
   },
   {
    "duration": 11601,
    "start_time": "2021-10-02T14:29:50.104Z"
   },
   {
    "duration": 220,
    "start_time": "2021-10-02T14:30:01.708Z"
   },
   {
    "duration": 32,
    "start_time": "2021-10-02T14:30:01.931Z"
   },
   {
    "duration": 70,
    "start_time": "2021-10-02T14:30:01.966Z"
   },
   {
    "duration": 96,
    "start_time": "2021-10-02T14:30:02.039Z"
   },
   {
    "duration": 209,
    "start_time": "2021-10-02T14:30:02.138Z"
   },
   {
    "duration": 8,
    "start_time": "2021-10-02T14:30:02.350Z"
   },
   {
    "duration": 587,
    "start_time": "2021-10-02T14:30:02.361Z"
   },
   {
    "duration": 195,
    "start_time": "2021-10-02T14:30:02.951Z"
   },
   {
    "duration": 403,
    "start_time": "2021-10-02T14:30:03.150Z"
   },
   {
    "duration": 25,
    "start_time": "2021-10-02T14:30:03.555Z"
   },
   {
    "duration": 42,
    "start_time": "2021-10-02T14:30:03.583Z"
   },
   {
    "duration": 29,
    "start_time": "2021-10-02T14:30:03.632Z"
   },
   {
    "duration": 944,
    "start_time": "2021-10-02T14:30:03.664Z"
   },
   {
    "duration": 16,
    "start_time": "2021-10-02T14:30:04.611Z"
   },
   {
    "duration": 23,
    "start_time": "2021-10-02T14:30:04.629Z"
   },
   {
    "duration": 27,
    "start_time": "2021-10-02T14:30:04.654Z"
   },
   {
    "duration": 43,
    "start_time": "2021-10-02T14:30:04.683Z"
   },
   {
    "duration": 28,
    "start_time": "2021-10-02T14:30:04.728Z"
   },
   {
    "duration": 24,
    "start_time": "2021-10-02T14:30:04.759Z"
   }
  ],
  "kernelspec": {
   "display_name": "Python 3",
   "language": "python",
   "name": "python3"
  },
  "language_info": {
   "codemirror_mode": {
    "name": "ipython",
    "version": 3
   },
   "file_extension": ".py",
   "mimetype": "text/x-python",
   "name": "python",
   "nbconvert_exporter": "python",
   "pygments_lexer": "ipython3",
   "version": "3.7.10"
  },
  "toc": {
   "base_numbering": 1,
   "nav_menu": {},
   "number_sections": true,
   "sideBar": true,
   "skip_h1_title": true,
   "title_cell": "Содержание",
   "title_sidebar": "Contents",
   "toc_cell": true,
   "toc_position": {
    "height": "calc(100% - 180px)",
    "left": "10px",
    "top": "150px",
    "width": "165px"
   },
   "toc_section_display": true,
   "toc_window_display": true
  },
  "toc-autonumbering": false
 },
 "nbformat": 4,
 "nbformat_minor": 4
}

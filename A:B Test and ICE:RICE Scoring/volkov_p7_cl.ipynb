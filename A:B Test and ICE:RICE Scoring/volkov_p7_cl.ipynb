{
 "cells": [
  {
   "cell_type": "markdown",
   "metadata": {
    "toc": true
   },
   "source": [
    "<h1>Содержание<span class=\"tocSkip\"></span></h1>\n",
    "<div class=\"toc\"><ul class=\"toc-item\"><li><span><a href=\"#Изучение-данных-из-файла\" data-toc-modified-id=\"Изучение-данных-из-файла-1\"><span class=\"toc-item-num\">1&nbsp;&nbsp;</span>Изучение данных из файла</a></span><ul class=\"toc-item\"><li><span><a href=\"#Выводы\" data-toc-modified-id=\"Выводы-1.1\"><span class=\"toc-item-num\">1.1&nbsp;&nbsp;</span>Выводы</a></span></li></ul></li><li><span><a href=\"#Приоритизация-гипотез.\" data-toc-modified-id=\"Приоритизация-гипотез.-2\"><span class=\"toc-item-num\">2&nbsp;&nbsp;</span>Приоритизация гипотез.</a></span><ul class=\"toc-item\"><li><span><a href=\"#ICE\" data-toc-modified-id=\"ICE-2.1\"><span class=\"toc-item-num\">2.1&nbsp;&nbsp;</span>ICE</a></span></li><li><span><a href=\"#RICE\" data-toc-modified-id=\"RICE-2.2\"><span class=\"toc-item-num\">2.2&nbsp;&nbsp;</span>RICE</a></span></li><li><span><a href=\"#Выводы\" data-toc-modified-id=\"Выводы-2.3\"><span class=\"toc-item-num\">2.3&nbsp;&nbsp;</span>Выводы</a></span></li></ul></li><li><span><a href=\"#Анализ-A/B-теста\" data-toc-modified-id=\"Анализ-A/B-теста-3\"><span class=\"toc-item-num\">3&nbsp;&nbsp;</span>Анализ A/B-теста</a></span><ul class=\"toc-item\"><li><span><a href=\"#Кумулятивная-выручка-по-группам\" data-toc-modified-id=\"Кумулятивная-выручка-по-группам-3.1\"><span class=\"toc-item-num\">3.1&nbsp;&nbsp;</span>Кумулятивная выручка по группам</a></span></li><li><span><a href=\"#Кумулятивный-средний-чек.\" data-toc-modified-id=\"Кумулятивный-средний-чек.-3.2\"><span class=\"toc-item-num\">3.2&nbsp;&nbsp;</span>Кумулятивный средний чек.</a></span></li><li><span><a href=\"#Относительное-изменение-кумулятивного-среднего-чека-группы-B-к-группе-A.\" data-toc-modified-id=\"Относительное-изменение-кумулятивного-среднего-чека-группы-B-к-группе-A.-3.3\"><span class=\"toc-item-num\">3.3&nbsp;&nbsp;</span>Относительное изменение кумулятивного среднего чека группы B к группе A.</a></span></li><li><span><a href=\"#Кумулятивная-конверсия-по-группам\" data-toc-modified-id=\"Кумулятивная-конверсия-по-группам-3.4\"><span class=\"toc-item-num\">3.4&nbsp;&nbsp;</span>Кумулятивная конверсия по группам</a></span></li><li><span><a href=\"#Относительное-изменение-кумулятивной-конверсии-группы-B-к-группе-A\" data-toc-modified-id=\"Относительное-изменение-кумулятивной-конверсии-группы-B-к-группе-A-3.5\"><span class=\"toc-item-num\">3.5&nbsp;&nbsp;</span>Относительное изменение кумулятивной конверсии группы B к группе A</a></span></li><li><span><a href=\"#Количество-заказов-по-пользователям\" data-toc-modified-id=\"Количество-заказов-по-пользователям-3.6\"><span class=\"toc-item-num\">3.6&nbsp;&nbsp;</span>Количество заказов по пользователям</a></span></li><li><span><a href=\"#Стоимость-заказов\" data-toc-modified-id=\"Стоимость-заказов-3.7\"><span class=\"toc-item-num\">3.7&nbsp;&nbsp;</span>Стоимость заказов</a></span></li><li><span><a href=\"#Различие-в-конверсии-между-группами-по-«сырым»-данным.\" data-toc-modified-id=\"Различие-в-конверсии-между-группами-по-«сырым»-данным.-3.8\"><span class=\"toc-item-num\">3.8&nbsp;&nbsp;</span>Различие в конверсии между группами по «сырым» данным.</a></span></li><li><span><a href=\"#Различие-в-среднем-чеке-между-группами-по-«сырым»-данным.\" data-toc-modified-id=\"Различие-в-среднем-чеке-между-группами-по-«сырым»-данным.-3.9\"><span class=\"toc-item-num\">3.9&nbsp;&nbsp;</span>Различие в среднем чеке между группами по «сырым» данным.</a></span></li><li><span><a href=\"#Различие-в-конверсии-между-группами-по-«очищенным»-данным.\" data-toc-modified-id=\"Различие-в-конверсии-между-группами-по-«очищенным»-данным.-3.10\"><span class=\"toc-item-num\">3.10&nbsp;&nbsp;</span>Различие в конверсии между группами по «очищенным» данным.</a></span></li><li><span><a href=\"#Различие-в-среднем-чеке-между-группами-по-«очищенным»-данным.\" data-toc-modified-id=\"Различие-в-среднем-чеке-между-группами-по-«очищенным»-данным.-3.11\"><span class=\"toc-item-num\">3.11&nbsp;&nbsp;</span>Различие в среднем чеке между группами по «очищенным» данным.</a></span></li></ul></li><li><span><a href=\"#Выводы\" data-toc-modified-id=\"Выводы-4\"><span class=\"toc-item-num\">4&nbsp;&nbsp;</span>Выводы</a></span></li></ul></div>"
   ]
  },
  {
   "cell_type": "markdown",
   "metadata": {},
   "source": [
    "# Приоретизация гипотез и проведение A/B теста."
   ]
  },
  {
   "cell_type": "markdown",
   "metadata": {},
   "source": [
    "Цели проекта: \n",
    " - Изучение гипотез и выбор самых перспективных\n",
    " - Анализ результатов A/B-тестирования \n",
    " \n",
    "Изучаемые данные:\n",
    "- Таблица с 9 гипотезами по увеличению выручки интернет-магазина с посчитанными параметрами Reach, Impact, Confidence, Effort.\n",
    "- Таблицы с и информацией о заказах и посещениях двух изучаемых групп пользователей\n"
   ]
  },
  {
   "cell_type": "markdown",
   "metadata": {},
   "source": [
    "## Изучение данных из файла"
   ]
  },
  {
   "cell_type": "code",
   "execution_count": 1,
   "metadata": {},
   "outputs": [],
   "source": [
    "import warnings\n",
    "import pandas as pd\n",
    "import numpy as np\n",
    "import scipy.stats as stats\n",
    "import matplotlib.pyplot as plt\n",
    "import seaborn as sns\n",
    "%matplotlib inline\n",
    "from pylab import rcParams\n",
    "rcParams['figure.figsize'] = 10, 7\n",
    "import matplotlib.dates as md\n",
    "from matplotlib.ticker import FuncFormatter\n",
    "import matplotlib.ticker as ticker\n",
    "from matplotlib import cycler\n",
    "import operator\n",
    "colors = cycler('color',\n",
    "                ['#345995', '#EAC435', '#8C2D7E',\n",
    "                 '#E40066', '#03CEA4', '#FB4D3D',\n",
    "                 '#806045', '#04724D', '#FFFFFF',\n",
    "                 '#00A8E8', '#88BB44', '#FFBBBB','#00FF00','#000000'])\n",
    "plt.rc('axes',facecolor='#E6E6E6',  edgecolor='none',\n",
    "       axisbelow=True, grid=True, prop_cycle=colors)\n",
    "plt.rc('grid', color='w', linestyle='solid')\n",
    "plt.rc('xtick', direction='out', color='gray')\n",
    "plt.rc('ytick', direction='out', color='gray')\n",
    "plt.rc('patch', edgecolor='#E6E6E6')\n",
    "plt.rc('lines', linewidth=2)\n",
    "plt.rcParams.update({\n",
    "    \"figure.facecolor\":  (1.0, 1.0, 1.0, 0.999)})"
   ]
  },
  {
   "cell_type": "code",
   "execution_count": 2,
   "metadata": {},
   "outputs": [],
   "source": [
    "try:\n",
    "    hypothesis = pd.read_csv('/datasets/hypothesis.csv')\n",
    "except:\n",
    "    hypothesis = pd.read_csv('hypothesis.csv')\n",
    "try:    \n",
    "    orders = pd.read_csv('/datasets/orders.csv')\n",
    "except:\n",
    "    orders = pd.read_csv('orders.csv')\n",
    "try:    \n",
    "    visitors = pd.read_csv('/datasets/visitors.csv')\n",
    "except:\n",
    "    visitors = pd.read_csv('visitors.csv')    "
   ]
  },
  {
   "cell_type": "code",
   "execution_count": 3,
   "metadata": {},
   "outputs": [
    {
     "data": {
      "text/html": [
       "<style  type=\"text/css\" >\n",
       "    #T_972b43be_238e_11ec_bfa9_02420a391b35 th {\n",
       "          text-align: left;\n",
       "    }    #T_972b43be_238e_11ec_bfa9_02420a391b35row0_col0 {\n",
       "            text-align:  left;\n",
       "        }    #T_972b43be_238e_11ec_bfa9_02420a391b35row0_col1 {\n",
       "            text-align:  left;\n",
       "        }    #T_972b43be_238e_11ec_bfa9_02420a391b35row0_col2 {\n",
       "            text-align:  left;\n",
       "        }    #T_972b43be_238e_11ec_bfa9_02420a391b35row0_col3 {\n",
       "            text-align:  left;\n",
       "        }    #T_972b43be_238e_11ec_bfa9_02420a391b35row0_col4 {\n",
       "            text-align:  left;\n",
       "        }    #T_972b43be_238e_11ec_bfa9_02420a391b35row1_col0 {\n",
       "            text-align:  left;\n",
       "        }    #T_972b43be_238e_11ec_bfa9_02420a391b35row1_col1 {\n",
       "            text-align:  left;\n",
       "        }    #T_972b43be_238e_11ec_bfa9_02420a391b35row1_col2 {\n",
       "            text-align:  left;\n",
       "        }    #T_972b43be_238e_11ec_bfa9_02420a391b35row1_col3 {\n",
       "            text-align:  left;\n",
       "        }    #T_972b43be_238e_11ec_bfa9_02420a391b35row1_col4 {\n",
       "            text-align:  left;\n",
       "        }    #T_972b43be_238e_11ec_bfa9_02420a391b35row2_col0 {\n",
       "            text-align:  left;\n",
       "        }    #T_972b43be_238e_11ec_bfa9_02420a391b35row2_col1 {\n",
       "            text-align:  left;\n",
       "        }    #T_972b43be_238e_11ec_bfa9_02420a391b35row2_col2 {\n",
       "            text-align:  left;\n",
       "        }    #T_972b43be_238e_11ec_bfa9_02420a391b35row2_col3 {\n",
       "            text-align:  left;\n",
       "        }    #T_972b43be_238e_11ec_bfa9_02420a391b35row2_col4 {\n",
       "            text-align:  left;\n",
       "        }    #T_972b43be_238e_11ec_bfa9_02420a391b35row3_col0 {\n",
       "            text-align:  left;\n",
       "        }    #T_972b43be_238e_11ec_bfa9_02420a391b35row3_col1 {\n",
       "            text-align:  left;\n",
       "        }    #T_972b43be_238e_11ec_bfa9_02420a391b35row3_col2 {\n",
       "            text-align:  left;\n",
       "        }    #T_972b43be_238e_11ec_bfa9_02420a391b35row3_col3 {\n",
       "            text-align:  left;\n",
       "        }    #T_972b43be_238e_11ec_bfa9_02420a391b35row3_col4 {\n",
       "            text-align:  left;\n",
       "        }    #T_972b43be_238e_11ec_bfa9_02420a391b35row4_col0 {\n",
       "            text-align:  left;\n",
       "        }    #T_972b43be_238e_11ec_bfa9_02420a391b35row4_col1 {\n",
       "            text-align:  left;\n",
       "        }    #T_972b43be_238e_11ec_bfa9_02420a391b35row4_col2 {\n",
       "            text-align:  left;\n",
       "        }    #T_972b43be_238e_11ec_bfa9_02420a391b35row4_col3 {\n",
       "            text-align:  left;\n",
       "        }    #T_972b43be_238e_11ec_bfa9_02420a391b35row4_col4 {\n",
       "            text-align:  left;\n",
       "        }    #T_972b43be_238e_11ec_bfa9_02420a391b35row5_col0 {\n",
       "            text-align:  left;\n",
       "        }    #T_972b43be_238e_11ec_bfa9_02420a391b35row5_col1 {\n",
       "            text-align:  left;\n",
       "        }    #T_972b43be_238e_11ec_bfa9_02420a391b35row5_col2 {\n",
       "            text-align:  left;\n",
       "        }    #T_972b43be_238e_11ec_bfa9_02420a391b35row5_col3 {\n",
       "            text-align:  left;\n",
       "        }    #T_972b43be_238e_11ec_bfa9_02420a391b35row5_col4 {\n",
       "            text-align:  left;\n",
       "        }    #T_972b43be_238e_11ec_bfa9_02420a391b35row6_col0 {\n",
       "            text-align:  left;\n",
       "        }    #T_972b43be_238e_11ec_bfa9_02420a391b35row6_col1 {\n",
       "            text-align:  left;\n",
       "        }    #T_972b43be_238e_11ec_bfa9_02420a391b35row6_col2 {\n",
       "            text-align:  left;\n",
       "        }    #T_972b43be_238e_11ec_bfa9_02420a391b35row6_col3 {\n",
       "            text-align:  left;\n",
       "        }    #T_972b43be_238e_11ec_bfa9_02420a391b35row6_col4 {\n",
       "            text-align:  left;\n",
       "        }    #T_972b43be_238e_11ec_bfa9_02420a391b35row7_col0 {\n",
       "            text-align:  left;\n",
       "        }    #T_972b43be_238e_11ec_bfa9_02420a391b35row7_col1 {\n",
       "            text-align:  left;\n",
       "        }    #T_972b43be_238e_11ec_bfa9_02420a391b35row7_col2 {\n",
       "            text-align:  left;\n",
       "        }    #T_972b43be_238e_11ec_bfa9_02420a391b35row7_col3 {\n",
       "            text-align:  left;\n",
       "        }    #T_972b43be_238e_11ec_bfa9_02420a391b35row7_col4 {\n",
       "            text-align:  left;\n",
       "        }    #T_972b43be_238e_11ec_bfa9_02420a391b35row8_col0 {\n",
       "            text-align:  left;\n",
       "        }    #T_972b43be_238e_11ec_bfa9_02420a391b35row8_col1 {\n",
       "            text-align:  left;\n",
       "        }    #T_972b43be_238e_11ec_bfa9_02420a391b35row8_col2 {\n",
       "            text-align:  left;\n",
       "        }    #T_972b43be_238e_11ec_bfa9_02420a391b35row8_col3 {\n",
       "            text-align:  left;\n",
       "        }    #T_972b43be_238e_11ec_bfa9_02420a391b35row8_col4 {\n",
       "            text-align:  left;\n",
       "        }</style><table id=\"T_972b43be_238e_11ec_bfa9_02420a391b35\" ><thead>    <tr>        <th class=\"blank level0\" ></th>        <th class=\"col_heading level0 col0\" >Hypothesis</th>        <th class=\"col_heading level0 col1\" >Reach</th>        <th class=\"col_heading level0 col2\" >Impact</th>        <th class=\"col_heading level0 col3\" >Confidence</th>        <th class=\"col_heading level0 col4\" >Efforts</th>    </tr></thead><tbody>\n",
       "                <tr>\n",
       "                        <th id=\"T_972b43be_238e_11ec_bfa9_02420a391b35level0_row0\" class=\"row_heading level0 row0\" >1</th>\n",
       "                        <td id=\"T_972b43be_238e_11ec_bfa9_02420a391b35row0_col0\" class=\"data row0 col0\" >Добавить два новых канала привлечения трафика, что позволит привлекать на 30% больше пользователей</td>\n",
       "                        <td id=\"T_972b43be_238e_11ec_bfa9_02420a391b35row0_col1\" class=\"data row0 col1\" >3</td>\n",
       "                        <td id=\"T_972b43be_238e_11ec_bfa9_02420a391b35row0_col2\" class=\"data row0 col2\" >10</td>\n",
       "                        <td id=\"T_972b43be_238e_11ec_bfa9_02420a391b35row0_col3\" class=\"data row0 col3\" >8</td>\n",
       "                        <td id=\"T_972b43be_238e_11ec_bfa9_02420a391b35row0_col4\" class=\"data row0 col4\" >6</td>\n",
       "            </tr>\n",
       "            <tr>\n",
       "                        <th id=\"T_972b43be_238e_11ec_bfa9_02420a391b35level0_row1\" class=\"row_heading level0 row1\" >2</th>\n",
       "                        <td id=\"T_972b43be_238e_11ec_bfa9_02420a391b35row1_col0\" class=\"data row1 col0\" >Запустить собственную службу доставки, что сократит срок доставки заказов</td>\n",
       "                        <td id=\"T_972b43be_238e_11ec_bfa9_02420a391b35row1_col1\" class=\"data row1 col1\" >2</td>\n",
       "                        <td id=\"T_972b43be_238e_11ec_bfa9_02420a391b35row1_col2\" class=\"data row1 col2\" >5</td>\n",
       "                        <td id=\"T_972b43be_238e_11ec_bfa9_02420a391b35row1_col3\" class=\"data row1 col3\" >4</td>\n",
       "                        <td id=\"T_972b43be_238e_11ec_bfa9_02420a391b35row1_col4\" class=\"data row1 col4\" >10</td>\n",
       "            </tr>\n",
       "            <tr>\n",
       "                        <th id=\"T_972b43be_238e_11ec_bfa9_02420a391b35level0_row2\" class=\"row_heading level0 row2\" >3</th>\n",
       "                        <td id=\"T_972b43be_238e_11ec_bfa9_02420a391b35row2_col0\" class=\"data row2 col0\" >Добавить блоки рекомендаций товаров на сайт интернет магазина, чтобы повысить конверсию и средний чек заказа</td>\n",
       "                        <td id=\"T_972b43be_238e_11ec_bfa9_02420a391b35row2_col1\" class=\"data row2 col1\" >8</td>\n",
       "                        <td id=\"T_972b43be_238e_11ec_bfa9_02420a391b35row2_col2\" class=\"data row2 col2\" >3</td>\n",
       "                        <td id=\"T_972b43be_238e_11ec_bfa9_02420a391b35row2_col3\" class=\"data row2 col3\" >7</td>\n",
       "                        <td id=\"T_972b43be_238e_11ec_bfa9_02420a391b35row2_col4\" class=\"data row2 col4\" >3</td>\n",
       "            </tr>\n",
       "            <tr>\n",
       "                        <th id=\"T_972b43be_238e_11ec_bfa9_02420a391b35level0_row3\" class=\"row_heading level0 row3\" >4</th>\n",
       "                        <td id=\"T_972b43be_238e_11ec_bfa9_02420a391b35row3_col0\" class=\"data row3 col0\" >Изменить структура категорий, что увеличит конверсию, т.к. пользователи быстрее найдут нужный товар</td>\n",
       "                        <td id=\"T_972b43be_238e_11ec_bfa9_02420a391b35row3_col1\" class=\"data row3 col1\" >8</td>\n",
       "                        <td id=\"T_972b43be_238e_11ec_bfa9_02420a391b35row3_col2\" class=\"data row3 col2\" >3</td>\n",
       "                        <td id=\"T_972b43be_238e_11ec_bfa9_02420a391b35row3_col3\" class=\"data row3 col3\" >3</td>\n",
       "                        <td id=\"T_972b43be_238e_11ec_bfa9_02420a391b35row3_col4\" class=\"data row3 col4\" >8</td>\n",
       "            </tr>\n",
       "            <tr>\n",
       "                        <th id=\"T_972b43be_238e_11ec_bfa9_02420a391b35level0_row4\" class=\"row_heading level0 row4\" >5</th>\n",
       "                        <td id=\"T_972b43be_238e_11ec_bfa9_02420a391b35row4_col0\" class=\"data row4 col0\" >Изменить цвет фона главной страницы, чтобы увеличить вовлеченность пользователей</td>\n",
       "                        <td id=\"T_972b43be_238e_11ec_bfa9_02420a391b35row4_col1\" class=\"data row4 col1\" >3</td>\n",
       "                        <td id=\"T_972b43be_238e_11ec_bfa9_02420a391b35row4_col2\" class=\"data row4 col2\" >1</td>\n",
       "                        <td id=\"T_972b43be_238e_11ec_bfa9_02420a391b35row4_col3\" class=\"data row4 col3\" >1</td>\n",
       "                        <td id=\"T_972b43be_238e_11ec_bfa9_02420a391b35row4_col4\" class=\"data row4 col4\" >1</td>\n",
       "            </tr>\n",
       "            <tr>\n",
       "                        <th id=\"T_972b43be_238e_11ec_bfa9_02420a391b35level0_row5\" class=\"row_heading level0 row5\" >6</th>\n",
       "                        <td id=\"T_972b43be_238e_11ec_bfa9_02420a391b35row5_col0\" class=\"data row5 col0\" >Добавить страницу отзывов клиентов о магазине, что позволит увеличить количество заказов</td>\n",
       "                        <td id=\"T_972b43be_238e_11ec_bfa9_02420a391b35row5_col1\" class=\"data row5 col1\" >3</td>\n",
       "                        <td id=\"T_972b43be_238e_11ec_bfa9_02420a391b35row5_col2\" class=\"data row5 col2\" >2</td>\n",
       "                        <td id=\"T_972b43be_238e_11ec_bfa9_02420a391b35row5_col3\" class=\"data row5 col3\" >2</td>\n",
       "                        <td id=\"T_972b43be_238e_11ec_bfa9_02420a391b35row5_col4\" class=\"data row5 col4\" >3</td>\n",
       "            </tr>\n",
       "            <tr>\n",
       "                        <th id=\"T_972b43be_238e_11ec_bfa9_02420a391b35level0_row6\" class=\"row_heading level0 row6\" >7</th>\n",
       "                        <td id=\"T_972b43be_238e_11ec_bfa9_02420a391b35row6_col0\" class=\"data row6 col0\" >Показать на главной странице баннеры с актуальными акциями и распродажами, чтобы увеличить конверсию</td>\n",
       "                        <td id=\"T_972b43be_238e_11ec_bfa9_02420a391b35row6_col1\" class=\"data row6 col1\" >5</td>\n",
       "                        <td id=\"T_972b43be_238e_11ec_bfa9_02420a391b35row6_col2\" class=\"data row6 col2\" >3</td>\n",
       "                        <td id=\"T_972b43be_238e_11ec_bfa9_02420a391b35row6_col3\" class=\"data row6 col3\" >8</td>\n",
       "                        <td id=\"T_972b43be_238e_11ec_bfa9_02420a391b35row6_col4\" class=\"data row6 col4\" >3</td>\n",
       "            </tr>\n",
       "            <tr>\n",
       "                        <th id=\"T_972b43be_238e_11ec_bfa9_02420a391b35level0_row7\" class=\"row_heading level0 row7\" >8</th>\n",
       "                        <td id=\"T_972b43be_238e_11ec_bfa9_02420a391b35row7_col0\" class=\"data row7 col0\" >Добавить форму подписки на все основные страницы, чтобы собрать базу клиентов для email-рассылок</td>\n",
       "                        <td id=\"T_972b43be_238e_11ec_bfa9_02420a391b35row7_col1\" class=\"data row7 col1\" >10</td>\n",
       "                        <td id=\"T_972b43be_238e_11ec_bfa9_02420a391b35row7_col2\" class=\"data row7 col2\" >7</td>\n",
       "                        <td id=\"T_972b43be_238e_11ec_bfa9_02420a391b35row7_col3\" class=\"data row7 col3\" >8</td>\n",
       "                        <td id=\"T_972b43be_238e_11ec_bfa9_02420a391b35row7_col4\" class=\"data row7 col4\" >5</td>\n",
       "            </tr>\n",
       "            <tr>\n",
       "                        <th id=\"T_972b43be_238e_11ec_bfa9_02420a391b35level0_row8\" class=\"row_heading level0 row8\" >9</th>\n",
       "                        <td id=\"T_972b43be_238e_11ec_bfa9_02420a391b35row8_col0\" class=\"data row8 col0\" >Запустить акцию, дающую скидку на товар в день рождения</td>\n",
       "                        <td id=\"T_972b43be_238e_11ec_bfa9_02420a391b35row8_col1\" class=\"data row8 col1\" >1</td>\n",
       "                        <td id=\"T_972b43be_238e_11ec_bfa9_02420a391b35row8_col2\" class=\"data row8 col2\" >9</td>\n",
       "                        <td id=\"T_972b43be_238e_11ec_bfa9_02420a391b35row8_col3\" class=\"data row8 col3\" >9</td>\n",
       "                        <td id=\"T_972b43be_238e_11ec_bfa9_02420a391b35row8_col4\" class=\"data row8 col4\" >5</td>\n",
       "            </tr>\n",
       "    </tbody></table>"
      ],
      "text/plain": [
       "<pandas.io.formats.style.Styler at 0x7f249c73d490>"
      ]
     },
     "execution_count": 3,
     "metadata": {},
     "output_type": "execute_result"
    }
   ],
   "source": [
    "pd.set_option('display.max_colwidth', -1)\n",
    "hypothesis.index += 1\n",
    "hypoprint = hypothesis.style.set_properties(**{'text-align': 'left'}).set_table_styles([ dict(selector='th', props=[('text-align', 'left')] ) ])\n",
    "\n",
    "hypoprint"
   ]
  },
  {
   "cell_type": "code",
   "execution_count": 4,
   "metadata": {},
   "outputs": [
    {
     "data": {
      "text/html": [
       "<div>\n",
       "<style scoped>\n",
       "    .dataframe tbody tr th:only-of-type {\n",
       "        vertical-align: middle;\n",
       "    }\n",
       "\n",
       "    .dataframe tbody tr th {\n",
       "        vertical-align: top;\n",
       "    }\n",
       "\n",
       "    .dataframe thead th {\n",
       "        text-align: right;\n",
       "    }\n",
       "</style>\n",
       "<table border=\"1\" class=\"dataframe\">\n",
       "  <thead>\n",
       "    <tr style=\"text-align: right;\">\n",
       "      <th></th>\n",
       "      <th>transactionId</th>\n",
       "      <th>visitorId</th>\n",
       "      <th>date</th>\n",
       "      <th>revenue</th>\n",
       "      <th>group</th>\n",
       "    </tr>\n",
       "  </thead>\n",
       "  <tbody>\n",
       "    <tr>\n",
       "      <td>0</td>\n",
       "      <td>3667963787</td>\n",
       "      <td>3312258926</td>\n",
       "      <td>2019-08-15</td>\n",
       "      <td>1650</td>\n",
       "      <td>B</td>\n",
       "    </tr>\n",
       "    <tr>\n",
       "      <td>1</td>\n",
       "      <td>2804400009</td>\n",
       "      <td>3642806036</td>\n",
       "      <td>2019-08-15</td>\n",
       "      <td>730</td>\n",
       "      <td>B</td>\n",
       "    </tr>\n",
       "    <tr>\n",
       "      <td>2</td>\n",
       "      <td>2961555356</td>\n",
       "      <td>4069496402</td>\n",
       "      <td>2019-08-15</td>\n",
       "      <td>400</td>\n",
       "      <td>A</td>\n",
       "    </tr>\n",
       "    <tr>\n",
       "      <td>3</td>\n",
       "      <td>3797467345</td>\n",
       "      <td>1196621759</td>\n",
       "      <td>2019-08-15</td>\n",
       "      <td>9759</td>\n",
       "      <td>B</td>\n",
       "    </tr>\n",
       "    <tr>\n",
       "      <td>4</td>\n",
       "      <td>2282983706</td>\n",
       "      <td>2322279887</td>\n",
       "      <td>2019-08-15</td>\n",
       "      <td>2308</td>\n",
       "      <td>B</td>\n",
       "    </tr>\n",
       "  </tbody>\n",
       "</table>\n",
       "</div>"
      ],
      "text/plain": [
       "   transactionId   visitorId        date  revenue group\n",
       "0  3667963787     3312258926  2019-08-15  1650     B   \n",
       "1  2804400009     3642806036  2019-08-15  730      B   \n",
       "2  2961555356     4069496402  2019-08-15  400      A   \n",
       "3  3797467345     1196621759  2019-08-15  9759     B   \n",
       "4  2282983706     2322279887  2019-08-15  2308     B   "
      ]
     },
     "execution_count": 4,
     "metadata": {},
     "output_type": "execute_result"
    }
   ],
   "source": [
    "orders.head()"
   ]
  },
  {
   "cell_type": "code",
   "execution_count": 5,
   "metadata": {},
   "outputs": [
    {
     "name": "stdout",
     "output_type": "stream",
     "text": [
      "<class 'pandas.core.frame.DataFrame'>\n",
      "RangeIndex: 1197 entries, 0 to 1196\n",
      "Data columns (total 5 columns):\n",
      "transactionId    1197 non-null int64\n",
      "visitorId        1197 non-null int64\n",
      "date             1197 non-null object\n",
      "revenue          1197 non-null int64\n",
      "group            1197 non-null object\n",
      "dtypes: int64(3), object(2)\n",
      "memory usage: 46.9+ KB\n"
     ]
    }
   ],
   "source": [
    "orders.info()"
   ]
  },
  {
   "cell_type": "code",
   "execution_count": 6,
   "metadata": {},
   "outputs": [
    {
     "name": "stdout",
     "output_type": "stream",
     "text": [
      "Дупликаты строк: 0\n"
     ]
    }
   ],
   "source": [
    "print('Дупликаты строк:',orders.duplicated().sum())"
   ]
  },
  {
   "cell_type": "code",
   "execution_count": 7,
   "metadata": {},
   "outputs": [
    {
     "data": {
      "text/html": [
       "<div>\n",
       "<style scoped>\n",
       "    .dataframe tbody tr th:only-of-type {\n",
       "        vertical-align: middle;\n",
       "    }\n",
       "\n",
       "    .dataframe tbody tr th {\n",
       "        vertical-align: top;\n",
       "    }\n",
       "\n",
       "    .dataframe thead th {\n",
       "        text-align: right;\n",
       "    }\n",
       "</style>\n",
       "<table border=\"1\" class=\"dataframe\">\n",
       "  <thead>\n",
       "    <tr style=\"text-align: right;\">\n",
       "      <th></th>\n",
       "      <th>date</th>\n",
       "      <th>group</th>\n",
       "      <th>visitors</th>\n",
       "    </tr>\n",
       "  </thead>\n",
       "  <tbody>\n",
       "    <tr>\n",
       "      <td>0</td>\n",
       "      <td>2019-08-01</td>\n",
       "      <td>A</td>\n",
       "      <td>719</td>\n",
       "    </tr>\n",
       "    <tr>\n",
       "      <td>1</td>\n",
       "      <td>2019-08-02</td>\n",
       "      <td>A</td>\n",
       "      <td>619</td>\n",
       "    </tr>\n",
       "    <tr>\n",
       "      <td>2</td>\n",
       "      <td>2019-08-03</td>\n",
       "      <td>A</td>\n",
       "      <td>507</td>\n",
       "    </tr>\n",
       "    <tr>\n",
       "      <td>3</td>\n",
       "      <td>2019-08-04</td>\n",
       "      <td>A</td>\n",
       "      <td>717</td>\n",
       "    </tr>\n",
       "    <tr>\n",
       "      <td>4</td>\n",
       "      <td>2019-08-05</td>\n",
       "      <td>A</td>\n",
       "      <td>756</td>\n",
       "    </tr>\n",
       "  </tbody>\n",
       "</table>\n",
       "</div>"
      ],
      "text/plain": [
       "         date group  visitors\n",
       "0  2019-08-01  A     719     \n",
       "1  2019-08-02  A     619     \n",
       "2  2019-08-03  A     507     \n",
       "3  2019-08-04  A     717     \n",
       "4  2019-08-05  A     756     "
      ]
     },
     "execution_count": 7,
     "metadata": {},
     "output_type": "execute_result"
    }
   ],
   "source": [
    "visitors.head()"
   ]
  },
  {
   "cell_type": "code",
   "execution_count": 8,
   "metadata": {},
   "outputs": [
    {
     "name": "stdout",
     "output_type": "stream",
     "text": [
      "<class 'pandas.core.frame.DataFrame'>\n",
      "RangeIndex: 62 entries, 0 to 61\n",
      "Data columns (total 3 columns):\n",
      "date        62 non-null object\n",
      "group       62 non-null object\n",
      "visitors    62 non-null int64\n",
      "dtypes: int64(1), object(2)\n",
      "memory usage: 1.6+ KB\n"
     ]
    }
   ],
   "source": [
    "visitors.info()"
   ]
  },
  {
   "cell_type": "code",
   "execution_count": 9,
   "metadata": {},
   "outputs": [
    {
     "name": "stdout",
     "output_type": "stream",
     "text": [
      "Дупликаты строк: 0\n"
     ]
    }
   ],
   "source": [
    "print('Дупликаты строк:',visitors.duplicated().sum())"
   ]
  },
  {
   "cell_type": "markdown",
   "metadata": {},
   "source": [
    "Проверим, совпадает ли изучаемый период в таблицах с заказами и посещениями"
   ]
  },
  {
   "cell_type": "code",
   "execution_count": 10,
   "metadata": {},
   "outputs": [
    {
     "name": "stdout",
     "output_type": "stream",
     "text": [
      "orders max date: 2019-08-31 | orders min date: 2019-08-01\n",
      "\n",
      "visitors max date 2019-08-31 | visitors min date 2019-08-01\n",
      "\n"
     ]
    }
   ],
   "source": [
    "print('orders max date:',orders['date'].max(),'|', 'orders min date:',orders['date'].min())\n",
    "print()\n",
    "print('visitors max date',visitors['date'].max(),'|','visitors min date',visitors['date'].min())\n",
    "print()"
   ]
  },
  {
   "cell_type": "markdown",
   "metadata": {},
   "source": [
    "Приведем столбцы с датами к правильному формату"
   ]
  },
  {
   "cell_type": "code",
   "execution_count": 11,
   "metadata": {},
   "outputs": [],
   "source": [
    "orders['date'] = pd.to_datetime(orders['date'])\n",
    "visitors['date'] = pd.to_datetime(visitors['date'])"
   ]
  },
  {
   "cell_type": "markdown",
   "metadata": {},
   "source": [
    "Для удобства приведем названия столбцов в таблице с заказами к нижнему регистру"
   ]
  },
  {
   "cell_type": "code",
   "execution_count": 12,
   "metadata": {},
   "outputs": [],
   "source": [
    "orders.columns = ['transaction_id', 'visitor_id', 'date', 'revenue', 'group']"
   ]
  },
  {
   "cell_type": "markdown",
   "metadata": {},
   "source": [
    "Проверим, соответвует ли каждому пользователю одна группа исследования"
   ]
  },
  {
   "cell_type": "code",
   "execution_count": 13,
   "metadata": {},
   "outputs": [
    {
     "data": {
      "text/plain": [
       "1    973\n",
       "2    58 \n",
       "Name: group, dtype: int64"
      ]
     },
     "execution_count": 13,
     "metadata": {},
     "output_type": "execute_result"
    }
   ],
   "source": [
    "orders.groupby('visitor_id')['group'].nunique().value_counts()"
   ]
  },
  {
   "cell_type": "markdown",
   "metadata": {},
   "source": [
    "58 пользователей попали в обе группы. "
   ]
  },
  {
   "cell_type": "markdown",
   "metadata": {},
   "source": [
    "### Выводы"
   ]
  },
  {
   "cell_type": "markdown",
   "metadata": {},
   "source": [
    "Представленные данные это три таблицы с данными о гипотезах, посетителях и заказах.\n",
    "Пропусков и дупликатов в данных не обнаружено, типы дат приведены к корректным. Было обнаружено, что 58 пользователей попали в обе группы тестирования, стоит сообщить отделу разработки о проблеме.\n",
    "\n",
    "В остальном с данными все в порядке, можно приступать к анализу."
   ]
  },
  {
   "cell_type": "markdown",
   "metadata": {},
   "source": [
    "## Приоритизация гипотез."
   ]
  },
  {
   "cell_type": "markdown",
   "metadata": {},
   "source": [
    "### ICE"
   ]
  },
  {
   "cell_type": "markdown",
   "metadata": {},
   "source": [
    "Приоретизирем гипотезы с помощью метода ICE, который учитывает сумму оценок влияния, уверенности и затрат.\n",
    "\n",
    "Выведем таблицу с гипотезами."
   ]
  },
  {
   "cell_type": "code",
   "execution_count": 14,
   "metadata": {},
   "outputs": [
    {
     "data": {
      "text/html": [
       "<style  type=\"text/css\" >\n",
       "    #T_97574ad6_238e_11ec_bfa9_02420a391b35 th {\n",
       "          text-align: left;\n",
       "    }    #T_97574ad6_238e_11ec_bfa9_02420a391b35row0_col0 {\n",
       "            text-align:  left;\n",
       "            text-align:  left;\n",
       "        }    #T_97574ad6_238e_11ec_bfa9_02420a391b35row0_col1 {\n",
       "            text-align:  left;\n",
       "            text-align:  left;\n",
       "        }    #T_97574ad6_238e_11ec_bfa9_02420a391b35row0_col2 {\n",
       "            text-align:  left;\n",
       "            text-align:  left;\n",
       "        }    #T_97574ad6_238e_11ec_bfa9_02420a391b35row0_col3 {\n",
       "            text-align:  left;\n",
       "            text-align:  left;\n",
       "        }    #T_97574ad6_238e_11ec_bfa9_02420a391b35row0_col4 {\n",
       "            text-align:  left;\n",
       "            text-align:  left;\n",
       "        }    #T_97574ad6_238e_11ec_bfa9_02420a391b35row1_col0 {\n",
       "            text-align:  left;\n",
       "            text-align:  left;\n",
       "        }    #T_97574ad6_238e_11ec_bfa9_02420a391b35row1_col1 {\n",
       "            text-align:  left;\n",
       "            text-align:  left;\n",
       "        }    #T_97574ad6_238e_11ec_bfa9_02420a391b35row1_col2 {\n",
       "            text-align:  left;\n",
       "            text-align:  left;\n",
       "        }    #T_97574ad6_238e_11ec_bfa9_02420a391b35row1_col3 {\n",
       "            text-align:  left;\n",
       "            text-align:  left;\n",
       "        }    #T_97574ad6_238e_11ec_bfa9_02420a391b35row1_col4 {\n",
       "            text-align:  left;\n",
       "            text-align:  left;\n",
       "        }    #T_97574ad6_238e_11ec_bfa9_02420a391b35row2_col0 {\n",
       "            text-align:  left;\n",
       "            text-align:  left;\n",
       "        }    #T_97574ad6_238e_11ec_bfa9_02420a391b35row2_col1 {\n",
       "            text-align:  left;\n",
       "            text-align:  left;\n",
       "        }    #T_97574ad6_238e_11ec_bfa9_02420a391b35row2_col2 {\n",
       "            text-align:  left;\n",
       "            text-align:  left;\n",
       "        }    #T_97574ad6_238e_11ec_bfa9_02420a391b35row2_col3 {\n",
       "            text-align:  left;\n",
       "            text-align:  left;\n",
       "        }    #T_97574ad6_238e_11ec_bfa9_02420a391b35row2_col4 {\n",
       "            text-align:  left;\n",
       "            text-align:  left;\n",
       "        }    #T_97574ad6_238e_11ec_bfa9_02420a391b35row3_col0 {\n",
       "            text-align:  left;\n",
       "            text-align:  left;\n",
       "        }    #T_97574ad6_238e_11ec_bfa9_02420a391b35row3_col1 {\n",
       "            text-align:  left;\n",
       "            text-align:  left;\n",
       "        }    #T_97574ad6_238e_11ec_bfa9_02420a391b35row3_col2 {\n",
       "            text-align:  left;\n",
       "            text-align:  left;\n",
       "        }    #T_97574ad6_238e_11ec_bfa9_02420a391b35row3_col3 {\n",
       "            text-align:  left;\n",
       "            text-align:  left;\n",
       "        }    #T_97574ad6_238e_11ec_bfa9_02420a391b35row3_col4 {\n",
       "            text-align:  left;\n",
       "            text-align:  left;\n",
       "        }    #T_97574ad6_238e_11ec_bfa9_02420a391b35row4_col0 {\n",
       "            text-align:  left;\n",
       "            text-align:  left;\n",
       "        }    #T_97574ad6_238e_11ec_bfa9_02420a391b35row4_col1 {\n",
       "            text-align:  left;\n",
       "            text-align:  left;\n",
       "        }    #T_97574ad6_238e_11ec_bfa9_02420a391b35row4_col2 {\n",
       "            text-align:  left;\n",
       "            text-align:  left;\n",
       "        }    #T_97574ad6_238e_11ec_bfa9_02420a391b35row4_col3 {\n",
       "            text-align:  left;\n",
       "            text-align:  left;\n",
       "        }    #T_97574ad6_238e_11ec_bfa9_02420a391b35row4_col4 {\n",
       "            text-align:  left;\n",
       "            text-align:  left;\n",
       "        }    #T_97574ad6_238e_11ec_bfa9_02420a391b35row5_col0 {\n",
       "            text-align:  left;\n",
       "            text-align:  left;\n",
       "        }    #T_97574ad6_238e_11ec_bfa9_02420a391b35row5_col1 {\n",
       "            text-align:  left;\n",
       "            text-align:  left;\n",
       "        }    #T_97574ad6_238e_11ec_bfa9_02420a391b35row5_col2 {\n",
       "            text-align:  left;\n",
       "            text-align:  left;\n",
       "        }    #T_97574ad6_238e_11ec_bfa9_02420a391b35row5_col3 {\n",
       "            text-align:  left;\n",
       "            text-align:  left;\n",
       "        }    #T_97574ad6_238e_11ec_bfa9_02420a391b35row5_col4 {\n",
       "            text-align:  left;\n",
       "            text-align:  left;\n",
       "        }    #T_97574ad6_238e_11ec_bfa9_02420a391b35row6_col0 {\n",
       "            text-align:  left;\n",
       "            text-align:  left;\n",
       "        }    #T_97574ad6_238e_11ec_bfa9_02420a391b35row6_col1 {\n",
       "            text-align:  left;\n",
       "            text-align:  left;\n",
       "        }    #T_97574ad6_238e_11ec_bfa9_02420a391b35row6_col2 {\n",
       "            text-align:  left;\n",
       "            text-align:  left;\n",
       "        }    #T_97574ad6_238e_11ec_bfa9_02420a391b35row6_col3 {\n",
       "            text-align:  left;\n",
       "            text-align:  left;\n",
       "        }    #T_97574ad6_238e_11ec_bfa9_02420a391b35row6_col4 {\n",
       "            text-align:  left;\n",
       "            text-align:  left;\n",
       "        }    #T_97574ad6_238e_11ec_bfa9_02420a391b35row7_col0 {\n",
       "            text-align:  left;\n",
       "            text-align:  left;\n",
       "        }    #T_97574ad6_238e_11ec_bfa9_02420a391b35row7_col1 {\n",
       "            text-align:  left;\n",
       "            text-align:  left;\n",
       "        }    #T_97574ad6_238e_11ec_bfa9_02420a391b35row7_col2 {\n",
       "            text-align:  left;\n",
       "            text-align:  left;\n",
       "        }    #T_97574ad6_238e_11ec_bfa9_02420a391b35row7_col3 {\n",
       "            text-align:  left;\n",
       "            text-align:  left;\n",
       "        }    #T_97574ad6_238e_11ec_bfa9_02420a391b35row7_col4 {\n",
       "            text-align:  left;\n",
       "            text-align:  left;\n",
       "        }    #T_97574ad6_238e_11ec_bfa9_02420a391b35row8_col0 {\n",
       "            text-align:  left;\n",
       "            text-align:  left;\n",
       "        }    #T_97574ad6_238e_11ec_bfa9_02420a391b35row8_col1 {\n",
       "            text-align:  left;\n",
       "            text-align:  left;\n",
       "        }    #T_97574ad6_238e_11ec_bfa9_02420a391b35row8_col2 {\n",
       "            text-align:  left;\n",
       "            text-align:  left;\n",
       "        }    #T_97574ad6_238e_11ec_bfa9_02420a391b35row8_col3 {\n",
       "            text-align:  left;\n",
       "            text-align:  left;\n",
       "        }    #T_97574ad6_238e_11ec_bfa9_02420a391b35row8_col4 {\n",
       "            text-align:  left;\n",
       "            text-align:  left;\n",
       "        }</style><table id=\"T_97574ad6_238e_11ec_bfa9_02420a391b35\" ><thead>    <tr>        <th class=\"blank level0\" ></th>        <th class=\"col_heading level0 col0\" >Hypothesis</th>        <th class=\"col_heading level0 col1\" >Reach</th>        <th class=\"col_heading level0 col2\" >Impact</th>        <th class=\"col_heading level0 col3\" >Confidence</th>        <th class=\"col_heading level0 col4\" >Efforts</th>    </tr></thead><tbody>\n",
       "                <tr>\n",
       "                        <th id=\"T_97574ad6_238e_11ec_bfa9_02420a391b35level0_row0\" class=\"row_heading level0 row0\" >1</th>\n",
       "                        <td id=\"T_97574ad6_238e_11ec_bfa9_02420a391b35row0_col0\" class=\"data row0 col0\" >Добавить два новых канала привлечения трафика, что позволит привлекать на 30% больше пользователей</td>\n",
       "                        <td id=\"T_97574ad6_238e_11ec_bfa9_02420a391b35row0_col1\" class=\"data row0 col1\" >3</td>\n",
       "                        <td id=\"T_97574ad6_238e_11ec_bfa9_02420a391b35row0_col2\" class=\"data row0 col2\" >10</td>\n",
       "                        <td id=\"T_97574ad6_238e_11ec_bfa9_02420a391b35row0_col3\" class=\"data row0 col3\" >8</td>\n",
       "                        <td id=\"T_97574ad6_238e_11ec_bfa9_02420a391b35row0_col4\" class=\"data row0 col4\" >6</td>\n",
       "            </tr>\n",
       "            <tr>\n",
       "                        <th id=\"T_97574ad6_238e_11ec_bfa9_02420a391b35level0_row1\" class=\"row_heading level0 row1\" >2</th>\n",
       "                        <td id=\"T_97574ad6_238e_11ec_bfa9_02420a391b35row1_col0\" class=\"data row1 col0\" >Запустить собственную службу доставки, что сократит срок доставки заказов</td>\n",
       "                        <td id=\"T_97574ad6_238e_11ec_bfa9_02420a391b35row1_col1\" class=\"data row1 col1\" >2</td>\n",
       "                        <td id=\"T_97574ad6_238e_11ec_bfa9_02420a391b35row1_col2\" class=\"data row1 col2\" >5</td>\n",
       "                        <td id=\"T_97574ad6_238e_11ec_bfa9_02420a391b35row1_col3\" class=\"data row1 col3\" >4</td>\n",
       "                        <td id=\"T_97574ad6_238e_11ec_bfa9_02420a391b35row1_col4\" class=\"data row1 col4\" >10</td>\n",
       "            </tr>\n",
       "            <tr>\n",
       "                        <th id=\"T_97574ad6_238e_11ec_bfa9_02420a391b35level0_row2\" class=\"row_heading level0 row2\" >3</th>\n",
       "                        <td id=\"T_97574ad6_238e_11ec_bfa9_02420a391b35row2_col0\" class=\"data row2 col0\" >Добавить блоки рекомендаций товаров на сайт интернет магазина, чтобы повысить конверсию и средний чек заказа</td>\n",
       "                        <td id=\"T_97574ad6_238e_11ec_bfa9_02420a391b35row2_col1\" class=\"data row2 col1\" >8</td>\n",
       "                        <td id=\"T_97574ad6_238e_11ec_bfa9_02420a391b35row2_col2\" class=\"data row2 col2\" >3</td>\n",
       "                        <td id=\"T_97574ad6_238e_11ec_bfa9_02420a391b35row2_col3\" class=\"data row2 col3\" >7</td>\n",
       "                        <td id=\"T_97574ad6_238e_11ec_bfa9_02420a391b35row2_col4\" class=\"data row2 col4\" >3</td>\n",
       "            </tr>\n",
       "            <tr>\n",
       "                        <th id=\"T_97574ad6_238e_11ec_bfa9_02420a391b35level0_row3\" class=\"row_heading level0 row3\" >4</th>\n",
       "                        <td id=\"T_97574ad6_238e_11ec_bfa9_02420a391b35row3_col0\" class=\"data row3 col0\" >Изменить структура категорий, что увеличит конверсию, т.к. пользователи быстрее найдут нужный товар</td>\n",
       "                        <td id=\"T_97574ad6_238e_11ec_bfa9_02420a391b35row3_col1\" class=\"data row3 col1\" >8</td>\n",
       "                        <td id=\"T_97574ad6_238e_11ec_bfa9_02420a391b35row3_col2\" class=\"data row3 col2\" >3</td>\n",
       "                        <td id=\"T_97574ad6_238e_11ec_bfa9_02420a391b35row3_col3\" class=\"data row3 col3\" >3</td>\n",
       "                        <td id=\"T_97574ad6_238e_11ec_bfa9_02420a391b35row3_col4\" class=\"data row3 col4\" >8</td>\n",
       "            </tr>\n",
       "            <tr>\n",
       "                        <th id=\"T_97574ad6_238e_11ec_bfa9_02420a391b35level0_row4\" class=\"row_heading level0 row4\" >5</th>\n",
       "                        <td id=\"T_97574ad6_238e_11ec_bfa9_02420a391b35row4_col0\" class=\"data row4 col0\" >Изменить цвет фона главной страницы, чтобы увеличить вовлеченность пользователей</td>\n",
       "                        <td id=\"T_97574ad6_238e_11ec_bfa9_02420a391b35row4_col1\" class=\"data row4 col1\" >3</td>\n",
       "                        <td id=\"T_97574ad6_238e_11ec_bfa9_02420a391b35row4_col2\" class=\"data row4 col2\" >1</td>\n",
       "                        <td id=\"T_97574ad6_238e_11ec_bfa9_02420a391b35row4_col3\" class=\"data row4 col3\" >1</td>\n",
       "                        <td id=\"T_97574ad6_238e_11ec_bfa9_02420a391b35row4_col4\" class=\"data row4 col4\" >1</td>\n",
       "            </tr>\n",
       "            <tr>\n",
       "                        <th id=\"T_97574ad6_238e_11ec_bfa9_02420a391b35level0_row5\" class=\"row_heading level0 row5\" >6</th>\n",
       "                        <td id=\"T_97574ad6_238e_11ec_bfa9_02420a391b35row5_col0\" class=\"data row5 col0\" >Добавить страницу отзывов клиентов о магазине, что позволит увеличить количество заказов</td>\n",
       "                        <td id=\"T_97574ad6_238e_11ec_bfa9_02420a391b35row5_col1\" class=\"data row5 col1\" >3</td>\n",
       "                        <td id=\"T_97574ad6_238e_11ec_bfa9_02420a391b35row5_col2\" class=\"data row5 col2\" >2</td>\n",
       "                        <td id=\"T_97574ad6_238e_11ec_bfa9_02420a391b35row5_col3\" class=\"data row5 col3\" >2</td>\n",
       "                        <td id=\"T_97574ad6_238e_11ec_bfa9_02420a391b35row5_col4\" class=\"data row5 col4\" >3</td>\n",
       "            </tr>\n",
       "            <tr>\n",
       "                        <th id=\"T_97574ad6_238e_11ec_bfa9_02420a391b35level0_row6\" class=\"row_heading level0 row6\" >7</th>\n",
       "                        <td id=\"T_97574ad6_238e_11ec_bfa9_02420a391b35row6_col0\" class=\"data row6 col0\" >Показать на главной странице баннеры с актуальными акциями и распродажами, чтобы увеличить конверсию</td>\n",
       "                        <td id=\"T_97574ad6_238e_11ec_bfa9_02420a391b35row6_col1\" class=\"data row6 col1\" >5</td>\n",
       "                        <td id=\"T_97574ad6_238e_11ec_bfa9_02420a391b35row6_col2\" class=\"data row6 col2\" >3</td>\n",
       "                        <td id=\"T_97574ad6_238e_11ec_bfa9_02420a391b35row6_col3\" class=\"data row6 col3\" >8</td>\n",
       "                        <td id=\"T_97574ad6_238e_11ec_bfa9_02420a391b35row6_col4\" class=\"data row6 col4\" >3</td>\n",
       "            </tr>\n",
       "            <tr>\n",
       "                        <th id=\"T_97574ad6_238e_11ec_bfa9_02420a391b35level0_row7\" class=\"row_heading level0 row7\" >8</th>\n",
       "                        <td id=\"T_97574ad6_238e_11ec_bfa9_02420a391b35row7_col0\" class=\"data row7 col0\" >Добавить форму подписки на все основные страницы, чтобы собрать базу клиентов для email-рассылок</td>\n",
       "                        <td id=\"T_97574ad6_238e_11ec_bfa9_02420a391b35row7_col1\" class=\"data row7 col1\" >10</td>\n",
       "                        <td id=\"T_97574ad6_238e_11ec_bfa9_02420a391b35row7_col2\" class=\"data row7 col2\" >7</td>\n",
       "                        <td id=\"T_97574ad6_238e_11ec_bfa9_02420a391b35row7_col3\" class=\"data row7 col3\" >8</td>\n",
       "                        <td id=\"T_97574ad6_238e_11ec_bfa9_02420a391b35row7_col4\" class=\"data row7 col4\" >5</td>\n",
       "            </tr>\n",
       "            <tr>\n",
       "                        <th id=\"T_97574ad6_238e_11ec_bfa9_02420a391b35level0_row8\" class=\"row_heading level0 row8\" >9</th>\n",
       "                        <td id=\"T_97574ad6_238e_11ec_bfa9_02420a391b35row8_col0\" class=\"data row8 col0\" >Запустить акцию, дающую скидку на товар в день рождения</td>\n",
       "                        <td id=\"T_97574ad6_238e_11ec_bfa9_02420a391b35row8_col1\" class=\"data row8 col1\" >1</td>\n",
       "                        <td id=\"T_97574ad6_238e_11ec_bfa9_02420a391b35row8_col2\" class=\"data row8 col2\" >9</td>\n",
       "                        <td id=\"T_97574ad6_238e_11ec_bfa9_02420a391b35row8_col3\" class=\"data row8 col3\" >9</td>\n",
       "                        <td id=\"T_97574ad6_238e_11ec_bfa9_02420a391b35row8_col4\" class=\"data row8 col4\" >5</td>\n",
       "            </tr>\n",
       "    </tbody></table>"
      ],
      "text/plain": [
       "<pandas.io.formats.style.Styler at 0x7f249c73d490>"
      ]
     },
     "execution_count": 14,
     "metadata": {},
     "output_type": "execute_result"
    }
   ],
   "source": [
    "hypoprint"
   ]
  },
  {
   "cell_type": "markdown",
   "metadata": {},
   "source": [
    "Посчитаем ICE Score и выведем топ гипотез в соответвии с оценкой."
   ]
  },
  {
   "cell_type": "code",
   "execution_count": 15,
   "metadata": {},
   "outputs": [],
   "source": [
    "hypothesis['ICE'] = ( hypothesis['Impact'] * hypothesis['Confidence']) / hypothesis['Efforts']"
   ]
  },
  {
   "cell_type": "code",
   "execution_count": 16,
   "metadata": {},
   "outputs": [
    {
     "data": {
      "text/html": [
       "<style  type=\"text/css\" >\n",
       "    #T_975f6e32_238e_11ec_bfa9_02420a391b35 th {\n",
       "          text-align: left;\n",
       "    }    #T_975f6e32_238e_11ec_bfa9_02420a391b35row0_col0 {\n",
       "            text-align:  left;\n",
       "        }    #T_975f6e32_238e_11ec_bfa9_02420a391b35row0_col1 {\n",
       "            text-align:  left;\n",
       "        }    #T_975f6e32_238e_11ec_bfa9_02420a391b35row1_col0 {\n",
       "            text-align:  left;\n",
       "        }    #T_975f6e32_238e_11ec_bfa9_02420a391b35row1_col1 {\n",
       "            text-align:  left;\n",
       "        }    #T_975f6e32_238e_11ec_bfa9_02420a391b35row2_col0 {\n",
       "            text-align:  left;\n",
       "        }    #T_975f6e32_238e_11ec_bfa9_02420a391b35row2_col1 {\n",
       "            text-align:  left;\n",
       "        }    #T_975f6e32_238e_11ec_bfa9_02420a391b35row3_col0 {\n",
       "            text-align:  left;\n",
       "        }    #T_975f6e32_238e_11ec_bfa9_02420a391b35row3_col1 {\n",
       "            text-align:  left;\n",
       "        }    #T_975f6e32_238e_11ec_bfa9_02420a391b35row4_col0 {\n",
       "            text-align:  left;\n",
       "        }    #T_975f6e32_238e_11ec_bfa9_02420a391b35row4_col1 {\n",
       "            text-align:  left;\n",
       "        }    #T_975f6e32_238e_11ec_bfa9_02420a391b35row5_col0 {\n",
       "            text-align:  left;\n",
       "        }    #T_975f6e32_238e_11ec_bfa9_02420a391b35row5_col1 {\n",
       "            text-align:  left;\n",
       "        }    #T_975f6e32_238e_11ec_bfa9_02420a391b35row6_col0 {\n",
       "            text-align:  left;\n",
       "        }    #T_975f6e32_238e_11ec_bfa9_02420a391b35row6_col1 {\n",
       "            text-align:  left;\n",
       "        }    #T_975f6e32_238e_11ec_bfa9_02420a391b35row7_col0 {\n",
       "            text-align:  left;\n",
       "        }    #T_975f6e32_238e_11ec_bfa9_02420a391b35row7_col1 {\n",
       "            text-align:  left;\n",
       "        }    #T_975f6e32_238e_11ec_bfa9_02420a391b35row8_col0 {\n",
       "            text-align:  left;\n",
       "        }    #T_975f6e32_238e_11ec_bfa9_02420a391b35row8_col1 {\n",
       "            text-align:  left;\n",
       "        }</style><table id=\"T_975f6e32_238e_11ec_bfa9_02420a391b35\" ><thead>    <tr>        <th class=\"blank level0\" ></th>        <th class=\"col_heading level0 col0\" >Hypothesis</th>        <th class=\"col_heading level0 col1\" >ICE</th>    </tr></thead><tbody>\n",
       "                <tr>\n",
       "                        <th id=\"T_975f6e32_238e_11ec_bfa9_02420a391b35level0_row0\" class=\"row_heading level0 row0\" >9</th>\n",
       "                        <td id=\"T_975f6e32_238e_11ec_bfa9_02420a391b35row0_col0\" class=\"data row0 col0\" >Запустить акцию, дающую скидку на товар в день рождения</td>\n",
       "                        <td id=\"T_975f6e32_238e_11ec_bfa9_02420a391b35row0_col1\" class=\"data row0 col1\" >16</td>\n",
       "            </tr>\n",
       "            <tr>\n",
       "                        <th id=\"T_975f6e32_238e_11ec_bfa9_02420a391b35level0_row1\" class=\"row_heading level0 row1\" >1</th>\n",
       "                        <td id=\"T_975f6e32_238e_11ec_bfa9_02420a391b35row1_col0\" class=\"data row1 col0\" >Добавить два новых канала привлечения трафика, что позволит привлекать на 30% больше пользователей</td>\n",
       "                        <td id=\"T_975f6e32_238e_11ec_bfa9_02420a391b35row1_col1\" class=\"data row1 col1\" >13</td>\n",
       "            </tr>\n",
       "            <tr>\n",
       "                        <th id=\"T_975f6e32_238e_11ec_bfa9_02420a391b35level0_row2\" class=\"row_heading level0 row2\" >8</th>\n",
       "                        <td id=\"T_975f6e32_238e_11ec_bfa9_02420a391b35row2_col0\" class=\"data row2 col0\" >Добавить форму подписки на все основные страницы, чтобы собрать базу клиентов для email-рассылок</td>\n",
       "                        <td id=\"T_975f6e32_238e_11ec_bfa9_02420a391b35row2_col1\" class=\"data row2 col1\" >11</td>\n",
       "            </tr>\n",
       "            <tr>\n",
       "                        <th id=\"T_975f6e32_238e_11ec_bfa9_02420a391b35level0_row3\" class=\"row_heading level0 row3\" >7</th>\n",
       "                        <td id=\"T_975f6e32_238e_11ec_bfa9_02420a391b35row3_col0\" class=\"data row3 col0\" >Показать на главной странице баннеры с актуальными акциями и распродажами, чтобы увеличить конверсию</td>\n",
       "                        <td id=\"T_975f6e32_238e_11ec_bfa9_02420a391b35row3_col1\" class=\"data row3 col1\" >8</td>\n",
       "            </tr>\n",
       "            <tr>\n",
       "                        <th id=\"T_975f6e32_238e_11ec_bfa9_02420a391b35level0_row4\" class=\"row_heading level0 row4\" >3</th>\n",
       "                        <td id=\"T_975f6e32_238e_11ec_bfa9_02420a391b35row4_col0\" class=\"data row4 col0\" >Добавить блоки рекомендаций товаров на сайт интернет магазина, чтобы повысить конверсию и средний чек заказа</td>\n",
       "                        <td id=\"T_975f6e32_238e_11ec_bfa9_02420a391b35row4_col1\" class=\"data row4 col1\" >7</td>\n",
       "            </tr>\n",
       "            <tr>\n",
       "                        <th id=\"T_975f6e32_238e_11ec_bfa9_02420a391b35level0_row5\" class=\"row_heading level0 row5\" >2</th>\n",
       "                        <td id=\"T_975f6e32_238e_11ec_bfa9_02420a391b35row5_col0\" class=\"data row5 col0\" >Запустить собственную службу доставки, что сократит срок доставки заказов</td>\n",
       "                        <td id=\"T_975f6e32_238e_11ec_bfa9_02420a391b35row5_col1\" class=\"data row5 col1\" >2</td>\n",
       "            </tr>\n",
       "            <tr>\n",
       "                        <th id=\"T_975f6e32_238e_11ec_bfa9_02420a391b35level0_row6\" class=\"row_heading level0 row6\" >6</th>\n",
       "                        <td id=\"T_975f6e32_238e_11ec_bfa9_02420a391b35row6_col0\" class=\"data row6 col0\" >Добавить страницу отзывов клиентов о магазине, что позволит увеличить количество заказов</td>\n",
       "                        <td id=\"T_975f6e32_238e_11ec_bfa9_02420a391b35row6_col1\" class=\"data row6 col1\" >1</td>\n",
       "            </tr>\n",
       "            <tr>\n",
       "                        <th id=\"T_975f6e32_238e_11ec_bfa9_02420a391b35level0_row7\" class=\"row_heading level0 row7\" >4</th>\n",
       "                        <td id=\"T_975f6e32_238e_11ec_bfa9_02420a391b35row7_col0\" class=\"data row7 col0\" >Изменить структура категорий, что увеличит конверсию, т.к. пользователи быстрее найдут нужный товар</td>\n",
       "                        <td id=\"T_975f6e32_238e_11ec_bfa9_02420a391b35row7_col1\" class=\"data row7 col1\" >1</td>\n",
       "            </tr>\n",
       "            <tr>\n",
       "                        <th id=\"T_975f6e32_238e_11ec_bfa9_02420a391b35level0_row8\" class=\"row_heading level0 row8\" >5</th>\n",
       "                        <td id=\"T_975f6e32_238e_11ec_bfa9_02420a391b35row8_col0\" class=\"data row8 col0\" >Изменить цвет фона главной страницы, чтобы увеличить вовлеченность пользователей</td>\n",
       "                        <td id=\"T_975f6e32_238e_11ec_bfa9_02420a391b35row8_col1\" class=\"data row8 col1\" >1</td>\n",
       "            </tr>\n",
       "    </tbody></table>"
      ],
      "text/plain": [
       "<pandas.io.formats.style.Styler at 0x7f247ffcb390>"
      ]
     },
     "execution_count": 16,
     "metadata": {},
     "output_type": "execute_result"
    }
   ],
   "source": [
    "hypothesis_ice_top = hypothesis.sort_values('ICE',ascending = False)[['Hypothesis', 'ICE']]\n",
    "hypo_ice_print = hypothesis_ice_top.style.set_properties(**{'text-align': 'left'})\\\n",
    ".set_table_styles([ dict(selector='th', props=[('text-align', 'left')] ) ]).format(\n",
    "                formatter={('ICE'): \"{:.0f}\"})\n",
    "hypo_ice_print\n"
   ]
  },
  {
   "cell_type": "markdown",
   "metadata": {},
   "source": [
    "Первое место - персональные скидки пользователям в честь Дня Рождения. Возможно, для этой гипотезы лучше учитывать показатели охвата. "
   ]
  },
  {
   "cell_type": "markdown",
   "metadata": {},
   "source": [
    "### RICE"
   ]
  },
  {
   "cell_type": "markdown",
   "metadata": {},
   "source": [
    "Учтем показатели охвата и приоретизируем гипотезы в соответствии с методом RICE."
   ]
  },
  {
   "cell_type": "code",
   "execution_count": 17,
   "metadata": {},
   "outputs": [],
   "source": [
    "hypothesis['RICE'] = ((hypothesis['Reach'] * hypothesis['Impact'] * hypothesis['Confidence']) / hypothesis['Efforts'])"
   ]
  },
  {
   "cell_type": "code",
   "execution_count": 18,
   "metadata": {},
   "outputs": [
    {
     "data": {
      "text/html": [
       "<style  type=\"text/css\" >\n",
       "    #T_976b00f8_238e_11ec_bfa9_02420a391b35 th {\n",
       "          text-align: left;\n",
       "    }    #T_976b00f8_238e_11ec_bfa9_02420a391b35row0_col0 {\n",
       "            text-align:  left;\n",
       "        }    #T_976b00f8_238e_11ec_bfa9_02420a391b35row0_col1 {\n",
       "            text-align:  left;\n",
       "        }    #T_976b00f8_238e_11ec_bfa9_02420a391b35row1_col0 {\n",
       "            text-align:  left;\n",
       "        }    #T_976b00f8_238e_11ec_bfa9_02420a391b35row1_col1 {\n",
       "            text-align:  left;\n",
       "        }    #T_976b00f8_238e_11ec_bfa9_02420a391b35row2_col0 {\n",
       "            text-align:  left;\n",
       "        }    #T_976b00f8_238e_11ec_bfa9_02420a391b35row2_col1 {\n",
       "            text-align:  left;\n",
       "        }    #T_976b00f8_238e_11ec_bfa9_02420a391b35row3_col0 {\n",
       "            text-align:  left;\n",
       "        }    #T_976b00f8_238e_11ec_bfa9_02420a391b35row3_col1 {\n",
       "            text-align:  left;\n",
       "        }    #T_976b00f8_238e_11ec_bfa9_02420a391b35row4_col0 {\n",
       "            text-align:  left;\n",
       "        }    #T_976b00f8_238e_11ec_bfa9_02420a391b35row4_col1 {\n",
       "            text-align:  left;\n",
       "        }    #T_976b00f8_238e_11ec_bfa9_02420a391b35row5_col0 {\n",
       "            text-align:  left;\n",
       "        }    #T_976b00f8_238e_11ec_bfa9_02420a391b35row5_col1 {\n",
       "            text-align:  left;\n",
       "        }    #T_976b00f8_238e_11ec_bfa9_02420a391b35row6_col0 {\n",
       "            text-align:  left;\n",
       "        }    #T_976b00f8_238e_11ec_bfa9_02420a391b35row6_col1 {\n",
       "            text-align:  left;\n",
       "        }    #T_976b00f8_238e_11ec_bfa9_02420a391b35row7_col0 {\n",
       "            text-align:  left;\n",
       "        }    #T_976b00f8_238e_11ec_bfa9_02420a391b35row7_col1 {\n",
       "            text-align:  left;\n",
       "        }    #T_976b00f8_238e_11ec_bfa9_02420a391b35row8_col0 {\n",
       "            text-align:  left;\n",
       "        }    #T_976b00f8_238e_11ec_bfa9_02420a391b35row8_col1 {\n",
       "            text-align:  left;\n",
       "        }</style><table id=\"T_976b00f8_238e_11ec_bfa9_02420a391b35\" ><thead>    <tr>        <th class=\"blank level0\" ></th>        <th class=\"col_heading level0 col0\" >Hypothesis</th>        <th class=\"col_heading level0 col1\" >RICE</th>    </tr></thead><tbody>\n",
       "                <tr>\n",
       "                        <th id=\"T_976b00f8_238e_11ec_bfa9_02420a391b35level0_row0\" class=\"row_heading level0 row0\" >8</th>\n",
       "                        <td id=\"T_976b00f8_238e_11ec_bfa9_02420a391b35row0_col0\" class=\"data row0 col0\" >Добавить форму подписки на все основные страницы, чтобы собрать базу клиентов для email-рассылок</td>\n",
       "                        <td id=\"T_976b00f8_238e_11ec_bfa9_02420a391b35row0_col1\" class=\"data row0 col1\" >112</td>\n",
       "            </tr>\n",
       "            <tr>\n",
       "                        <th id=\"T_976b00f8_238e_11ec_bfa9_02420a391b35level0_row1\" class=\"row_heading level0 row1\" >3</th>\n",
       "                        <td id=\"T_976b00f8_238e_11ec_bfa9_02420a391b35row1_col0\" class=\"data row1 col0\" >Добавить блоки рекомендаций товаров на сайт интернет магазина, чтобы повысить конверсию и средний чек заказа</td>\n",
       "                        <td id=\"T_976b00f8_238e_11ec_bfa9_02420a391b35row1_col1\" class=\"data row1 col1\" >56</td>\n",
       "            </tr>\n",
       "            <tr>\n",
       "                        <th id=\"T_976b00f8_238e_11ec_bfa9_02420a391b35level0_row2\" class=\"row_heading level0 row2\" >1</th>\n",
       "                        <td id=\"T_976b00f8_238e_11ec_bfa9_02420a391b35row2_col0\" class=\"data row2 col0\" >Добавить два новых канала привлечения трафика, что позволит привлекать на 30% больше пользователей</td>\n",
       "                        <td id=\"T_976b00f8_238e_11ec_bfa9_02420a391b35row2_col1\" class=\"data row2 col1\" >40</td>\n",
       "            </tr>\n",
       "            <tr>\n",
       "                        <th id=\"T_976b00f8_238e_11ec_bfa9_02420a391b35level0_row3\" class=\"row_heading level0 row3\" >7</th>\n",
       "                        <td id=\"T_976b00f8_238e_11ec_bfa9_02420a391b35row3_col0\" class=\"data row3 col0\" >Показать на главной странице баннеры с актуальными акциями и распродажами, чтобы увеличить конверсию</td>\n",
       "                        <td id=\"T_976b00f8_238e_11ec_bfa9_02420a391b35row3_col1\" class=\"data row3 col1\" >40</td>\n",
       "            </tr>\n",
       "            <tr>\n",
       "                        <th id=\"T_976b00f8_238e_11ec_bfa9_02420a391b35level0_row4\" class=\"row_heading level0 row4\" >9</th>\n",
       "                        <td id=\"T_976b00f8_238e_11ec_bfa9_02420a391b35row4_col0\" class=\"data row4 col0\" >Запустить акцию, дающую скидку на товар в день рождения</td>\n",
       "                        <td id=\"T_976b00f8_238e_11ec_bfa9_02420a391b35row4_col1\" class=\"data row4 col1\" >16</td>\n",
       "            </tr>\n",
       "            <tr>\n",
       "                        <th id=\"T_976b00f8_238e_11ec_bfa9_02420a391b35level0_row5\" class=\"row_heading level0 row5\" >4</th>\n",
       "                        <td id=\"T_976b00f8_238e_11ec_bfa9_02420a391b35row5_col0\" class=\"data row5 col0\" >Изменить структура категорий, что увеличит конверсию, т.к. пользователи быстрее найдут нужный товар</td>\n",
       "                        <td id=\"T_976b00f8_238e_11ec_bfa9_02420a391b35row5_col1\" class=\"data row5 col1\" >9</td>\n",
       "            </tr>\n",
       "            <tr>\n",
       "                        <th id=\"T_976b00f8_238e_11ec_bfa9_02420a391b35level0_row6\" class=\"row_heading level0 row6\" >2</th>\n",
       "                        <td id=\"T_976b00f8_238e_11ec_bfa9_02420a391b35row6_col0\" class=\"data row6 col0\" >Запустить собственную службу доставки, что сократит срок доставки заказов</td>\n",
       "                        <td id=\"T_976b00f8_238e_11ec_bfa9_02420a391b35row6_col1\" class=\"data row6 col1\" >4</td>\n",
       "            </tr>\n",
       "            <tr>\n",
       "                        <th id=\"T_976b00f8_238e_11ec_bfa9_02420a391b35level0_row7\" class=\"row_heading level0 row7\" >6</th>\n",
       "                        <td id=\"T_976b00f8_238e_11ec_bfa9_02420a391b35row7_col0\" class=\"data row7 col0\" >Добавить страницу отзывов клиентов о магазине, что позволит увеличить количество заказов</td>\n",
       "                        <td id=\"T_976b00f8_238e_11ec_bfa9_02420a391b35row7_col1\" class=\"data row7 col1\" >4</td>\n",
       "            </tr>\n",
       "            <tr>\n",
       "                        <th id=\"T_976b00f8_238e_11ec_bfa9_02420a391b35level0_row8\" class=\"row_heading level0 row8\" >5</th>\n",
       "                        <td id=\"T_976b00f8_238e_11ec_bfa9_02420a391b35row8_col0\" class=\"data row8 col0\" >Изменить цвет фона главной страницы, чтобы увеличить вовлеченность пользователей</td>\n",
       "                        <td id=\"T_976b00f8_238e_11ec_bfa9_02420a391b35row8_col1\" class=\"data row8 col1\" >3</td>\n",
       "            </tr>\n",
       "    </tbody></table>"
      ],
      "text/plain": [
       "<pandas.io.formats.style.Styler at 0x7f241b864b90>"
      ]
     },
     "execution_count": 18,
     "metadata": {},
     "output_type": "execute_result"
    }
   ],
   "source": [
    "hypothesis_rice_top = hypothesis.sort_values('RICE',ascending = False)[['Hypothesis', 'RICE']]\n",
    "hypo_rice_print = hypothesis_rice_top.style.set_properties(**{'text-align': 'left'})\\\n",
    ".set_table_styles([ dict(selector='th', props=[('text-align', 'left')] ) ]).format(\n",
    "                formatter={('RICE'): \"{:.0f}\"})\n",
    "hypo_rice_print"
   ]
  },
  {
   "cell_type": "markdown",
   "metadata": {},
   "source": [
    "### Выводы"
   ]
  },
  {
   "cell_type": "markdown",
   "metadata": {},
   "source": [
    "С учетом показателей охвата приоритет гипотез сильно изменился.   \n",
    "Теперь на первом месте инициатива по сбору базы клиентов, а скидки в честь дня рождения - только на пятом. День рождения, к сожалению, только раз в году, следовательно показатели Reach этой гипотезы минимальны.\n",
    "\n",
    "Рекомендуется принять приретизацию в соответвии с методом RICE, так как показатели охвата для данных гипотез можно определить с довольно большой точностью.\n"
   ]
  },
  {
   "cell_type": "markdown",
   "metadata": {},
   "source": [
    "## Анализ A/B-теста"
   ]
  },
  {
   "cell_type": "markdown",
   "metadata": {},
   "source": [
    "Приступим к анализу A/B - теста - произведем все необходимые расчеты для таблиц с заказами и визитами.\n",
    "\n",
    "Посчитаем дневное количество заказов и выручки обеих групп."
   ]
  },
  {
   "cell_type": "code",
   "execution_count": 19,
   "metadata": {},
   "outputs": [],
   "source": [
    "orders_daily_A = (\n",
    "    orders[orders['group'] == 'A']\n",
    "    .groupby('date', as_index=False)\n",
    "    .agg({'transaction_id': 'nunique', 'revenue': 'sum'})\n",
    ")\n",
    "orders_daily_A.columns = ['date', 'orders_per_date_A', 'revenue_per_date_A']\n",
    "\n",
    "orders_daily_B = (\n",
    "    orders[orders['group'] == 'B']\n",
    "    .groupby('date', as_index=False)\n",
    "    .agg({'transaction_id': 'nunique', 'revenue': 'sum'})\n",
    ")\n",
    "orders_daily_B.columns = ['date', 'orders_per_date_B', 'revenue_per_date_B']"
   ]
  },
  {
   "cell_type": "markdown",
   "metadata": {},
   "source": [
    "Посчитаем кумулятивную выручку, кумулятивное количество заказов и визитов."
   ]
  },
  {
   "cell_type": "code",
   "execution_count": 20,
   "metadata": {},
   "outputs": [],
   "source": [
    "orders_cum_A = orders_daily_A.copy()\n",
    "orders_cum_A['orders_per_date_A'] = orders_cum_A['orders_per_date_A'].cumsum()\n",
    "orders_cum_A['revenue_per_date_A'] = orders_cum_A['revenue_per_date_A'].cumsum()\n",
    "orders_cum_A.columns = [ 'date', 'orders_cum_A','revenue_cum_A']\n",
    "\n",
    "orders_cum_B = orders_daily_B.copy()\n",
    "orders_cum_B['orders_per_date_B'] = orders_cum_B['orders_per_date_B'].cumsum()\n",
    "orders_cum_B['revenue_per_date_B'] = orders_cum_B['revenue_per_date_B'].cumsum()\n",
    "orders_cum_B.columns = [ 'date', 'orders_cum_B','revenue_cum_B']"
   ]
  },
  {
   "cell_type": "code",
   "execution_count": 21,
   "metadata": {},
   "outputs": [],
   "source": [
    "visitors_daily_A = visitors[visitors['group'] == 'A'][['date', 'visitors']]\n",
    "visitors_daily_A.columns = ['date', 'visitors_per_date_A']\n",
    "\n",
    "visitors_cum_A = visitors_daily_A.copy()\n",
    "visitors_cum_A['visitors_per_date_A'] = visitors_cum_A['visitors_per_date_A'].cumsum()\n",
    "\n",
    "visitors_cum_A.columns = ['date', 'visitors_cum_A']\n",
    "\n",
    "visitors_daily_B = visitors[visitors['group'] == 'B'][['date', 'visitors']]\n",
    "visitors_daily_B.columns = ['date', 'visitors_per_date_B']\n",
    "\n",
    "visitors_cum_B = visitors_daily_B.copy()\n",
    "visitors_cum_B['visitors_per_date_B'] = visitors_cum_B['visitors_per_date_B'].cumsum()\n",
    "\n",
    "visitors_cum_B.columns = ['date', 'visitors_cum_B']"
   ]
  },
  {
   "cell_type": "markdown",
   "metadata": {},
   "source": [
    "Соберем все полученные данные в одну таблицу."
   ]
  },
  {
   "cell_type": "code",
   "execution_count": 22,
   "metadata": {},
   "outputs": [],
   "source": [
    "df = (\n",
    "    orders_daily_A.merge(\n",
    "        orders_daily_B, left_on='date', right_on='date', how='left'\n",
    "    )\n",
    "    .merge(orders_cum_A, left_on='date', right_on='date', how='left')\n",
    "    .merge(orders_cum_B, left_on='date', right_on='date', how='left')\n",
    "    .merge(visitors_daily_A, left_on='date', right_on='date', how='left')\n",
    "    .merge(visitors_daily_B, left_on='date', right_on='date', how='left')\n",
    "    .merge(visitors_cum_A, left_on='date', right_on='date', how='left')\n",
    "    .merge(visitors_cum_B, left_on='date', right_on='date', how='left')\n",
    ")"
   ]
  },
  {
   "cell_type": "markdown",
   "metadata": {},
   "source": [
    "Посчитаем конверсию"
   ]
  },
  {
   "cell_type": "code",
   "execution_count": 23,
   "metadata": {},
   "outputs": [],
   "source": [
    "df['conversion_cum_B'] = df['orders_cum_B'] / df['visitors_cum_B']\n",
    "df['conversion_cum_A'] = df['orders_cum_A'] / df['visitors_cum_A']"
   ]
  },
  {
   "cell_type": "markdown",
   "metadata": {},
   "source": [
    "###   Кумулятивная выручка по группам"
   ]
  },
  {
   "cell_type": "markdown",
   "metadata": {},
   "source": [
    "Выведем график кумулятивной выручки для обеих групп."
   ]
  },
  {
   "cell_type": "code",
   "execution_count": 24,
   "metadata": {},
   "outputs": [
    {
     "data": {
      "image/png": "[encoded data removed]",
      "text/plain": [
       "<Figure size 1080x504 with 1 Axes>"
      ]
     },
     "metadata": {},
     "output_type": "display_data"
    }
   ],
   "source": [
    "with warnings.catch_warnings():\n",
    "    warnings.simplefilter(\"ignore\")\n",
    "    fig, ax = plt.subplots(figsize = (15, 7))\n",
    "    sns.lineplot(data = orders_cum_A, y = 'revenue_cum_A', x = 'date', label = 'A')\n",
    "    sns.lineplot(data = orders_cum_B, y = 'revenue_cum_B', x = 'date',label = 'B')\n",
    "\n",
    "    plt.ylim(2,)\n",
    "    plt.title('Кумулятивная выручка по группам')\n",
    "    plt.xlabel('')\n",
    "    plt.ylabel('Сумма выручки, у.е.')\n",
    "\n",
    "    plt.annotate('скачок', xy=('2019-08-17', 2800000), xytext=('2019-08-10', 3500000),\n",
    "                arrowprops=dict(facecolor='g'))\n",
    "    plt.annotate('отрыв', xy=('2019-08-05', 800000), xytext=('2019-08-05', 2000000),\n",
    "                arrowprops=dict(facecolor='g'))\n",
    "    plt.show()"
   ]
  },
  {
   "cell_type": "markdown",
   "metadata": {},
   "source": [
    "Сумма выручки группы В ощутимо выросла во второй половине теста - возможно на это повлияли аномальныо дорогие заказы. Учтем это в дальнейшем."
   ]
  },
  {
   "cell_type": "markdown",
   "metadata": {},
   "source": [
    "###   Кумулятивный средний чек.\n"
   ]
  },
  {
   "cell_type": "markdown",
   "metadata": {},
   "source": [
    "Выведем график кумулятивной среднего чека."
   ]
  },
  {
   "cell_type": "code",
   "execution_count": 25,
   "metadata": {},
   "outputs": [
    {
     "data": {
      "image/png": "[encoded data removed]",
      "text/plain": [
       "<Figure size 1080x504 with 1 Axes>"
      ]
     },
     "metadata": {},
     "output_type": "display_data"
    }
   ],
   "source": [
    "fig, ax = plt.subplots(figsize = (15, 7))\n",
    "sns.lineplot(data = orders_cum_A, y = (orders_cum_A['revenue_cum_A'] / orders_cum_A['orders_cum_A']), x = 'date', label = 'A')\n",
    "sns.lineplot(data = orders_cum_B, y = (orders_cum_B['revenue_cum_B'] / orders_cum_B['orders_cum_B']), x = 'date', label = 'B')\n",
    "\n",
    "plt.ylim(0,12000)\n",
    "plt.title('Кумулятивный средний чек по группам')\n",
    "plt.xlabel('')\n",
    "plt.ylabel('Кумулятивный средний чек, у.е.')\n",
    "plt.show()"
   ]
  },
  {
   "cell_type": "markdown",
   "metadata": {},
   "source": [
    "Кумулятивные значения среднего чека сильно колеблются, и делать выводы по этой метрике пока нельзя."
   ]
  },
  {
   "cell_type": "markdown",
   "metadata": {},
   "source": [
    "###  Относительное изменение кумулятивного среднего чека группы B к группе A."
   ]
  },
  {
   "cell_type": "markdown",
   "metadata": {},
   "source": [
    "Построим график относительно различия кумулятивного среднего чека группы B к группе A."
   ]
  },
  {
   "cell_type": "code",
   "execution_count": 26,
   "metadata": {},
   "outputs": [
    {
     "data": {
      "image/png": "[encoded data removed]",
      "text/plain": [
       "<Figure size 1080x504 with 1 Axes>"
      ]
     },
     "metadata": {},
     "output_type": "display_data"
    }
   ],
   "source": [
    "fig, ax = plt.subplots(figsize = (15, 7))\n",
    "sns.lineplot(data = df, y = (\n",
    "    ( (df['revenue_cum_B']/ df['orders_cum_B']) / ( df['revenue_cum_A']/ df['orders_cum_A']))- 1\n",
    "            ), x = 'date')\n",
    "\n",
    "plt.axhline(y=0, color='green', linestyle='--') \n",
    "plt.ylim(-0.3,0.6)\n",
    "plt.title('Относительное изменение кумулятивного среднего чека группы B к группе A')\n",
    "plt.xlabel('')\n",
    "plt.ylabel('Относительное изменение')\n",
    "plt.show()"
   ]
  },
  {
   "cell_type": "markdown",
   "metadata": {},
   "source": [
    "На данном графике, как и на предыдущих, видны резкие изменения метрики в некоторые даты."
   ]
  },
  {
   "cell_type": "markdown",
   "metadata": {},
   "source": [
    "###  Кумулятивная конверсия по группам"
   ]
  },
  {
   "cell_type": "markdown",
   "metadata": {},
   "source": [
    "Выведем график кумулятивной конверсии по группам."
   ]
  },
  {
   "cell_type": "code",
   "execution_count": 27,
   "metadata": {},
   "outputs": [
    {
     "data": {
      "image/png": "[encoded data removed]",
      "text/plain": [
       "<Figure size 1080x504 with 1 Axes>"
      ]
     },
     "metadata": {},
     "output_type": "display_data"
    }
   ],
   "source": [
    "fig, ax = plt.subplots(figsize = (15, 7))\n",
    "sns.lineplot(data = df, y = 'conversion_cum_A', x = 'date', label = 'A')\n",
    "sns.lineplot(data = df, y = 'conversion_cum_B', x = 'date', label = 'B')\n",
    "\n",
    "plt.ylim(0,0.05)\n",
    "plt.title('Кумулятивная конверсия по группам')\n",
    "plt.xlabel('')\n",
    "plt.ylabel('Конверсия')\n",
    "plt.show()"
   ]
  },
  {
   "cell_type": "markdown",
   "metadata": {},
   "source": [
    "Cудя по графику, начиная с 9 августа конверсия для группы B зафиксировалась на большем уровне, чем у группы A"
   ]
  },
  {
   "cell_type": "markdown",
   "metadata": {},
   "source": [
    " ### Относительное изменение кумулятивной конверсии группы B к группе A"
   ]
  },
  {
   "cell_type": "code",
   "execution_count": 28,
   "metadata": {},
   "outputs": [
    {
     "data": {
      "image/png": "[encoded data removed]",
      "text/plain": [
       "<Figure size 1080x504 with 1 Axes>"
      ]
     },
     "metadata": {},
     "output_type": "display_data"
    }
   ],
   "source": [
    "fig, ax = plt.subplots(figsize = (15, 7))\n",
    "sns.lineplot(data = df, y = (\n",
    "    ( df['conversion_cum_B'] / df['conversion_cum_A'])- 1\n",
    "            ), x = 'date')\n",
    "\n",
    "plt.axhline(y=0, color='green', linestyle='--') \n",
    "plt.ylim(-0.3,0.6)\n",
    "plt.title('Относительное изменение кумулятивной конверсии группы B к группе A')\n",
    "plt.xlabel('')\n",
    "plt.ylabel('Относительное изменение')\n",
    "plt.show()"
   ]
  },
  {
   "cell_type": "markdown",
   "metadata": {},
   "source": [
    "По итогам наблюдений можем утверждать о большей конверсии для тестовой группы. В течении теста разница колеблется в пределах 10 - 20 процентов."
   ]
  },
  {
   "cell_type": "markdown",
   "metadata": {},
   "source": [
    "### Количество заказов по пользователям"
   ]
  },
  {
   "cell_type": "markdown",
   "metadata": {},
   "source": [
    "Посторим точечный график количества заказов по пользователям и определим границу аномальных значений."
   ]
  },
  {
   "cell_type": "code",
   "execution_count": 29,
   "metadata": {},
   "outputs": [],
   "source": [
    "orders_by_users = orders.groupby('visitor_id')['transaction_id'].nunique()"
   ]
  },
  {
   "cell_type": "code",
   "execution_count": 30,
   "metadata": {},
   "outputs": [
    {
     "data": {
      "image/png": "[encoded data removed]",
      "text/plain": [
       "<Figure size 720x504 with 1 Axes>"
      ]
     },
     "metadata": {},
     "output_type": "display_data"
    }
   ],
   "source": [
    "fig, ax = plt.subplots(figsize = (10, 7))\n",
    "sns.scatterplot(data = orders_by_users, alpha = 0.8,linewidth=0.3)\n",
    "\n",
    "plt.ylim(0,12)\n",
    "plt.title('Количество заказов по пользователям')\n",
    "plt.xlabel('Пользователи')\n",
    "plt.ylabel('Количество заказов')\n",
    "ax.yaxis.set_major_locator(ticker.MultipleLocator(base=1.0))\n",
    "plt.xticks([],[])\n",
    "plt.show()"
   ]
  },
  {
   "cell_type": "markdown",
   "metadata": {},
   "source": [
    "Большинство пользователей совершили от одного до двух заказов, но существуют и те, кто совершил целых 11.\n",
    "\n",
    "Посчитаем 95 и 99 процентили."
   ]
  },
  {
   "cell_type": "code",
   "execution_count": 31,
   "metadata": {},
   "outputs": [
    {
     "name": "stdout",
     "output_type": "stream",
     "text": [
      " У 95% пользователей количество заказов меньше 2\n",
      " У 99% пользователей количество заказов меньше 4\n"
     ]
    }
   ],
   "source": [
    "print(' У 95% пользователей количество заказов меньше',int(np.percentile(orders_by_users, [95][0])))\n",
    "print(' У 99% пользователей количество заказов меньше',int(np.percentile(orders_by_users, [99][0])))"
   ]
  },
  {
   "cell_type": "markdown",
   "metadata": {},
   "source": [
    "Показатели пользователей, совершивших более 2 заказов будем считать аномальными."
   ]
  },
  {
   "cell_type": "markdown",
   "metadata": {},
   "source": [
    "### Стоимость заказов"
   ]
  },
  {
   "cell_type": "markdown",
   "metadata": {},
   "source": [
    "Посторим точечный график стоимости заказов по пользователям и определим границу аномальных значений."
   ]
  },
  {
   "cell_type": "code",
   "execution_count": 32,
   "metadata": {},
   "outputs": [
    {
     "data": {
      "image/png": "[encoded data removed]",
      "text/plain": [
       "<Figure size 720x504 with 1 Axes>"
      ]
     },
     "metadata": {},
     "output_type": "display_data"
    }
   ],
   "source": [
    "fig, ax = plt.subplots(figsize = (10, 7))\n",
    "sns.scatterplot(data = orders['revenue'], alpha = 0.8,linewidth=0.3)\n",
    "\n",
    "plt.ylim(-3000,100000)\n",
    "plt.title('Стоимость заказов')\n",
    "plt.xlabel('Заказы')\n",
    "plt.ylabel('Стоимость заказа, у.e.')\n",
    "\n",
    "plt.xticks([],[])\n",
    "plt.show()"
   ]
  },
  {
   "cell_type": "markdown",
   "metadata": {},
   "source": [
    "На графике видны значения стоимости заказов, приближающиеся к отметке в 100000 у.е."
   ]
  },
  {
   "cell_type": "markdown",
   "metadata": {},
   "source": [
    "Посчитаем 95 и 99 процентили."
   ]
  },
  {
   "cell_type": "code",
   "execution_count": 33,
   "metadata": {},
   "outputs": [
    {
     "name": "stdout",
     "output_type": "stream",
     "text": [
      "Стоимость 95% заказов меньше 28000\n",
      "Стоимость 99% заказов меньше 58233\n"
     ]
    }
   ],
   "source": [
    "print('Стоимость 95% заказов меньше',int(np.percentile(orders['revenue'], [95][0])))\n",
    "print('Стоимость 99% заказов меньше',int(np.percentile(orders['revenue'], [99][0])))"
   ]
  },
  {
   "cell_type": "markdown",
   "metadata": {},
   "source": [
    "Заказы, стомость которых превышает 28000 будем считать аномальными."
   ]
  },
  {
   "cell_type": "markdown",
   "metadata": {},
   "source": [
    "### Различие в конверсии между группами по «сырым» данным."
   ]
  },
  {
   "cell_type": "markdown",
   "metadata": {},
   "source": [
    "Посчитаем статистическую значимость различия конверсии двух групп применяя тест Манна-Уитни.\n",
    "\n",
    "Объявим переменные sample_A и sample_B, в которых пользователям из разных групп будет соответствовать количество заказов."
   ]
  },
  {
   "cell_type": "code",
   "execution_count": 34,
   "metadata": {},
   "outputs": [],
   "source": [
    "orders_by_users_A = orders[orders['group'] == 'A']\\\n",
    "    .groupby('visitor_id',as_index=False)\\\n",
    "    .agg({'transaction_id':'nunique'})\n",
    "\n",
    "orders_by_users_B = orders[orders['group'] == 'B']\\\n",
    "    .groupby('visitor_id',as_index=False)\\\n",
    "    .agg({'transaction_id':'nunique'})"
   ]
  },
  {
   "cell_type": "code",
   "execution_count": 35,
   "metadata": {},
   "outputs": [],
   "source": [
    "sample_A = pd.concat([\n",
    "        orders_by_users_A['transaction_id'],\n",
    "        pd.Series(0,index=np.arange(\n",
    "                df['visitors_per_date_A'].sum() - len(orders_by_users_A['transaction_id'])\n",
    "                ),\n",
    "                name='transaction_id',\n",
    "            ),\n",
    "        ],\n",
    "        axis=0,)\n",
    "\n",
    "sample_B = pd.concat([\n",
    "        orders_by_users_B['transaction_id'],\n",
    "        pd.Series(0,index=np.arange(\n",
    "                df['visitors_per_date_B'].sum() - len(orders_by_users_B['transaction_id'])\n",
    "                ),\n",
    "                name='transaction_id',\n",
    "            ),\n",
    "        ],\n",
    "        axis=0,)"
   ]
  },
  {
   "cell_type": "markdown",
   "metadata": {},
   "source": [
    "Применим критерий и вычеслим статистическую значимость различий двух групп. Критическим уровнем статистической значимости будем считать 0.05  \n",
    "\n",
    "Сформируем нулевую и альтернативную гипотезу:\n",
    "- Нулевая гипотеза - средние конверсии двух групп равны.\n",
    "- Альтернативная гипотеза - средние конверсии двух групп отличаются."
   ]
  },
  {
   "cell_type": "code",
   "execution_count": 36,
   "metadata": {},
   "outputs": [
    {
     "name": "stdout",
     "output_type": "stream",
     "text": [
      "Различие в конверсии между группами по «сырым» данным :13.8%\n",
      "\n",
      "P-value: 0.016792355056752608\n",
      "Отвергаем нулевую гипотезу\n"
     ]
    }
   ],
   "source": [
    "print('Различие в конверсии между группами по «сырым» данным :'\"{:.1%}\".format(\n",
    "        sample_B.mean()/sample_A.mean()-1\n",
    "    )\n",
    ")\n",
    "print()\n",
    "\n",
    "alpha = 0.05\n",
    "results = stats.mannwhitneyu(sample_A, sample_B, alternative = 'two-sided')\n",
    "\n",
    "print('P-value:', results.pvalue)\n",
    "\n",
    "if results.pvalue < alpha:\n",
    "    print('Отвергаем нулевую гипотезу')\n",
    "else:\n",
    "    print('Не получилось отвергнуть нулевую гипотезу') "
   ]
  },
  {
   "cell_type": "markdown",
   "metadata": {},
   "source": [
    "P-value меньше 0.05 - можем считать, что в конверсии между группами по сырым данным есть статистически значимые различия."
   ]
  },
  {
   "cell_type": "markdown",
   "metadata": {},
   "source": [
    "### Различие в среднем чеке между группами по «сырым» данным."
   ]
  },
  {
   "cell_type": "markdown",
   "metadata": {},
   "source": [
    "Посчитаем статистическую значимость различия в среднем чеке двух групп.\n",
    "\n",
    "Сформируем нулевую и альтернативную гипотезу:\n",
    "- Нулевая гипотеза - средние чеки двух групп равны.\n",
    "- Альтернативная гипотеза - средние чеки двух групп отличаются."
   ]
  },
  {
   "cell_type": "code",
   "execution_count": 37,
   "metadata": {},
   "outputs": [
    {
     "name": "stdout",
     "output_type": "stream",
     "text": [
      "Различие в среднем чеке между группами по «сырым» данным :25.9%\n",
      "P-value: 0.7292909855432458\n",
      "Не получилось отвергнуть нулевую гипотезу\n"
     ]
    }
   ],
   "source": [
    "print('Различие в среднем чеке между группами по «сырым» данным :'\"{:.1%}\"\\\n",
    "      .format(orders[orders['group']=='B']['revenue'].mean() / orders[orders['group']=='A']['revenue'].mean()-1)) \n",
    "\n",
    "\n",
    "alpha = 0.05\n",
    "\n",
    "results = stats.mannwhitneyu(\n",
    "    orders[orders['group']=='A']['revenue'], orders[orders['group']=='B']['revenue'], alternative = 'two-sided')\n",
    "\n",
    "print('P-value:', results.pvalue)\n",
    "\n",
    "if results.pvalue < alpha:\n",
    "    print('Отвергаем нулевую гипотезу')\n",
    "else:\n",
    "    print('Не получилось отвергнуть нулевую гипотезу') "
   ]
  },
  {
   "cell_type": "markdown",
   "metadata": {},
   "source": [
    "Несмотря на относительное различие среднего чека в 25%, статистически значимых различий в среднем чеке обнаружено не было - p-value равен 0.72. Утверждать, что в средний чек двух групп отличается мы не можем."
   ]
  },
  {
   "cell_type": "markdown",
   "metadata": {},
   "source": [
    "### Различие в конверсии между группами по «очищенным» данным."
   ]
  },
  {
   "cell_type": "markdown",
   "metadata": {},
   "source": [
    "Посчитаем статистическую значимость различия конверсии двух групп исключая аномальные данные.\n",
    "\n",
    "Сформируем нулевую и альтернативную гипотезу:\n",
    "- Нулевая гипотеза - средние конверсии двух групп равны.\n",
    "- Альтернативная гипотеза - средние конверсии двух групп отличаются."
   ]
  },
  {
   "cell_type": "code",
   "execution_count": 38,
   "metadata": {},
   "outputs": [],
   "source": [
    "sample_A_clean = pd.concat([\n",
    "        orders_by_users_A.query('transaction_id < 3')['transaction_id'],\n",
    "        pd.Series(0,index=np.arange(\n",
    "                df['visitors_per_date_A'].sum() - len(orders_by_users_A['transaction_id'])\n",
    "                ),\n",
    "                name='transaction_id',\n",
    "            ),\n",
    "        ],\n",
    "        axis=0,)\n",
    "\n",
    "sample_B_clean = pd.concat([\n",
    "        orders_by_users_B.query('transaction_id < 3')['transaction_id'],\n",
    "        pd.Series(0,index=np.arange(\n",
    "                df['visitors_per_date_B'].sum() - len(orders_by_users_B['transaction_id'])\n",
    "                ),\n",
    "                name='transaction_id',\n",
    "            ),\n",
    "        ],\n",
    "        axis=0,)"
   ]
  },
  {
   "cell_type": "code",
   "execution_count": 39,
   "metadata": {},
   "outputs": [
    {
     "name": "stdout",
     "output_type": "stream",
     "text": [
      "Различие в конверсии между группами по «очищенным» данным :16.8%\n",
      "\n",
      "P-value: 0.01297049996639528\n",
      "Отвергаем нулевую гипотезу\n"
     ]
    }
   ],
   "source": [
    "print('Различие в конверсии между группами по «очищенным» данным :'\"{:.1%}\".format(\n",
    "        sample_B_clean.mean()/sample_A_clean.mean()-1\n",
    "    )\n",
    ")\n",
    "print()\n",
    "\n",
    "alpha = 0.05\n",
    "results = stats.mannwhitneyu(sample_A_clean, sample_B_clean, alternative = 'two-sided')\n",
    "\n",
    "print('P-value:', results.pvalue)\n",
    "\n",
    "if results.pvalue < alpha:\n",
    "    print('Отвергаем нулевую гипотезу')\n",
    "else:\n",
    "    print('Не получилось отвергнуть нулевую гипотезу') "
   ]
  },
  {
   "cell_type": "markdown",
   "metadata": {},
   "source": [
    "В конверсии у двух групп по очищенным данным так же есть статистически значимые различия, можно утверждать о разнице в конверсии у двух групп."
   ]
  },
  {
   "cell_type": "markdown",
   "metadata": {},
   "source": [
    "### Различие в среднем чеке между группами по «очищенным» данным."
   ]
  },
  {
   "cell_type": "markdown",
   "metadata": {},
   "source": [
    "Посчитаем статистическую значимость различия в среднем чеке двух групп по очищенным данным.\n",
    "\n",
    "Сформируем нулевую и альтернативную гипотезу:\n",
    "- Нулевая гипотеза - средние чеки двух групп равны.\n",
    "- Альтернативная гипотеза - средние чеки двух групп отличаются."
   ]
  },
  {
   "cell_type": "code",
   "execution_count": 40,
   "metadata": {},
   "outputs": [
    {
     "name": "stdout",
     "output_type": "stream",
     "text": [
      "Различие в среднем чеке между группами по «очищенным» данным :-1.6%\n",
      "P-value: 0.851874185940575\n",
      "Не получилось отвергнуть нулевую гипотезу\n"
     ]
    }
   ],
   "source": [
    "print('Различие в среднем чеке между группами по «очищенным» данным :'\"{:.1%}\"\\\n",
    "      .format(orders.query('group == \"B\" and revenue < 28000')['revenue'].mean()\\\n",
    "              / orders.query('group == \"A\" and revenue < 28000')['revenue'].mean()-1)) \n",
    "\n",
    "\n",
    "alpha = 0.05\n",
    "\n",
    "results = stats.mannwhitneyu(\n",
    "    orders.query('group == \"B\" and revenue < 28000')['revenue'],\n",
    "    orders.query('group == \"A\" and revenue < 28000')['revenue'], \n",
    "    alternative = 'two-sided')\n",
    "\n",
    "print('P-value:', results.pvalue)\n",
    "\n",
    "if results.pvalue < alpha:\n",
    "    print('Отвергаем нулевую гипотезу')\n",
    "else:\n",
    "    print('Не получилось отвергнуть нулевую гипотезу') "
   ]
  },
  {
   "cell_type": "markdown",
   "metadata": {},
   "source": [
    "Статистически значимых различий в среднем чеке по очищенным данным обнаружено не было - p-value равен 0.85 . Относительное различие среднего чека приблизилась к отметке в 0 процентов - можно утверждать, что различий в среднем чеке у двух групп тестирования не наблюдается.\n",
    "\n"
   ]
  },
  {
   "cell_type": "markdown",
   "metadata": {},
   "source": [
    "## Выводы"
   ]
  },
  {
   "cell_type": "markdown",
   "metadata": {},
   "source": [
    "Результаты A/B тестирования:\n",
    " - Была обнаружена статистически значимая разница в конверсии двух групп - можно утврждать о больших показателх у группы B.\n",
    " - Разницы в среднем чеке двух групп обнаружено не было.\n",
    "\n",
    "Рекомендуется закончить тестирование - несмотря на одинаковый средний чек, конверсия тестируемой группы увеличилась и гипотеза подтверждена.  \n",
    "\n",
    "Результаты приоретизации гипотез:\n",
    "\n",
    "В результате приоретизации гипотез было решено учитывать параметры охвата и применить метод RICE. \n",
    "\n",
    "Итоговый список приоритета гипотез:\n",
    " 1. Добавить форму подписки на все основные страницы, чтобы собрать базу клиентов для email-рассылок\n",
    " 2. Добавить блоки рекомендаций товаров на сайт интернет магазина, чтобы повысить конверсию и средний чек заказа\n",
    " 3. Добавить два новых канала привлечения трафика, что позволит привлекать на 30% больше пользователей\n",
    " 4. Показать на главной странице баннеры с актуальными акциями и распродажами, чтобы увеличить конверсию\n",
    " 5. Запустить акцию, дающую скидку на товар в день рождения\n",
    " 6. Изменить структура категорий, что увеличит конверсию, т.к. пользователи быстрее найдут нужный товар\n",
    " 7. Запустить собственную службу доставки, что сократит срок доставки заказов\n",
    " 8. Добавить страницу отзывов клиентов о магазине, что позволит увеличить количество заказов\n",
    " 9. Изменить цвет фона главной страницы, чтобы увеличить вовлеченность пользователей\n",
    "\n",
    "В дальнейшем рекомендуется улучшить методы разделения пользователей на тестируемые группы. Во время анлиза результатов теста было обнаружено 58 пользоателей, попавших в обе группы тестирования.\n",
    "\n",
    "\n",
    "\n",
    "\n"
   ]
  }
 ],
 "metadata": {
  "ExecuteTimeLog": [
   {
    "duration": 1498,
    "start_time": "2021-09-16T13:27:17.525Z"
   },
   {
    "duration": 54,
    "start_time": "2021-09-16T13:30:03.311Z"
   },
   {
    "duration": 483,
    "start_time": "2021-09-16T13:30:07.770Z"
   },
   {
    "duration": 16,
    "start_time": "2021-09-16T13:30:10.831Z"
   },
   {
    "duration": 11,
    "start_time": "2021-09-16T13:30:51.295Z"
   },
   {
    "duration": 9,
    "start_time": "2021-09-16T13:36:18.679Z"
   },
   {
    "duration": 337,
    "start_time": "2021-09-16T13:37:25.325Z"
   },
   {
    "duration": 613,
    "start_time": "2021-09-16T13:37:30.948Z"
   },
   {
    "duration": 409,
    "start_time": "2021-09-16T13:37:56.678Z"
   },
   {
    "duration": 345,
    "start_time": "2021-09-16T13:38:01.571Z"
   },
   {
    "duration": 10,
    "start_time": "2021-09-16T13:38:22.163Z"
   },
   {
    "duration": 9,
    "start_time": "2021-09-16T13:38:26.947Z"
   },
   {
    "duration": 346,
    "start_time": "2021-09-16T13:39:33.678Z"
   },
   {
    "duration": 8,
    "start_time": "2021-09-16T13:39:36.960Z"
   },
   {
    "duration": 6,
    "start_time": "2021-09-16T13:40:27.335Z"
   },
   {
    "duration": 6,
    "start_time": "2021-09-16T13:40:29.780Z"
   },
   {
    "duration": 7,
    "start_time": "2021-09-16T13:45:45.957Z"
   },
   {
    "duration": 5,
    "start_time": "2021-09-16T13:47:05.020Z"
   },
   {
    "duration": 5,
    "start_time": "2021-09-16T13:48:16.444Z"
   },
   {
    "duration": 13,
    "start_time": "2021-09-16T13:48:22.483Z"
   },
   {
    "duration": 311,
    "start_time": "2021-09-16T14:52:27.501Z"
   },
   {
    "duration": 304,
    "start_time": "2021-09-16T14:52:43.583Z"
   },
   {
    "duration": 14,
    "start_time": "2021-09-16T14:52:49.186Z"
   },
   {
    "duration": 72,
    "start_time": "2021-09-16T14:52:49.202Z"
   },
   {
    "duration": 13,
    "start_time": "2021-09-16T14:52:49.277Z"
   },
   {
    "duration": 30,
    "start_time": "2021-09-16T14:52:49.293Z"
   },
   {
    "duration": 21,
    "start_time": "2021-09-16T14:52:49.326Z"
   },
   {
    "duration": 11,
    "start_time": "2021-09-16T14:52:49.350Z"
   },
   {
    "duration": 15206,
    "start_time": "2021-09-16T14:52:49.363Z"
   },
   {
    "duration": -116,
    "start_time": "2021-09-16T14:53:04.695Z"
   },
   {
    "duration": 14,
    "start_time": "2021-09-16T14:53:08.989Z"
   },
   {
    "duration": 320,
    "start_time": "2021-09-16T15:00:29.657Z"
   },
   {
    "duration": 7612,
    "start_time": "2021-09-16T15:00:55.991Z"
   },
   {
    "duration": 12,
    "start_time": "2021-09-16T15:01:04.870Z"
   },
   {
    "duration": 3,
    "start_time": "2021-09-16T15:02:52.699Z"
   },
   {
    "duration": 11,
    "start_time": "2021-09-16T15:02:54.712Z"
   },
   {
    "duration": 13,
    "start_time": "2021-09-16T15:05:51.733Z"
   },
   {
    "duration": 16,
    "start_time": "2021-09-16T15:07:53.433Z"
   },
   {
    "duration": 14,
    "start_time": "2021-09-16T15:10:01.283Z"
   },
   {
    "duration": 13,
    "start_time": "2021-09-16T15:10:11.164Z"
   },
   {
    "duration": 13,
    "start_time": "2021-09-16T15:10:18.373Z"
   },
   {
    "duration": 11,
    "start_time": "2021-09-16T15:10:42.012Z"
   },
   {
    "duration": 4,
    "start_time": "2021-09-16T15:10:51.299Z"
   },
   {
    "duration": 11,
    "start_time": "2021-09-16T15:10:52.983Z"
   },
   {
    "duration": 13,
    "start_time": "2021-09-16T15:10:56.107Z"
   },
   {
    "duration": 65,
    "start_time": "2021-09-16T15:17:03.910Z"
   },
   {
    "duration": 11,
    "start_time": "2021-09-16T15:17:08.989Z"
   },
   {
    "duration": 14,
    "start_time": "2021-09-16T15:17:14.435Z"
   },
   {
    "duration": 8,
    "start_time": "2021-09-16T15:17:25.885Z"
   },
   {
    "duration": 65,
    "start_time": "2021-09-16T15:17:56.020Z"
   },
   {
    "duration": 11,
    "start_time": "2021-09-16T15:17:58.836Z"
   },
   {
    "duration": 9,
    "start_time": "2021-09-16T15:18:01.723Z"
   },
   {
    "duration": 8,
    "start_time": "2021-09-16T15:18:06.680Z"
   },
   {
    "duration": 11,
    "start_time": "2021-09-16T15:18:26.472Z"
   },
   {
    "duration": 9,
    "start_time": "2021-09-16T15:19:27.881Z"
   },
   {
    "duration": 7,
    "start_time": "2021-09-16T15:20:00.824Z"
   },
   {
    "duration": 11,
    "start_time": "2021-09-16T15:21:59.821Z"
   },
   {
    "duration": 13,
    "start_time": "2021-09-16T15:23:47.710Z"
   },
   {
    "duration": 8,
    "start_time": "2021-09-16T15:23:52.213Z"
   },
   {
    "duration": 9,
    "start_time": "2021-09-16T15:23:57.392Z"
   },
   {
    "duration": 18,
    "start_time": "2021-09-16T15:25:46.548Z"
   },
   {
    "duration": 400,
    "start_time": "2021-09-16T15:27:18.574Z"
   },
   {
    "duration": 332,
    "start_time": "2021-09-16T15:27:30.458Z"
   },
   {
    "duration": 552,
    "start_time": "2021-09-16T15:27:39.302Z"
   },
   {
    "duration": 404,
    "start_time": "2021-09-16T15:28:02.473Z"
   },
   {
    "duration": 698,
    "start_time": "2021-09-16T15:28:28.471Z"
   },
   {
    "duration": 4,
    "start_time": "2021-09-16T16:10:43.699Z"
   },
   {
    "duration": 18,
    "start_time": "2021-09-16T16:10:46.718Z"
   },
   {
    "duration": 10,
    "start_time": "2021-09-16T16:11:15.298Z"
   },
   {
    "duration": 9,
    "start_time": "2021-09-16T16:11:46.071Z"
   },
   {
    "duration": 19,
    "start_time": "2021-09-16T16:12:49.909Z"
   },
   {
    "duration": 105,
    "start_time": "2021-09-16T16:22:30.784Z"
   },
   {
    "duration": 12,
    "start_time": "2021-09-16T16:22:38.190Z"
   },
   {
    "duration": 13,
    "start_time": "2021-09-16T16:22:58.387Z"
   },
   {
    "duration": 412,
    "start_time": "2021-09-16T16:27:30.447Z"
   },
   {
    "duration": 100,
    "start_time": "2021-09-16T16:27:48.758Z"
   },
   {
    "duration": 8,
    "start_time": "2021-09-16T16:27:53.338Z"
   },
   {
    "duration": 13,
    "start_time": "2021-09-16T16:28:21.128Z"
   },
   {
    "duration": 12,
    "start_time": "2021-09-16T16:28:37.318Z"
   },
   {
    "duration": 10,
    "start_time": "2021-09-16T16:29:04.273Z"
   },
   {
    "duration": 11,
    "start_time": "2021-09-16T16:29:09.750Z"
   },
   {
    "duration": 101,
    "start_time": "2021-09-16T16:36:06.957Z"
   },
   {
    "duration": 11,
    "start_time": "2021-09-16T16:36:19.823Z"
   },
   {
    "duration": 11,
    "start_time": "2021-09-16T16:36:30.006Z"
   },
   {
    "duration": 96,
    "start_time": "2021-09-16T16:36:53.492Z"
   },
   {
    "duration": 10,
    "start_time": "2021-09-16T16:36:55.428Z"
   },
   {
    "duration": 11,
    "start_time": "2021-09-16T16:36:57.987Z"
   },
   {
    "duration": 11,
    "start_time": "2021-09-16T16:37:00.362Z"
   },
   {
    "duration": 9,
    "start_time": "2021-09-16T16:39:02.032Z"
   },
   {
    "duration": 15,
    "start_time": "2021-09-16T16:40:31.615Z"
   },
   {
    "duration": 10,
    "start_time": "2021-09-16T16:40:39.405Z"
   },
   {
    "duration": 10,
    "start_time": "2021-09-16T16:40:42.437Z"
   },
   {
    "duration": 10,
    "start_time": "2021-09-16T16:40:51.092Z"
   },
   {
    "duration": 10,
    "start_time": "2021-09-16T16:40:56.060Z"
   },
   {
    "duration": 13,
    "start_time": "2021-09-16T16:41:01.059Z"
   },
   {
    "duration": 11,
    "start_time": "2021-09-16T16:41:07.340Z"
   },
   {
    "duration": 19,
    "start_time": "2021-09-16T16:46:05.921Z"
   },
   {
    "duration": 337,
    "start_time": "2021-09-16T16:46:34.996Z"
   },
   {
    "duration": 5,
    "start_time": "2021-09-16T16:46:38.879Z"
   },
   {
    "duration": 4,
    "start_time": "2021-09-16T16:47:11.435Z"
   },
   {
    "duration": 19,
    "start_time": "2021-09-16T16:47:14.293Z"
   },
   {
    "duration": 18,
    "start_time": "2021-09-16T16:48:31.348Z"
   },
   {
    "duration": 18,
    "start_time": "2021-09-16T18:49:55.615Z"
   },
   {
    "duration": 12,
    "start_time": "2021-09-16T18:50:01.992Z"
   },
   {
    "duration": 15,
    "start_time": "2021-09-16T18:51:28.927Z"
   },
   {
    "duration": 15,
    "start_time": "2021-09-16T18:51:39.520Z"
   },
   {
    "duration": 507,
    "start_time": "2021-09-16T19:00:22.361Z"
   },
   {
    "duration": 102,
    "start_time": "2021-09-16T19:00:53.962Z"
   },
   {
    "duration": 13,
    "start_time": "2021-09-16T19:01:01.294Z"
   },
   {
    "duration": 110,
    "start_time": "2021-09-16T19:02:54.995Z"
   },
   {
    "duration": 14,
    "start_time": "2021-09-16T19:02:59.805Z"
   },
   {
    "duration": 26,
    "start_time": "2021-09-16T19:05:39.516Z"
   },
   {
    "duration": 1095,
    "start_time": "2021-09-16T19:05:42.990Z"
   },
   {
    "duration": 10,
    "start_time": "2021-09-16T19:06:13.861Z"
   },
   {
    "duration": 13,
    "start_time": "2021-09-16T19:06:18.021Z"
   },
   {
    "duration": 14,
    "start_time": "2021-09-16T19:06:21.960Z"
   },
   {
    "duration": 635,
    "start_time": "2021-09-16T19:09:19.648Z"
   },
   {
    "duration": 500,
    "start_time": "2021-09-16T19:09:31.257Z"
   },
   {
    "duration": 621,
    "start_time": "2021-09-16T19:09:59.486Z"
   },
   {
    "duration": 592,
    "start_time": "2021-09-16T19:11:44.515Z"
   },
   {
    "duration": 279,
    "start_time": "2021-09-16T19:20:20.825Z"
   },
   {
    "duration": 14,
    "start_time": "2021-09-16T19:20:40.873Z"
   },
   {
    "duration": 40,
    "start_time": "2021-09-16T19:20:43.529Z"
   },
   {
    "duration": 28,
    "start_time": "2021-09-16T19:20:53.423Z"
   },
   {
    "duration": 559,
    "start_time": "2021-09-16T19:24:41.131Z"
   },
   {
    "duration": 482,
    "start_time": "2021-09-16T19:31:10.402Z"
   },
   {
    "duration": 13,
    "start_time": "2021-09-16T19:31:56.950Z"
   },
   {
    "duration": 484,
    "start_time": "2021-09-16T19:32:09.703Z"
   },
   {
    "duration": 489,
    "start_time": "2021-09-16T19:32:17.368Z"
   },
   {
    "duration": 489,
    "start_time": "2021-09-16T19:33:03.085Z"
   },
   {
    "duration": 7963,
    "start_time": "2021-09-16T19:33:29.172Z"
   },
   {
    "duration": 539,
    "start_time": "2021-09-16T19:33:55.277Z"
   },
   {
    "duration": 517,
    "start_time": "2021-09-16T19:34:05.773Z"
   },
   {
    "duration": 638,
    "start_time": "2021-09-16T19:34:10.108Z"
   },
   {
    "duration": 755,
    "start_time": "2021-09-16T19:38:08.839Z"
   },
   {
    "duration": 542,
    "start_time": "2021-09-17T10:28:38.705Z"
   },
   {
    "duration": 18,
    "start_time": "2021-09-17T10:48:28.245Z"
   },
   {
    "duration": 27,
    "start_time": "2021-09-17T11:11:24.569Z"
   },
   {
    "duration": 809,
    "start_time": "2021-09-17T11:14:32.907Z"
   },
   {
    "duration": 10,
    "start_time": "2021-09-17T11:14:46.420Z"
   },
   {
    "duration": 567,
    "start_time": "2021-09-17T11:15:55.377Z"
   },
   {
    "duration": 681,
    "start_time": "2021-09-17T11:16:05.352Z"
   },
   {
    "duration": 721,
    "start_time": "2021-09-17T11:16:38.662Z"
   },
   {
    "duration": 698,
    "start_time": "2021-09-17T11:17:20.886Z"
   },
   {
    "duration": 669,
    "start_time": "2021-09-17T11:18:26.091Z"
   },
   {
    "duration": 488,
    "start_time": "2021-09-17T11:18:44.513Z"
   },
   {
    "duration": 503,
    "start_time": "2021-09-17T11:19:09.674Z"
   },
   {
    "duration": 628,
    "start_time": "2021-09-17T11:19:41.009Z"
   },
   {
    "duration": 645,
    "start_time": "2021-09-17T11:19:48.296Z"
   },
   {
    "duration": 635,
    "start_time": "2021-09-17T11:20:12.208Z"
   },
   {
    "duration": 732,
    "start_time": "2021-09-17T11:21:26.139Z"
   },
   {
    "duration": 649,
    "start_time": "2021-09-17T11:21:32.763Z"
   },
   {
    "duration": 13,
    "start_time": "2021-09-17T11:32:46.453Z"
   },
   {
    "duration": 652,
    "start_time": "2021-09-17T11:34:03.524Z"
   },
   {
    "duration": -106,
    "start_time": "2021-09-17T11:40:35.646Z"
   },
   {
    "duration": 26,
    "start_time": "2021-09-17T11:40:43.222Z"
   },
   {
    "duration": 16,
    "start_time": "2021-09-17T11:43:38.046Z"
   },
   {
    "duration": 7,
    "start_time": "2021-09-17T11:51:58.468Z"
   },
   {
    "duration": 22,
    "start_time": "2021-09-17T11:52:00.929Z"
   },
   {
    "duration": 567,
    "start_time": "2021-09-17T11:54:30.090Z"
   },
   {
    "duration": 526,
    "start_time": "2021-09-17T11:54:51.186Z"
   },
   {
    "duration": 880,
    "start_time": "2021-09-17T11:56:13.568Z"
   },
   {
    "duration": 8490,
    "start_time": "2021-09-17T12:00:23.485Z"
   },
   {
    "duration": 19,
    "start_time": "2021-09-17T12:00:37.800Z"
   },
   {
    "duration": 41,
    "start_time": "2021-09-17T12:01:01.720Z"
   },
   {
    "duration": 9,
    "start_time": "2021-09-17T12:01:09.435Z"
   },
   {
    "duration": 662,
    "start_time": "2021-09-17T12:01:15.327Z"
   },
   {
    "duration": 649,
    "start_time": "2021-09-17T12:01:48.566Z"
   },
   {
    "duration": 21,
    "start_time": "2021-09-17T14:23:51.579Z"
   },
   {
    "duration": 6,
    "start_time": "2021-09-17T14:24:47.022Z"
   },
   {
    "duration": 8,
    "start_time": "2021-09-17T14:24:48.768Z"
   },
   {
    "duration": 313,
    "start_time": "2021-09-17T14:25:37.334Z"
   },
   {
    "duration": 646,
    "start_time": "2021-09-17T14:25:49.718Z"
   },
   {
    "duration": 1025,
    "start_time": "2021-09-17T14:26:33.614Z"
   },
   {
    "duration": 709,
    "start_time": "2021-09-17T14:26:42.483Z"
   },
   {
    "duration": 539,
    "start_time": "2021-09-17T14:27:23.464Z"
   },
   {
    "duration": 595,
    "start_time": "2021-09-17T14:30:08.206Z"
   },
   {
    "duration": 14,
    "start_time": "2021-09-17T14:30:12.877Z"
   },
   {
    "duration": 561,
    "start_time": "2021-09-17T14:30:16.064Z"
   },
   {
    "duration": 14,
    "start_time": "2021-09-17T14:31:17.911Z"
   },
   {
    "duration": 538,
    "start_time": "2021-09-17T14:31:21.474Z"
   },
   {
    "duration": 14,
    "start_time": "2021-09-17T14:32:29.401Z"
   },
   {
    "duration": 551,
    "start_time": "2021-09-17T14:32:32.398Z"
   },
   {
    "duration": 495,
    "start_time": "2021-09-17T14:32:39.695Z"
   },
   {
    "duration": 500,
    "start_time": "2021-09-17T14:33:10.783Z"
   },
   {
    "duration": 652,
    "start_time": "2021-09-17T14:33:21.292Z"
   },
   {
    "duration": 690,
    "start_time": "2021-09-17T14:33:28.078Z"
   },
   {
    "duration": 644,
    "start_time": "2021-09-17T14:33:33.476Z"
   },
   {
    "duration": 665,
    "start_time": "2021-09-17T14:33:40.734Z"
   },
   {
    "duration": 637,
    "start_time": "2021-09-17T14:33:49.971Z"
   },
   {
    "duration": 665,
    "start_time": "2021-09-17T14:34:03.589Z"
   },
   {
    "duration": 633,
    "start_time": "2021-09-17T14:34:13.118Z"
   },
   {
    "duration": 459,
    "start_time": "2021-09-17T14:36:30.073Z"
   },
   {
    "duration": 473,
    "start_time": "2021-09-17T14:36:43.577Z"
   },
   {
    "duration": 387,
    "start_time": "2021-09-17T14:38:06.878Z"
   },
   {
    "duration": 543,
    "start_time": "2021-09-17T14:39:29.220Z"
   },
   {
    "duration": 645,
    "start_time": "2021-09-17T14:40:16.624Z"
   },
   {
    "duration": 772,
    "start_time": "2021-09-17T14:40:24.559Z"
   },
   {
    "duration": 399,
    "start_time": "2021-09-17T14:42:23.540Z"
   },
   {
    "duration": 423,
    "start_time": "2021-09-17T14:42:36.114Z"
   },
   {
    "duration": 401,
    "start_time": "2021-09-17T14:42:44.844Z"
   },
   {
    "duration": 539,
    "start_time": "2021-09-17T14:42:50.052Z"
   },
   {
    "duration": 425,
    "start_time": "2021-09-17T14:42:56.437Z"
   },
   {
    "duration": 662,
    "start_time": "2021-09-17T14:43:24.348Z"
   },
   {
    "duration": 17,
    "start_time": "2021-09-17T14:44:57.857Z"
   },
   {
    "duration": 7,
    "start_time": "2021-09-17T14:48:40.314Z"
   },
   {
    "duration": 15,
    "start_time": "2021-09-17T14:48:49.473Z"
   },
   {
    "duration": 6,
    "start_time": "2021-09-17T14:53:22.184Z"
   },
   {
    "duration": 6,
    "start_time": "2021-09-17T14:54:03.395Z"
   },
   {
    "duration": 5,
    "start_time": "2021-09-17T14:55:14.478Z"
   },
   {
    "duration": 5,
    "start_time": "2021-09-17T14:55:31.340Z"
   },
   {
    "duration": 325,
    "start_time": "2021-09-17T14:57:00.728Z"
   },
   {
    "duration": 107,
    "start_time": "2021-09-17T14:57:03.816Z"
   },
   {
    "duration": 84,
    "start_time": "2021-09-17T14:57:06.904Z"
   },
   {
    "duration": 5,
    "start_time": "2021-09-17T14:57:09.032Z"
   },
   {
    "duration": 6,
    "start_time": "2021-09-17T14:58:08.910Z"
   },
   {
    "duration": 7,
    "start_time": "2021-09-17T14:58:59.045Z"
   },
   {
    "duration": 366,
    "start_time": "2021-09-17T14:59:22.677Z"
   },
   {
    "duration": 401,
    "start_time": "2021-09-17T14:59:43.978Z"
   },
   {
    "duration": 435,
    "start_time": "2021-09-17T15:00:14.147Z"
   },
   {
    "duration": 695,
    "start_time": "2021-09-17T15:01:28.500Z"
   },
   {
    "duration": 1556,
    "start_time": "2021-09-17T15:01:58.417Z"
   },
   {
    "duration": 736,
    "start_time": "2021-09-17T15:02:06.734Z"
   },
   {
    "duration": 28,
    "start_time": "2021-09-17T15:03:24.149Z"
   },
   {
    "duration": 449,
    "start_time": "2021-09-17T15:03:30.738Z"
   },
   {
    "duration": 414,
    "start_time": "2021-09-17T15:03:40.003Z"
   },
   {
    "duration": 411,
    "start_time": "2021-09-17T15:03:50.998Z"
   },
   {
    "duration": 422,
    "start_time": "2021-09-17T15:04:00.770Z"
   },
   {
    "duration": 732,
    "start_time": "2021-09-17T15:05:05.640Z"
   },
   {
    "duration": 432,
    "start_time": "2021-09-17T15:05:27.196Z"
   },
   {
    "duration": 414,
    "start_time": "2021-09-17T15:06:03.268Z"
   },
   {
    "duration": 31,
    "start_time": "2021-09-17T15:17:00.047Z"
   },
   {
    "duration": 408,
    "start_time": "2021-09-17T15:18:44.797Z"
   },
   {
    "duration": 325,
    "start_time": "2021-09-17T15:18:52.437Z"
   },
   {
    "duration": 531,
    "start_time": "2021-09-17T15:19:06.663Z"
   },
   {
    "duration": 446,
    "start_time": "2021-09-17T15:19:31.453Z"
   },
   {
    "duration": 437,
    "start_time": "2021-09-17T15:19:56.261Z"
   },
   {
    "duration": 446,
    "start_time": "2021-09-17T15:20:14.584Z"
   },
   {
    "duration": 445,
    "start_time": "2021-09-17T15:20:21.651Z"
   },
   {
    "duration": 430,
    "start_time": "2021-09-17T15:20:29.482Z"
   },
   {
    "duration": 415,
    "start_time": "2021-09-17T15:21:12.180Z"
   },
   {
    "duration": 550,
    "start_time": "2021-09-17T15:21:58.652Z"
   },
   {
    "duration": 8,
    "start_time": "2021-09-17T15:24:20.017Z"
   },
   {
    "duration": 7,
    "start_time": "2021-09-17T15:27:47.374Z"
   },
   {
    "duration": 6,
    "start_time": "2021-09-17T15:28:55.038Z"
   },
   {
    "duration": 19,
    "start_time": "2021-09-17T16:17:52.859Z"
   },
   {
    "duration": 6,
    "start_time": "2021-09-17T16:19:03.066Z"
   },
   {
    "duration": 8,
    "start_time": "2021-09-17T16:19:09.995Z"
   },
   {
    "duration": 6,
    "start_time": "2021-09-17T16:19:18.711Z"
   },
   {
    "duration": 6,
    "start_time": "2021-09-17T16:19:30.347Z"
   },
   {
    "duration": 6,
    "start_time": "2021-09-17T16:19:35.130Z"
   },
   {
    "duration": 6,
    "start_time": "2021-09-17T16:19:42.827Z"
   },
   {
    "duration": 9,
    "start_time": "2021-09-17T16:19:46.746Z"
   },
   {
    "duration": 5,
    "start_time": "2021-09-17T16:20:43.254Z"
   },
   {
    "duration": 6,
    "start_time": "2021-09-17T16:20:45.413Z"
   },
   {
    "duration": 12,
    "start_time": "2021-09-17T16:21:44.214Z"
   },
   {
    "duration": 7,
    "start_time": "2021-09-17T16:23:43.771Z"
   },
   {
    "duration": 12,
    "start_time": "2021-09-17T16:24:36.940Z"
   },
   {
    "duration": 100,
    "start_time": "2021-09-17T16:25:32.782Z"
   },
   {
    "duration": 14,
    "start_time": "2021-09-17T16:25:41.340Z"
   },
   {
    "duration": 12,
    "start_time": "2021-09-17T16:25:45.381Z"
   },
   {
    "duration": 17,
    "start_time": "2021-09-17T16:26:28.098Z"
   },
   {
    "duration": 19,
    "start_time": "2021-09-17T16:29:25.944Z"
   },
   {
    "duration": 355,
    "start_time": "2021-09-17T16:33:57.949Z"
   },
   {
    "duration": 285,
    "start_time": "2021-09-17T16:34:17.445Z"
   },
   {
    "duration": 8,
    "start_time": "2021-09-17T16:34:30.207Z"
   },
   {
    "duration": 8,
    "start_time": "2021-09-17T16:34:39.061Z"
   },
   {
    "duration": 7,
    "start_time": "2021-09-17T16:45:31.687Z"
   },
   {
    "duration": 8,
    "start_time": "2021-09-17T16:46:26.654Z"
   },
   {
    "duration": 7,
    "start_time": "2021-09-17T16:46:34.093Z"
   },
   {
    "duration": 283,
    "start_time": "2021-09-17T16:48:59.696Z"
   },
   {
    "duration": 16,
    "start_time": "2021-09-17T16:50:14.886Z"
   },
   {
    "duration": 10,
    "start_time": "2021-09-17T16:50:23.726Z"
   },
   {
    "duration": 10,
    "start_time": "2021-09-17T16:55:18.126Z"
   },
   {
    "duration": 8,
    "start_time": "2021-09-17T16:57:32.454Z"
   },
   {
    "duration": 6,
    "start_time": "2021-09-17T16:57:43.174Z"
   },
   {
    "duration": 11,
    "start_time": "2021-09-17T16:58:08.735Z"
   },
   {
    "duration": 11,
    "start_time": "2021-09-17T16:59:34.644Z"
   },
   {
    "duration": 10,
    "start_time": "2021-09-17T16:59:46.184Z"
   },
   {
    "duration": 11,
    "start_time": "2021-09-17T16:59:53.514Z"
   },
   {
    "duration": 12,
    "start_time": "2021-09-17T17:06:55.055Z"
   },
   {
    "duration": 264,
    "start_time": "2021-09-17T17:07:36.629Z"
   },
   {
    "duration": 11,
    "start_time": "2021-09-17T17:07:42.451Z"
   },
   {
    "duration": 11,
    "start_time": "2021-09-17T17:07:56.275Z"
   },
   {
    "duration": 363,
    "start_time": "2021-09-17T17:11:22.306Z"
   },
   {
    "duration": 13,
    "start_time": "2021-09-17T17:12:16.379Z"
   },
   {
    "duration": 16,
    "start_time": "2021-09-17T17:14:31.235Z"
   },
   {
    "duration": 17,
    "start_time": "2021-09-17T17:14:59.667Z"
   },
   {
    "duration": 18,
    "start_time": "2021-09-17T17:17:01.916Z"
   },
   {
    "duration": 16,
    "start_time": "2021-09-17T17:17:28.623Z"
   },
   {
    "duration": 12,
    "start_time": "2021-09-17T17:22:55.446Z"
   },
   {
    "duration": 15,
    "start_time": "2021-09-17T17:24:29.619Z"
   },
   {
    "duration": 13,
    "start_time": "2021-09-17T17:24:56.087Z"
   },
   {
    "duration": 13,
    "start_time": "2021-09-17T17:26:43.378Z"
   },
   {
    "duration": 13,
    "start_time": "2021-09-17T17:26:58.461Z"
   },
   {
    "duration": 12,
    "start_time": "2021-09-17T17:27:05.003Z"
   },
   {
    "duration": 12,
    "start_time": "2021-09-17T17:28:03.900Z"
   },
   {
    "duration": 24,
    "start_time": "2021-09-17T17:32:38.515Z"
   },
   {
    "duration": 27,
    "start_time": "2021-09-17T17:34:57.328Z"
   },
   {
    "duration": 431,
    "start_time": "2021-09-18T10:47:11.928Z"
   },
   {
    "duration": 1475,
    "start_time": "2021-09-18T10:47:16.292Z"
   },
   {
    "duration": 62,
    "start_time": "2021-09-18T10:47:17.769Z"
   },
   {
    "duration": 16,
    "start_time": "2021-09-18T10:47:17.834Z"
   },
   {
    "duration": 11,
    "start_time": "2021-09-18T10:47:17.852Z"
   },
   {
    "duration": 10,
    "start_time": "2021-09-18T10:47:17.865Z"
   },
   {
    "duration": 9,
    "start_time": "2021-09-18T10:47:17.877Z"
   },
   {
    "duration": 11,
    "start_time": "2021-09-18T10:47:17.889Z"
   },
   {
    "duration": 10,
    "start_time": "2021-09-18T10:47:17.902Z"
   },
   {
    "duration": 7,
    "start_time": "2021-09-18T10:47:17.916Z"
   },
   {
    "duration": 44,
    "start_time": "2021-09-18T10:47:17.926Z"
   },
   {
    "duration": 9,
    "start_time": "2021-09-18T10:47:17.972Z"
   },
   {
    "duration": 7,
    "start_time": "2021-09-18T10:47:17.983Z"
   },
   {
    "duration": 6,
    "start_time": "2021-09-18T10:47:17.992Z"
   },
   {
    "duration": 18,
    "start_time": "2021-09-18T10:47:18.000Z"
   },
   {
    "duration": 12,
    "start_time": "2021-09-18T10:47:21.789Z"
   },
   {
    "duration": 342,
    "start_time": "2021-09-18T10:49:05.111Z"
   },
   {
    "duration": 268,
    "start_time": "2021-09-18T10:49:39.262Z"
   },
   {
    "duration": 14,
    "start_time": "2021-09-18T10:49:42.373Z"
   },
   {
    "duration": 11,
    "start_time": "2021-09-18T10:50:17.533Z"
   },
   {
    "duration": 13,
    "start_time": "2021-09-18T10:50:30.438Z"
   },
   {
    "duration": 263,
    "start_time": "2021-09-18T10:52:30.353Z"
   },
   {
    "duration": 16,
    "start_time": "2021-09-18T10:53:13.726Z"
   },
   {
    "duration": 12,
    "start_time": "2021-09-18T10:53:31.904Z"
   },
   {
    "duration": 14,
    "start_time": "2021-09-18T10:53:56.725Z"
   },
   {
    "duration": 12,
    "start_time": "2021-09-18T10:54:31.133Z"
   },
   {
    "duration": 10,
    "start_time": "2021-09-18T10:55:17.191Z"
   },
   {
    "duration": 14,
    "start_time": "2021-09-18T10:55:38.099Z"
   },
   {
    "duration": 253,
    "start_time": "2021-09-18T10:56:43.031Z"
   },
   {
    "duration": 263,
    "start_time": "2021-09-18T10:57:20.863Z"
   },
   {
    "duration": 238,
    "start_time": "2021-09-18T10:57:36.638Z"
   },
   {
    "duration": 17,
    "start_time": "2021-09-18T10:57:43.917Z"
   },
   {
    "duration": 86,
    "start_time": "2021-09-18T11:07:03.758Z"
   },
   {
    "duration": 102,
    "start_time": "2021-09-18T11:07:27.951Z"
   },
   {
    "duration": 91,
    "start_time": "2021-09-18T11:07:40.996Z"
   },
   {
    "duration": 90,
    "start_time": "2021-09-18T11:08:05.516Z"
   },
   {
    "duration": 77,
    "start_time": "2021-09-18T11:08:21.912Z"
   },
   {
    "duration": 99,
    "start_time": "2021-09-18T11:08:56.408Z"
   },
   {
    "duration": 92,
    "start_time": "2021-09-18T11:09:46.520Z"
   },
   {
    "duration": 274,
    "start_time": "2021-09-18T11:09:58.743Z"
   },
   {
    "duration": 271,
    "start_time": "2021-09-18T11:11:46.937Z"
   },
   {
    "duration": 7,
    "start_time": "2021-09-18T11:11:55.006Z"
   },
   {
    "duration": 17,
    "start_time": "2021-09-18T11:12:03.090Z"
   },
   {
    "duration": 7,
    "start_time": "2021-09-18T11:12:18.977Z"
   },
   {
    "duration": 21,
    "start_time": "2021-09-18T11:12:23.794Z"
   },
   {
    "duration": 16,
    "start_time": "2021-09-18T11:13:22.564Z"
   },
   {
    "duration": 6,
    "start_time": "2021-09-18T11:13:31.256Z"
   },
   {
    "duration": 15,
    "start_time": "2021-09-18T11:13:35.451Z"
   },
   {
    "duration": 7,
    "start_time": "2021-09-18T11:14:42.227Z"
   },
   {
    "duration": 16,
    "start_time": "2021-09-18T11:14:46.587Z"
   },
   {
    "duration": 6,
    "start_time": "2021-09-18T11:15:24.585Z"
   },
   {
    "duration": 19,
    "start_time": "2021-09-18T11:15:38.667Z"
   },
   {
    "duration": 13,
    "start_time": "2021-09-18T11:16:01.267Z"
   },
   {
    "duration": 19,
    "start_time": "2021-09-18T11:17:31.614Z"
   },
   {
    "duration": 16,
    "start_time": "2021-09-18T11:18:07.733Z"
   },
   {
    "duration": 588,
    "start_time": "2021-09-18T11:22:19.569Z"
   },
   {
    "duration": 63,
    "start_time": "2021-09-18T11:22:55.121Z"
   },
   {
    "duration": 280,
    "start_time": "2021-09-18T11:23:49.282Z"
   },
   {
    "duration": 287,
    "start_time": "2021-09-18T11:24:45.841Z"
   },
   {
    "duration": 54,
    "start_time": "2021-09-18T11:24:54.588Z"
   },
   {
    "duration": 6,
    "start_time": "2021-09-18T11:24:56.707Z"
   },
   {
    "duration": 29,
    "start_time": "2021-09-18T11:25:34.493Z"
   },
   {
    "duration": 4,
    "start_time": "2021-09-18T11:25:49.454Z"
   },
   {
    "duration": 17,
    "start_time": "2021-09-18T11:25:51.503Z"
   },
   {
    "duration": 99,
    "start_time": "2021-09-18T11:29:18.688Z"
   },
   {
    "duration": 85,
    "start_time": "2021-09-18T11:31:13.903Z"
   },
   {
    "duration": 284,
    "start_time": "2021-09-18T11:49:55.980Z"
   },
   {
    "duration": 287,
    "start_time": "2021-09-18T11:50:06.015Z"
   },
   {
    "duration": 16,
    "start_time": "2021-09-18T11:50:22.064Z"
   },
   {
    "duration": 59,
    "start_time": "2021-09-18T11:50:22.083Z"
   },
   {
    "duration": 31,
    "start_time": "2021-09-18T11:50:22.145Z"
   },
   {
    "duration": 13,
    "start_time": "2021-09-18T11:50:22.179Z"
   },
   {
    "duration": 11,
    "start_time": "2021-09-18T11:50:22.194Z"
   },
   {
    "duration": 7,
    "start_time": "2021-09-18T11:50:22.207Z"
   },
   {
    "duration": 10,
    "start_time": "2021-09-18T11:50:22.217Z"
   },
   {
    "duration": 46,
    "start_time": "2021-09-18T11:50:22.229Z"
   },
   {
    "duration": 7,
    "start_time": "2021-09-18T11:50:22.279Z"
   },
   {
    "duration": 10,
    "start_time": "2021-09-18T11:50:22.288Z"
   },
   {
    "duration": 10,
    "start_time": "2021-09-18T11:50:22.300Z"
   },
   {
    "duration": 7,
    "start_time": "2021-09-18T11:50:22.312Z"
   },
   {
    "duration": 10,
    "start_time": "2021-09-18T11:50:25.589Z"
   },
   {
    "duration": 92,
    "start_time": "2021-09-18T12:03:14.628Z"
   },
   {
    "duration": 28,
    "start_time": "2021-09-18T12:05:02.800Z"
   },
   {
    "duration": 4,
    "start_time": "2021-09-18T12:05:19.994Z"
   },
   {
    "duration": 63,
    "start_time": "2021-09-18T12:06:03.610Z"
   },
   {
    "duration": 30,
    "start_time": "2021-09-18T12:06:05.342Z"
   },
   {
    "duration": 24,
    "start_time": "2021-09-18T12:06:37.151Z"
   },
   {
    "duration": 18,
    "start_time": "2021-09-18T12:06:49.604Z"
   },
   {
    "duration": 21,
    "start_time": "2021-09-18T12:20:46.620Z"
   },
   {
    "duration": 90,
    "start_time": "2021-09-18T13:56:04.775Z"
   },
   {
    "duration": 89,
    "start_time": "2021-09-18T14:04:01.221Z"
   },
   {
    "duration": 86,
    "start_time": "2021-09-18T14:06:35.684Z"
   },
   {
    "duration": 104,
    "start_time": "2021-09-18T14:10:02.083Z"
   },
   {
    "duration": 965,
    "start_time": "2021-09-18T14:14:30.363Z"
   },
   {
    "duration": 698,
    "start_time": "2021-09-18T15:14:27.089Z"
   },
   {
    "duration": 15,
    "start_time": "2021-09-18T15:14:35.884Z"
   },
   {
    "duration": 66,
    "start_time": "2021-09-18T15:14:35.903Z"
   },
   {
    "duration": 45,
    "start_time": "2021-09-18T15:14:35.973Z"
   },
   {
    "duration": 46,
    "start_time": "2021-09-18T15:14:36.021Z"
   },
   {
    "duration": 13,
    "start_time": "2021-09-18T15:14:36.070Z"
   },
   {
    "duration": 12,
    "start_time": "2021-09-18T15:14:36.086Z"
   },
   {
    "duration": 15,
    "start_time": "2021-09-18T15:14:36.101Z"
   },
   {
    "duration": 50,
    "start_time": "2021-09-18T15:14:36.121Z"
   },
   {
    "duration": 11,
    "start_time": "2021-09-18T15:14:36.176Z"
   },
   {
    "duration": 12,
    "start_time": "2021-09-18T15:14:36.190Z"
   },
   {
    "duration": 13,
    "start_time": "2021-09-18T15:14:36.205Z"
   },
   {
    "duration": 46,
    "start_time": "2021-09-18T15:14:36.221Z"
   },
   {
    "duration": 109,
    "start_time": "2021-09-18T15:14:36.271Z"
   },
   {
    "duration": -348,
    "start_time": "2021-09-18T15:14:36.732Z"
   },
   {
    "duration": -350,
    "start_time": "2021-09-18T15:14:36.736Z"
   },
   {
    "duration": -353,
    "start_time": "2021-09-18T15:14:36.741Z"
   },
   {
    "duration": -355,
    "start_time": "2021-09-18T15:14:36.746Z"
   },
   {
    "duration": -363,
    "start_time": "2021-09-18T15:14:36.755Z"
   },
   {
    "duration": -371,
    "start_time": "2021-09-18T15:14:36.766Z"
   },
   {
    "duration": -377,
    "start_time": "2021-09-18T15:14:36.774Z"
   },
   {
    "duration": -379,
    "start_time": "2021-09-18T15:14:36.778Z"
   },
   {
    "duration": -382,
    "start_time": "2021-09-18T15:14:36.782Z"
   },
   {
    "duration": -384,
    "start_time": "2021-09-18T15:14:36.786Z"
   },
   {
    "duration": -386,
    "start_time": "2021-09-18T15:14:36.790Z"
   },
   {
    "duration": 15,
    "start_time": "2021-09-18T15:16:04.454Z"
   },
   {
    "duration": 75,
    "start_time": "2021-09-18T15:16:04.472Z"
   },
   {
    "duration": 54,
    "start_time": "2021-09-18T15:16:04.551Z"
   },
   {
    "duration": 28,
    "start_time": "2021-09-18T15:16:04.609Z"
   },
   {
    "duration": 33,
    "start_time": "2021-09-18T15:16:04.640Z"
   },
   {
    "duration": 9,
    "start_time": "2021-09-18T15:16:04.675Z"
   },
   {
    "duration": 15,
    "start_time": "2021-09-18T15:16:04.686Z"
   },
   {
    "duration": 19,
    "start_time": "2021-09-18T15:16:04.705Z"
   },
   {
    "duration": 42,
    "start_time": "2021-09-18T15:16:04.727Z"
   },
   {
    "duration": 25,
    "start_time": "2021-09-18T15:16:04.772Z"
   },
   {
    "duration": 23,
    "start_time": "2021-09-18T15:16:04.800Z"
   },
   {
    "duration": 24,
    "start_time": "2021-09-18T15:16:04.826Z"
   },
   {
    "duration": 25,
    "start_time": "2021-09-18T15:16:04.852Z"
   },
   {
    "duration": 35,
    "start_time": "2021-09-18T15:16:04.879Z"
   },
   {
    "duration": 29,
    "start_time": "2021-09-18T15:16:04.917Z"
   },
   {
    "duration": 29,
    "start_time": "2021-09-18T15:16:04.948Z"
   },
   {
    "duration": 25,
    "start_time": "2021-09-18T15:16:04.980Z"
   },
   {
    "duration": 8,
    "start_time": "2021-09-18T15:16:05.007Z"
   },
   {
    "duration": 22,
    "start_time": "2021-09-18T15:16:05.018Z"
   },
   {
    "duration": 39,
    "start_time": "2021-09-18T15:16:05.068Z"
   },
   {
    "duration": 6,
    "start_time": "2021-09-18T15:16:05.109Z"
   },
   {
    "duration": 716,
    "start_time": "2021-09-18T15:16:05.118Z"
   },
   {
    "duration": 624,
    "start_time": "2021-09-18T15:16:11.332Z"
   },
   {
    "duration": 92,
    "start_time": "2021-09-18T15:34:06.591Z"
   },
   {
    "duration": 83,
    "start_time": "2021-09-18T16:31:22.876Z"
   },
   {
    "duration": 82,
    "start_time": "2021-09-18T16:34:22.281Z"
   },
   {
    "duration": 75,
    "start_time": "2021-09-18T16:42:35.930Z"
   },
   {
    "duration": 81,
    "start_time": "2021-09-18T16:58:01.081Z"
   },
   {
    "duration": 1500,
    "start_time": "2021-09-19T11:21:30.267Z"
   },
   {
    "duration": 60,
    "start_time": "2021-09-19T11:21:31.769Z"
   },
   {
    "duration": 623,
    "start_time": "2021-09-19T11:21:31.832Z"
   },
   {
    "duration": 14,
    "start_time": "2021-09-19T11:21:32.458Z"
   },
   {
    "duration": 21,
    "start_time": "2021-09-19T11:21:32.475Z"
   },
   {
    "duration": 28,
    "start_time": "2021-09-19T11:21:32.498Z"
   },
   {
    "duration": 12,
    "start_time": "2021-09-19T11:21:32.528Z"
   },
   {
    "duration": 21,
    "start_time": "2021-09-19T11:21:32.544Z"
   },
   {
    "duration": 15,
    "start_time": "2021-09-19T11:21:32.568Z"
   },
   {
    "duration": 11,
    "start_time": "2021-09-19T11:21:32.585Z"
   },
   {
    "duration": 10,
    "start_time": "2021-09-19T11:21:32.598Z"
   },
   {
    "duration": 6,
    "start_time": "2021-09-19T11:21:32.611Z"
   },
   {
    "duration": 47,
    "start_time": "2021-09-19T11:21:32.620Z"
   },
   {
    "duration": 25,
    "start_time": "2021-09-19T11:21:32.669Z"
   },
   {
    "duration": 25,
    "start_time": "2021-09-19T11:21:32.697Z"
   },
   {
    "duration": 44,
    "start_time": "2021-09-19T11:21:32.724Z"
   },
   {
    "duration": 24,
    "start_time": "2021-09-19T11:21:32.770Z"
   },
   {
    "duration": 8,
    "start_time": "2021-09-19T11:21:32.797Z"
   },
   {
    "duration": 20,
    "start_time": "2021-09-19T11:21:32.807Z"
   },
   {
    "duration": 67,
    "start_time": "2021-09-19T11:21:32.829Z"
   },
   {
    "duration": 8,
    "start_time": "2021-09-19T11:21:32.898Z"
   },
   {
    "duration": 570,
    "start_time": "2021-09-19T11:21:32.908Z"
   },
   {
    "duration": 544,
    "start_time": "2021-09-19T11:21:33.483Z"
   },
   {
    "duration": 666,
    "start_time": "2021-09-19T11:21:34.030Z"
   },
   {
    "duration": 88,
    "start_time": "2021-09-19T11:21:34.699Z"
   },
   {
    "duration": -49,
    "start_time": "2021-09-19T11:21:34.839Z"
   },
   {
    "duration": -54,
    "start_time": "2021-09-19T11:21:34.845Z"
   },
   {
    "duration": -59,
    "start_time": "2021-09-19T11:21:34.851Z"
   },
   {
    "duration": -63,
    "start_time": "2021-09-19T11:21:34.856Z"
   },
   {
    "duration": -67,
    "start_time": "2021-09-19T11:21:34.862Z"
   },
   {
    "duration": -70,
    "start_time": "2021-09-19T11:21:34.866Z"
   },
   {
    "duration": -74,
    "start_time": "2021-09-19T11:21:34.871Z"
   },
   {
    "duration": -76,
    "start_time": "2021-09-19T11:21:34.875Z"
   },
   {
    "duration": -80,
    "start_time": "2021-09-19T11:21:34.880Z"
   },
   {
    "duration": -128,
    "start_time": "2021-09-19T11:21:34.930Z"
   },
   {
    "duration": -132,
    "start_time": "2021-09-19T11:21:34.935Z"
   },
   {
    "duration": -136,
    "start_time": "2021-09-19T11:21:34.940Z"
   },
   {
    "duration": -140,
    "start_time": "2021-09-19T11:21:34.946Z"
   },
   {
    "duration": -147,
    "start_time": "2021-09-19T11:21:34.954Z"
   },
   {
    "duration": -158,
    "start_time": "2021-09-19T11:21:34.966Z"
   },
   {
    "duration": 88,
    "start_time": "2021-09-19T11:21:53.895Z"
   },
   {
    "duration": 62,
    "start_time": "2021-09-19T11:21:53.986Z"
   },
   {
    "duration": 25,
    "start_time": "2021-09-19T11:21:54.051Z"
   },
   {
    "duration": 13,
    "start_time": "2021-09-19T11:21:54.079Z"
   },
   {
    "duration": 12,
    "start_time": "2021-09-19T11:21:54.094Z"
   },
   {
    "duration": 10,
    "start_time": "2021-09-19T11:21:54.109Z"
   },
   {
    "duration": 11,
    "start_time": "2021-09-19T11:21:54.121Z"
   },
   {
    "duration": 9,
    "start_time": "2021-09-19T11:21:54.163Z"
   },
   {
    "duration": 7,
    "start_time": "2021-09-19T11:21:54.175Z"
   },
   {
    "duration": 9,
    "start_time": "2021-09-19T11:21:54.185Z"
   },
   {
    "duration": 12,
    "start_time": "2021-09-19T11:21:54.197Z"
   },
   {
    "duration": 4,
    "start_time": "2021-09-19T11:21:54.211Z"
   },
   {
    "duration": 10,
    "start_time": "2021-09-19T11:21:54.261Z"
   },
   {
    "duration": 23,
    "start_time": "2021-09-19T11:21:54.274Z"
   },
   {
    "duration": 17,
    "start_time": "2021-09-19T11:21:54.300Z"
   },
   {
    "duration": 55,
    "start_time": "2021-09-19T11:21:54.319Z"
   },
   {
    "duration": 22,
    "start_time": "2021-09-19T11:21:54.376Z"
   },
   {
    "duration": 9,
    "start_time": "2021-09-19T11:21:54.400Z"
   },
   {
    "duration": 18,
    "start_time": "2021-09-19T11:21:54.411Z"
   },
   {
    "duration": 66,
    "start_time": "2021-09-19T11:21:54.431Z"
   },
   {
    "duration": 10,
    "start_time": "2021-09-19T11:21:54.499Z"
   },
   {
    "duration": 673,
    "start_time": "2021-09-19T11:21:54.511Z"
   },
   {
    "duration": 552,
    "start_time": "2021-09-19T11:21:55.187Z"
   },
   {
    "duration": 652,
    "start_time": "2021-09-19T11:21:55.741Z"
   },
   {
    "duration": 566,
    "start_time": "2021-09-19T11:21:56.396Z"
   },
   {
    "duration": 612,
    "start_time": "2021-09-19T11:21:56.964Z"
   },
   {
    "duration": 6,
    "start_time": "2021-09-19T11:21:57.581Z"
   },
   {
    "duration": 413,
    "start_time": "2021-09-19T11:21:57.590Z"
   },
   {
    "duration": 6,
    "start_time": "2021-09-19T11:21:58.005Z"
   },
   {
    "duration": 472,
    "start_time": "2021-09-19T11:21:58.014Z"
   },
   {
    "duration": 100,
    "start_time": "2021-09-19T11:21:58.488Z"
   },
   {
    "duration": -52,
    "start_time": "2021-09-19T11:21:58.643Z"
   },
   {
    "duration": -57,
    "start_time": "2021-09-19T11:21:58.650Z"
   },
   {
    "duration": -61,
    "start_time": "2021-09-19T11:21:58.655Z"
   },
   {
    "duration": -88,
    "start_time": "2021-09-19T11:21:58.683Z"
   },
   {
    "duration": -91,
    "start_time": "2021-09-19T11:21:58.688Z"
   },
   {
    "duration": -101,
    "start_time": "2021-09-19T11:21:58.699Z"
   },
   {
    "duration": -106,
    "start_time": "2021-09-19T11:21:58.706Z"
   },
   {
    "duration": -114,
    "start_time": "2021-09-19T11:21:58.715Z"
   },
   {
    "duration": 16,
    "start_time": "2021-09-19T11:22:12.863Z"
   },
   {
    "duration": 63,
    "start_time": "2021-09-19T11:22:12.882Z"
   },
   {
    "duration": 26,
    "start_time": "2021-09-19T11:22:12.949Z"
   },
   {
    "duration": 11,
    "start_time": "2021-09-19T11:22:12.978Z"
   },
   {
    "duration": 8,
    "start_time": "2021-09-19T11:22:12.992Z"
   },
   {
    "duration": 7,
    "start_time": "2021-09-19T11:22:13.003Z"
   },
   {
    "duration": 54,
    "start_time": "2021-09-19T11:22:13.012Z"
   },
   {
    "duration": 9,
    "start_time": "2021-09-19T11:22:13.069Z"
   },
   {
    "duration": 6,
    "start_time": "2021-09-19T11:22:13.082Z"
   },
   {
    "duration": 11,
    "start_time": "2021-09-19T11:22:13.091Z"
   },
   {
    "duration": 15,
    "start_time": "2021-09-19T11:22:13.104Z"
   },
   {
    "duration": 4,
    "start_time": "2021-09-19T11:22:13.162Z"
   },
   {
    "duration": 15,
    "start_time": "2021-09-19T11:22:13.169Z"
   },
   {
    "duration": 26,
    "start_time": "2021-09-19T11:22:13.187Z"
   },
   {
    "duration": 54,
    "start_time": "2021-09-19T11:22:13.216Z"
   },
   {
    "duration": 16,
    "start_time": "2021-09-19T11:22:13.273Z"
   },
   {
    "duration": 22,
    "start_time": "2021-09-19T11:22:13.291Z"
   },
   {
    "duration": 8,
    "start_time": "2021-09-19T11:22:13.316Z"
   },
   {
    "duration": 14,
    "start_time": "2021-09-19T11:22:13.362Z"
   },
   {
    "duration": 43,
    "start_time": "2021-09-19T11:22:13.378Z"
   },
   {
    "duration": 6,
    "start_time": "2021-09-19T11:22:13.423Z"
   },
   {
    "duration": 547,
    "start_time": "2021-09-19T11:22:13.431Z"
   },
   {
    "duration": 620,
    "start_time": "2021-09-19T11:22:13.981Z"
   },
   {
    "duration": 657,
    "start_time": "2021-09-19T11:22:14.603Z"
   },
   {
    "duration": 627,
    "start_time": "2021-09-19T11:22:15.263Z"
   },
   {
    "duration": 626,
    "start_time": "2021-09-19T11:22:15.892Z"
   },
   {
    "duration": 6,
    "start_time": "2021-09-19T11:22:16.523Z"
   },
   {
    "duration": 432,
    "start_time": "2021-09-19T11:22:16.531Z"
   },
   {
    "duration": 7,
    "start_time": "2021-09-19T11:22:16.965Z"
   },
   {
    "duration": 422,
    "start_time": "2021-09-19T11:22:16.975Z"
   },
   {
    "duration": 11,
    "start_time": "2021-09-19T11:22:17.399Z"
   },
   {
    "duration": 17,
    "start_time": "2021-09-19T11:22:17.412Z"
   },
   {
    "duration": 32,
    "start_time": "2021-09-19T11:22:17.431Z"
   },
   {
    "duration": 12,
    "start_time": "2021-09-19T11:22:17.465Z"
   },
   {
    "duration": 24,
    "start_time": "2021-09-19T11:22:17.479Z"
   },
   {
    "duration": 14,
    "start_time": "2021-09-19T11:22:17.506Z"
   },
   {
    "duration": 43,
    "start_time": "2021-09-19T11:22:17.523Z"
   },
   {
    "duration": 28,
    "start_time": "2021-09-19T11:22:17.569Z"
   },
   {
    "duration": 17,
    "start_time": "2021-09-19T11:22:37.745Z"
   },
   {
    "duration": 27,
    "start_time": "2021-09-19T11:34:35.417Z"
   },
   {
    "duration": 1459,
    "start_time": "2021-09-19T11:56:25.681Z"
   },
   {
    "duration": 91,
    "start_time": "2021-09-19T11:56:27.143Z"
   },
   {
    "duration": 632,
    "start_time": "2021-09-19T11:56:27.237Z"
   },
   {
    "duration": 15,
    "start_time": "2021-09-19T11:56:27.872Z"
   },
   {
    "duration": 10,
    "start_time": "2021-09-19T11:56:27.889Z"
   },
   {
    "duration": 10,
    "start_time": "2021-09-19T11:56:27.902Z"
   },
   {
    "duration": 13,
    "start_time": "2021-09-19T11:56:27.915Z"
   },
   {
    "duration": 8,
    "start_time": "2021-09-19T11:56:27.964Z"
   },
   {
    "duration": 7,
    "start_time": "2021-09-19T11:56:27.975Z"
   },
   {
    "duration": 8,
    "start_time": "2021-09-19T11:56:27.985Z"
   },
   {
    "duration": 12,
    "start_time": "2021-09-19T11:56:27.996Z"
   },
   {
    "duration": 12,
    "start_time": "2021-09-19T11:56:28.011Z"
   },
   {
    "duration": 45,
    "start_time": "2021-09-19T11:56:28.025Z"
   },
   {
    "duration": 25,
    "start_time": "2021-09-19T11:56:28.073Z"
   },
   {
    "duration": 22,
    "start_time": "2021-09-19T11:56:28.101Z"
   },
   {
    "duration": 52,
    "start_time": "2021-09-19T11:56:28.126Z"
   },
   {
    "duration": 24,
    "start_time": "2021-09-19T11:56:28.180Z"
   },
   {
    "duration": 9,
    "start_time": "2021-09-19T11:56:28.206Z"
   },
   {
    "duration": 51,
    "start_time": "2021-09-19T11:56:28.217Z"
   },
   {
    "duration": 40,
    "start_time": "2021-09-19T11:56:28.271Z"
   },
   {
    "duration": 9,
    "start_time": "2021-09-19T11:56:28.314Z"
   },
   {
    "duration": 687,
    "start_time": "2021-09-19T11:56:28.326Z"
   },
   {
    "duration": 531,
    "start_time": "2021-09-19T11:56:29.018Z"
   },
   {
    "duration": 641,
    "start_time": "2021-09-19T11:56:29.552Z"
   },
   {
    "duration": 602,
    "start_time": "2021-09-19T11:56:30.195Z"
   },
   {
    "duration": 616,
    "start_time": "2021-09-19T11:56:30.799Z"
   },
   {
    "duration": 7,
    "start_time": "2021-09-19T11:56:31.417Z"
   },
   {
    "duration": 428,
    "start_time": "2021-09-19T11:56:31.427Z"
   },
   {
    "duration": 8,
    "start_time": "2021-09-19T11:56:31.858Z"
   },
   {
    "duration": 433,
    "start_time": "2021-09-19T11:56:31.869Z"
   },
   {
    "duration": 8,
    "start_time": "2021-09-19T11:56:32.305Z"
   },
   {
    "duration": 17,
    "start_time": "2021-09-19T11:56:32.316Z"
   },
   {
    "duration": 10,
    "start_time": "2021-09-19T11:56:32.363Z"
   },
   {
    "duration": 18,
    "start_time": "2021-09-19T11:56:32.376Z"
   },
   {
    "duration": 23,
    "start_time": "2021-09-19T11:56:32.397Z"
   },
   {
    "duration": 46,
    "start_time": "2021-09-19T11:56:32.423Z"
   },
   {
    "duration": 13,
    "start_time": "2021-09-19T11:56:32.472Z"
   },
   {
    "duration": 29,
    "start_time": "2021-09-19T11:56:32.488Z"
   },
   {
    "duration": 1424,
    "start_time": "2021-09-19T20:37:03.595Z"
   },
   {
    "duration": 67,
    "start_time": "2021-09-19T20:37:05.022Z"
   },
   {
    "duration": 83129,
    "start_time": "2021-09-19T20:37:05.093Z"
   },
   {
    "duration": 28,
    "start_time": "2021-09-19T20:38:28.225Z"
   },
   {
    "duration": 11,
    "start_time": "2021-09-19T20:38:28.255Z"
   },
   {
    "duration": 10,
    "start_time": "2021-09-19T20:38:28.268Z"
   },
   {
    "duration": 16,
    "start_time": "2021-09-19T20:38:28.281Z"
   },
   {
    "duration": 10,
    "start_time": "2021-09-19T20:38:28.301Z"
   },
   {
    "duration": 42,
    "start_time": "2021-09-19T20:38:28.314Z"
   },
   {
    "duration": 11,
    "start_time": "2021-09-19T20:38:28.359Z"
   },
   {
    "duration": 12,
    "start_time": "2021-09-19T20:38:28.373Z"
   },
   {
    "duration": 12,
    "start_time": "2021-09-19T20:38:28.387Z"
   },
   {
    "duration": 19,
    "start_time": "2021-09-19T20:38:28.401Z"
   },
   {
    "duration": 53,
    "start_time": "2021-09-19T20:38:28.423Z"
   },
   {
    "duration": 144,
    "start_time": "2021-09-19T20:38:28.478Z"
   },
   {
    "duration": 18,
    "start_time": "2021-09-19T20:38:28.625Z"
   },
   {
    "duration": 26,
    "start_time": "2021-09-19T20:38:28.645Z"
   },
   {
    "duration": 8,
    "start_time": "2021-09-19T20:38:28.674Z"
   },
   {
    "duration": 16,
    "start_time": "2021-09-19T20:38:28.684Z"
   },
   {
    "duration": 51,
    "start_time": "2021-09-19T20:38:28.703Z"
   },
   {
    "duration": 7,
    "start_time": "2021-09-19T20:38:28.756Z"
   },
   {
    "duration": 644,
    "start_time": "2021-09-19T20:38:28.766Z"
   },
   {
    "duration": 553,
    "start_time": "2021-09-19T20:38:29.417Z"
   },
   {
    "duration": 683,
    "start_time": "2021-09-19T20:38:29.973Z"
   },
   {
    "duration": 603,
    "start_time": "2021-09-19T20:38:30.658Z"
   },
   {
    "duration": 582,
    "start_time": "2021-09-19T20:38:31.263Z"
   },
   {
    "duration": 5,
    "start_time": "2021-09-19T20:38:31.854Z"
   },
   {
    "duration": 397,
    "start_time": "2021-09-19T20:38:31.862Z"
   },
   {
    "duration": 7,
    "start_time": "2021-09-19T20:38:32.261Z"
   },
   {
    "duration": 441,
    "start_time": "2021-09-19T20:38:32.271Z"
   },
   {
    "duration": 7,
    "start_time": "2021-09-19T20:38:32.715Z"
   },
   {
    "duration": 21,
    "start_time": "2021-09-19T20:38:32.725Z"
   },
   {
    "duration": 9,
    "start_time": "2021-09-19T20:38:32.749Z"
   },
   {
    "duration": 17,
    "start_time": "2021-09-19T20:38:32.760Z"
   },
   {
    "duration": 17,
    "start_time": "2021-09-19T20:38:32.780Z"
   },
   {
    "duration": 15,
    "start_time": "2021-09-19T20:38:32.800Z"
   },
   {
    "duration": 11,
    "start_time": "2021-09-19T20:38:32.818Z"
   },
   {
    "duration": 35,
    "start_time": "2021-09-19T20:38:32.832Z"
   },
   {
    "duration": 1572,
    "start_time": "2021-09-20T08:44:47.605Z"
   },
   {
    "duration": 70,
    "start_time": "2021-09-20T08:44:49.180Z"
   },
   {
    "duration": 692,
    "start_time": "2021-09-20T08:44:49.253Z"
   },
   {
    "duration": 20,
    "start_time": "2021-09-20T08:44:49.948Z"
   },
   {
    "duration": 12,
    "start_time": "2021-09-20T08:44:49.971Z"
   },
   {
    "duration": 23,
    "start_time": "2021-09-20T08:44:49.986Z"
   },
   {
    "duration": 16,
    "start_time": "2021-09-20T08:44:50.012Z"
   },
   {
    "duration": 9,
    "start_time": "2021-09-20T08:44:50.057Z"
   },
   {
    "duration": 17,
    "start_time": "2021-09-20T08:44:50.069Z"
   },
   {
    "duration": 15,
    "start_time": "2021-09-20T08:44:50.089Z"
   },
   {
    "duration": 19,
    "start_time": "2021-09-20T08:44:50.106Z"
   },
   {
    "duration": 12,
    "start_time": "2021-09-20T08:44:50.128Z"
   },
   {
    "duration": 27,
    "start_time": "2021-09-20T08:44:50.142Z"
   },
   {
    "duration": 27,
    "start_time": "2021-09-20T08:44:50.171Z"
   },
   {
    "duration": 31,
    "start_time": "2021-09-20T08:44:50.200Z"
   },
   {
    "duration": 41,
    "start_time": "2021-09-20T08:44:50.233Z"
   },
   {
    "duration": 31,
    "start_time": "2021-09-20T08:44:50.277Z"
   },
   {
    "duration": 23,
    "start_time": "2021-09-20T08:44:50.310Z"
   },
   {
    "duration": 33,
    "start_time": "2021-09-20T08:44:50.336Z"
   },
   {
    "duration": 45,
    "start_time": "2021-09-20T08:44:50.372Z"
   },
   {
    "duration": 6,
    "start_time": "2021-09-20T08:44:50.420Z"
   },
   {
    "duration": 566,
    "start_time": "2021-09-20T08:44:50.429Z"
   },
   {
    "duration": 546,
    "start_time": "2021-09-20T08:44:51.001Z"
   },
   {
    "duration": 1038,
    "start_time": "2021-09-20T08:44:51.550Z"
   },
   {
    "duration": 1027,
    "start_time": "2021-09-20T08:44:52.592Z"
   },
   {
    "duration": 609,
    "start_time": "2021-09-20T08:44:53.622Z"
   },
   {
    "duration": 6,
    "start_time": "2021-09-20T08:44:54.233Z"
   },
   {
    "duration": 394,
    "start_time": "2021-09-20T08:44:54.274Z"
   },
   {
    "duration": 7,
    "start_time": "2021-09-20T08:44:54.671Z"
   },
   {
    "duration": 432,
    "start_time": "2021-09-20T08:44:54.681Z"
   },
   {
    "duration": 9,
    "start_time": "2021-09-20T08:44:55.115Z"
   },
   {
    "duration": 36,
    "start_time": "2021-09-20T08:44:55.127Z"
   },
   {
    "duration": 9,
    "start_time": "2021-09-20T08:44:55.166Z"
   },
   {
    "duration": 20,
    "start_time": "2021-09-20T08:44:55.177Z"
   },
   {
    "duration": 17,
    "start_time": "2021-09-20T08:44:55.199Z"
   },
   {
    "duration": 45,
    "start_time": "2021-09-20T08:44:55.218Z"
   },
   {
    "duration": 31,
    "start_time": "2021-09-20T08:44:55.265Z"
   },
   {
    "duration": 29,
    "start_time": "2021-09-20T08:44:55.299Z"
   },
   {
    "duration": 162,
    "start_time": "2021-09-20T10:02:23.477Z"
   },
   {
    "duration": 639,
    "start_time": "2021-09-20T10:05:36.286Z"
   },
   {
    "duration": 127,
    "start_time": "2021-09-20T10:08:47.950Z"
   },
   {
    "duration": 1863,
    "start_time": "2021-09-20T10:15:13.002Z"
   },
   {
    "duration": 71,
    "start_time": "2021-09-20T10:15:14.869Z"
   },
   {
    "duration": 1091,
    "start_time": "2021-09-20T10:15:14.944Z"
   },
   {
    "duration": 28,
    "start_time": "2021-09-20T10:15:16.039Z"
   },
   {
    "duration": 13,
    "start_time": "2021-09-20T10:15:16.070Z"
   },
   {
    "duration": 11,
    "start_time": "2021-09-20T10:15:16.086Z"
   },
   {
    "duration": 18,
    "start_time": "2021-09-20T10:15:16.099Z"
   },
   {
    "duration": 12,
    "start_time": "2021-09-20T10:15:16.158Z"
   },
   {
    "duration": 10,
    "start_time": "2021-09-20T10:15:16.174Z"
   },
   {
    "duration": 21,
    "start_time": "2021-09-20T10:15:16.187Z"
   },
   {
    "duration": 45,
    "start_time": "2021-09-20T10:15:16.210Z"
   },
   {
    "duration": 5,
    "start_time": "2021-09-20T10:15:16.259Z"
   },
   {
    "duration": 23,
    "start_time": "2021-09-20T10:15:16.267Z"
   },
   {
    "duration": 27,
    "start_time": "2021-09-20T10:15:16.293Z"
   },
   {
    "duration": 55,
    "start_time": "2021-09-20T10:15:16.322Z"
   },
   {
    "duration": 24,
    "start_time": "2021-09-20T10:15:16.381Z"
   },
   {
    "duration": 49,
    "start_time": "2021-09-20T10:15:16.408Z"
   },
   {
    "duration": 9,
    "start_time": "2021-09-20T10:15:16.459Z"
   },
   {
    "duration": 29,
    "start_time": "2021-09-20T10:15:16.472Z"
   },
   {
    "duration": 54,
    "start_time": "2021-09-20T10:15:16.504Z"
   },
   {
    "duration": 24,
    "start_time": "2021-09-20T10:15:16.561Z"
   },
   {
    "duration": 703,
    "start_time": "2021-09-20T10:15:16.588Z"
   },
   {
    "duration": 869,
    "start_time": "2021-09-20T10:15:17.299Z"
   },
   {
    "duration": 694,
    "start_time": "2021-09-20T10:15:18.172Z"
   },
   {
    "duration": 626,
    "start_time": "2021-09-20T10:15:18.870Z"
   },
   {
    "duration": 623,
    "start_time": "2021-09-20T10:15:19.499Z"
   },
   {
    "duration": 8,
    "start_time": "2021-09-20T10:15:20.125Z"
   },
   {
    "duration": 552,
    "start_time": "2021-09-20T10:15:20.136Z"
   },
   {
    "duration": 9,
    "start_time": "2021-09-20T10:15:20.691Z"
   },
   {
    "duration": 466,
    "start_time": "2021-09-20T10:15:20.702Z"
   },
   {
    "duration": 6,
    "start_time": "2021-09-20T10:15:21.171Z"
   },
   {
    "duration": 20,
    "start_time": "2021-09-20T10:15:21.180Z"
   },
   {
    "duration": 9,
    "start_time": "2021-09-20T10:15:21.203Z"
   },
   {
    "duration": 53,
    "start_time": "2021-09-20T10:15:21.215Z"
   },
   {
    "duration": 21,
    "start_time": "2021-09-20T10:15:21.272Z"
   },
   {
    "duration": 60,
    "start_time": "2021-09-20T10:15:21.296Z"
   },
   {
    "duration": 16,
    "start_time": "2021-09-20T10:15:21.359Z"
   },
   {
    "duration": 54,
    "start_time": "2021-09-20T10:15:21.379Z"
   },
   {
    "duration": 1514,
    "start_time": "2021-09-20T10:21:39.857Z"
   },
   {
    "duration": 74,
    "start_time": "2021-09-20T10:21:41.374Z"
   },
   {
    "duration": 743,
    "start_time": "2021-09-20T10:21:41.453Z"
   },
   {
    "duration": 15,
    "start_time": "2021-09-20T10:21:42.200Z"
   },
   {
    "duration": 40,
    "start_time": "2021-09-20T10:21:42.217Z"
   },
   {
    "duration": 10,
    "start_time": "2021-09-20T10:21:42.260Z"
   },
   {
    "duration": 12,
    "start_time": "2021-09-20T10:21:42.272Z"
   },
   {
    "duration": 10,
    "start_time": "2021-09-20T10:21:42.288Z"
   },
   {
    "duration": 9,
    "start_time": "2021-09-20T10:21:42.302Z"
   },
   {
    "duration": 49,
    "start_time": "2021-09-20T10:21:42.314Z"
   },
   {
    "duration": 13,
    "start_time": "2021-09-20T10:21:42.366Z"
   },
   {
    "duration": 8,
    "start_time": "2021-09-20T10:21:42.381Z"
   },
   {
    "duration": 14,
    "start_time": "2021-09-20T10:21:42.392Z"
   },
   {
    "duration": 65,
    "start_time": "2021-09-20T10:21:42.409Z"
   },
   {
    "duration": 31,
    "start_time": "2021-09-20T10:21:42.477Z"
   },
   {
    "duration": 19,
    "start_time": "2021-09-20T10:21:42.511Z"
   },
   {
    "duration": 28,
    "start_time": "2021-09-20T10:21:42.557Z"
   },
   {
    "duration": 10,
    "start_time": "2021-09-20T10:21:42.588Z"
   },
   {
    "duration": 54,
    "start_time": "2021-09-20T10:21:42.602Z"
   },
   {
    "duration": 41,
    "start_time": "2021-09-20T10:21:42.659Z"
   },
   {
    "duration": 6,
    "start_time": "2021-09-20T10:21:42.702Z"
   },
   {
    "duration": 685,
    "start_time": "2021-09-20T10:21:42.710Z"
   },
   {
    "duration": 560,
    "start_time": "2021-09-20T10:21:43.400Z"
   },
   {
    "duration": 727,
    "start_time": "2021-09-20T10:21:43.964Z"
   },
   {
    "duration": 649,
    "start_time": "2021-09-20T10:21:44.694Z"
   },
   {
    "duration": 604,
    "start_time": "2021-09-20T10:21:45.346Z"
   },
   {
    "duration": 8,
    "start_time": "2021-09-20T10:21:45.957Z"
   },
   {
    "duration": 406,
    "start_time": "2021-09-20T10:21:45.967Z"
   },
   {
    "duration": 7,
    "start_time": "2021-09-20T10:21:46.376Z"
   },
   {
    "duration": 617,
    "start_time": "2021-09-20T10:21:46.386Z"
   },
   {
    "duration": 10,
    "start_time": "2021-09-20T10:21:47.006Z"
   },
   {
    "duration": 45,
    "start_time": "2021-09-20T10:21:47.019Z"
   },
   {
    "duration": 10,
    "start_time": "2021-09-20T10:21:47.066Z"
   },
   {
    "duration": 20,
    "start_time": "2021-09-20T10:21:47.078Z"
   },
   {
    "duration": 17,
    "start_time": "2021-09-20T10:21:47.101Z"
   },
   {
    "duration": 48,
    "start_time": "2021-09-20T10:21:47.121Z"
   },
   {
    "duration": 21,
    "start_time": "2021-09-20T10:21:47.172Z"
   },
   {
    "duration": 61,
    "start_time": "2021-09-20T10:21:47.196Z"
   },
   {
    "duration": 1761,
    "start_time": "2021-10-01T17:25:53.441Z"
   },
   {
    "duration": 74,
    "start_time": "2021-10-01T17:25:55.206Z"
   },
   {
    "duration": 762,
    "start_time": "2021-10-01T17:25:55.283Z"
   },
   {
    "duration": 19,
    "start_time": "2021-10-01T17:25:56.050Z"
   },
   {
    "duration": 10,
    "start_time": "2021-10-01T17:25:56.071Z"
   },
   {
    "duration": 49,
    "start_time": "2021-10-01T17:25:56.084Z"
   },
   {
    "duration": 21,
    "start_time": "2021-10-01T17:25:56.141Z"
   },
   {
    "duration": 19,
    "start_time": "2021-10-01T17:25:56.167Z"
   },
   {
    "duration": 19,
    "start_time": "2021-10-01T17:25:56.189Z"
   },
   {
    "duration": 36,
    "start_time": "2021-10-01T17:25:56.210Z"
   },
   {
    "duration": 25,
    "start_time": "2021-10-01T17:25:56.249Z"
   },
   {
    "duration": 18,
    "start_time": "2021-10-01T17:25:56.277Z"
   },
   {
    "duration": 39,
    "start_time": "2021-10-01T17:25:56.298Z"
   },
   {
    "duration": 31,
    "start_time": "2021-10-01T17:25:56.340Z"
   },
   {
    "duration": 24,
    "start_time": "2021-10-01T17:25:56.373Z"
   },
   {
    "duration": 46,
    "start_time": "2021-10-01T17:25:56.400Z"
   },
   {
    "duration": 27,
    "start_time": "2021-10-01T17:25:56.450Z"
   },
   {
    "duration": 15,
    "start_time": "2021-10-01T17:25:56.479Z"
   },
   {
    "duration": 48,
    "start_time": "2021-10-01T17:25:56.497Z"
   },
   {
    "duration": 56,
    "start_time": "2021-10-01T17:25:56.548Z"
   },
   {
    "duration": 21,
    "start_time": "2021-10-01T17:25:56.607Z"
   },
   {
    "duration": 735,
    "start_time": "2021-10-01T17:25:56.631Z"
   },
   {
    "duration": 702,
    "start_time": "2021-10-01T17:25:57.372Z"
   },
   {
    "duration": 721,
    "start_time": "2021-10-01T17:25:58.077Z"
   },
   {
    "duration": 689,
    "start_time": "2021-10-01T17:25:58.801Z"
   },
   {
    "duration": 644,
    "start_time": "2021-10-01T17:25:59.493Z"
   },
   {
    "duration": 7,
    "start_time": "2021-10-01T17:26:00.142Z"
   },
   {
    "duration": 446,
    "start_time": "2021-10-01T17:26:00.152Z"
   },
   {
    "duration": 22,
    "start_time": "2021-10-01T17:26:00.601Z"
   },
   {
    "duration": 451,
    "start_time": "2021-10-01T17:26:00.627Z"
   },
   {
    "duration": 9,
    "start_time": "2021-10-01T17:26:01.081Z"
   },
   {
    "duration": 64,
    "start_time": "2021-10-01T17:26:01.093Z"
   },
   {
    "duration": 44,
    "start_time": "2021-10-01T17:26:01.159Z"
   },
   {
    "duration": 53,
    "start_time": "2021-10-01T17:26:01.206Z"
   },
   {
    "duration": 36,
    "start_time": "2021-10-01T17:26:01.261Z"
   },
   {
    "duration": 33,
    "start_time": "2021-10-01T17:26:01.300Z"
   },
   {
    "duration": 34,
    "start_time": "2021-10-01T17:26:01.337Z"
   },
   {
    "duration": 29,
    "start_time": "2021-10-01T17:26:01.375Z"
   },
   {
    "duration": 17,
    "start_time": "2021-10-01T17:27:39.437Z"
   },
   {
    "duration": 9,
    "start_time": "2021-10-01T17:28:08.352Z"
   },
   {
    "duration": 5,
    "start_time": "2021-10-01T17:28:27.972Z"
   },
   {
    "duration": 9,
    "start_time": "2021-10-01T17:28:33.112Z"
   },
   {
    "duration": 17,
    "start_time": "2021-10-01T17:28:43.820Z"
   },
   {
    "duration": 23,
    "start_time": "2021-10-01T17:28:55.121Z"
   },
   {
    "duration": 554,
    "start_time": "2021-10-01T17:29:07.355Z"
   },
   {
    "duration": 9,
    "start_time": "2021-10-01T17:29:22.980Z"
   },
   {
    "duration": 100,
    "start_time": "2021-10-01T17:30:14.462Z"
   },
   {
    "duration": 9,
    "start_time": "2021-10-01T17:30:21.067Z"
   },
   {
    "duration": 16,
    "start_time": "2021-10-01T17:30:27.913Z"
   },
   {
    "duration": 97,
    "start_time": "2021-10-01T17:31:30.434Z"
   },
   {
    "duration": 97,
    "start_time": "2021-10-01T17:31:43.614Z"
   },
   {
    "duration": 98,
    "start_time": "2021-10-01T17:31:47.927Z"
   },
   {
    "duration": 111,
    "start_time": "2021-10-01T17:31:59.744Z"
   },
   {
    "duration": 11,
    "start_time": "2021-10-01T17:32:52.331Z"
   },
   {
    "duration": 31,
    "start_time": "2021-10-01T17:32:57.528Z"
   },
   {
    "duration": 53,
    "start_time": "2021-10-01T17:37:06.431Z"
   },
   {
    "duration": 36,
    "start_time": "2021-10-01T17:38:57.488Z"
   },
   {
    "duration": 28,
    "start_time": "2021-10-01T17:39:05.461Z"
   },
   {
    "duration": 29,
    "start_time": "2021-10-01T17:45:58.227Z"
   },
   {
    "duration": 30,
    "start_time": "2021-10-01T17:46:06.753Z"
   },
   {
    "duration": 7,
    "start_time": "2021-10-01T17:46:42.143Z"
   },
   {
    "duration": 5,
    "start_time": "2021-10-01T17:47:02.289Z"
   },
   {
    "duration": 1491,
    "start_time": "2021-10-02T13:04:23.732Z"
   },
   {
    "duration": 68,
    "start_time": "2021-10-02T13:04:25.225Z"
   },
   {
    "duration": 650,
    "start_time": "2021-10-02T13:04:25.296Z"
   },
   {
    "duration": 17,
    "start_time": "2021-10-02T13:04:25.949Z"
   },
   {
    "duration": 15,
    "start_time": "2021-10-02T13:04:25.969Z"
   },
   {
    "duration": 39,
    "start_time": "2021-10-02T13:04:25.987Z"
   },
   {
    "duration": 22,
    "start_time": "2021-10-02T13:04:26.029Z"
   },
   {
    "duration": 30,
    "start_time": "2021-10-02T13:04:26.054Z"
   },
   {
    "duration": 28,
    "start_time": "2021-10-02T13:04:26.087Z"
   },
   {
    "duration": 26,
    "start_time": "2021-10-02T13:04:26.117Z"
   },
   {
    "duration": 36,
    "start_time": "2021-10-02T13:04:26.145Z"
   },
   {
    "duration": 23,
    "start_time": "2021-10-02T13:04:26.184Z"
   },
   {
    "duration": 25,
    "start_time": "2021-10-02T13:04:26.210Z"
   },
   {
    "duration": 36,
    "start_time": "2021-10-02T13:04:26.237Z"
   },
   {
    "duration": 22,
    "start_time": "2021-10-02T13:04:26.275Z"
   },
   {
    "duration": 25,
    "start_time": "2021-10-02T13:04:26.299Z"
   },
   {
    "duration": 18,
    "start_time": "2021-10-02T13:04:26.327Z"
   },
   {
    "duration": 41,
    "start_time": "2021-10-02T13:04:26.347Z"
   },
   {
    "duration": 32,
    "start_time": "2021-10-02T13:04:26.391Z"
   },
   {
    "duration": 19,
    "start_time": "2021-10-02T13:04:26.426Z"
   },
   {
    "duration": 27,
    "start_time": "2021-10-02T13:04:26.447Z"
   },
   {
    "duration": 49,
    "start_time": "2021-10-02T13:04:26.477Z"
   },
   {
    "duration": 6,
    "start_time": "2021-10-02T13:04:26.531Z"
   },
   {
    "duration": 659,
    "start_time": "2021-10-02T13:04:26.540Z"
   },
   {
    "duration": 546,
    "start_time": "2021-10-02T13:04:27.202Z"
   },
   {
    "duration": 677,
    "start_time": "2021-10-02T13:04:27.751Z"
   },
   {
    "duration": 624,
    "start_time": "2021-10-02T13:04:28.431Z"
   },
   {
    "duration": 637,
    "start_time": "2021-10-02T13:04:29.058Z"
   },
   {
    "duration": 7,
    "start_time": "2021-10-02T13:04:29.698Z"
   },
   {
    "duration": 437,
    "start_time": "2021-10-02T13:04:29.708Z"
   },
   {
    "duration": 7,
    "start_time": "2021-10-02T13:04:30.148Z"
   },
   {
    "duration": 481,
    "start_time": "2021-10-02T13:04:30.158Z"
   },
   {
    "duration": 7,
    "start_time": "2021-10-02T13:04:30.641Z"
   },
   {
    "duration": 34,
    "start_time": "2021-10-02T13:04:30.650Z"
   },
   {
    "duration": 14,
    "start_time": "2021-10-02T13:04:30.686Z"
   },
   {
    "duration": 44,
    "start_time": "2021-10-02T13:04:30.702Z"
   },
   {
    "duration": 33,
    "start_time": "2021-10-02T13:04:30.748Z"
   },
   {
    "duration": 27,
    "start_time": "2021-10-02T13:04:30.784Z"
   },
   {
    "duration": 59,
    "start_time": "2021-10-02T13:04:30.813Z"
   },
   {
    "duration": 29,
    "start_time": "2021-10-02T13:04:30.875Z"
   },
   {
    "duration": 420,
    "start_time": "2021-10-02T14:34:49.846Z"
   },
   {
    "duration": 15,
    "start_time": "2021-10-02T14:35:13.314Z"
   },
   {
    "duration": 623,
    "start_time": "2021-10-02T14:35:23.484Z"
   },
   {
    "duration": 1496,
    "start_time": "2021-10-02T14:35:43.107Z"
   },
   {
    "duration": 69,
    "start_time": "2021-10-02T14:35:44.605Z"
   },
   {
    "duration": 801,
    "start_time": "2021-10-02T14:35:44.677Z"
   },
   {
    "duration": 15,
    "start_time": "2021-10-02T14:35:45.481Z"
   },
   {
    "duration": 33,
    "start_time": "2021-10-02T14:35:45.498Z"
   },
   {
    "duration": 18,
    "start_time": "2021-10-02T14:35:45.533Z"
   },
   {
    "duration": 33,
    "start_time": "2021-10-02T14:35:45.553Z"
   },
   {
    "duration": 17,
    "start_time": "2021-10-02T14:35:45.590Z"
   },
   {
    "duration": 20,
    "start_time": "2021-10-02T14:35:45.610Z"
   },
   {
    "duration": 23,
    "start_time": "2021-10-02T14:35:45.632Z"
   },
   {
    "duration": 20,
    "start_time": "2021-10-02T14:35:45.658Z"
   },
   {
    "duration": 22,
    "start_time": "2021-10-02T14:35:45.680Z"
   },
   {
    "duration": 14,
    "start_time": "2021-10-02T14:35:45.705Z"
   },
   {
    "duration": 31,
    "start_time": "2021-10-02T14:35:45.722Z"
   },
   {
    "duration": 25,
    "start_time": "2021-10-02T14:35:45.755Z"
   },
   {
    "duration": 41,
    "start_time": "2021-10-02T14:35:45.783Z"
   },
   {
    "duration": 9,
    "start_time": "2021-10-02T14:35:45.827Z"
   },
   {
    "duration": 29,
    "start_time": "2021-10-02T14:35:45.839Z"
   },
   {
    "duration": 57,
    "start_time": "2021-10-02T14:35:45.870Z"
   },
   {
    "duration": 8,
    "start_time": "2021-10-02T14:35:45.929Z"
   },
   {
    "duration": 16,
    "start_time": "2021-10-02T14:35:45.940Z"
   },
   {
    "duration": 63,
    "start_time": "2021-10-02T14:35:45.959Z"
   },
   {
    "duration": 6,
    "start_time": "2021-10-02T14:35:46.027Z"
   },
   {
    "duration": 675,
    "start_time": "2021-10-02T14:35:46.036Z"
   },
   {
    "duration": 529,
    "start_time": "2021-10-02T14:35:46.713Z"
   },
   {
    "duration": 698,
    "start_time": "2021-10-02T14:35:47.244Z"
   },
   {
    "duration": 596,
    "start_time": "2021-10-02T14:35:47.944Z"
   },
   {
    "duration": 623,
    "start_time": "2021-10-02T14:35:48.543Z"
   },
   {
    "duration": 6,
    "start_time": "2021-10-02T14:35:49.168Z"
   },
   {
    "duration": 449,
    "start_time": "2021-10-02T14:35:49.176Z"
   },
   {
    "duration": 8,
    "start_time": "2021-10-02T14:35:49.627Z"
   },
   {
    "duration": 416,
    "start_time": "2021-10-02T14:35:49.637Z"
   },
   {
    "duration": 9,
    "start_time": "2021-10-02T14:35:50.056Z"
   },
   {
    "duration": 16,
    "start_time": "2021-10-02T14:35:50.067Z"
   },
   {
    "duration": 41,
    "start_time": "2021-10-02T14:35:50.086Z"
   },
   {
    "duration": 24,
    "start_time": "2021-10-02T14:35:50.129Z"
   },
   {
    "duration": 16,
    "start_time": "2021-10-02T14:35:50.155Z"
   },
   {
    "duration": 15,
    "start_time": "2021-10-02T14:35:50.173Z"
   },
   {
    "duration": 44,
    "start_time": "2021-10-02T14:35:50.191Z"
   },
   {
    "duration": 39,
    "start_time": "2021-10-02T14:35:50.238Z"
   },
   {
    "duration": 620,
    "start_time": "2021-10-02T14:37:29.470Z"
   },
   {
    "duration": 664,
    "start_time": "2021-10-02T14:39:38.258Z"
   },
   {
    "duration": 1433,
    "start_time": "2021-10-02T14:39:44.867Z"
   },
   {
    "duration": 69,
    "start_time": "2021-10-02T14:39:46.303Z"
   },
   {
    "duration": 652,
    "start_time": "2021-10-02T14:39:46.375Z"
   },
   {
    "duration": 15,
    "start_time": "2021-10-02T14:39:47.030Z"
   },
   {
    "duration": 13,
    "start_time": "2021-10-02T14:39:47.047Z"
   },
   {
    "duration": 10,
    "start_time": "2021-10-02T14:39:47.063Z"
   },
   {
    "duration": 55,
    "start_time": "2021-10-02T14:39:47.076Z"
   },
   {
    "duration": 10,
    "start_time": "2021-10-02T14:39:47.135Z"
   },
   {
    "duration": 11,
    "start_time": "2021-10-02T14:39:47.148Z"
   },
   {
    "duration": 11,
    "start_time": "2021-10-02T14:39:47.162Z"
   },
   {
    "duration": 53,
    "start_time": "2021-10-02T14:39:47.175Z"
   },
   {
    "duration": 21,
    "start_time": "2021-10-02T14:39:47.231Z"
   },
   {
    "duration": 22,
    "start_time": "2021-10-02T14:39:47.254Z"
   },
   {
    "duration": 43,
    "start_time": "2021-10-02T14:39:47.279Z"
   },
   {
    "duration": 14,
    "start_time": "2021-10-02T14:39:47.325Z"
   },
   {
    "duration": 23,
    "start_time": "2021-10-02T14:39:47.341Z"
   },
   {
    "duration": 16,
    "start_time": "2021-10-02T14:39:47.367Z"
   },
   {
    "duration": 55,
    "start_time": "2021-10-02T14:39:47.385Z"
   },
   {
    "duration": 27,
    "start_time": "2021-10-02T14:39:47.442Z"
   },
   {
    "duration": 14,
    "start_time": "2021-10-02T14:39:47.472Z"
   },
   {
    "duration": 46,
    "start_time": "2021-10-02T14:39:47.489Z"
   },
   {
    "duration": 54,
    "start_time": "2021-10-02T14:39:47.537Z"
   },
   {
    "duration": 45,
    "start_time": "2021-10-02T14:39:47.596Z"
   },
   {
    "duration": 659,
    "start_time": "2021-10-02T14:39:47.644Z"
   },
   {
    "duration": 560,
    "start_time": "2021-10-02T14:39:48.306Z"
   },
   {
    "duration": 672,
    "start_time": "2021-10-02T14:39:48.868Z"
   },
   {
    "duration": 604,
    "start_time": "2021-10-02T14:39:49.542Z"
   },
   {
    "duration": 621,
    "start_time": "2021-10-02T14:39:50.148Z"
   },
   {
    "duration": 6,
    "start_time": "2021-10-02T14:39:50.772Z"
   },
   {
    "duration": 434,
    "start_time": "2021-10-02T14:39:50.781Z"
   },
   {
    "duration": 10,
    "start_time": "2021-10-02T14:39:51.217Z"
   },
   {
    "duration": 417,
    "start_time": "2021-10-02T14:39:51.230Z"
   },
   {
    "duration": 8,
    "start_time": "2021-10-02T14:39:51.650Z"
   },
   {
    "duration": 22,
    "start_time": "2021-10-02T14:39:51.661Z"
   },
   {
    "duration": 40,
    "start_time": "2021-10-02T14:39:51.685Z"
   },
   {
    "duration": 22,
    "start_time": "2021-10-02T14:39:51.728Z"
   },
   {
    "duration": 33,
    "start_time": "2021-10-02T14:39:51.752Z"
   },
   {
    "duration": 25,
    "start_time": "2021-10-02T14:39:51.787Z"
   },
   {
    "duration": 17,
    "start_time": "2021-10-02T14:39:51.815Z"
   },
   {
    "duration": 41,
    "start_time": "2021-10-02T14:39:51.834Z"
   }
  ],
  "kernelspec": {
   "display_name": "Python 3",
   "language": "python",
   "name": "python3"
  },
  "language_info": {
   "codemirror_mode": {
    "name": "ipython",
    "version": 3
   },
   "file_extension": ".py",
   "mimetype": "text/x-python",
   "name": "python",
   "nbconvert_exporter": "python",
   "pygments_lexer": "ipython3",
   "version": "3.7.10"
  },
  "toc": {
   "base_numbering": 1,
   "nav_menu": {},
   "number_sections": true,
   "sideBar": true,
   "skip_h1_title": true,
   "title_cell": "Содержание",
   "title_sidebar": "Contents",
   "toc_cell": true,
   "toc_position": {
    "height": "calc(100% - 180px)",
    "left": "10px",
    "top": "150px",
    "width": "270.390625px"
   },
   "toc_section_display": true,
   "toc_window_display": true
  }
 },
 "nbformat": 4,
 "nbformat_minor": 4
}
